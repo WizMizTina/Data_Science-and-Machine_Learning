{
  "cells": [
    {
      "cell_type": "markdown",
      "metadata": {
        "id": "view-in-github",
        "colab_type": "text"
      },
      "source": [
        "<a href=\"https://colab.research.google.com/github/WizMizTina/Data_Science-and-Machine_Learning/blob/main/Adversarial_Training_Technique_1.ipynb\" target=\"_parent\"><img src=\"https://colab.research.google.com/assets/colab-badge.svg\" alt=\"Open In Colab\"/></a>"
      ]
    },
    {
      "cell_type": "markdown",
      "metadata": {
        "id": "TJ9ORF8AuUoJ"
      },
      "source": [
        "## Imports"
      ]
    },
    {
      "cell_type": "code",
      "execution_count": null,
      "metadata": {
        "id": "K7B1r3o4uUoK",
        "outputId": "432d16d6-2f64-4127-8f67-646cad5a1f8b",
        "colab": {
          "base_uri": "https://localhost:8080/"
        }
      },
      "outputs": [
        {
          "output_type": "stream",
          "name": "stdout",
          "text": [
            "TensorFlow 1.x selected.\n"
          ]
        }
      ],
      "source": [
        "%matplotlib inline\n",
        "%tensorflow_version 1.x\n",
        "import matplotlib.pyplot as plt\n",
        "import tensorflow as tf\n",
        "import numpy as np\n",
        "from sklearn.metrics import confusion_matrix\n",
        "import time\n",
        "from datetime import timedelta\n",
        "import math"
      ]
    },
    {
      "cell_type": "markdown",
      "metadata": {
        "id": "iB_KOIRMuUoO"
      },
      "source": [
        "This was developed using Python 3.6 (Anaconda) and TensorFlow version:"
      ]
    },
    {
      "cell_type": "code",
      "execution_count": null,
      "metadata": {
        "id": "DeWWHF9zuUoP",
        "outputId": "62222415-8b5f-4009-ab03-cd43970fb0d7",
        "colab": {
          "base_uri": "https://localhost:8080/",
          "height": 36
        }
      },
      "outputs": [
        {
          "output_type": "execute_result",
          "data": {
            "text/plain": [
              "'1.15.2'"
            ],
            "application/vnd.google.colaboratory.intrinsic+json": {
              "type": "string"
            }
          },
          "metadata": {},
          "execution_count": 2
        }
      ],
      "source": [
        "tf.__version__"
      ]
    },
    {
      "cell_type": "code",
      "source": [
        "# Clone the repository from GitHub to Google Colab's temporary drive.\n",
        "import os\n",
        "work_dir = \"/content/TensorFlow-Tutorials/\"\n",
        "if not os.path.exists(work_dir):\n",
        "    !git clone https://github.com/Hvass-Labs/TensorFlow-Tutorials.git\n",
        "os.chdir(work_dir)"
      ],
      "metadata": {
        "id": "IMaN4xuavWqO",
        "colab": {
          "base_uri": "https://localhost:8080/"
        },
        "outputId": "eb7a23a6-e041-4413-8437-7b6d8601918b"
      },
      "execution_count": null,
      "outputs": [
        {
          "output_type": "stream",
          "name": "stdout",
          "text": [
            "Cloning into 'TensorFlow-Tutorials'...\n",
            "remote: Enumerating objects: 506, done.\u001b[K\n",
            "remote: Total 506 (delta 0), reused 0 (delta 0), pack-reused 506\u001b[K\n",
            "Receiving objects: 100% (506/506), 66.10 MiB | 17.40 MiB/s, done.\n",
            "Resolving deltas: 100% (241/241), done.\n",
            "Checking out files: 100% (124/124), done.\n"
          ]
        }
      ]
    },
    {
      "cell_type": "code",
      "source": [
        "!pip install -r requirements.txt"
      ],
      "metadata": {
        "id": "PIuWh2EdvYE_",
        "outputId": "9362411c-a3c4-40f4-b18e-44c33f4b0afa",
        "colab": {
          "base_uri": "https://localhost:8080/",
          "height": 1000
        }
      },
      "execution_count": null,
      "outputs": [
        {
          "output_type": "stream",
          "name": "stdout",
          "text": [
            "Requirement already satisfied: numpy in /usr/local/lib/python3.7/dist-packages (from -r requirements.txt (line 19)) (1.21.6)\n",
            "Requirement already satisfied: scipy in /usr/local/lib/python3.7/dist-packages (from -r requirements.txt (line 20)) (1.4.1)\n",
            "Requirement already satisfied: jupyter in /usr/local/lib/python3.7/dist-packages (from -r requirements.txt (line 21)) (1.0.0)\n",
            "Requirement already satisfied: matplotlib in /usr/local/lib/python3.7/dist-packages (from -r requirements.txt (line 22)) (3.2.2)\n",
            "Requirement already satisfied: Pillow in /usr/local/lib/python3.7/dist-packages (from -r requirements.txt (line 23)) (7.1.2)\n",
            "Requirement already satisfied: scikit-learn in /usr/local/lib/python3.7/dist-packages (from -r requirements.txt (line 24)) (1.0.2)\n",
            "Requirement already satisfied: tensorflow in /tensorflow-1.15.2/python3.7 (from -r requirements.txt (line 29)) (1.15.2)\n",
            "Requirement already satisfied: notebook in /usr/local/lib/python3.7/dist-packages (from jupyter->-r requirements.txt (line 21)) (5.3.1)\n",
            "Requirement already satisfied: qtconsole in /usr/local/lib/python3.7/dist-packages (from jupyter->-r requirements.txt (line 21)) (5.3.0)\n",
            "Requirement already satisfied: jupyter-console in /usr/local/lib/python3.7/dist-packages (from jupyter->-r requirements.txt (line 21)) (5.2.0)\n",
            "Requirement already satisfied: nbconvert in /usr/local/lib/python3.7/dist-packages (from jupyter->-r requirements.txt (line 21)) (5.6.1)\n",
            "Requirement already satisfied: ipywidgets in /usr/local/lib/python3.7/dist-packages (from jupyter->-r requirements.txt (line 21)) (7.7.0)\n",
            "Requirement already satisfied: ipykernel in /usr/local/lib/python3.7/dist-packages (from jupyter->-r requirements.txt (line 21)) (4.10.1)\n",
            "Requirement already satisfied: python-dateutil>=2.1 in /usr/local/lib/python3.7/dist-packages (from matplotlib->-r requirements.txt (line 22)) (2.8.2)\n",
            "Requirement already satisfied: cycler>=0.10 in /usr/local/lib/python3.7/dist-packages (from matplotlib->-r requirements.txt (line 22)) (0.11.0)\n",
            "Requirement already satisfied: pyparsing!=2.0.4,!=2.1.2,!=2.1.6,>=2.0.1 in /usr/local/lib/python3.7/dist-packages (from matplotlib->-r requirements.txt (line 22)) (3.0.8)\n",
            "Requirement already satisfied: kiwisolver>=1.0.1 in /usr/local/lib/python3.7/dist-packages (from matplotlib->-r requirements.txt (line 22)) (1.4.2)\n",
            "Requirement already satisfied: typing-extensions in /usr/local/lib/python3.7/dist-packages (from kiwisolver>=1.0.1->matplotlib->-r requirements.txt (line 22)) (4.2.0)\n",
            "Requirement already satisfied: six>=1.5 in /usr/local/lib/python3.7/dist-packages (from python-dateutil>=2.1->matplotlib->-r requirements.txt (line 22)) (1.15.0)\n",
            "Requirement already satisfied: threadpoolctl>=2.0.0 in /usr/local/lib/python3.7/dist-packages (from scikit-learn->-r requirements.txt (line 24)) (3.1.0)\n",
            "Requirement already satisfied: joblib>=0.11 in /usr/local/lib/python3.7/dist-packages (from scikit-learn->-r requirements.txt (line 24)) (1.1.0)\n",
            "Requirement already satisfied: absl-py>=0.7.0 in /usr/local/lib/python3.7/dist-packages (from tensorflow->-r requirements.txt (line 29)) (1.0.0)\n",
            "Requirement already satisfied: tensorflow-estimator==1.15.1 in /tensorflow-1.15.2/python3.7 (from tensorflow->-r requirements.txt (line 29)) (1.15.1)\n",
            "Requirement already satisfied: wrapt>=1.11.1 in /usr/local/lib/python3.7/dist-packages (from tensorflow->-r requirements.txt (line 29)) (1.14.0)\n",
            "Requirement already satisfied: keras-applications>=1.0.8 in /tensorflow-1.15.2/python3.7 (from tensorflow->-r requirements.txt (line 29)) (1.0.8)\n",
            "Requirement already satisfied: astor>=0.6.0 in /usr/local/lib/python3.7/dist-packages (from tensorflow->-r requirements.txt (line 29)) (0.8.1)\n",
            "Requirement already satisfied: keras-preprocessing>=1.0.5 in /usr/local/lib/python3.7/dist-packages (from tensorflow->-r requirements.txt (line 29)) (1.1.2)\n",
            "Requirement already satisfied: wheel>=0.26 in /usr/local/lib/python3.7/dist-packages (from tensorflow->-r requirements.txt (line 29)) (0.37.1)\n",
            "Collecting gast==0.2.2\n",
            "  Downloading gast-0.2.2.tar.gz (10 kB)\n",
            "Requirement already satisfied: opt-einsum>=2.3.2 in /usr/local/lib/python3.7/dist-packages (from tensorflow->-r requirements.txt (line 29)) (3.3.0)\n",
            "Requirement already satisfied: protobuf>=3.6.1 in /usr/local/lib/python3.7/dist-packages (from tensorflow->-r requirements.txt (line 29)) (3.17.3)\n",
            "Requirement already satisfied: termcolor>=1.1.0 in /usr/local/lib/python3.7/dist-packages (from tensorflow->-r requirements.txt (line 29)) (1.1.0)\n",
            "Requirement already satisfied: grpcio>=1.8.6 in /usr/local/lib/python3.7/dist-packages (from tensorflow->-r requirements.txt (line 29)) (1.44.0)\n",
            "Requirement already satisfied: tensorboard<1.16.0,>=1.15.0 in /tensorflow-1.15.2/python3.7 (from tensorflow->-r requirements.txt (line 29)) (1.15.0)\n",
            "Requirement already satisfied: google-pasta>=0.1.6 in /usr/local/lib/python3.7/dist-packages (from tensorflow->-r requirements.txt (line 29)) (0.2.0)\n",
            "Requirement already satisfied: h5py in /usr/local/lib/python3.7/dist-packages (from keras-applications>=1.0.8->tensorflow->-r requirements.txt (line 29)) (3.1.0)\n",
            "Requirement already satisfied: setuptools>=41.0.0 in /usr/local/lib/python3.7/dist-packages (from tensorboard<1.16.0,>=1.15.0->tensorflow->-r requirements.txt (line 29)) (57.4.0)\n",
            "Requirement already satisfied: markdown>=2.6.8 in /usr/local/lib/python3.7/dist-packages (from tensorboard<1.16.0,>=1.15.0->tensorflow->-r requirements.txt (line 29)) (3.3.6)\n",
            "Requirement already satisfied: werkzeug>=0.11.15 in /usr/local/lib/python3.7/dist-packages (from tensorboard<1.16.0,>=1.15.0->tensorflow->-r requirements.txt (line 29)) (1.0.1)\n",
            "Requirement already satisfied: importlib-metadata>=4.4 in /usr/local/lib/python3.7/dist-packages (from markdown>=2.6.8->tensorboard<1.16.0,>=1.15.0->tensorflow->-r requirements.txt (line 29)) (4.11.3)\n",
            "Requirement already satisfied: zipp>=0.5 in /usr/local/lib/python3.7/dist-packages (from importlib-metadata>=4.4->markdown>=2.6.8->tensorboard<1.16.0,>=1.15.0->tensorflow->-r requirements.txt (line 29)) (3.8.0)\n",
            "Requirement already satisfied: cached-property in /usr/local/lib/python3.7/dist-packages (from h5py->keras-applications>=1.0.8->tensorflow->-r requirements.txt (line 29)) (1.5.2)\n",
            "Requirement already satisfied: ipython>=4.0.0 in /usr/local/lib/python3.7/dist-packages (from ipykernel->jupyter->-r requirements.txt (line 21)) (5.5.0)\n",
            "Requirement already satisfied: traitlets>=4.1.0 in /usr/local/lib/python3.7/dist-packages (from ipykernel->jupyter->-r requirements.txt (line 21)) (5.1.1)\n",
            "Requirement already satisfied: jupyter-client in /usr/local/lib/python3.7/dist-packages (from ipykernel->jupyter->-r requirements.txt (line 21)) (5.3.5)\n",
            "Requirement already satisfied: tornado>=4.0 in /usr/local/lib/python3.7/dist-packages (from ipykernel->jupyter->-r requirements.txt (line 21)) (5.1.1)\n",
            "Requirement already satisfied: pexpect in /usr/local/lib/python3.7/dist-packages (from ipython>=4.0.0->ipykernel->jupyter->-r requirements.txt (line 21)) (4.8.0)\n",
            "Requirement already satisfied: prompt-toolkit<2.0.0,>=1.0.4 in /usr/local/lib/python3.7/dist-packages (from ipython>=4.0.0->ipykernel->jupyter->-r requirements.txt (line 21)) (1.0.18)\n",
            "Requirement already satisfied: simplegeneric>0.8 in /usr/local/lib/python3.7/dist-packages (from ipython>=4.0.0->ipykernel->jupyter->-r requirements.txt (line 21)) (0.8.1)\n",
            "Requirement already satisfied: pygments in /usr/local/lib/python3.7/dist-packages (from ipython>=4.0.0->ipykernel->jupyter->-r requirements.txt (line 21)) (2.6.1)\n",
            "Requirement already satisfied: decorator in /usr/local/lib/python3.7/dist-packages (from ipython>=4.0.0->ipykernel->jupyter->-r requirements.txt (line 21)) (4.4.2)\n",
            "Requirement already satisfied: pickleshare in /usr/local/lib/python3.7/dist-packages (from ipython>=4.0.0->ipykernel->jupyter->-r requirements.txt (line 21)) (0.7.5)\n",
            "Requirement already satisfied: wcwidth in /usr/local/lib/python3.7/dist-packages (from prompt-toolkit<2.0.0,>=1.0.4->ipython>=4.0.0->ipykernel->jupyter->-r requirements.txt (line 21)) (0.2.5)\n",
            "Requirement already satisfied: widgetsnbextension~=3.6.0 in /usr/local/lib/python3.7/dist-packages (from ipywidgets->jupyter->-r requirements.txt (line 21)) (3.6.0)\n",
            "Requirement already satisfied: nbformat>=4.2.0 in /usr/local/lib/python3.7/dist-packages (from ipywidgets->jupyter->-r requirements.txt (line 21)) (5.3.0)\n",
            "Requirement already satisfied: ipython-genutils~=0.2.0 in /usr/local/lib/python3.7/dist-packages (from ipywidgets->jupyter->-r requirements.txt (line 21)) (0.2.0)\n",
            "Requirement already satisfied: jupyterlab-widgets>=1.0.0 in /usr/local/lib/python3.7/dist-packages (from ipywidgets->jupyter->-r requirements.txt (line 21)) (1.1.0)\n",
            "Requirement already satisfied: fastjsonschema in /usr/local/lib/python3.7/dist-packages (from nbformat>=4.2.0->ipywidgets->jupyter->-r requirements.txt (line 21)) (2.15.3)\n",
            "Requirement already satisfied: jsonschema>=2.6 in /usr/local/lib/python3.7/dist-packages (from nbformat>=4.2.0->ipywidgets->jupyter->-r requirements.txt (line 21)) (4.3.3)\n",
            "Requirement already satisfied: jupyter-core in /usr/local/lib/python3.7/dist-packages (from nbformat>=4.2.0->ipywidgets->jupyter->-r requirements.txt (line 21)) (4.10.0)\n",
            "Requirement already satisfied: pyrsistent!=0.17.0,!=0.17.1,!=0.17.2,>=0.14.0 in /usr/local/lib/python3.7/dist-packages (from jsonschema>=2.6->nbformat>=4.2.0->ipywidgets->jupyter->-r requirements.txt (line 21)) (0.18.1)\n",
            "Requirement already satisfied: attrs>=17.4.0 in /usr/local/lib/python3.7/dist-packages (from jsonschema>=2.6->nbformat>=4.2.0->ipywidgets->jupyter->-r requirements.txt (line 21)) (21.4.0)\n",
            "Requirement already satisfied: importlib-resources>=1.4.0 in /usr/local/lib/python3.7/dist-packages (from jsonschema>=2.6->nbformat>=4.2.0->ipywidgets->jupyter->-r requirements.txt (line 21)) (5.7.1)\n",
            "Requirement already satisfied: terminado>=0.8.1 in /usr/local/lib/python3.7/dist-packages (from notebook->jupyter->-r requirements.txt (line 21)) (0.13.3)\n",
            "Requirement already satisfied: Send2Trash in /usr/local/lib/python3.7/dist-packages (from notebook->jupyter->-r requirements.txt (line 21)) (1.8.0)\n",
            "Requirement already satisfied: jinja2 in /usr/local/lib/python3.7/dist-packages (from notebook->jupyter->-r requirements.txt (line 21)) (2.11.3)\n",
            "Requirement already satisfied: pyzmq>=13 in /usr/local/lib/python3.7/dist-packages (from jupyter-client->ipykernel->jupyter->-r requirements.txt (line 21)) (22.3.0)\n",
            "Requirement already satisfied: ptyprocess in /usr/local/lib/python3.7/dist-packages (from terminado>=0.8.1->notebook->jupyter->-r requirements.txt (line 21)) (0.7.0)\n",
            "Requirement already satisfied: MarkupSafe>=0.23 in /usr/local/lib/python3.7/dist-packages (from jinja2->notebook->jupyter->-r requirements.txt (line 21)) (2.0.1)\n",
            "Requirement already satisfied: defusedxml in /usr/local/lib/python3.7/dist-packages (from nbconvert->jupyter->-r requirements.txt (line 21)) (0.7.1)\n",
            "Requirement already satisfied: mistune<2,>=0.8.1 in /usr/local/lib/python3.7/dist-packages (from nbconvert->jupyter->-r requirements.txt (line 21)) (0.8.4)\n",
            "Requirement already satisfied: bleach in /usr/local/lib/python3.7/dist-packages (from nbconvert->jupyter->-r requirements.txt (line 21)) (5.0.0)\n",
            "Requirement already satisfied: pandocfilters>=1.4.1 in /usr/local/lib/python3.7/dist-packages (from nbconvert->jupyter->-r requirements.txt (line 21)) (1.5.0)\n",
            "Requirement already satisfied: entrypoints>=0.2.2 in /usr/local/lib/python3.7/dist-packages (from nbconvert->jupyter->-r requirements.txt (line 21)) (0.4)\n",
            "Requirement already satisfied: testpath in /usr/local/lib/python3.7/dist-packages (from nbconvert->jupyter->-r requirements.txt (line 21)) (0.6.0)\n",
            "Requirement already satisfied: webencodings in /usr/local/lib/python3.7/dist-packages (from bleach->nbconvert->jupyter->-r requirements.txt (line 21)) (0.5.1)\n",
            "Requirement already satisfied: qtpy>=2.0.1 in /usr/local/lib/python3.7/dist-packages (from qtconsole->jupyter->-r requirements.txt (line 21)) (2.1.0)\n",
            "Requirement already satisfied: packaging in /usr/local/lib/python3.7/dist-packages (from qtpy>=2.0.1->qtconsole->jupyter->-r requirements.txt (line 21)) (21.3)\n",
            "Building wheels for collected packages: gast\n",
            "  Building wheel for gast (setup.py) ... \u001b[?25l\u001b[?25hdone\n",
            "  Created wheel for gast: filename=gast-0.2.2-py3-none-any.whl size=7554 sha256=1e78df2c539d1f4d2558bfec39e71e10fd7329fe5c451655d2b58082576bf380\n",
            "  Stored in directory: /root/.cache/pip/wheels/21/7f/02/420f32a803f7d0967b48dd823da3f558c5166991bfd204eef3\n",
            "Successfully built gast\n",
            "Installing collected packages: gast\n",
            "  Attempting uninstall: gast\n",
            "    Found existing installation: gast 0.5.3\n",
            "    Uninstalling gast-0.5.3:\n",
            "      Successfully uninstalled gast-0.5.3\n",
            "\u001b[31mERROR: pip's dependency resolver does not currently take into account all the packages that are installed. This behaviour is the source of the following dependency conflicts.\n",
            "kapre 0.3.7 requires tensorflow>=2.0.0, but you have tensorflow 1.15.2 which is incompatible.\u001b[0m\n",
            "Successfully installed gast-0.2.2\n"
          ]
        },
        {
          "output_type": "display_data",
          "data": {
            "application/vnd.colab-display-data+json": {
              "pip_warning": {
                "packages": [
                  "gast"
                ]
              }
            }
          },
          "metadata": {}
        }
      ]
    },
    {
      "cell_type": "markdown",
      "metadata": {
        "id": "nkSerx2WuUoQ"
      },
      "source": [
        "## Load Data"
      ]
    },
    {
      "cell_type": "markdown",
      "metadata": {
        "id": "cWNQ-5VzuUoR"
      },
      "source": [
        "The MNIST data-set is about 12 MB and will be downloaded automatically if it is not located in the given path."
      ]
    },
    {
      "cell_type": "code",
      "execution_count": null,
      "metadata": {
        "id": "HUjvD7KiuUoS",
        "colab": {
          "base_uri": "https://localhost:8080/"
        },
        "outputId": "ba3a2237-56fb-4e40-bb5b-10492548594e"
      },
      "outputs": [
        {
          "output_type": "stream",
          "name": "stdout",
          "text": [
            "Downloading train-images-idx3-ubyte.gz ...\n",
            "- Download progress: 100.0% Done!\n",
            "Downloading train-labels-idx1-ubyte.gz ...\n",
            "- Download progress: 100.0% Done!\n",
            "Downloading t10k-images-idx3-ubyte.gz ...\n",
            "- Download progress: 100.0% Done!\n",
            "Downloading t10k-labels-idx1-ubyte.gz ...\n",
            "- Download progress: 100.0% Done!\n"
          ]
        }
      ],
      "source": [
        "from mnist import MNIST\n",
        "data = MNIST(\"data/MNIST/\")"
      ]
    },
    {
      "cell_type": "markdown",
      "metadata": {
        "id": "t9uzdsyuuUoS"
      },
      "source": [
        "The MNIST data-set has now been loaded and consists of 70.000 images and class-numbers for the images. The data-set is split into 3 mutually exclusive sub-sets."
      ]
    },
    {
      "cell_type": "code",
      "execution_count": null,
      "metadata": {
        "id": "urzpDaN8uUoT",
        "outputId": "eb988f11-1506-4d5a-c843-a96219abdffc",
        "colab": {
          "base_uri": "https://localhost:8080/"
        }
      },
      "outputs": [
        {
          "output_type": "stream",
          "name": "stdout",
          "text": [
            "Size of:\n",
            "- Training-set:\t\t55000\n",
            "- Validation-set:\t5000\n",
            "- Test-set:\t\t10000\n"
          ]
        }
      ],
      "source": [
        "print(\"Size of:\")\n",
        "print(\"- Training-set:\\t\\t{}\".format(data.num_train))\n",
        "print(\"- Validation-set:\\t{}\".format(data.num_val))\n",
        "print(\"- Test-set:\\t\\t{}\".format(data.num_test))"
      ]
    },
    {
      "cell_type": "markdown",
      "metadata": {
        "id": "WEEEwqEnuUoT"
      },
      "source": [
        "Copy some of the data-dimensions for convenience."
      ]
    },
    {
      "cell_type": "code",
      "execution_count": null,
      "metadata": {
        "id": "oWYaEXPkuUoU"
      },
      "outputs": [],
      "source": [
        "# The number of pixels in each dimension of an image.\n",
        "img_size = data.img_size\n",
        "\n",
        "# The images are stored in one-dimensional arrays of this length.\n",
        "img_size_flat = data.img_size_flat\n",
        "\n",
        "# Tuple with height and width of images used to reshape arrays.\n",
        "img_shape = data.img_shape\n",
        "\n",
        "# Number of classes, one class for each of 10 digits.\n",
        "num_classes = data.num_classes\n",
        "\n",
        "# Number of colour channels for the images: 1 channel for gray-scale.\n",
        "num_channels = data.num_channels"
      ]
    },
    {
      "cell_type": "markdown",
      "metadata": {
        "id": "WV99rx5VuUoU"
      },
      "source": [
        "### Helper-function for plotting images"
      ]
    },
    {
      "cell_type": "markdown",
      "metadata": {
        "id": "yBkx5kXAuUoV"
      },
      "source": [
        "Function used to plot 9 images in a 3x3 grid, and writing the true and predicted classes below each image. If the noise is supplied then it is added to all images."
      ]
    },
    {
      "cell_type": "code",
      "execution_count": null,
      "metadata": {
        "id": "FSwetGrguUoV"
      },
      "outputs": [],
      "source": [
        "def plot_images(images, cls_true, cls_pred=None, noise=0.0):\n",
        "    assert len(images) == len(cls_true) == 9\n",
        "    \n",
        "    # Create figure with 4x4 sub-plots.\n",
        "    fig, axes = plt.subplots(3, 3)\n",
        "    fig.subplots_adjust(hspace=0.3, wspace=0.3)\n",
        "\n",
        "    for i, ax in enumerate(axes.flat):\n",
        "        # Get the i'th image and reshape the array.\n",
        "        image = images[i].reshape(img_shape)\n",
        "        \n",
        "        # Add the adversarial noise to the image.\n",
        "        image += noise\n",
        "        \n",
        "        # Ensure the noisy pixel-values are between 0 and 1.\n",
        "        image = np.clip(image, 0.0, 1.0)\n",
        "\n",
        "        # Plot image.\n",
        "        ax.imshow(image,\n",
        "                  cmap='binary', interpolation='nearest')\n",
        "\n",
        "        # Show true and predicted classes.\n",
        "        if cls_pred is None:\n",
        "            xlabel = \"True: {0}\".format(cls_true[i])\n",
        "        else:\n",
        "            xlabel = \"True: {0}, Pred: {1}\".format(cls_true[i], cls_pred[i])\n",
        "\n",
        "        # Show the classes as the label on the x-axis.\n",
        "        ax.set_xlabel(xlabel)\n",
        "        \n",
        "        # Remove ticks from the plot.\n",
        "        ax.set_xticks([])\n",
        "        ax.set_yticks([])\n",
        "    \n",
        "    # Ensure the plot is shown correctly with multiple plots\n",
        "    # in a single Notebook cell.\n",
        "    plt.show()"
      ]
    },
    {
      "cell_type": "markdown",
      "metadata": {
        "id": "MEEMhARQuUoW"
      },
      "source": [
        "### Plot a few images to see if data is correct"
      ]
    },
    {
      "cell_type": "code",
      "execution_count": null,
      "metadata": {
        "id": "5FaPTFmguUoW",
        "outputId": "c586ee4e-60e1-4221-855a-fb8cea3aeb1c",
        "colab": {
          "base_uri": "https://localhost:8080/",
          "height": 262
        }
      },
      "outputs": [
        {
          "output_type": "display_data",
          "data": {
            "text/plain": [
              "<Figure size 432x288 with 9 Axes>"
            ],
            "image/png": "[encoded data removed]"
          },
          "metadata": {}
        }
      ],
      "source": [
        "# Get the first images from the test-set.\n",
        "images = data.x_test[0:9]\n",
        "\n",
        "# Get the true classes for those images.\n",
        "cls_true = data.y_test_cls[0:9]\n",
        "\n",
        "# Plot the images and labels using our helper-function above.\n",
        "plot_images(images=images, cls_true=cls_true)"
      ]
    },
    {
      "cell_type": "markdown",
      "metadata": {
        "id": "o9rxrCeluUoX"
      },
      "source": [
        "## TensorFlow Graph"
      ]
    },
    {
      "cell_type": "markdown",
      "metadata": {
        "id": "sgKN4qzAuUoX"
      },
      "source": [
        "### Placeholder variables"
      ]
    },
    {
      "cell_type": "markdown",
      "metadata": {
        "id": "-7lRGNj_uUoY"
      },
      "source": [
        "Placeholder variables provide the input to the computational graph in TensorFlow that we may change each time we execute the graph. We call this feeding the placeholder variables.\n",
        "\n",
        "First we define the placeholder variable for the input images. This allows us to change the images that are input to the TensorFlow graph. This is a so-called tensor, which just means that it is a multi-dimensional array. The data-type is set to `float32` and the shape is set to `[None, img_size_flat]`, where `None` means that the tensor may hold an arbitrary number of images with each image being a vector of length `img_size_flat`."
      ]
    },
    {
      "cell_type": "code",
      "execution_count": null,
      "metadata": {
        "id": "g_uczpe0uUoY"
      },
      "outputs": [],
      "source": [
        "x = tf.placeholder(tf.float32, shape=[None, img_size_flat], name='x')"
      ]
    },
    {
      "cell_type": "markdown",
      "metadata": {
        "id": "7AeoqUePuUoY"
      },
      "source": [
        "The convolutional layers expect `x` to be encoded as a 4-dim tensor so we have to reshape it so its shape is instead `[num_images, img_height, img_width, num_channels]`. Note that `img_height == img_width == img_size` and `num_images` can be inferred automatically by using -1 for the size of the first dimension. So the reshape operation is:"
      ]
    },
    {
      "cell_type": "code",
      "execution_count": null,
      "metadata": {
        "id": "XV02qnD9uUoY"
      },
      "outputs": [],
      "source": [
        "x_image = tf.reshape(x, [-1, img_size, img_size, num_channels])"
      ]
    },
    {
      "cell_type": "markdown",
      "metadata": {
        "id": "BtFSk8EOuUoZ"
      },
      "source": [
        "Next we have the placeholder variable for the true labels associated with the images that were input in the placeholder variable `x`. The shape of this placeholder variable is `[None, num_classes]` which means it may hold an arbitrary number of labels and each label is a vector of length `num_classes` which is 10 in this case."
      ]
    },
    {
      "cell_type": "code",
      "execution_count": null,
      "metadata": {
        "id": "Wk6gBAhtuUoZ"
      },
      "outputs": [],
      "source": [
        "y_true = tf.placeholder(tf.float32, shape=[None, num_classes], name='y_true')"
      ]
    },
    {
      "cell_type": "markdown",
      "metadata": {
        "id": "Tq8wBuy4uUoZ"
      },
      "source": [
        "We could also have a placeholder variable for the class-number, but we will instead calculate it using argmax. Note that this is a TensorFlow operator so nothing is calculated at this point."
      ]
    },
    {
      "cell_type": "code",
      "execution_count": null,
      "metadata": {
        "id": "ZRhKsWspuUoZ"
      },
      "outputs": [],
      "source": [
        "y_true_cls = tf.argmax(y_true, axis=1)"
      ]
    },
    {
      "cell_type": "markdown",
      "metadata": {
        "id": "2jfvEWOPuUoa"
      },
      "source": [
        "### Adversarial Noise"
      ]
    },
    {
      "cell_type": "markdown",
      "metadata": {
        "id": "rMXYm9pPuUoa"
      },
      "source": [
        "The pixels in the input image are float-values between 0.0 and 1.0. The adversarial noise is a number that is added or subtracted from the pixels in the input image.\n",
        "\n",
        "The limit of the adversarial noise is set to 0.35 so the noise will be between &plusmn;0.35."
      ]
    },
    {
      "cell_type": "code",
      "execution_count": null,
      "metadata": {
        "id": "Di5rrys5uUoa"
      },
      "outputs": [],
      "source": [
        "noise_limit = 0.35"
      ]
    },
    {
      "cell_type": "markdown",
      "metadata": {
        "id": "8ni0RFSluUoa"
      },
      "source": [
        "The optimizer for the adversarial noise will try and minimize two loss-measures: (1) The normal loss-measure for the neural network, so we will find the noise that gives the best classification accuracy for the adversarial target-class; and (2) the so-called L2-loss-measure which tries to keep the noise as low as possible.\n",
        "\n",
        "The following weight determines how important the L2-loss is compared to the normal loss-measure. An L2-weight close to zero usually works best."
      ]
    },
    {
      "cell_type": "code",
      "execution_count": null,
      "metadata": {
        "id": "OWHkLlNuuUob"
      },
      "outputs": [],
      "source": [
        "noise_l2_weight = 0.02"
      ]
    },
    {
      "cell_type": "markdown",
      "metadata": {
        "id": "zV0W51b6uUob"
      },
      "source": [
        "When we create the new variable for the noise, we must inform TensorFlow which variable-collections that it belongs to, so we can later inform the two optimizers which variables to update.\n",
        "\n",
        "First we define a name for our new variable-collection. This is just a string."
      ]
    },
    {
      "cell_type": "code",
      "execution_count": null,
      "metadata": {
        "id": "7ynK9eF-uUob"
      },
      "outputs": [],
      "source": [
        "ADVERSARY_VARIABLES = 'adversary_variables'"
      ]
    },
    {
      "cell_type": "markdown",
      "metadata": {
        "id": "cvvrKRp7uUoc"
      },
      "source": [
        "Then we create a list of the collections that we want the new noise-variable to belong to. If we add the noise-variable to the collection `tf.GraphKeys.VARIABLES` then it will also get initialized with all the other variables in the TensorFlow graph, but it will not get optimized."
      ]
    },
    {
      "cell_type": "code",
      "execution_count": null,
      "metadata": {
        "id": "lGGZIKnIuUoc"
      },
      "outputs": [],
      "source": [
        "collections = [tf.GraphKeys.GLOBAL_VARIABLES, ADVERSARY_VARIABLES]"
      ]
    },
    {
      "cell_type": "markdown",
      "metadata": {
        "id": "E5aNaRTouUoc"
      },
      "source": [
        "Now we can create the new variable for the adversarial noise. It will be initialized to zero. It will not be trainable, so it will not be optimized along with the other variables of the neural network. This allows us to create two separate optimization procedures."
      ]
    },
    {
      "cell_type": "code",
      "execution_count": null,
      "metadata": {
        "id": "7HnKU5mmuUod"
      },
      "outputs": [],
      "source": [
        "x_noise = tf.Variable(tf.zeros([img_size, img_size, num_channels]),\n",
        "                      name='x_noise', trainable=False,\n",
        "                      collections=collections)"
      ]
    },
    {
      "cell_type": "markdown",
      "metadata": {
        "id": "Nqj7DlDWuUod"
      },
      "source": [
        "The adversarial noise will be limited / clipped to the given \n",
        "&plusmn; noise-limit that we set above. Note that this is actually not executed at this point in the computational graph, but will instead be executed after the optimization-step, see further below."
      ]
    },
    {
      "cell_type": "code",
      "execution_count": null,
      "metadata": {
        "id": "9Zf5d3vOuUod"
      },
      "outputs": [],
      "source": [
        "x_noise_clip = tf.assign(x_noise, tf.clip_by_value(x_noise,\n",
        "                                                   -noise_limit,\n",
        "                                                   noise_limit))"
      ]
    },
    {
      "cell_type": "markdown",
      "metadata": {
        "id": "epqtbIYGuUod"
      },
      "source": [
        "The noisy image is just the sum of the input image and the adversarial noise."
      ]
    },
    {
      "cell_type": "code",
      "execution_count": null,
      "metadata": {
        "id": "ogg5a4H0uUoe"
      },
      "outputs": [],
      "source": [
        "x_noisy_image = x_image + x_noise"
      ]
    },
    {
      "cell_type": "markdown",
      "metadata": {
        "id": "8dgoYlnQuUoe"
      },
      "source": [
        "When adding the noise to the input image, it may overflow the boundaries for a valid image, so we clip / limit the noisy image to ensure its pixel-values are between 0 and 1."
      ]
    },
    {
      "cell_type": "code",
      "execution_count": null,
      "metadata": {
        "id": "mGfyFAMQuUoe"
      },
      "outputs": [],
      "source": [
        "x_noisy_image = tf.clip_by_value(x_noisy_image, 0.0, 1.0)"
      ]
    },
    {
      "cell_type": "markdown",
      "metadata": {
        "id": "WjT465SVuUof"
      },
      "source": [
        "### Convolutional Neural Network"
      ]
    },
    {
      "cell_type": "markdown",
      "metadata": {
        "id": "z5IeKLKguUof"
      },
      "source": [
        "We will use the Layers API to construct the convolutional neural network, see Tutorial #03-B."
      ]
    },
    {
      "cell_type": "code",
      "execution_count": null,
      "metadata": {
        "id": "spD5PywnuUof",
        "colab": {
          "base_uri": "https://localhost:8080/"
        },
        "outputId": "f33a6bb1-92d7-4a2a-b3c1-ad9419d028fd"
      },
      "outputs": [
        {
          "output_type": "stream",
          "name": "stdout",
          "text": [
            "WARNING:tensorflow:From <ipython-input-22-42e44eb8e11b>:3: flatten (from tensorflow.python.layers.core) is deprecated and will be removed in a future version.\n",
            "Instructions for updating:\n",
            "Use keras.layers.flatten instead.\n",
            "WARNING:tensorflow:From /tensorflow-1.15.2/python3.7/tensorflow_core/python/layers/core.py:332: Layer.apply (from tensorflow.python.keras.engine.base_layer) is deprecated and will be removed in a future version.\n",
            "Instructions for updating:\n",
            "Please use `layer.__call__` method instead.\n",
            "WARNING:tensorflow:From <ipython-input-22-42e44eb8e11b>:7: dense (from tensorflow.python.layers.core) is deprecated and will be removed in a future version.\n",
            "Instructions for updating:\n",
            "Use keras.layers.Dense instead.\n"
          ]
        }
      ],
      "source": [
        "# Start the network with the noisy input image.\n",
        "net = x_noisy_image\n",
        "net = tf.layers.flatten(net)\n",
        "\n",
        "# 1st fully-connected / dense layer.\n",
        "net = tf.layers.dense(inputs=net, name='layer_fc1',\n",
        "                      units=128, activation=tf.nn.relu)\n",
        "net = tf.layers.dense(inputs=net, name='layer_fc_0',\n",
        "                      units=64, activation=tf.nn.relu)\n",
        "\n",
        "# 2nd fully-connected / dense layer.\n",
        "net = tf.layers.dense(inputs=net, name='layer_fc_out',\n",
        "                      units=num_classes, activation=None)\n",
        "\n",
        "# Unscaled output of the network.\n",
        "logits = net\n",
        "\n",
        "# Softmax output of the network.\n",
        "y_pred1 = tf.nn.softmax(logits=logits)\n",
        "\n",
        "# Loss measure to be optimized.\n",
        "cross_entropy = tf.nn.softmax_cross_entropy_with_logits_v2(labels=y_true,\n",
        "                                                           logits=logits)\n",
        "loss1 = tf.reduce_mean(cross_entropy)\n",
        "#create more nueral networks"
      ]
    },
    {
      "cell_type": "markdown",
      "metadata": {
        "id": "RcyaCmO8uUog"
      },
      "source": [
        "### Optimizer for Normal Training"
      ]
    },
    {
      "cell_type": "markdown",
      "metadata": {
        "id": "PWi3ajPSuUog"
      },
      "source": [
        "This is a list of the variables for the neural network that will be trained during the normal optimization procedure. Note that `'x_noise:0'` is not in the list, so the adversarial noise is not being optimized in the normal procedure."
      ]
    },
    {
      "cell_type": "code",
      "execution_count": null,
      "metadata": {
        "scrolled": true,
        "id": "KChp0qxpuUoh",
        "outputId": "d98c1a38-1295-41b5-dc3e-f5dfbf18b8a6",
        "colab": {
          "base_uri": "https://localhost:8080/"
        }
      },
      "outputs": [
        {
          "output_type": "execute_result",
          "data": {
            "text/plain": [
              "['layer_fc1/kernel:0',\n",
              " 'layer_fc1/bias:0',\n",
              " 'layer_fc_0/kernel:0',\n",
              " 'layer_fc_0/bias:0',\n",
              " 'layer_fc_out/kernel:0',\n",
              " 'layer_fc_out/bias:0']"
            ]
          },
          "metadata": {},
          "execution_count": 23
        }
      ],
      "source": [
        "[var.name for var in tf.trainable_variables()]"
      ]
    },
    {
      "cell_type": "markdown",
      "metadata": {
        "id": "lTS0kRt1uUoi"
      },
      "source": [
        "Optimization of these variables in the neural network is done with the Adam-optimizer using the loss-measure that was returned from PrettyTensor when we constructed the neural network above.\n",
        "\n",
        "Note that optimization is not performed at this point. In fact, nothing is calculated at all, we just add the optimizer-object to the TensorFlow graph for later execution."
      ]
    },
    {
      "cell_type": "code",
      "execution_count": null,
      "metadata": {
        "id": "V_VOqn6_uUoi"
      },
      "outputs": [],
      "source": [
        "optimizer = tf.train.AdamOptimizer(learning_rate=1e-4).minimize(loss1)"
      ]
    },
    {
      "cell_type": "markdown",
      "metadata": {
        "id": "eoi3pc4QuUoj"
      },
      "source": [
        "### Optimizer for Adversarial Noise"
      ]
    },
    {
      "cell_type": "markdown",
      "metadata": {
        "id": "eIpzh65cuUoj"
      },
      "source": [
        "Get the list of variables that must be optimized in the second procedure for the adversarial noise."
      ]
    },
    {
      "cell_type": "code",
      "execution_count": null,
      "metadata": {
        "id": "0GG_NdE2uUoj"
      },
      "outputs": [],
      "source": [
        "adversary_variables = tf.get_collection(ADVERSARY_VARIABLES)"
      ]
    },
    {
      "cell_type": "markdown",
      "metadata": {
        "id": "xxwPQ-CouUok"
      },
      "source": [
        "Show the list of variable-names. There is only one, which is the adversarial noise variable that we created above."
      ]
    },
    {
      "cell_type": "code",
      "execution_count": null,
      "metadata": {
        "scrolled": true,
        "id": "H8nnDibTuUok",
        "outputId": "58b3fcb0-0e10-4f0e-c734-4f7a42c85b3a",
        "colab": {
          "base_uri": "https://localhost:8080/"
        }
      },
      "outputs": [
        {
          "output_type": "execute_result",
          "data": {
            "text/plain": [
              "['x_noise:0']"
            ]
          },
          "metadata": {},
          "execution_count": 26
        }
      ],
      "source": [
        "[var.name for var in adversary_variables]"
      ]
    },
    {
      "cell_type": "markdown",
      "metadata": {
        "id": "qcaIG8BKuUol"
      },
      "source": [
        "We will combine the loss-function for the normal optimization with a so-called L2-loss for the noise-variable. This should result in the minimum values for the adversarial noise along with the best classification accuracy.\n",
        "\n",
        "The L2-loss is scaled by a weight that is typically set close to zero."
      ]
    },
    {
      "cell_type": "code",
      "execution_count": null,
      "metadata": {
        "id": "FQnW7dPguUol"
      },
      "outputs": [],
      "source": [
        "l2_loss_noise = noise_l2_weight * tf.nn.l2_loss(x_noise)"
      ]
    },
    {
      "cell_type": "markdown",
      "metadata": {
        "id": "GzoWVQ1IuUom"
      },
      "source": [
        "Combine the normal loss-function with the L2-loss for the adversarial noise."
      ]
    },
    {
      "cell_type": "code",
      "execution_count": null,
      "metadata": {
        "id": "S9kW8f_6uUom"
      },
      "outputs": [],
      "source": [
        "loss_adversary = loss1 + l2_loss_noise"
      ]
    },
    {
      "cell_type": "markdown",
      "metadata": {
        "id": "VSykviZVuUom"
      },
      "source": [
        "We can now create the optimizer for the adversarial noise. Because this optimizer is not supposed to update all the variables of the neural network, we must give it a list of the variables that we want updated, which is the variable for the adversarial noise. Also note the learning-rate is much greater than for the normal optimizer above."
      ]
    },
    {
      "cell_type": "code",
      "execution_count": null,
      "metadata": {
        "id": "fwjCJ397uUom",
        "colab": {
          "base_uri": "https://localhost:8080/"
        },
        "outputId": "358fb55b-358a-4bfc-c2a5-053fc258f8b9"
      },
      "outputs": [
        {
          "output_type": "stream",
          "name": "stdout",
          "text": [
            "WARNING:tensorflow:From /tensorflow-1.15.2/python3.7/tensorflow_core/python/ops/math_grad.py:1424: where (from tensorflow.python.ops.array_ops) is deprecated and will be removed in a future version.\n",
            "Instructions for updating:\n",
            "Use tf.where in 2.0, which has the same broadcast rule as np.where\n"
          ]
        }
      ],
      "source": [
        "optimizer_adversary = tf.train.AdamOptimizer(learning_rate=1e-2).minimize(loss_adversary, var_list=adversary_variables)\n"
      ]
    },
    {
      "cell_type": "markdown",
      "metadata": {
        "id": "5HNj33iDuUom"
      },
      "source": [
        "We have now created two optimizers for the neural network, one for the variables of the neural network and another for the single variable with the adversarial noise."
      ]
    },
    {
      "cell_type": "markdown",
      "metadata": {
        "id": "3vC9vJtLuUon"
      },
      "source": [
        "### Performance Measures\n",
        "\n",
        "We need a few more operations in the TensorFlow graph which will make it easier for us to display the progress to the user during optimization.\n",
        "\n",
        "First we calculate the predicted class number from the output of the Neural Network `y_pred`, which is a vector with 10 elements. The class number is the index of the largest element."
      ]
    },
    {
      "cell_type": "code",
      "execution_count": null,
      "metadata": {
        "id": "17EIxLceuUon"
      },
      "outputs": [],
      "source": [
        "y_pred_cls = tf.argmax(y_pred1, axis=1)"
      ]
    },
    {
      "cell_type": "markdown",
      "metadata": {
        "id": "JDmQxogauUon"
      },
      "source": [
        "Then we create a vector of booleans telling us whether the predicted class equals the true class of each image."
      ]
    },
    {
      "cell_type": "code",
      "execution_count": null,
      "metadata": {
        "id": "pA-Gmz1_uUos"
      },
      "outputs": [],
      "source": [
        "correct_prediction = tf.equal(y_pred_cls, y_true_cls)"
      ]
    },
    {
      "cell_type": "markdown",
      "metadata": {
        "id": "vKnIDK0SuUos"
      },
      "source": [
        "The classification accuracy is calculated by first type-casting the vector of booleans to floats, so that False becomes 0 and True becomes 1, and then taking the average of these numbers."
      ]
    },
    {
      "cell_type": "code",
      "execution_count": null,
      "metadata": {
        "id": "KKE3BcX3uUos"
      },
      "outputs": [],
      "source": [
        "accuracy = tf.reduce_mean(tf.cast(correct_prediction, tf.float32))"
      ]
    },
    {
      "cell_type": "markdown",
      "metadata": {
        "id": "hd7rudFZuUot"
      },
      "source": [
        "## TensorFlow Run"
      ]
    },
    {
      "cell_type": "markdown",
      "metadata": {
        "id": "LMkWLTNAuUot"
      },
      "source": [
        "### Create TensorFlow session\n",
        "\n",
        "Once the TensorFlow graph has been created, we have to create a TensorFlow session which is used to execute the graph."
      ]
    },
    {
      "cell_type": "code",
      "execution_count": null,
      "metadata": {
        "id": "Gds8kGmbuUot"
      },
      "outputs": [],
      "source": [
        "session = tf.Session()"
      ]
    },
    {
      "cell_type": "markdown",
      "metadata": {
        "id": "zIskJCHHuUot"
      },
      "source": [
        "### Initialize variables\n",
        "\n",
        "The variables for `weights` and `biases` must be initialized before we start optimizing them."
      ]
    },
    {
      "cell_type": "code",
      "execution_count": null,
      "metadata": {
        "id": "uIrvbINZuUot"
      },
      "outputs": [],
      "source": [
        "session.run(tf.global_variables_initializer())"
      ]
    },
    {
      "cell_type": "markdown",
      "metadata": {
        "id": "YXAVqeZfuUou"
      },
      "source": [
        "This is a helper-function for initializing / resetting the adversarial noise to zero."
      ]
    },
    {
      "cell_type": "code",
      "execution_count": null,
      "metadata": {
        "id": "qwGYwXjZuUou"
      },
      "outputs": [],
      "source": [
        "def init_noise():\n",
        "    session.run(tf.variables_initializer([x_noise]))"
      ]
    },
    {
      "cell_type": "markdown",
      "metadata": {
        "id": "z5rz3zhFuUou"
      },
      "source": [
        "Call the function to initialize the adversarial noise."
      ]
    },
    {
      "cell_type": "code",
      "execution_count": null,
      "metadata": {
        "id": "cNcjiQAhuUou"
      },
      "outputs": [],
      "source": [
        "init_noise()"
      ]
    },
    {
      "cell_type": "markdown",
      "metadata": {
        "id": "eq2aIJpnuUou"
      },
      "source": [
        "### Helper-function to perform optimization iterations"
      ]
    },
    {
      "cell_type": "markdown",
      "metadata": {
        "id": "i0lNyynluUov"
      },
      "source": [
        "There are 55,000 images in the training-set. It takes a long time to calculate the gradient of the model using all these images. We therefore only use a small batch of images in each iteration of the optimizer.\n"
      ]
    },
    {
      "cell_type": "code",
      "execution_count": null,
      "metadata": {
        "id": "RY3m9BP9uUov"
      },
      "outputs": [],
      "source": [
        "train_batch_size = 300"
      ]
    },
    {
      "cell_type": "markdown",
      "metadata": {
        "id": "9GjRyhHBuUov"
      },
      "source": [
        "Below is the function for performing a number of optimization iterations so as to gradually improve the variables of the neural network. In each iteration, a new batch of data is selected from the training-set and then TensorFlow executes the optimizer using those training samples. The progress is printed every 100 iterations.\n",
        "\n",
        "This function is similar to the previous tutorials, except that it now takes an argument for the adversarial target-class. When this target-class is set to an integer, it will be used instead of the true class-number for the training-data. The adversarial optimizer is also used instead of the normal optimizer, and after each step of the adversarial optimizer, the noise will be limited / clipped to the allowed range. This optimizes the adversarial noise and ignores the other variables of the neural network."
      ]
    },
    {
      "cell_type": "code",
      "execution_count": null,
      "metadata": {
        "id": "AZE-AWU6uUov"
      },
      "outputs": [],
      "source": [
        "def optimize(num_iterations, adversary_target_cls=None):\n",
        "    # Start-time used for printing time-usage below.\n",
        "    start_time = time.time()\n",
        "\n",
        "    for i in range(num_iterations):\n",
        "\n",
        "        # Get a batch of training examples.\n",
        "        # x_batch now holds a batch of images and\n",
        "        # y_true_batch are the true labels for those images.\n",
        "        x_batch, y_true_batch, _ = data.random_batch(batch_size=train_batch_size)\n",
        "\n",
        "        # If we are searching for the adversarial noise, then\n",
        "        # use the adversarial target-class instead.\n",
        "        \n",
        "        if adversary_target_cls is not None:\n",
        "            # The class-labels are One-Hot encoded.\n",
        "            \n",
        "            # Set all the class-labels to zero.\n",
        "            y_true_batch = np.zeros_like(y_true_batch)\n",
        "\n",
        "            # Set the element for the adversarial target-class to 1.\n",
        "            y_true_batch[:, adversary_target_cls] = 1.0\n",
        "            \n",
        "        # Put the batch into a dict with the proper names\n",
        "        # for placeholder variables in the TensorFlow graph.\n",
        "        feed_dict_train = {x: x_batch,\n",
        "                           y_true: y_true_batch}\n",
        "\n",
        "\n",
        "        # If doing normal optimization of the neural network.\n",
        "        if adversary_target_cls is None:\n",
        "            # Run the optimizer using this batch of training data.\n",
        "            # TensorFlow assigns the variables in feed_dict_train\n",
        "            # to the placeholder variables and then runs the optimizer.\n",
        "            session.run(optimizer, feed_dict=feed_dict_train)\n",
        "        else:\n",
        "            #change here\n",
        "            # Run the adversarial optimizer instead.\n",
        "            # Note that we have 'faked' the class above to be\n",
        "            # the adversarial target-class instead of the true class.\n",
        "            session.run(optimizer_adversary, feed_dict=feed_dict_train)\n",
        "            \n",
        "            # Clip / limit the adversarial noise. This executes\n",
        "            # another TensorFlow operation. It cannot be executed\n",
        "            # in the same session.run() as the optimizer, because\n",
        "            # it may run in parallel so the execution order is not\n",
        "            # guaranteed. We need the clip to run after the optimizer.\n",
        "            session.run(x_noise_clip)\n",
        "\n",
        "        # Print status every 100 iterations.\n",
        "        if (i % 100 == 0) or (i == num_iterations - 1):\n",
        "            # Calculate the accuracy on the training-set.\n",
        "            acc = session.run(accuracy, feed_dict=feed_dict_train)\n",
        "\n",
        "            # Message for printing.\n",
        "            msg = \"Optimization Iteration: {0:>6}, Training Accuracy: {1:>6.1%}\"\n",
        "\n",
        "            # Print it.\n",
        "            print(msg.format(i, acc))\n",
        "\n",
        "    # Ending time.\n",
        "    end_time = time.time()\n",
        "\n",
        "    # Difference between start and end-times.\n",
        "    time_dif = end_time - start_time\n",
        "\n",
        "    # Print the time-usage.\n",
        "    print(\"Time usage: \" + str(timedelta(seconds=int(round(time_dif)))))"
      ]
    },
    {
      "cell_type": "markdown",
      "metadata": {
        "id": "aV8_IBVIuUow"
      },
      "source": [
        "### Helper-functions for getting and plotting the noise"
      ]
    },
    {
      "cell_type": "markdown",
      "metadata": {
        "id": "QfcAC1kouUow"
      },
      "source": [
        "This function gets the adversarial noise from inside the TensorFlow graph."
      ]
    },
    {
      "cell_type": "code",
      "execution_count": null,
      "metadata": {
        "id": "kcIGC0m2uUow"
      },
      "outputs": [],
      "source": [
        "def get_noise():\n",
        "    # Run the TensorFlow session to retrieve the contents of\n",
        "    # the x_noise variable inside the graph.\n",
        "    noise = session.run(x_noise)\n",
        "\n",
        "    return np.squeeze(noise)"
      ]
    },
    {
      "cell_type": "markdown",
      "metadata": {
        "id": "2m94IygwuUow"
      },
      "source": [
        "This function plots the adversarial noise and prints some statistics."
      ]
    },
    {
      "cell_type": "code",
      "execution_count": null,
      "metadata": {
        "id": "vyb6aLxruUow"
      },
      "outputs": [],
      "source": [
        "def plot_noise():\n",
        "    # Get the adversarial noise from inside the TensorFlow graph.\n",
        "    noise = get_noise()\n",
        "    \n",
        "    # Print statistics.\n",
        "    print(\"Noise:\")\n",
        "    print(\"- Min:\", noise.min())\n",
        "    print(\"- Max:\", noise.max())\n",
        "    print(\"- Std:\", noise.std())\n",
        "\n",
        "    # Plot the noise.\n",
        "    plt.imshow(noise, interpolation='nearest', cmap='seismic',\n",
        "               vmin=-1.0, vmax=1.0)"
      ]
    },
    {
      "cell_type": "markdown",
      "metadata": {
        "id": "Wn7iaU8duUox"
      },
      "source": [
        "### Helper-function to plot example errors"
      ]
    },
    {
      "cell_type": "markdown",
      "metadata": {
        "id": "4ngm-d75uUox"
      },
      "source": [
        "Function for plotting examples of images from the test-set that have been mis-classified."
      ]
    },
    {
      "cell_type": "code",
      "execution_count": null,
      "metadata": {
        "id": "Rh3UUf0ouUox"
      },
      "outputs": [],
      "source": [
        "def plot_example_errors(cls_pred, correct):\n",
        "    # This function is called from print_test_accuracy() below.\n",
        "\n",
        "    # cls_pred is an array of the predicted class-number for\n",
        "    # all images in the test-set.\n",
        "\n",
        "    # correct is a boolean array whether the predicted class\n",
        "    # is equal to the true class for each image in the test-set.\n",
        "\n",
        "    # Negate the boolean array.\n",
        "    incorrect = (correct == False)\n",
        "    \n",
        "    # Get the images from the test-set that have been\n",
        "    # incorrectly classified.\n",
        "    images = data.x_test[incorrect]\n",
        "    \n",
        "    # Get the predicted classes for those images.\n",
        "    cls_pred = cls_pred[incorrect]\n",
        "\n",
        "    # Get the true classes for those images.\n",
        "    cls_true = data.y_test_cls[incorrect]\n",
        "\n",
        "    # Get the adversarial noise from inside the TensorFlow graph.\n",
        "    noise = get_noise()\n",
        "    \n",
        "    # Plot the first 9 images.\n",
        "    plot_images(images=images[0:9],\n",
        "                cls_true=cls_true[0:9],\n",
        "                cls_pred=cls_pred[0:9],\n",
        "                noise=noise)"
      ]
    },
    {
      "cell_type": "markdown",
      "metadata": {
        "id": "8dSxGvUcuUox"
      },
      "source": [
        "### Helper-function to plot confusion matrix"
      ]
    },
    {
      "cell_type": "code",
      "execution_count": null,
      "metadata": {
        "id": "YtqabgzmuUoy"
      },
      "outputs": [],
      "source": [
        "def plot_confusion_matrix(cls_pred):\n",
        "    # This is called from print_test_accuracy() below.\n",
        "\n",
        "    # cls_pred is an array of the predicted class-number for\n",
        "    # all images in the test-set.\n",
        "\n",
        "    # Get the true classifications for the test-set.\n",
        "    cls_true = data.y_test_cls\n",
        "    \n",
        "    # Get the confusion matrix using sklearn.\n",
        "    cm = confusion_matrix(y_true=cls_true,\n",
        "                          y_pred=cls_pred)\n",
        "\n",
        "    # Print the confusion matrix as text.\n",
        "    print(cm)"
      ]
    },
    {
      "cell_type": "markdown",
      "metadata": {
        "id": "Q4qNIRFPuUoy"
      },
      "source": [
        "### Helper-function for showing the performance"
      ]
    },
    {
      "cell_type": "markdown",
      "metadata": {
        "id": "HdfR4XuHuUoz"
      },
      "source": [
        "Function for printing the classification accuracy on the test-set.\n",
        "\n",
        "It takes a while to compute the classification for all the images in the test-set, that's why the results are re-used by calling the above functions directly from this function, so the classifications don't have to be recalculated by each function.\n"
      ]
    },
    {
      "cell_type": "code",
      "execution_count": null,
      "metadata": {
        "id": "5oSMfGvCuUoz"
      },
      "outputs": [],
      "source": [
        "# Split the test-set into smaller batches of this size.\n",
        "test_batch_size = 256\n",
        "\n",
        "def print_test_accuracy(show_example_errors=False,\n",
        "                        show_confusion_matrix=False):\n",
        "\n",
        "    # Number of images in the test-set.\n",
        "    num_test = data.num_test\n",
        "\n",
        "    # Allocate an array for the predicted classes which\n",
        "    # will be calculated in batches and filled into this array.\n",
        "    cls_pred = np.zeros(shape=num_test, dtype=np.int)\n",
        "\n",
        "    # Now calculate the predicted classes for the batches.\n",
        "    # We will just iterate through all the batches.\n",
        "\n",
        "    # The starting index for the next batch is denoted i.\n",
        "    i = 0\n",
        "\n",
        "    while i < num_test:\n",
        "        # The ending index for the next batch is denoted j.\n",
        "        j = min(i + test_batch_size, num_test)\n",
        "\n",
        "        # Get the images from the test-set between index i and j.\n",
        "        images = data.x_test[i:j, :]\n",
        "\n",
        "        # Get the associated labels.\n",
        "        labels = data.y_test[i:j, :]\n",
        "\n",
        "        # Create a feed-dict with these images and labels.\n",
        "        feed_dict = {x: images,\n",
        "                     y_true: labels}\n",
        "\n",
        "        # Calculate the predicted class using TensorFlow.\n",
        "        cls_pred[i:j] = session.run(y_pred_cls, feed_dict=feed_dict)\n",
        "\n",
        "        # Set the start-index for the next batch to the\n",
        "        # end-index of the current batch.\n",
        "        i = j\n",
        "\n",
        "    # Convenience variable for the true class-numbers of the test-set.\n",
        "    cls_true = data.y_test_cls\n",
        "\n",
        "    # Create a boolean array whether each image is correctly classified.\n",
        "    correct = (cls_true == cls_pred)\n",
        "\n",
        "    # Calculate the number of correctly classified images.\n",
        "    # When summing a boolean array, False means 0 and True means 1.\n",
        "    correct_sum = correct.sum()\n",
        "\n",
        "    # Classification accuracy is the number of correctly classified\n",
        "    # images divided by the total number of images in the test-set.\n",
        "    acc = float(correct_sum) / num_test\n",
        "\n",
        "    # Print the accuracy.\n",
        "    msg = \"Accuracy on Test-Set: {0:.1%} ({1} / {2})\"\n",
        "    print(msg.format(acc, correct_sum, num_test))\n",
        "\n",
        "    # Plot some examples of mis-classifications, if desired.\n",
        "    if show_example_errors:\n",
        "        print(\"Example errors:\")\n",
        "        plot_example_errors(cls_pred=cls_pred, correct=correct)\n",
        "\n",
        "    # Plot the confusion matrix, if desired.\n",
        "    if show_confusion_matrix:\n",
        "        print(\"Confusion Matrix:\")\n",
        "        plot_confusion_matrix(cls_pred=cls_pred)"
      ]
    },
    {
      "cell_type": "markdown",
      "metadata": {
        "id": "Cg_hAklkuUoz"
      },
      "source": [
        "## Normal optimization of neural network\n",
        "\n",
        "First we perform 800 optimization iterations with the normal optimizer. This finds the variables that makes the neural network perform well on the training-set.\n",
        "\n",
        "The adversarial noise is not effective yet because it has only been initialized to zero above and it is not being updated during this optimization."
      ]
    },
    {
      "cell_type": "code",
      "execution_count": null,
      "metadata": {
        "scrolled": false,
        "id": "ppCLRWODuUo0",
        "outputId": "1cb0dc56-7e16-47b3-9a84-baed9b97ec0e",
        "colab": {
          "base_uri": "https://localhost:8080/"
        }
      },
      "outputs": [
        {
          "output_type": "stream",
          "name": "stdout",
          "text": [
            "Optimization Iteration:      0, Training Accuracy:   7.3%\n",
            "Optimization Iteration:    100, Training Accuracy:  75.0%\n",
            "Optimization Iteration:    200, Training Accuracy:  86.3%\n",
            "Optimization Iteration:    300, Training Accuracy:  88.0%\n",
            "Optimization Iteration:    400, Training Accuracy:  88.3%\n",
            "Optimization Iteration:    500, Training Accuracy:  91.0%\n",
            "Optimization Iteration:    600, Training Accuracy:  94.0%\n",
            "Optimization Iteration:    700, Training Accuracy:  92.3%\n",
            "Optimization Iteration:    799, Training Accuracy:  93.7%\n",
            "Time usage: 0:00:08\n"
          ]
        }
      ],
      "source": [
        "optimize(num_iterations=800)"
      ]
    },
    {
      "cell_type": "markdown",
      "metadata": {
        "id": "eZsc7JuduUo0"
      },
      "source": [
        "The classification accuracy is now about 90-95% on the test-set. (This will vary each time you run this Python Notebook)."
      ]
    },
    {
      "cell_type": "code",
      "execution_count": null,
      "metadata": {
        "scrolled": false,
        "id": "OB03kxK7uUo0",
        "outputId": "d9ee697e-a4d6-47e8-e8a5-8fea8d7a7ccf",
        "colab": {
          "base_uri": "https://localhost:8080/",
          "height": 369
        }
      },
      "outputs": [
        {
          "output_type": "stream",
          "name": "stderr",
          "text": [
            "/usr/local/lib/python3.7/dist-packages/ipykernel_launcher.py:12: DeprecationWarning: `np.int` is a deprecated alias for the builtin `int`. To silence this warning, use `int` by itself. Doing this will not modify any behavior and is safe. When replacing `np.int`, you may wish to use e.g. `np.int64` or `np.int32` to specify the precision. If you wish to review your current use, check the release note link for additional information.\n",
            "Deprecated in NumPy 1.20; for more details and guidance: https://numpy.org/devdocs/release/1.20.0-notes.html#deprecations\n",
            "  if sys.path[0] == '':\n"
          ]
        },
        {
          "output_type": "stream",
          "name": "stdout",
          "text": [
            "Accuracy on Test-Set: 92.7% (9274 / 10000)\n",
            "Example errors:\n"
          ]
        },
        {
          "output_type": "display_data",
          "data": {
            "text/plain": [
              "<Figure size 432x288 with 9 Axes>"
            ],
            "image/png": "[encoded data removed]"
          },
          "metadata": {}
        }
      ],
      "source": [
        "print_test_accuracy(show_example_errors=True)"
      ]
    },
    {
      "cell_type": "markdown",
      "metadata": {
        "id": "ItZO6wYHuUo0"
      },
      "source": [
        "## Find the adversarial noise"
      ]
    },
    {
      "cell_type": "markdown",
      "metadata": {
        "id": "2YqxGBI7uUo1"
      },
      "source": [
        "Before we start optimizing the adversarial noise, we first initialize it to zero. This was already done above but it is repeated here in case you want to re-run this code with another target-class."
      ]
    },
    {
      "cell_type": "code",
      "execution_count": null,
      "metadata": {
        "id": "KMWS3oehuUo1"
      },
      "outputs": [],
      "source": [
        "init_noise()"
      ]
    },
    {
      "cell_type": "markdown",
      "metadata": {
        "id": "vEDg10kGuUo1"
      },
      "source": [
        "Now perform optimization of the adversarial noise. This uses the adversarial optimizer instead of the normal optimizer, which means that it only optimizes the variable for the adversarial noise, while ignoring all the other variables of the neural network."
      ]
    },
    {
      "cell_type": "code",
      "execution_count": null,
      "metadata": {
        "scrolled": false,
        "id": "M8GnKvE5uUo1",
        "outputId": "beca5c29-8584-4e6a-d4be-026b34fbb40d",
        "colab": {
          "base_uri": "https://localhost:8080/"
        }
      },
      "outputs": [
        {
          "output_type": "stream",
          "name": "stdout",
          "text": [
            "Optimization Iteration:      0, Training Accuracy:  11.0%\n",
            "Optimization Iteration:    100, Training Accuracy:  98.7%\n",
            "Optimization Iteration:    200, Training Accuracy:  98.3%\n",
            "Optimization Iteration:    300, Training Accuracy:  98.7%\n",
            "Optimization Iteration:    400, Training Accuracy:  99.3%\n",
            "Optimization Iteration:    500, Training Accuracy:  99.7%\n",
            "Optimization Iteration:    599, Training Accuracy:  98.7%\n",
            "Time usage: 0:00:09\n"
          ]
        }
      ],
      "source": [
        "optimize(num_iterations=600, adversary_target_cls=2)"
      ]
    },
    {
      "cell_type": "markdown",
      "metadata": {
        "id": "M42Mm19QuUo2"
      },
      "source": [
        "The adversarial noise has now been optimized and it can be shown in a plot. The red pixels show positive noise-values and the blue pixels show negative noise-values. This noise-pattern is added to every input image. The positive (red) noise-values makes the pixels darker and the negative (blue) noise-values makes the pixels brighter. Examples of this are shown below."
      ]
    },
    {
      "cell_type": "code",
      "execution_count": null,
      "metadata": {
        "scrolled": true,
        "id": "7K59w9tJuUo2",
        "outputId": "24fbb448-7de2-4764-d98c-2ff3da809d83",
        "colab": {
          "base_uri": "https://localhost:8080/",
          "height": 334
        }
      },
      "outputs": [
        {
          "output_type": "stream",
          "name": "stdout",
          "text": [
            "Noise:\n",
            "- Min: -0.32782477\n",
            "- Max: 0.35\n",
            "- Std: 0.1378446\n"
          ]
        },
        {
          "output_type": "display_data",
          "data": {
            "text/plain": [
              "<Figure size 432x288 with 1 Axes>"
            ],
            "image/png": "[encoded data removed]"
          },
          "metadata": {
            "needs_background": "light"
          }
        }
      ],
      "source": [
        "plot_noise()"
      ]
    },
    {
      "cell_type": "markdown",
      "metadata": {
        "id": "Tue-8qb5uUo2"
      },
      "source": [
        "When this noise is added to all the images in the test-set, the result is typically a classification accuracy of 10-15% depending on the target-class that was chosen. We can also see from the confusion matrix that most images in the test-set are now classified as the desired target-class - although some of the target-classes require more adversarial noise than others.\n",
        "\n",
        "So we have found adversarial noise that makes the neural network mis-classify almost all images in the test-set as our desired target-class.\n",
        "\n",
        "We can also show some examples of mis-classified images with the adversarial noise. The noise is clearly visible but the digits are still easily identified by the human eye."
      ]
    },
    {
      "cell_type": "code",
      "execution_count": null,
      "metadata": {
        "scrolled": true,
        "id": "DbUqY3__uUo2",
        "outputId": "31f0121c-38cc-4849-f1d7-cb7bb2beadfa",
        "colab": {
          "base_uri": "https://localhost:8080/",
          "height": 560
        }
      },
      "outputs": [
        {
          "output_type": "stream",
          "name": "stderr",
          "text": [
            "/usr/local/lib/python3.7/dist-packages/ipykernel_launcher.py:12: DeprecationWarning: `np.int` is a deprecated alias for the builtin `int`. To silence this warning, use `int` by itself. Doing this will not modify any behavior and is safe. When replacing `np.int`, you may wish to use e.g. `np.int64` or `np.int32` to specify the precision. If you wish to review your current use, check the release note link for additional information.\n",
            "Deprecated in NumPy 1.20; for more details and guidance: https://numpy.org/devdocs/release/1.20.0-notes.html#deprecations\n",
            "  if sys.path[0] == '':\n"
          ]
        },
        {
          "output_type": "stream",
          "name": "stdout",
          "text": [
            "Accuracy on Test-Set: 11.6% (1164 / 10000)\n",
            "Example errors:\n"
          ]
        },
        {
          "output_type": "display_data",
          "data": {
            "text/plain": [
              "<Figure size 432x288 with 9 Axes>"
            ],
            "image/png": "[encoded data removed]"
          },
          "metadata": {}
        },
        {
          "output_type": "stream",
          "name": "stdout",
          "text": [
            "Confusion Matrix:\n",
            "[[  59    0  921    0    0    0    0    0    0    0]\n",
            " [   0    0 1135    0    0    0    0    0    0    0]\n",
            " [   0    0 1032    0    0    0    0    0    0    0]\n",
            " [   0    0  986   24    0    0    0    0    0    0]\n",
            " [   0    0  979    0    3    0    0    0    0    0]\n",
            " [   0    0  878    2    0   12    0    0    0    0]\n",
            " [   0    0  952    0    0    0    6    0    0    0]\n",
            " [   0    0 1002    0    0    0    0   26    0    0]\n",
            " [   0    0  972    0    0    0    0    0    2    0]\n",
            " [   0    0 1008    1    0    0    0    0    0    0]]\n"
          ]
        }
      ],
      "source": [
        "print_test_accuracy(show_example_errors=True,\n",
        "                    show_confusion_matrix=True)"
      ]
    },
    {
      "cell_type": "markdown",
      "metadata": {
        "id": "Zc-3j8iDuUo3"
      },
      "source": [
        "## Adversarial noise for all target-classes"
      ]
    },
    {
      "cell_type": "markdown",
      "metadata": {
        "id": "OZQ4R-XruUo3"
      },
      "source": [
        "This is a helper-function for finding the adversarial noise for all target-classes. The function loops over all the class-numbers from 0 to 9 and runs the optimization above. The results are then stored in an array."
      ]
    },
    {
      "cell_type": "code",
      "execution_count": null,
      "metadata": {
        "id": "kh_L1B4juUo3"
      },
      "outputs": [],
      "source": [
        "def find_all_noise(num_iterations=600):\n",
        "    # Adversarial noise for all target-classes.\n",
        "    all_noise = []\n",
        "\n",
        "    # For each target-class.\n",
        "    for i in range(num_classes):\n",
        "        print(\"Finding adversarial noise for target-class:\", i)\n",
        "\n",
        "        # Reset the adversarial noise to zero.\n",
        "        init_noise()\n",
        "\n",
        "        # Optimize the adversarial noise.\n",
        "        optimize(num_iterations=num_iterations,\n",
        "                 adversary_target_cls=i)\n",
        "\n",
        "        # Get the adversarial noise from inside the TensorFlow graph.\n",
        "        noise = get_noise()\n",
        "\n",
        "        # Append the noise to the array.\n",
        "        all_noise.append(noise)\n",
        "\n",
        "        # Print newline.\n",
        "        print()\n",
        "    \n",
        "    return all_noise"
      ]
    },
    {
      "cell_type": "code",
      "execution_count": null,
      "metadata": {
        "id": "I2PCYWv5uUo3",
        "outputId": "ad321ac6-50ad-4cd8-9807-644dc571e7af",
        "colab": {
          "base_uri": "https://localhost:8080/"
        }
      },
      "outputs": [
        {
          "output_type": "stream",
          "name": "stdout",
          "text": [
            "Finding adversarial noise for target-class: 0\n",
            "Optimization Iteration:      0, Training Accuracy:   9.7%\n",
            "Optimization Iteration:    100, Training Accuracy:  98.7%\n",
            "Optimization Iteration:    200, Training Accuracy:  98.3%\n",
            "Optimization Iteration:    300, Training Accuracy:  98.7%\n",
            "Optimization Iteration:    400, Training Accuracy:  98.7%\n",
            "Optimization Iteration:    500, Training Accuracy:  98.7%\n",
            "Optimization Iteration:    599, Training Accuracy:  96.7%\n",
            "Time usage: 0:00:08\n",
            "\n",
            "Finding adversarial noise for target-class: 1\n",
            "Optimization Iteration:      0, Training Accuracy:  10.0%\n",
            "Optimization Iteration:    100, Training Accuracy:  85.7%\n",
            "Optimization Iteration:    200, Training Accuracy:  89.0%\n",
            "Optimization Iteration:    300, Training Accuracy:  87.0%\n",
            "Optimization Iteration:    400, Training Accuracy:  87.7%\n",
            "Optimization Iteration:    500, Training Accuracy:  88.0%\n",
            "Optimization Iteration:    599, Training Accuracy:  88.7%\n",
            "Time usage: 0:00:08\n",
            "\n",
            "Finding adversarial noise for target-class: 2\n",
            "Optimization Iteration:      0, Training Accuracy:  11.3%\n",
            "Optimization Iteration:    100, Training Accuracy:  99.0%\n",
            "Optimization Iteration:    200, Training Accuracy:  99.3%\n",
            "Optimization Iteration:    300, Training Accuracy:  98.7%\n",
            "Optimization Iteration:    400, Training Accuracy: 100.0%\n",
            "Optimization Iteration:    500, Training Accuracy:  99.7%\n",
            "Optimization Iteration:    599, Training Accuracy:  99.3%\n",
            "Time usage: 0:00:07\n",
            "\n",
            "Finding adversarial noise for target-class: 3\n",
            "Optimization Iteration:      0, Training Accuracy:  10.7%\n",
            "Optimization Iteration:    100, Training Accuracy:  98.3%\n",
            "Optimization Iteration:    200, Training Accuracy:  98.7%\n",
            "Optimization Iteration:    300, Training Accuracy:  98.3%\n",
            "Optimization Iteration:    400, Training Accuracy:  98.0%\n",
            "Optimization Iteration:    500, Training Accuracy:  99.0%\n",
            "Optimization Iteration:    599, Training Accuracy:  99.0%\n",
            "Time usage: 0:00:05\n",
            "\n",
            "Finding adversarial noise for target-class: 4\n",
            "Optimization Iteration:      0, Training Accuracy:   9.0%\n",
            "Optimization Iteration:    100, Training Accuracy:  96.0%\n",
            "Optimization Iteration:    200, Training Accuracy:  96.3%\n",
            "Optimization Iteration:    300, Training Accuracy:  96.7%\n",
            "Optimization Iteration:    400, Training Accuracy:  97.0%\n",
            "Optimization Iteration:    500, Training Accuracy:  97.0%\n",
            "Optimization Iteration:    599, Training Accuracy:  97.3%\n",
            "Time usage: 0:00:05\n",
            "\n",
            "Finding adversarial noise for target-class: 5\n",
            "Optimization Iteration:      0, Training Accuracy:  12.0%\n",
            "Optimization Iteration:    100, Training Accuracy:  99.0%\n",
            "Optimization Iteration:    200, Training Accuracy:  98.3%\n",
            "Optimization Iteration:    300, Training Accuracy:  98.7%\n",
            "Optimization Iteration:    400, Training Accuracy:  97.7%\n",
            "Optimization Iteration:    500, Training Accuracy:  98.3%\n",
            "Optimization Iteration:    599, Training Accuracy:  97.7%\n",
            "Time usage: 0:00:05\n",
            "\n",
            "Finding adversarial noise for target-class: 6\n",
            "Optimization Iteration:      0, Training Accuracy:  13.3%\n",
            "Optimization Iteration:    100, Training Accuracy:  98.3%\n",
            "Optimization Iteration:    200, Training Accuracy:  97.3%\n",
            "Optimization Iteration:    300, Training Accuracy:  98.7%\n",
            "Optimization Iteration:    400, Training Accuracy:  99.3%\n",
            "Optimization Iteration:    500, Training Accuracy:  98.3%\n",
            "Optimization Iteration:    599, Training Accuracy:  97.3%\n",
            "Time usage: 0:00:05\n",
            "\n",
            "Finding adversarial noise for target-class: 7\n",
            "Optimization Iteration:      0, Training Accuracy:  12.0%\n",
            "Optimization Iteration:    100, Training Accuracy:  98.0%\n",
            "Optimization Iteration:    200, Training Accuracy:  98.3%\n",
            "Optimization Iteration:    300, Training Accuracy:  98.3%\n",
            "Optimization Iteration:    400, Training Accuracy:  96.3%\n",
            "Optimization Iteration:    500, Training Accuracy:  98.3%\n",
            "Optimization Iteration:    599, Training Accuracy:  99.7%\n",
            "Time usage: 0:00:05\n",
            "\n",
            "Finding adversarial noise for target-class: 8\n",
            "Optimization Iteration:      0, Training Accuracy:   8.3%\n",
            "Optimization Iteration:    100, Training Accuracy:  97.0%\n",
            "Optimization Iteration:    200, Training Accuracy:  99.0%\n",
            "Optimization Iteration:    300, Training Accuracy:  95.7%\n",
            "Optimization Iteration:    400, Training Accuracy:  98.7%\n",
            "Optimization Iteration:    500, Training Accuracy:  98.0%\n",
            "Optimization Iteration:    599, Training Accuracy:  98.3%\n",
            "Time usage: 0:00:05\n",
            "\n",
            "Finding adversarial noise for target-class: 9\n",
            "Optimization Iteration:      0, Training Accuracy:  10.7%\n",
            "Optimization Iteration:    100, Training Accuracy:  96.0%\n",
            "Optimization Iteration:    200, Training Accuracy:  97.0%\n",
            "Optimization Iteration:    300, Training Accuracy:  95.3%\n",
            "Optimization Iteration:    400, Training Accuracy:  96.0%\n",
            "Optimization Iteration:    500, Training Accuracy:  97.3%\n",
            "Optimization Iteration:    599, Training Accuracy:  96.3%\n",
            "Time usage: 0:00:05\n",
            "\n"
          ]
        }
      ],
      "source": [
        "all_noise = find_all_noise(num_iterations=600)"
      ]
    },
    {
      "cell_type": "markdown",
      "metadata": {
        "id": "5hxEeg6duUo4"
      },
      "source": [
        "### Plot the adversarial noise for all target-classes"
      ]
    },
    {
      "cell_type": "markdown",
      "metadata": {
        "id": "L49NNRJMuUo4"
      },
      "source": [
        "This is a helper-function for plotting a grid with the adversarial noise for all target-classes 0 to 9."
      ]
    },
    {
      "cell_type": "code",
      "execution_count": null,
      "metadata": {
        "id": "0DtS4ZjquUo4"
      },
      "outputs": [],
      "source": [
        "def plot_all_noise(all_noise):    \n",
        "    # Create figure with 10 sub-plots.\n",
        "    fig, axes = plt.subplots(2, 5)\n",
        "    fig.subplots_adjust(hspace=0.2, wspace=0.1)\n",
        "\n",
        "    # For each sub-plot.\n",
        "    for i, ax in enumerate(axes.flat):\n",
        "        # Get the adversarial noise for the i'th target-class.\n",
        "        noise = all_noise[i]\n",
        "        \n",
        "        # Plot the noise.\n",
        "        ax.imshow(noise,\n",
        "                  cmap='seismic', interpolation='nearest',\n",
        "                  vmin=-1.0, vmax=1.0)\n",
        "\n",
        "        # Show the classes as the label on the x-axis.\n",
        "        ax.set_xlabel(i)\n",
        "\n",
        "        # Remove ticks from the plot.\n",
        "        ax.set_xticks([])\n",
        "        ax.set_yticks([])\n",
        "    \n",
        "    # Ensure the plot is shown correctly with multiple plots\n",
        "    # in a single Notebook cell.\n",
        "    plt.show()"
      ]
    },
    {
      "cell_type": "code",
      "execution_count": null,
      "metadata": {
        "scrolled": true,
        "id": "YAIBzKS8uUo5",
        "outputId": "317f061a-8817-4466-dc11-013c03e3eedc",
        "colab": {
          "base_uri": "https://localhost:8080/",
          "height": 226
        }
      },
      "outputs": [
        {
          "output_type": "display_data",
          "data": {
            "text/plain": [
              "<Figure size 432x288 with 10 Axes>"
            ],
            "image/png": "[encoded data removed]"
          },
          "metadata": {}
        }
      ],
      "source": [
        "plot_all_noise(all_noise)"
      ]
    },
    {
      "cell_type": "markdown",
      "metadata": {
        "id": "h2T37vn3uUo5"
      },
      "source": [
        "Red pixels show positive noise values, and blue pixels show negative noise values.\n",
        "\n",
        "In some of these noise-images you can see traces of the numbers. For example, the noise for target-class 0 shows a red circle surrounded by blue. This means that a little noise will be added to the input image in the shape of a circle, and it will dampen the other pixels. This is sufficient for most input images in the MNIST data-set to be mis-classified as a 0. Another example is the noise for 3 which also shows traces of the number 3 with red pixels. But the noise for the other classes is less obvious."
      ]
    },
    {
      "cell_type": "markdown",
      "metadata": {
        "id": "rOvInw-JuUo6"
      },
      "source": [
        "## Immunity to adversarial noise"
      ]
    },
    {
      "cell_type": "markdown",
      "metadata": {
        "id": "i9lkhw5PuUo6"
      },
      "source": [
        "We will now try and make the neural network immune to adversarial noise. We do this by re-training the neural network to ignore the adversarial noise. This process can be repeated a number of times."
      ]
    },
    {
      "cell_type": "markdown",
      "metadata": {
        "id": "URk43AOnuUo6"
      },
      "source": [
        "### Helper-function to make a neural network immune to noise\n",
        "\n",
        "This is the helper-function for making the neural network immune to adversarial noise. First it runs the optimization to find the adversarial noise. Then it runs the normal optimization to make the neural network immune to that noise."
      ]
    },
    {
      "cell_type": "code",
      "execution_count": null,
      "metadata": {
        "id": "qxxOAoCQuUo6"
      },
      "outputs": [],
      "source": [
        "def make_immune(target_cls, num_iterations_adversary=600,\n",
        "                num_iterations_immune=400):\n",
        "\n",
        "    print(\"Target-class:\", target_cls)\n",
        "    print(\"Finding adversarial noise ...\")\n",
        "\n",
        "    # Find the adversarial noise.\n",
        "    optimize(num_iterations=num_iterations_adversary,\n",
        "             adversary_target_cls=target_cls)\n",
        "    \n",
        "    plot_noise()\n",
        "  \n",
        "\n",
        "    # Newline.\n",
        "    print()\n",
        "    \n",
        "    # Print classification accuracy.\n",
        "    print_test_accuracy(show_example_errors=False,\n",
        "                        show_confusion_matrix=False)\n",
        "\n",
        "    # Newline.\n",
        "    print()\n",
        "\n",
        "    print(\"Making the neural network immune to the noise ...\")\n",
        "\n",
        "    # Try and make the neural network immune to this noise.\n",
        "    # Note that the adversarial noise has not been reset to zero\n",
        "    # so the x_noise variable still holds the noise.\n",
        "    # So we are training the neural network to ignore the noise.\n",
        "    optimize(num_iterations=num_iterations_immune)\n",
        "\n",
        "    # Newline.\n",
        "    print()\n",
        "    \n",
        "    # Print classification accuracy.\n",
        "    print_test_accuracy(show_example_errors=False,\n",
        "                        show_confusion_matrix=False)"
      ]
    },
    {
      "cell_type": "markdown",
      "source": [
        "Making Immune to target class 2 and we repeat a couple of times"
      ],
      "metadata": {
        "id": "2ItV--7iZRcT"
      }
    },
    {
      "cell_type": "code",
      "source": [
        "make_immune(target_cls=2)"
      ],
      "metadata": {
        "colab": {
          "base_uri": "https://localhost:8080/",
          "height": 789
        },
        "id": "X0NAJEGRoOFM",
        "outputId": "3b3a3fe5-e472-4e9f-840b-a36d37e42f61"
      },
      "execution_count": null,
      "outputs": [
        {
          "output_type": "stream",
          "name": "stdout",
          "text": [
            "Target-class: 2\n",
            "Finding adversarial noise ...\n",
            "Optimization Iteration:      0, Training Accuracy:   0.7%\n",
            "Optimization Iteration:    100, Training Accuracy:  98.7%\n",
            "Optimization Iteration:    200, Training Accuracy: 100.0%\n",
            "Optimization Iteration:    300, Training Accuracy:  99.0%\n",
            "Optimization Iteration:    400, Training Accuracy:  99.0%\n",
            "Optimization Iteration:    500, Training Accuracy:  98.3%\n",
            "Optimization Iteration:    599, Training Accuracy:  99.0%\n",
            "Time usage: 0:00:05\n",
            "Noise:\n",
            "- Min: -0.34747913\n",
            "- Max: 0.35\n",
            "- Std: 0.1442298\n",
            "\n",
            "Accuracy on Test-Set: 11.6% (1159 / 10000)\n",
            "\n",
            "Making the neural network immune to the noise ...\n",
            "Optimization Iteration:      0, Training Accuracy:  10.3%\n"
          ]
        },
        {
          "output_type": "stream",
          "name": "stderr",
          "text": [
            "/usr/local/lib/python3.7/dist-packages/ipykernel_launcher.py:12: DeprecationWarning: `np.int` is a deprecated alias for the builtin `int`. To silence this warning, use `int` by itself. Doing this will not modify any behavior and is safe. When replacing `np.int`, you may wish to use e.g. `np.int64` or `np.int32` to specify the precision. If you wish to review your current use, check the release note link for additional information.\n",
            "Deprecated in NumPy 1.20; for more details and guidance: https://numpy.org/devdocs/release/1.20.0-notes.html#deprecations\n",
            "  if sys.path[0] == '':\n"
          ]
        },
        {
          "output_type": "stream",
          "name": "stdout",
          "text": [
            "Optimization Iteration:    100, Training Accuracy:  87.7%\n",
            "Optimization Iteration:    200, Training Accuracy:  90.3%\n",
            "Optimization Iteration:    300, Training Accuracy:  89.7%\n",
            "Optimization Iteration:    399, Training Accuracy:  93.0%\n",
            "Time usage: 0:00:03\n",
            "\n",
            "Accuracy on Test-Set: 92.4% (9244 / 10000)\n"
          ]
        },
        {
          "output_type": "display_data",
          "data": {
            "text/plain": [
              "<Figure size 432x288 with 1 Axes>"
            ],
            "image/png": "[encoded data removed]"
          },
          "metadata": {
            "needs_background": "light"
          }
        }
      ]
    },
    {
      "cell_type": "code",
      "source": [
        "make_immune(target_cls=2)"
      ],
      "metadata": {
        "colab": {
          "base_uri": "https://localhost:8080/",
          "height": 789
        },
        "id": "wO5rI7NsoUQ4",
        "outputId": "ecce0bd5-221d-4bb4-e325-9ddb829c58db"
      },
      "execution_count": null,
      "outputs": [
        {
          "output_type": "stream",
          "name": "stdout",
          "text": [
            "Target-class: 2\n",
            "Finding adversarial noise ...\n",
            "Optimization Iteration:      0, Training Accuracy:  12.3%\n",
            "Optimization Iteration:    100, Training Accuracy:  57.0%\n",
            "Optimization Iteration:    200, Training Accuracy:  62.0%\n",
            "Optimization Iteration:    300, Training Accuracy:  64.0%\n",
            "Optimization Iteration:    400, Training Accuracy:  63.3%\n",
            "Optimization Iteration:    500, Training Accuracy:  62.7%\n",
            "Optimization Iteration:    599, Training Accuracy:  62.7%\n",
            "Time usage: 0:00:05\n",
            "Noise:\n",
            "- Min: -0.35\n",
            "- Max: 0.35\n",
            "- Std: 0.2712551\n",
            "\n",
            "Accuracy on Test-Set: 47.1% (4713 / 10000)\n",
            "\n",
            "Making the neural network immune to the noise ...\n",
            "Optimization Iteration:      0, Training Accuracy:  46.0%\n"
          ]
        },
        {
          "output_type": "stream",
          "name": "stderr",
          "text": [
            "/usr/local/lib/python3.7/dist-packages/ipykernel_launcher.py:12: DeprecationWarning: `np.int` is a deprecated alias for the builtin `int`. To silence this warning, use `int` by itself. Doing this will not modify any behavior and is safe. When replacing `np.int`, you may wish to use e.g. `np.int64` or `np.int32` to specify the precision. If you wish to review your current use, check the release note link for additional information.\n",
            "Deprecated in NumPy 1.20; for more details and guidance: https://numpy.org/devdocs/release/1.20.0-notes.html#deprecations\n",
            "  if sys.path[0] == '':\n"
          ]
        },
        {
          "output_type": "stream",
          "name": "stdout",
          "text": [
            "Optimization Iteration:    100, Training Accuracy:  86.3%\n",
            "Optimization Iteration:    200, Training Accuracy:  93.7%\n",
            "Optimization Iteration:    300, Training Accuracy:  92.7%\n",
            "Optimization Iteration:    399, Training Accuracy:  90.7%\n",
            "Time usage: 0:00:03\n",
            "\n",
            "Accuracy on Test-Set: 92.4% (9243 / 10000)\n"
          ]
        },
        {
          "output_type": "display_data",
          "data": {
            "text/plain": [
              "<Figure size 432x288 with 1 Axes>"
            ],
            "image/png": "[encoded data removed]"
          },
          "metadata": {
            "needs_background": "light"
          }
        }
      ]
    },
    {
      "cell_type": "code",
      "source": [
        "make_immune(target_cls=2)"
      ],
      "metadata": {
        "colab": {
          "base_uri": "https://localhost:8080/",
          "height": 789
        },
        "id": "zTPmspRVoVCt",
        "outputId": "94662744-0a0c-44cc-ec5c-a0ea4e8e8ddb"
      },
      "execution_count": null,
      "outputs": [
        {
          "output_type": "stream",
          "name": "stdout",
          "text": [
            "Target-class: 2\n",
            "Finding adversarial noise ...\n",
            "Optimization Iteration:      0, Training Accuracy:   8.7%\n",
            "Optimization Iteration:    100, Training Accuracy:  25.7%\n",
            "Optimization Iteration:    200, Training Accuracy:  26.0%\n",
            "Optimization Iteration:    300, Training Accuracy:  20.3%\n",
            "Optimization Iteration:    400, Training Accuracy:  27.3%\n",
            "Optimization Iteration:    500, Training Accuracy:  25.3%\n",
            "Optimization Iteration:    599, Training Accuracy:  21.7%\n",
            "Time usage: 0:00:05\n",
            "Noise:\n",
            "- Min: -0.35\n",
            "- Max: 0.35\n",
            "- Std: 0.2648481\n",
            "\n",
            "Accuracy on Test-Set: 74.9% (7489 / 10000)\n",
            "\n",
            "Making the neural network immune to the noise ...\n",
            "Optimization Iteration:      0, Training Accuracy:  73.0%\n"
          ]
        },
        {
          "output_type": "stream",
          "name": "stderr",
          "text": [
            "/usr/local/lib/python3.7/dist-packages/ipykernel_launcher.py:12: DeprecationWarning: `np.int` is a deprecated alias for the builtin `int`. To silence this warning, use `int` by itself. Doing this will not modify any behavior and is safe. When replacing `np.int`, you may wish to use e.g. `np.int64` or `np.int32` to specify the precision. If you wish to review your current use, check the release note link for additional information.\n",
            "Deprecated in NumPy 1.20; for more details and guidance: https://numpy.org/devdocs/release/1.20.0-notes.html#deprecations\n",
            "  if sys.path[0] == '':\n"
          ]
        },
        {
          "output_type": "stream",
          "name": "stdout",
          "text": [
            "Optimization Iteration:    100, Training Accuracy:  92.7%\n",
            "Optimization Iteration:    200, Training Accuracy:  93.7%\n",
            "Optimization Iteration:    300, Training Accuracy:  92.7%\n",
            "Optimization Iteration:    399, Training Accuracy:  91.0%\n",
            "Time usage: 0:00:03\n",
            "\n",
            "Accuracy on Test-Set: 92.7% (9271 / 10000)\n"
          ]
        },
        {
          "output_type": "display_data",
          "data": {
            "text/plain": [
              "<Figure size 432x288 with 1 Axes>"
            ],
            "image/png": "[encoded data removed]"
          },
          "metadata": {
            "needs_background": "light"
          }
        }
      ]
    },
    {
      "cell_type": "code",
      "source": [
        "make_immune(target_cls=2)"
      ],
      "metadata": {
        "colab": {
          "base_uri": "https://localhost:8080/",
          "height": 789
        },
        "id": "Ih4FlQWHoV2j",
        "outputId": "3926eb20-da21-454a-ae24-33a8add2e57d"
      },
      "execution_count": null,
      "outputs": [
        {
          "output_type": "stream",
          "name": "stdout",
          "text": [
            "Target-class: 2\n",
            "Finding adversarial noise ...\n",
            "Optimization Iteration:      0, Training Accuracy:   9.3%\n",
            "Optimization Iteration:    100, Training Accuracy:  13.7%\n",
            "Optimization Iteration:    200, Training Accuracy:  14.7%\n",
            "Optimization Iteration:    300, Training Accuracy:  20.3%\n",
            "Optimization Iteration:    400, Training Accuracy:  12.3%\n",
            "Optimization Iteration:    500, Training Accuracy:  15.7%\n",
            "Optimization Iteration:    599, Training Accuracy:  15.0%\n",
            "Time usage: 0:00:05\n",
            "Noise:\n",
            "- Min: -0.35\n",
            "- Max: 0.35\n",
            "- Std: 0.26118147\n",
            "\n",
            "Accuracy on Test-Set: 86.1% (8613 / 10000)\n",
            "\n",
            "Making the neural network immune to the noise ...\n",
            "Optimization Iteration:      0, Training Accuracy:  83.0%\n"
          ]
        },
        {
          "output_type": "stream",
          "name": "stderr",
          "text": [
            "/usr/local/lib/python3.7/dist-packages/ipykernel_launcher.py:12: DeprecationWarning: `np.int` is a deprecated alias for the builtin `int`. To silence this warning, use `int` by itself. Doing this will not modify any behavior and is safe. When replacing `np.int`, you may wish to use e.g. `np.int64` or `np.int32` to specify the precision. If you wish to review your current use, check the release note link for additional information.\n",
            "Deprecated in NumPy 1.20; for more details and guidance: https://numpy.org/devdocs/release/1.20.0-notes.html#deprecations\n",
            "  if sys.path[0] == '':\n"
          ]
        },
        {
          "output_type": "stream",
          "name": "stdout",
          "text": [
            "Optimization Iteration:    100, Training Accuracy:  93.7%\n",
            "Optimization Iteration:    200, Training Accuracy:  95.7%\n",
            "Optimization Iteration:    300, Training Accuracy:  92.7%\n",
            "Optimization Iteration:    399, Training Accuracy:  94.0%\n",
            "Time usage: 0:00:03\n",
            "\n",
            "Accuracy on Test-Set: 93.2% (9319 / 10000)\n"
          ]
        },
        {
          "output_type": "display_data",
          "data": {
            "text/plain": [
              "<Figure size 432x288 with 1 Axes>"
            ],
            "image/png": "[encoded data removed]"
          },
          "metadata": {
            "needs_background": "light"
          }
        }
      ]
    },
    {
      "cell_type": "code",
      "source": [
        "make_immune(target_cls=2)"
      ],
      "metadata": {
        "colab": {
          "base_uri": "https://localhost:8080/",
          "height": 789
        },
        "id": "tEb40zdyoWqc",
        "outputId": "de4eeedf-884e-4fcf-fef1-fc1d1674c188"
      },
      "execution_count": null,
      "outputs": [
        {
          "output_type": "stream",
          "name": "stdout",
          "text": [
            "Target-class: 2\n",
            "Finding adversarial noise ...\n",
            "Optimization Iteration:      0, Training Accuracy:   8.0%\n",
            "Optimization Iteration:    100, Training Accuracy:  16.0%\n",
            "Optimization Iteration:    200, Training Accuracy:  14.7%\n",
            "Optimization Iteration:    300, Training Accuracy:  17.7%\n",
            "Optimization Iteration:    400, Training Accuracy:  15.3%\n",
            "Optimization Iteration:    500, Training Accuracy:  13.7%\n",
            "Optimization Iteration:    599, Training Accuracy:  15.3%\n",
            "Time usage: 0:00:05\n",
            "Noise:\n",
            "- Min: -0.35\n",
            "- Max: 0.35\n",
            "- Std: 0.26013348\n",
            "\n",
            "Accuracy on Test-Set: 87.2% (8721 / 10000)\n",
            "\n",
            "Making the neural network immune to the noise ...\n",
            "Optimization Iteration:      0, Training Accuracy:  88.3%\n"
          ]
        },
        {
          "output_type": "stream",
          "name": "stderr",
          "text": [
            "/usr/local/lib/python3.7/dist-packages/ipykernel_launcher.py:12: DeprecationWarning: `np.int` is a deprecated alias for the builtin `int`. To silence this warning, use `int` by itself. Doing this will not modify any behavior and is safe. When replacing `np.int`, you may wish to use e.g. `np.int64` or `np.int32` to specify the precision. If you wish to review your current use, check the release note link for additional information.\n",
            "Deprecated in NumPy 1.20; for more details and guidance: https://numpy.org/devdocs/release/1.20.0-notes.html#deprecations\n",
            "  if sys.path[0] == '':\n"
          ]
        },
        {
          "output_type": "stream",
          "name": "stdout",
          "text": [
            "Optimization Iteration:    100, Training Accuracy:  92.7%\n",
            "Optimization Iteration:    200, Training Accuracy:  95.0%\n",
            "Optimization Iteration:    300, Training Accuracy:  91.0%\n",
            "Optimization Iteration:    399, Training Accuracy:  92.3%\n",
            "Time usage: 0:00:03\n",
            "\n",
            "Accuracy on Test-Set: 93.5% (9351 / 10000)\n"
          ]
        },
        {
          "output_type": "display_data",
          "data": {
            "text/plain": [
              "<Figure size 432x288 with 1 Axes>"
            ],
            "image/png": "[encoded data removed]"
          },
          "metadata": {
            "needs_background": "light"
          }
        }
      ]
    },
    {
      "cell_type": "markdown",
      "metadata": {
        "id": "PUeN29InuUo8"
      },
      "source": [
        "### Make immune to noise for all target-classes\n",
        "\n",
        "Now try and make the neural network immune to adversarial noise for all target-classes."
      ]
    },
    {
      "cell_type": "code",
      "execution_count": null,
      "metadata": {
        "id": "_3QeJDJ8uUo8",
        "outputId": "09f95b42-7302-478d-d30a-e58e28ffe606",
        "colab": {
          "base_uri": "https://localhost:8080/",
          "height": 1000
        }
      },
      "outputs": [
        {
          "output_type": "stream",
          "name": "stdout",
          "text": [
            "Target-class: 0\n",
            "Finding adversarial noise ...\n",
            "Optimization Iteration:      0, Training Accuracy:   9.7%\n",
            "Optimization Iteration:    100, Training Accuracy:  95.0%\n",
            "Optimization Iteration:    200, Training Accuracy:  94.7%\n",
            "Optimization Iteration:    300, Training Accuracy:  95.3%\n",
            "Optimization Iteration:    400, Training Accuracy:  98.3%\n",
            "Optimization Iteration:    500, Training Accuracy:  97.3%\n",
            "Optimization Iteration:    599, Training Accuracy:  94.7%\n",
            "Time usage: 0:00:05\n",
            "Noise:\n",
            "- Min: -0.35\n",
            "- Max: 0.35\n",
            "- Std: 0.20397197\n",
            "\n",
            "Accuracy on Test-Set: 13.2% (1318 / 10000)\n",
            "\n",
            "Making the neural network immune to the noise ...\n",
            "Optimization Iteration:      0, Training Accuracy:  15.0%\n"
          ]
        },
        {
          "output_type": "stream",
          "name": "stderr",
          "text": [
            "/usr/local/lib/python3.7/dist-packages/ipykernel_launcher.py:12: DeprecationWarning: `np.int` is a deprecated alias for the builtin `int`. To silence this warning, use `int` by itself. Doing this will not modify any behavior and is safe. When replacing `np.int`, you may wish to use e.g. `np.int64` or `np.int32` to specify the precision. If you wish to review your current use, check the release note link for additional information.\n",
            "Deprecated in NumPy 1.20; for more details and guidance: https://numpy.org/devdocs/release/1.20.0-notes.html#deprecations\n",
            "  if sys.path[0] == '':\n"
          ]
        },
        {
          "output_type": "stream",
          "name": "stdout",
          "text": [
            "Optimization Iteration:    100, Training Accuracy:  93.7%\n",
            "Optimization Iteration:    200, Training Accuracy:  94.3%\n",
            "Optimization Iteration:    300, Training Accuracy:  95.3%\n",
            "Optimization Iteration:    399, Training Accuracy:  91.3%\n",
            "Time usage: 0:00:03\n",
            "\n",
            "Accuracy on Test-Set: 94.0% (9401 / 10000)\n",
            "\n",
            "Target-class: 1\n",
            "Finding adversarial noise ...\n",
            "Optimization Iteration:      0, Training Accuracy:  12.3%\n",
            "Optimization Iteration:    100, Training Accuracy:  90.7%\n",
            "Optimization Iteration:    200, Training Accuracy:  93.7%\n",
            "Optimization Iteration:    300, Training Accuracy:  93.7%\n",
            "Optimization Iteration:    400, Training Accuracy:  95.0%\n",
            "Optimization Iteration:    500, Training Accuracy:  93.3%\n",
            "Optimization Iteration:    599, Training Accuracy:  93.0%\n",
            "Time usage: 0:00:05\n",
            "Noise:\n",
            "- Min: -0.35\n",
            "- Max: 0.35\n",
            "- Std: 0.24512891\n",
            "\n",
            "Accuracy on Test-Set: 16.1% (1605 / 10000)\n",
            "\n",
            "Making the neural network immune to the noise ...\n",
            "Optimization Iteration:      0, Training Accuracy:  14.7%\n",
            "Optimization Iteration:    100, Training Accuracy:  93.3%\n",
            "Optimization Iteration:    200, Training Accuracy:  96.0%\n",
            "Optimization Iteration:    300, Training Accuracy:  95.7%\n",
            "Optimization Iteration:    399, Training Accuracy:  94.0%\n",
            "Time usage: 0:00:03\n",
            "\n",
            "Accuracy on Test-Set: 94.2% (9422 / 10000)\n",
            "\n",
            "Target-class: 2\n",
            "Finding adversarial noise ...\n",
            "Optimization Iteration:      0, Training Accuracy:   7.0%\n",
            "Optimization Iteration:    100, Training Accuracy:  62.3%\n",
            "Optimization Iteration:    200, Training Accuracy:  74.0%\n",
            "Optimization Iteration:    300, Training Accuracy:  72.3%\n",
            "Optimization Iteration:    400, Training Accuracy:  77.7%\n",
            "Optimization Iteration:    500, Training Accuracy:  75.0%\n",
            "Optimization Iteration:    599, Training Accuracy:  74.3%\n",
            "Time usage: 0:00:05\n",
            "Noise:\n",
            "- Min: -0.35\n",
            "- Max: 0.35\n",
            "- Std: 0.25653487\n",
            "\n",
            "Accuracy on Test-Set: 35.7% (3573 / 10000)\n",
            "\n",
            "Making the neural network immune to the noise ...\n",
            "Optimization Iteration:      0, Training Accuracy:  34.7%\n",
            "Optimization Iteration:    100, Training Accuracy:  96.7%\n",
            "Optimization Iteration:    200, Training Accuracy:  94.7%\n",
            "Optimization Iteration:    300, Training Accuracy:  96.3%\n",
            "Optimization Iteration:    399, Training Accuracy:  95.7%\n",
            "Time usage: 0:00:03\n",
            "\n",
            "Accuracy on Test-Set: 94.2% (9420 / 10000)\n",
            "\n",
            "Target-class: 3\n",
            "Finding adversarial noise ...\n",
            "Optimization Iteration:      0, Training Accuracy:   9.3%\n",
            "Optimization Iteration:    100, Training Accuracy:  98.3%\n",
            "Optimization Iteration:    200, Training Accuracy:  97.7%\n",
            "Optimization Iteration:    300, Training Accuracy:  97.3%\n",
            "Optimization Iteration:    400, Training Accuracy:  98.3%\n",
            "Optimization Iteration:    500, Training Accuracy:  97.0%\n",
            "Optimization Iteration:    599, Training Accuracy:  98.0%\n",
            "Time usage: 0:00:05\n",
            "Noise:\n",
            "- Min: -0.35\n",
            "- Max: 0.35\n",
            "- Std: 0.18646142\n",
            "\n",
            "Accuracy on Test-Set: 12.2% (1219 / 10000)\n",
            "\n",
            "Making the neural network immune to the noise ...\n",
            "Optimization Iteration:      0, Training Accuracy:  13.3%\n",
            "Optimization Iteration:    100, Training Accuracy:  91.7%\n",
            "Optimization Iteration:    200, Training Accuracy:  94.0%\n",
            "Optimization Iteration:    300, Training Accuracy:  94.3%\n",
            "Optimization Iteration:    399, Training Accuracy:  95.0%\n",
            "Time usage: 0:00:03\n",
            "\n",
            "Accuracy on Test-Set: 93.8% (9385 / 10000)\n",
            "\n",
            "Target-class: 4\n",
            "Finding adversarial noise ...\n",
            "Optimization Iteration:      0, Training Accuracy:   6.3%\n",
            "Optimization Iteration:    100, Training Accuracy:  99.3%\n",
            "Optimization Iteration:    200, Training Accuracy:  97.3%\n",
            "Optimization Iteration:    300, Training Accuracy:  97.7%\n",
            "Optimization Iteration:    400, Training Accuracy:  99.0%\n",
            "Optimization Iteration:    500, Training Accuracy:  98.7%\n",
            "Optimization Iteration:    599, Training Accuracy:  99.0%\n",
            "Time usage: 0:00:05\n",
            "Noise:\n",
            "- Min: -0.35\n",
            "- Max: 0.35\n",
            "- Std: 0.14315617\n",
            "\n",
            "Accuracy on Test-Set: 10.8% (1085 / 10000)\n",
            "\n",
            "Making the neural network immune to the noise ...\n",
            "Optimization Iteration:      0, Training Accuracy:  11.0%\n",
            "Optimization Iteration:    100, Training Accuracy:  94.0%\n",
            "Optimization Iteration:    200, Training Accuracy:  93.0%\n",
            "Optimization Iteration:    300, Training Accuracy:  93.3%\n",
            "Optimization Iteration:    399, Training Accuracy:  95.0%\n",
            "Time usage: 0:00:03\n",
            "\n",
            "Accuracy on Test-Set: 94.2% (9419 / 10000)\n",
            "\n",
            "Target-class: 5\n",
            "Finding adversarial noise ...\n",
            "Optimization Iteration:      0, Training Accuracy:   9.7%\n",
            "Optimization Iteration:    100, Training Accuracy:  98.0%\n",
            "Optimization Iteration:    200, Training Accuracy:  98.7%\n",
            "Optimization Iteration:    300, Training Accuracy:  98.3%\n",
            "Optimization Iteration:    400, Training Accuracy:  98.0%\n",
            "Optimization Iteration:    500, Training Accuracy:  99.7%\n",
            "Optimization Iteration:    599, Training Accuracy:  98.0%\n",
            "Time usage: 0:00:05\n",
            "Noise:\n",
            "- Min: -0.35\n",
            "- Max: 0.35\n",
            "- Std: 0.14327645\n",
            "\n",
            "Accuracy on Test-Set: 10.5% (1049 / 10000)\n",
            "\n",
            "Making the neural network immune to the noise ...\n",
            "Optimization Iteration:      0, Training Accuracy:  11.0%\n",
            "Optimization Iteration:    100, Training Accuracy:  92.7%\n",
            "Optimization Iteration:    200, Training Accuracy:  91.3%\n",
            "Optimization Iteration:    300, Training Accuracy:  97.3%\n",
            "Optimization Iteration:    399, Training Accuracy:  93.7%\n",
            "Time usage: 0:00:03\n",
            "\n",
            "Accuracy on Test-Set: 94.1% (9406 / 10000)\n",
            "\n",
            "Target-class: 6\n",
            "Finding adversarial noise ...\n",
            "Optimization Iteration:      0, Training Accuracy:  10.3%\n",
            "Optimization Iteration:    100, Training Accuracy:  98.0%\n",
            "Optimization Iteration:    200, Training Accuracy:  96.3%\n",
            "Optimization Iteration:    300, Training Accuracy:  98.3%\n",
            "Optimization Iteration:    400, Training Accuracy:  95.0%\n",
            "Optimization Iteration:    500, Training Accuracy:  98.7%\n",
            "Optimization Iteration:    599, Training Accuracy:  99.0%\n",
            "Time usage: 0:00:05\n",
            "Noise:\n",
            "- Min: -0.35\n",
            "- Max: 0.35\n",
            "- Std: 0.17523989\n",
            "\n",
            "Accuracy on Test-Set: 11.0% (1100 / 10000)\n",
            "\n",
            "Making the neural network immune to the noise ...\n",
            "Optimization Iteration:      0, Training Accuracy:  10.7%\n",
            "Optimization Iteration:    100, Training Accuracy:  93.0%\n",
            "Optimization Iteration:    200, Training Accuracy:  92.7%\n",
            "Optimization Iteration:    300, Training Accuracy:  93.7%\n",
            "Optimization Iteration:    399, Training Accuracy:  94.0%\n",
            "Time usage: 0:00:03\n",
            "\n",
            "Accuracy on Test-Set: 94.2% (9416 / 10000)\n",
            "\n",
            "Target-class: 7\n",
            "Finding adversarial noise ...\n",
            "Optimization Iteration:      0, Training Accuracy:  11.3%\n",
            "Optimization Iteration:    100, Training Accuracy:  99.3%\n",
            "Optimization Iteration:    200, Training Accuracy: 100.0%\n",
            "Optimization Iteration:    300, Training Accuracy:  99.0%\n",
            "Optimization Iteration:    400, Training Accuracy:  99.3%\n",
            "Optimization Iteration:    500, Training Accuracy:  99.7%\n",
            "Optimization Iteration:    599, Training Accuracy:  99.0%\n",
            "Time usage: 0:00:05\n",
            "Noise:\n",
            "- Min: -0.27712813\n",
            "- Max: 0.35\n",
            "- Std: 0.104665264\n",
            "\n",
            "Accuracy on Test-Set: 10.8% (1083 / 10000)\n",
            "\n",
            "Making the neural network immune to the noise ...\n",
            "Optimization Iteration:      0, Training Accuracy:  12.0%\n",
            "Optimization Iteration:    100, Training Accuracy:  91.3%\n",
            "Optimization Iteration:    200, Training Accuracy:  94.0%\n",
            "Optimization Iteration:    300, Training Accuracy:  92.3%\n",
            "Optimization Iteration:    399, Training Accuracy:  95.3%\n",
            "Time usage: 0:00:03\n",
            "\n",
            "Accuracy on Test-Set: 94.1% (9414 / 10000)\n",
            "\n",
            "Target-class: 8\n",
            "Finding adversarial noise ...\n",
            "Optimization Iteration:      0, Training Accuracy:   9.0%\n",
            "Optimization Iteration:    100, Training Accuracy:  98.3%\n",
            "Optimization Iteration:    200, Training Accuracy:  96.7%\n",
            "Optimization Iteration:    300, Training Accuracy:  97.7%\n",
            "Optimization Iteration:    400, Training Accuracy:  97.0%\n",
            "Optimization Iteration:    500, Training Accuracy:  99.0%\n",
            "Optimization Iteration:    599, Training Accuracy:  98.0%\n",
            "Time usage: 0:00:05\n",
            "Noise:\n",
            "- Min: -0.35\n",
            "- Max: 0.35\n",
            "- Std: 0.16070959\n",
            "\n",
            "Accuracy on Test-Set: 11.9% (1189 / 10000)\n",
            "\n",
            "Making the neural network immune to the noise ...\n",
            "Optimization Iteration:      0, Training Accuracy:  15.0%\n",
            "Optimization Iteration:    100, Training Accuracy:  95.0%\n",
            "Optimization Iteration:    200, Training Accuracy:  90.7%\n",
            "Optimization Iteration:    300, Training Accuracy:  96.3%\n",
            "Optimization Iteration:    399, Training Accuracy:  95.0%\n",
            "Time usage: 0:00:03\n",
            "\n",
            "Accuracy on Test-Set: 94.3% (9432 / 10000)\n",
            "\n",
            "Target-class: 9\n",
            "Finding adversarial noise ...\n",
            "Optimization Iteration:      0, Training Accuracy:   9.7%\n",
            "Optimization Iteration:    100, Training Accuracy:  91.0%\n",
            "Optimization Iteration:    200, Training Accuracy:  93.7%\n",
            "Optimization Iteration:    300, Training Accuracy:  93.0%\n",
            "Optimization Iteration:    400, Training Accuracy:  95.7%\n",
            "Optimization Iteration:    500, Training Accuracy:  92.0%\n",
            "Optimization Iteration:    599, Training Accuracy:  93.0%\n",
            "Time usage: 0:00:05\n",
            "Noise:\n",
            "- Min: -0.35\n",
            "- Max: 0.35\n",
            "- Std: 0.2423044\n",
            "\n",
            "Accuracy on Test-Set: 17.8% (1784 / 10000)\n",
            "\n",
            "Making the neural network immune to the noise ...\n",
            "Optimization Iteration:      0, Training Accuracy:  20.7%\n",
            "Optimization Iteration:    100, Training Accuracy:  93.3%\n",
            "Optimization Iteration:    200, Training Accuracy:  94.3%\n",
            "Optimization Iteration:    300, Training Accuracy:  94.3%\n",
            "Optimization Iteration:    399, Training Accuracy:  93.7%\n",
            "Time usage: 0:00:03\n",
            "\n",
            "Accuracy on Test-Set: 94.2% (9417 / 10000)\n",
            "\n"
          ]
        },
        {
          "output_type": "display_data",
          "data": {
            "text/plain": [
              "<Figure size 432x288 with 1 Axes>"
            ],
            "image/png": "[encoded data removed]"
          },
          "metadata": {
            "needs_background": "light"
          }
        }
      ],
      "source": [
        "for i in range(10):\n",
        "    make_immune(target_cls=i)\n",
        "    \n",
        "    # Print newline.\n",
        "    print()"
      ]
    },
    {
      "cell_type": "markdown",
      "metadata": {
        "id": "FEod5rvuuUo9"
      },
      "source": [
        "### Make immune to all target-classes (double runs)\n",
        "\n",
        "Now try and use double-runs to make the neural network immune to adversarial noise for all target-classes. Unfortunately this does not seem to work so well.\n",
        "\n",
        "Making the neural network immune to one adversarial target-class appears to cancel the immunity towards the other target-classes."
      ]
    },
    {
      "cell_type": "code",
      "execution_count": null,
      "metadata": {
        "id": "a162nq0auUo9",
        "outputId": "5dfd2cf4-0ebb-4a59-9b3c-e84093327efb",
        "colab": {
          "base_uri": "https://localhost:8080/",
          "height": 1000
        }
      },
      "outputs": [
        {
          "output_type": "stream",
          "name": "stdout",
          "text": [
            "Target-class: 0\n",
            "Finding adversarial noise ...\n",
            "Optimization Iteration:      0, Training Accuracy:  10.3%\n",
            "Optimization Iteration:    100, Training Accuracy:  98.3%\n",
            "Optimization Iteration:    200, Training Accuracy:  97.7%\n",
            "Optimization Iteration:    300, Training Accuracy:  98.7%\n",
            "Optimization Iteration:    400, Training Accuracy:  98.7%\n",
            "Optimization Iteration:    500, Training Accuracy:  98.3%\n",
            "Optimization Iteration:    599, Training Accuracy:  99.3%\n",
            "Time usage: 0:00:05\n",
            "Noise:\n",
            "- Min: -0.35\n",
            "- Max: 0.35\n",
            "- Std: 0.15701647\n",
            "\n",
            "Accuracy on Test-Set: 11.5% (1154 / 10000)\n",
            "\n",
            "Making the neural network immune to the noise ...\n",
            "Optimization Iteration:      0, Training Accuracy:   7.7%\n"
          ]
        },
        {
          "output_type": "stream",
          "name": "stderr",
          "text": [
            "/usr/local/lib/python3.7/dist-packages/ipykernel_launcher.py:12: DeprecationWarning: `np.int` is a deprecated alias for the builtin `int`. To silence this warning, use `int` by itself. Doing this will not modify any behavior and is safe. When replacing `np.int`, you may wish to use e.g. `np.int64` or `np.int32` to specify the precision. If you wish to review your current use, check the release note link for additional information.\n",
            "Deprecated in NumPy 1.20; for more details and guidance: https://numpy.org/devdocs/release/1.20.0-notes.html#deprecations\n",
            "  if sys.path[0] == '':\n"
          ]
        },
        {
          "output_type": "stream",
          "name": "stdout",
          "text": [
            "Optimization Iteration:    100, Training Accuracy:  92.7%\n",
            "Optimization Iteration:    200, Training Accuracy:  94.7%\n",
            "Optimization Iteration:    300, Training Accuracy:  95.7%\n",
            "Optimization Iteration:    399, Training Accuracy:  93.3%\n",
            "Time usage: 0:00:03\n",
            "\n",
            "Accuracy on Test-Set: 94.5% (9450 / 10000)\n",
            "\n",
            "Target-class: 0\n",
            "Finding adversarial noise ...\n",
            "Optimization Iteration:      0, Training Accuracy:  11.7%\n",
            "Optimization Iteration:    100, Training Accuracy:  16.7%\n",
            "Optimization Iteration:    200, Training Accuracy:  17.3%\n",
            "Optimization Iteration:    300, Training Accuracy:  14.3%\n",
            "Optimization Iteration:    400, Training Accuracy:  20.7%\n",
            "Optimization Iteration:    500, Training Accuracy:  17.7%\n",
            "Optimization Iteration:    599, Training Accuracy:  17.0%\n",
            "Time usage: 0:00:05\n",
            "Noise:\n",
            "- Min: -0.35\n",
            "- Max: 0.35\n",
            "- Std: 0.2692679\n",
            "\n",
            "Accuracy on Test-Set: 84.4% (8443 / 10000)\n",
            "\n",
            "Making the neural network immune to the noise ...\n",
            "Optimization Iteration:      0, Training Accuracy:  86.0%\n",
            "Optimization Iteration:    100, Training Accuracy:  97.0%\n",
            "Optimization Iteration:    200, Training Accuracy:  92.0%\n",
            "Optimization Iteration:    300, Training Accuracy:  95.7%\n",
            "Optimization Iteration:    399, Training Accuracy:  96.7%\n",
            "Time usage: 0:00:03\n",
            "\n",
            "Accuracy on Test-Set: 94.8% (9484 / 10000)\n",
            "\n",
            "Target-class: 1\n",
            "Finding adversarial noise ...\n",
            "Optimization Iteration:      0, Training Accuracy:  14.3%\n",
            "Optimization Iteration:    100, Training Accuracy:  84.3%\n",
            "Optimization Iteration:    200, Training Accuracy:  93.3%\n",
            "Optimization Iteration:    300, Training Accuracy:  92.7%\n",
            "Optimization Iteration:    400, Training Accuracy:  93.7%\n",
            "Optimization Iteration:    500, Training Accuracy:  94.7%\n",
            "Optimization Iteration:    599, Training Accuracy:  94.3%\n",
            "Time usage: 0:00:05\n",
            "Noise:\n",
            "- Min: -0.35\n",
            "- Max: 0.35\n",
            "- Std: 0.2297091\n",
            "\n",
            "Accuracy on Test-Set: 15.8% (1579 / 10000)\n",
            "\n",
            "Making the neural network immune to the noise ...\n",
            "Optimization Iteration:      0, Training Accuracy:  18.7%\n",
            "Optimization Iteration:    100, Training Accuracy:  96.0%\n",
            "Optimization Iteration:    200, Training Accuracy:  92.0%\n",
            "Optimization Iteration:    300, Training Accuracy:  94.3%\n",
            "Optimization Iteration:    399, Training Accuracy:  98.0%\n",
            "Time usage: 0:00:03\n",
            "\n",
            "Accuracy on Test-Set: 95.0% (9495 / 10000)\n",
            "\n",
            "Target-class: 1\n",
            "Finding adversarial noise ...\n",
            "Optimization Iteration:      0, Training Accuracy:  15.0%\n",
            "Optimization Iteration:    100, Training Accuracy:  17.7%\n",
            "Optimization Iteration:    200, Training Accuracy:  16.0%\n",
            "Optimization Iteration:    300, Training Accuracy:  18.7%\n",
            "Optimization Iteration:    400, Training Accuracy:  20.7%\n",
            "Optimization Iteration:    500, Training Accuracy:  17.7%\n",
            "Optimization Iteration:    599, Training Accuracy:  16.7%\n",
            "Time usage: 0:00:05\n",
            "Noise:\n",
            "- Min: -0.35\n",
            "- Max: 0.35\n",
            "- Std: 0.2513969\n",
            "\n",
            "Accuracy on Test-Set: 79.4% (7942 / 10000)\n",
            "\n",
            "Making the neural network immune to the noise ...\n",
            "Optimization Iteration:      0, Training Accuracy:  76.0%\n",
            "Optimization Iteration:    100, Training Accuracy:  91.3%\n",
            "Optimization Iteration:    200, Training Accuracy:  94.3%\n",
            "Optimization Iteration:    300, Training Accuracy:  92.7%\n",
            "Optimization Iteration:    399, Training Accuracy:  96.7%\n",
            "Time usage: 0:00:03\n",
            "\n",
            "Accuracy on Test-Set: 95.0% (9495 / 10000)\n",
            "\n",
            "Target-class: 2\n",
            "Finding adversarial noise ...\n",
            "Optimization Iteration:      0, Training Accuracy:  10.3%\n",
            "Optimization Iteration:    100, Training Accuracy:  89.3%\n",
            "Optimization Iteration:    200, Training Accuracy:  93.7%\n",
            "Optimization Iteration:    300, Training Accuracy:  95.0%\n",
            "Optimization Iteration:    400, Training Accuracy:  94.0%\n",
            "Optimization Iteration:    500, Training Accuracy:  96.3%\n",
            "Optimization Iteration:    599, Training Accuracy:  98.3%\n",
            "Time usage: 0:00:05\n",
            "Noise:\n",
            "- Min: -0.35\n",
            "- Max: 0.35\n",
            "- Std: 0.20263997\n",
            "\n",
            "Accuracy on Test-Set: 14.0% (1401 / 10000)\n",
            "\n",
            "Making the neural network immune to the noise ...\n",
            "Optimization Iteration:      0, Training Accuracy:  13.7%\n",
            "Optimization Iteration:    100, Training Accuracy:  96.0%\n",
            "Optimization Iteration:    200, Training Accuracy:  94.3%\n",
            "Optimization Iteration:    300, Training Accuracy:  93.7%\n",
            "Optimization Iteration:    399, Training Accuracy:  94.3%\n",
            "Time usage: 0:00:03\n",
            "\n",
            "Accuracy on Test-Set: 94.9% (9489 / 10000)\n",
            "\n",
            "Target-class: 2\n",
            "Finding adversarial noise ...\n",
            "Optimization Iteration:      0, Training Accuracy:   9.3%\n",
            "Optimization Iteration:    100, Training Accuracy:  23.7%\n",
            "Optimization Iteration:    200, Training Accuracy:  36.7%\n",
            "Optimization Iteration:    300, Training Accuracy:  31.3%\n",
            "Optimization Iteration:    400, Training Accuracy:  33.7%\n",
            "Optimization Iteration:    500, Training Accuracy:  31.7%\n",
            "Optimization Iteration:    599, Training Accuracy:  34.7%\n",
            "Time usage: 0:00:05\n",
            "Noise:\n",
            "- Min: -0.35\n",
            "- Max: 0.35\n",
            "- Std: 0.2707394\n",
            "\n",
            "Accuracy on Test-Set: 70.2% (7017 / 10000)\n",
            "\n",
            "Making the neural network immune to the noise ...\n",
            "Optimization Iteration:      0, Training Accuracy:  72.0%\n",
            "Optimization Iteration:    100, Training Accuracy:  94.7%\n",
            "Optimization Iteration:    200, Training Accuracy:  95.7%\n",
            "Optimization Iteration:    300, Training Accuracy:  95.7%\n",
            "Optimization Iteration:    399, Training Accuracy:  94.3%\n",
            "Time usage: 0:00:03\n",
            "\n",
            "Accuracy on Test-Set: 94.9% (9486 / 10000)\n",
            "\n",
            "Target-class: 3\n",
            "Finding adversarial noise ...\n",
            "Optimization Iteration:      0, Training Accuracy:   9.0%\n",
            "Optimization Iteration:    100, Training Accuracy:  93.0%\n",
            "Optimization Iteration:    200, Training Accuracy:  97.3%\n",
            "Optimization Iteration:    300, Training Accuracy:  97.0%\n",
            "Optimization Iteration:    400, Training Accuracy:  97.7%\n",
            "Optimization Iteration:    500, Training Accuracy:  97.3%\n",
            "Optimization Iteration:    599, Training Accuracy:  96.0%\n",
            "Time usage: 0:00:05\n",
            "Noise:\n",
            "- Min: -0.35\n",
            "- Max: 0.35\n",
            "- Std: 0.20367984\n",
            "\n",
            "Accuracy on Test-Set: 12.4% (1237 / 10000)\n",
            "\n",
            "Making the neural network immune to the noise ...\n",
            "Optimization Iteration:      0, Training Accuracy:  13.3%\n",
            "Optimization Iteration:    100, Training Accuracy:  91.7%\n",
            "Optimization Iteration:    200, Training Accuracy:  94.7%\n",
            "Optimization Iteration:    300, Training Accuracy:  93.7%\n",
            "Optimization Iteration:    399, Training Accuracy:  95.3%\n",
            "Time usage: 0:00:03\n",
            "\n",
            "Accuracy on Test-Set: 94.6% (9461 / 10000)\n",
            "\n",
            "Target-class: 3\n",
            "Finding adversarial noise ...\n",
            "Optimization Iteration:      0, Training Accuracy:   9.7%\n",
            "Optimization Iteration:    100, Training Accuracy:  17.0%\n",
            "Optimization Iteration:    200, Training Accuracy:  17.0%\n",
            "Optimization Iteration:    300, Training Accuracy:  20.0%\n",
            "Optimization Iteration:    400, Training Accuracy:  22.7%\n",
            "Optimization Iteration:    500, Training Accuracy:  21.7%\n",
            "Optimization Iteration:    599, Training Accuracy:  18.3%\n",
            "Time usage: 0:00:05\n",
            "Noise:\n",
            "- Min: -0.35\n",
            "- Max: 0.35\n",
            "- Std: 0.27073175\n",
            "\n",
            "Accuracy on Test-Set: 85.5% (8545 / 10000)\n",
            "\n",
            "Making the neural network immune to the noise ...\n",
            "Optimization Iteration:      0, Training Accuracy:  85.7%\n",
            "Optimization Iteration:    100, Training Accuracy:  94.3%\n",
            "Optimization Iteration:    200, Training Accuracy:  94.3%\n",
            "Optimization Iteration:    300, Training Accuracy:  94.0%\n",
            "Optimization Iteration:    399, Training Accuracy:  95.7%\n",
            "Time usage: 0:00:03\n",
            "\n",
            "Accuracy on Test-Set: 94.9% (9489 / 10000)\n",
            "\n",
            "Target-class: 4\n",
            "Finding adversarial noise ...\n",
            "Optimization Iteration:      0, Training Accuracy:  12.3%\n",
            "Optimization Iteration:    100, Training Accuracy:  96.0%\n",
            "Optimization Iteration:    200, Training Accuracy:  97.0%\n",
            "Optimization Iteration:    300, Training Accuracy:  98.0%\n",
            "Optimization Iteration:    400, Training Accuracy:  98.3%\n",
            "Optimization Iteration:    500, Training Accuracy:  99.0%\n",
            "Optimization Iteration:    599, Training Accuracy:  99.3%\n",
            "Time usage: 0:00:05\n",
            "Noise:\n",
            "- Min: -0.35\n",
            "- Max: 0.35\n",
            "- Std: 0.16195446\n",
            "\n",
            "Accuracy on Test-Set: 11.3% (1135 / 10000)\n",
            "\n",
            "Making the neural network immune to the noise ...\n",
            "Optimization Iteration:      0, Training Accuracy:  13.3%\n",
            "Optimization Iteration:    100, Training Accuracy:  96.7%\n",
            "Optimization Iteration:    200, Training Accuracy:  96.0%\n",
            "Optimization Iteration:    300, Training Accuracy:  98.0%\n",
            "Optimization Iteration:    399, Training Accuracy:  97.3%\n",
            "Time usage: 0:00:03\n",
            "\n",
            "Accuracy on Test-Set: 95.0% (9504 / 10000)\n",
            "\n",
            "Target-class: 4\n",
            "Finding adversarial noise ...\n",
            "Optimization Iteration:      0, Training Accuracy:  10.3%\n",
            "Optimization Iteration:    100, Training Accuracy:  34.7%\n",
            "Optimization Iteration:    200, Training Accuracy:  40.0%\n",
            "Optimization Iteration:    300, Training Accuracy:  36.3%\n",
            "Optimization Iteration:    400, Training Accuracy:  40.0%\n",
            "Optimization Iteration:    500, Training Accuracy:  37.3%\n",
            "Optimization Iteration:    599, Training Accuracy:  39.3%\n",
            "Time usage: 0:00:05\n",
            "Noise:\n",
            "- Min: -0.35\n",
            "- Max: 0.35\n",
            "- Std: 0.2664811\n",
            "\n",
            "Accuracy on Test-Set: 61.5% (6148 / 10000)\n",
            "\n",
            "Making the neural network immune to the noise ...\n",
            "Optimization Iteration:      0, Training Accuracy:  63.7%\n",
            "Optimization Iteration:    100, Training Accuracy:  95.0%\n",
            "Optimization Iteration:    200, Training Accuracy:  95.7%\n",
            "Optimization Iteration:    300, Training Accuracy:  95.7%\n",
            "Optimization Iteration:    399, Training Accuracy:  93.0%\n",
            "Time usage: 0:00:03\n",
            "\n",
            "Accuracy on Test-Set: 95.1% (9509 / 10000)\n",
            "\n",
            "Target-class: 5\n",
            "Finding adversarial noise ...\n",
            "Optimization Iteration:      0, Training Accuracy:   7.7%\n",
            "Optimization Iteration:    100, Training Accuracy:  98.7%\n",
            "Optimization Iteration:    200, Training Accuracy:  98.0%\n",
            "Optimization Iteration:    300, Training Accuracy:  98.3%\n",
            "Optimization Iteration:    400, Training Accuracy:  98.7%\n",
            "Optimization Iteration:    500, Training Accuracy:  97.0%\n",
            "Optimization Iteration:    599, Training Accuracy:  99.3%\n",
            "Time usage: 0:00:05\n",
            "Noise:\n",
            "- Min: -0.35\n",
            "- Max: 0.35\n",
            "- Std: 0.15214449\n",
            "\n",
            "Accuracy on Test-Set: 10.5% (1051 / 10000)\n",
            "\n",
            "Making the neural network immune to the noise ...\n",
            "Optimization Iteration:      0, Training Accuracy:  15.0%\n",
            "Optimization Iteration:    100, Training Accuracy:  94.7%\n",
            "Optimization Iteration:    200, Training Accuracy:  96.0%\n",
            "Optimization Iteration:    300, Training Accuracy:  95.3%\n",
            "Optimization Iteration:    399, Training Accuracy:  96.0%\n",
            "Time usage: 0:00:03\n",
            "\n",
            "Accuracy on Test-Set: 95.1% (9506 / 10000)\n",
            "\n",
            "Target-class: 5\n",
            "Finding adversarial noise ...\n",
            "Optimization Iteration:      0, Training Accuracy:  11.0%\n",
            "Optimization Iteration:    100, Training Accuracy:  64.3%\n",
            "Optimization Iteration:    200, Training Accuracy:  64.3%\n",
            "Optimization Iteration:    300, Training Accuracy:  71.7%\n",
            "Optimization Iteration:    400, Training Accuracy:  69.7%\n",
            "Optimization Iteration:    500, Training Accuracy:  76.3%\n",
            "Optimization Iteration:    599, Training Accuracy:  72.0%\n",
            "Time usage: 0:00:05\n",
            "Noise:\n",
            "- Min: -0.35\n",
            "- Max: 0.35\n",
            "- Std: 0.2659841\n",
            "\n",
            "Accuracy on Test-Set: 28.9% (2893 / 10000)\n",
            "\n",
            "Making the neural network immune to the noise ...\n",
            "Optimization Iteration:      0, Training Accuracy:  30.3%\n",
            "Optimization Iteration:    100, Training Accuracy:  95.3%\n",
            "Optimization Iteration:    200, Training Accuracy:  95.7%\n",
            "Optimization Iteration:    300, Training Accuracy:  94.0%\n",
            "Optimization Iteration:    399, Training Accuracy:  95.0%\n",
            "Time usage: 0:00:03\n",
            "\n",
            "Accuracy on Test-Set: 94.7% (9470 / 10000)\n",
            "\n",
            "Target-class: 6\n",
            "Finding adversarial noise ...\n",
            "Optimization Iteration:      0, Training Accuracy:   7.0%\n",
            "Optimization Iteration:    100, Training Accuracy:  88.7%\n",
            "Optimization Iteration:    200, Training Accuracy:  93.0%\n",
            "Optimization Iteration:    300, Training Accuracy:  92.0%\n",
            "Optimization Iteration:    400, Training Accuracy:  92.0%\n",
            "Optimization Iteration:    500, Training Accuracy:  93.7%\n",
            "Optimization Iteration:    599, Training Accuracy:  92.7%\n",
            "Time usage: 0:00:05\n",
            "Noise:\n",
            "- Min: -0.35\n",
            "- Max: 0.35\n",
            "- Std: 0.23758051\n",
            "\n",
            "Accuracy on Test-Set: 15.7% (1570 / 10000)\n",
            "\n",
            "Making the neural network immune to the noise ...\n",
            "Optimization Iteration:      0, Training Accuracy:  18.7%\n",
            "Optimization Iteration:    100, Training Accuracy:  95.0%\n",
            "Optimization Iteration:    200, Training Accuracy:  94.0%\n",
            "Optimization Iteration:    300, Training Accuracy:  94.3%\n",
            "Optimization Iteration:    399, Training Accuracy:  93.3%\n",
            "Time usage: 0:00:03\n",
            "\n",
            "Accuracy on Test-Set: 95.3% (9529 / 10000)\n",
            "\n",
            "Target-class: 6\n",
            "Finding adversarial noise ...\n",
            "Optimization Iteration:      0, Training Accuracy:  12.0%\n",
            "Optimization Iteration:    100, Training Accuracy:  21.7%\n",
            "Optimization Iteration:    200, Training Accuracy:  17.7%\n",
            "Optimization Iteration:    300, Training Accuracy:  22.0%\n",
            "Optimization Iteration:    400, Training Accuracy:  23.3%\n",
            "Optimization Iteration:    500, Training Accuracy:  22.7%\n",
            "Optimization Iteration:    599, Training Accuracy:  25.3%\n",
            "Time usage: 0:00:05\n",
            "Noise:\n",
            "- Min: -0.35\n",
            "- Max: 0.35\n",
            "- Std: 0.2592011\n",
            "\n",
            "Accuracy on Test-Set: 79.6% (7963 / 10000)\n",
            "\n",
            "Making the neural network immune to the noise ...\n",
            "Optimization Iteration:      0, Training Accuracy:  77.0%\n",
            "Optimization Iteration:    100, Training Accuracy:  95.0%\n",
            "Optimization Iteration:    200, Training Accuracy:  96.3%\n",
            "Optimization Iteration:    300, Training Accuracy:  93.7%\n",
            "Optimization Iteration:    399, Training Accuracy:  95.3%\n",
            "Time usage: 0:00:03\n",
            "\n",
            "Accuracy on Test-Set: 95.5% (9547 / 10000)\n",
            "\n",
            "Target-class: 7\n",
            "Finding adversarial noise ...\n",
            "Optimization Iteration:      0, Training Accuracy:  13.3%\n",
            "Optimization Iteration:    100, Training Accuracy:  99.7%\n",
            "Optimization Iteration:    200, Training Accuracy:  97.3%\n",
            "Optimization Iteration:    300, Training Accuracy:  98.7%\n",
            "Optimization Iteration:    400, Training Accuracy:  97.3%\n",
            "Optimization Iteration:    500, Training Accuracy:  98.0%\n",
            "Optimization Iteration:    599, Training Accuracy:  99.3%\n",
            "Time usage: 0:00:05\n",
            "Noise:\n",
            "- Min: -0.35\n",
            "- Max: 0.35\n",
            "- Std: 0.15817879\n",
            "\n",
            "Accuracy on Test-Set: 11.5% (1148 / 10000)\n",
            "\n",
            "Making the neural network immune to the noise ...\n",
            "Optimization Iteration:      0, Training Accuracy:  12.3%\n",
            "Optimization Iteration:    100, Training Accuracy:  94.7%\n",
            "Optimization Iteration:    200, Training Accuracy:  96.0%\n",
            "Optimization Iteration:    300, Training Accuracy:  96.3%\n",
            "Optimization Iteration:    399, Training Accuracy:  96.3%\n",
            "Time usage: 0:00:03\n",
            "\n",
            "Accuracy on Test-Set: 95.3% (9532 / 10000)\n",
            "\n",
            "Target-class: 7\n",
            "Finding adversarial noise ...\n",
            "Optimization Iteration:      0, Training Accuracy:  12.3%\n",
            "Optimization Iteration:    100, Training Accuracy:  56.0%\n",
            "Optimization Iteration:    200, Training Accuracy:  59.3%\n",
            "Optimization Iteration:    300, Training Accuracy:  57.3%\n",
            "Optimization Iteration:    400, Training Accuracy:  59.3%\n",
            "Optimization Iteration:    500, Training Accuracy:  58.3%\n",
            "Optimization Iteration:    599, Training Accuracy:  58.3%\n",
            "Time usage: 0:00:05\n",
            "Noise:\n",
            "- Min: -0.35\n",
            "- Max: 0.35\n",
            "- Std: 0.27854818\n",
            "\n",
            "Accuracy on Test-Set: 44.0% (4400 / 10000)\n",
            "\n",
            "Making the neural network immune to the noise ...\n",
            "Optimization Iteration:      0, Training Accuracy:  42.0%\n",
            "Optimization Iteration:    100, Training Accuracy:  93.7%\n",
            "Optimization Iteration:    200, Training Accuracy:  94.3%\n",
            "Optimization Iteration:    300, Training Accuracy:  93.3%\n",
            "Optimization Iteration:    399, Training Accuracy:  97.0%\n",
            "Time usage: 0:00:03\n",
            "\n",
            "Accuracy on Test-Set: 95.1% (9512 / 10000)\n",
            "\n",
            "Target-class: 8\n",
            "Finding adversarial noise ...\n",
            "Optimization Iteration:      0, Training Accuracy:   9.0%\n",
            "Optimization Iteration:    100, Training Accuracy:  80.3%\n",
            "Optimization Iteration:    200, Training Accuracy:  87.7%\n",
            "Optimization Iteration:    300, Training Accuracy:  95.0%\n",
            "Optimization Iteration:    400, Training Accuracy:  93.7%\n",
            "Optimization Iteration:    500, Training Accuracy:  94.0%\n",
            "Optimization Iteration:    599, Training Accuracy:  93.3%\n",
            "Time usage: 0:00:05\n",
            "Noise:\n",
            "- Min: -0.35\n",
            "- Max: 0.35\n",
            "- Std: 0.21418403\n",
            "\n",
            "Accuracy on Test-Set: 15.9% (1592 / 10000)\n",
            "\n",
            "Making the neural network immune to the noise ...\n",
            "Optimization Iteration:      0, Training Accuracy:  16.7%\n",
            "Optimization Iteration:    100, Training Accuracy:  96.0%\n",
            "Optimization Iteration:    200, Training Accuracy:  96.3%\n",
            "Optimization Iteration:    300, Training Accuracy:  95.0%\n",
            "Optimization Iteration:    399, Training Accuracy:  95.7%\n",
            "Time usage: 0:00:03\n",
            "\n",
            "Accuracy on Test-Set: 95.6% (9556 / 10000)\n",
            "\n",
            "Target-class: 8\n",
            "Finding adversarial noise ...\n",
            "Optimization Iteration:      0, Training Accuracy:   9.0%\n",
            "Optimization Iteration:    100, Training Accuracy:  29.3%\n",
            "Optimization Iteration:    200, Training Accuracy:  25.3%\n",
            "Optimization Iteration:    300, Training Accuracy:  29.7%\n",
            "Optimization Iteration:    400, Training Accuracy:  27.3%\n",
            "Optimization Iteration:    500, Training Accuracy:  29.7%\n",
            "Optimization Iteration:    599, Training Accuracy:  33.3%\n",
            "Time usage: 0:00:05\n",
            "Noise:\n",
            "- Min: -0.35\n",
            "- Max: 0.35\n",
            "- Std: 0.2544355\n",
            "\n",
            "Accuracy on Test-Set: 74.8% (7477 / 10000)\n",
            "\n",
            "Making the neural network immune to the noise ...\n",
            "Optimization Iteration:      0, Training Accuracy:  73.3%\n",
            "Optimization Iteration:    100, Training Accuracy:  96.3%\n",
            "Optimization Iteration:    200, Training Accuracy:  95.7%\n",
            "Optimization Iteration:    300, Training Accuracy:  96.3%\n",
            "Optimization Iteration:    399, Training Accuracy:  95.3%\n",
            "Time usage: 0:00:03\n",
            "\n",
            "Accuracy on Test-Set: 95.6% (9557 / 10000)\n",
            "\n",
            "Target-class: 9\n",
            "Finding adversarial noise ...\n",
            "Optimization Iteration:      0, Training Accuracy:  14.0%\n",
            "Optimization Iteration:    100, Training Accuracy:  82.7%\n",
            "Optimization Iteration:    200, Training Accuracy:  91.7%\n",
            "Optimization Iteration:    300, Training Accuracy:  92.0%\n",
            "Optimization Iteration:    400, Training Accuracy:  91.3%\n",
            "Optimization Iteration:    500, Training Accuracy:  95.7%\n",
            "Optimization Iteration:    599, Training Accuracy:  96.7%\n",
            "Time usage: 0:00:05\n",
            "Noise:\n",
            "- Min: -0.35\n",
            "- Max: 0.35\n",
            "- Std: 0.23373573\n",
            "\n",
            "Accuracy on Test-Set: 15.7% (1570 / 10000)\n",
            "\n",
            "Making the neural network immune to the noise ...\n",
            "Optimization Iteration:      0, Training Accuracy:  17.3%\n",
            "Optimization Iteration:    100, Training Accuracy:  94.0%\n",
            "Optimization Iteration:    200, Training Accuracy:  95.0%\n",
            "Optimization Iteration:    300, Training Accuracy:  95.7%\n",
            "Optimization Iteration:    399, Training Accuracy:  96.3%\n",
            "Time usage: 0:00:03\n",
            "\n",
            "Accuracy on Test-Set: 95.5% (9555 / 10000)\n",
            "\n",
            "Target-class: 9\n",
            "Finding adversarial noise ...\n",
            "Optimization Iteration:      0, Training Accuracy:  13.0%\n",
            "Optimization Iteration:    100, Training Accuracy:  15.7%\n",
            "Optimization Iteration:    200, Training Accuracy:  19.0%\n",
            "Optimization Iteration:    300, Training Accuracy:  20.3%\n",
            "Optimization Iteration:    400, Training Accuracy:  18.7%\n",
            "Optimization Iteration:    500, Training Accuracy:  20.7%\n",
            "Optimization Iteration:    599, Training Accuracy:  16.3%\n",
            "Time usage: 0:00:05\n",
            "Noise:\n",
            "- Min: -0.35\n",
            "- Max: 0.35\n",
            "- Std: 0.25124264\n",
            "\n",
            "Accuracy on Test-Set: 86.8% (8678 / 10000)\n",
            "\n",
            "Making the neural network immune to the noise ...\n",
            "Optimization Iteration:      0, Training Accuracy:  84.7%\n",
            "Optimization Iteration:    100, Training Accuracy:  92.3%\n",
            "Optimization Iteration:    200, Training Accuracy:  94.7%\n",
            "Optimization Iteration:    300, Training Accuracy:  97.0%\n",
            "Optimization Iteration:    399, Training Accuracy:  96.3%\n",
            "Time usage: 0:00:03\n",
            "\n",
            "Accuracy on Test-Set: 95.2% (9524 / 10000)\n",
            "\n"
          ]
        },
        {
          "output_type": "display_data",
          "data": {
            "text/plain": [
              "<Figure size 432x288 with 1 Axes>"
            ],
            "image/png": "[encoded data removed]"
          },
          "metadata": {
            "needs_background": "light"
          }
        }
      ],
      "source": [
        "for i in range(10):\n",
        "    make_immune(target_cls=i)\n",
        "    \n",
        "    # Print newline.\n",
        "    print()\n",
        "    \n",
        "    make_immune(target_cls=i)\n",
        "\n",
        "    # Print newline.\n",
        "    print()"
      ]
    },
    {
      "cell_type": "code",
      "source": [
        "for i in range(10):\n",
        "    make_immune(target_cls=i)\n",
        "    \n",
        "    # Print newline.\n",
        "    print()\n",
        "    \n",
        "    make_immune(target_cls=i)\n",
        "\n",
        "    # Print newline.\n",
        "    print()"
      ],
      "metadata": {
        "colab": {
          "base_uri": "https://localhost:8080/",
          "height": 1000
        },
        "id": "OQ9WacSGL7j1",
        "outputId": "cbf13a92-56ba-451b-e65e-3c199c470155"
      },
      "execution_count": null,
      "outputs": [
        {
          "output_type": "stream",
          "name": "stdout",
          "text": [
            "Target-class: 0\n",
            "Finding adversarial noise ...\n",
            "Optimization Iteration:      0, Training Accuracy:   8.7%\n",
            "Optimization Iteration:    100, Training Accuracy:  77.0%\n",
            "Optimization Iteration:    200, Training Accuracy:  86.0%\n",
            "Optimization Iteration:    300, Training Accuracy:  89.3%\n",
            "Optimization Iteration:    400, Training Accuracy:  89.7%\n",
            "Optimization Iteration:    500, Training Accuracy:  89.0%\n",
            "Optimization Iteration:    599, Training Accuracy:  94.7%\n",
            "Time usage: 0:00:05\n",
            "Noise:\n",
            "- Min: -0.35\n",
            "- Max: 0.35\n",
            "- Std: 0.23118904\n",
            "\n",
            "Accuracy on Test-Set: 18.1% (1805 / 10000)\n",
            "\n",
            "Making the neural network immune to the noise ...\n",
            "Optimization Iteration:      0, Training Accuracy:  18.3%\n"
          ]
        },
        {
          "output_type": "stream",
          "name": "stderr",
          "text": [
            "/usr/local/lib/python3.7/dist-packages/ipykernel_launcher.py:12: DeprecationWarning: `np.int` is a deprecated alias for the builtin `int`. To silence this warning, use `int` by itself. Doing this will not modify any behavior and is safe. When replacing `np.int`, you may wish to use e.g. `np.int64` or `np.int32` to specify the precision. If you wish to review your current use, check the release note link for additional information.\n",
            "Deprecated in NumPy 1.20; for more details and guidance: https://numpy.org/devdocs/release/1.20.0-notes.html#deprecations\n",
            "  if sys.path[0] == '':\n"
          ]
        },
        {
          "output_type": "stream",
          "name": "stdout",
          "text": [
            "Optimization Iteration:    100, Training Accuracy:  96.3%\n",
            "Optimization Iteration:    200, Training Accuracy:  97.0%\n",
            "Optimization Iteration:    300, Training Accuracy:  96.3%\n",
            "Optimization Iteration:    399, Training Accuracy:  96.3%\n",
            "Time usage: 0:00:03\n",
            "\n",
            "Accuracy on Test-Set: 96.0% (9595 / 10000)\n",
            "\n",
            "Target-class: 0\n",
            "Finding adversarial noise ...\n",
            "Optimization Iteration:      0, Training Accuracy:   9.3%\n",
            "Optimization Iteration:    100, Training Accuracy:  13.0%\n",
            "Optimization Iteration:    200, Training Accuracy:  15.3%\n",
            "Optimization Iteration:    300, Training Accuracy:  14.0%\n",
            "Optimization Iteration:    400, Training Accuracy:  12.0%\n",
            "Optimization Iteration:    500, Training Accuracy:  12.0%\n",
            "Optimization Iteration:    599, Training Accuracy:  14.7%\n",
            "Time usage: 0:00:05\n",
            "Noise:\n",
            "- Min: -0.35\n",
            "- Max: 0.35\n",
            "- Std: 0.25985348\n",
            "\n",
            "Accuracy on Test-Set: 90.6% (9062 / 10000)\n",
            "\n",
            "Making the neural network immune to the noise ...\n",
            "Optimization Iteration:      0, Training Accuracy:  91.0%\n",
            "Optimization Iteration:    100, Training Accuracy:  98.0%\n",
            "Optimization Iteration:    200, Training Accuracy:  95.7%\n",
            "Optimization Iteration:    300, Training Accuracy:  95.3%\n",
            "Optimization Iteration:    399, Training Accuracy:  95.3%\n",
            "Time usage: 0:00:03\n",
            "\n",
            "Accuracy on Test-Set: 95.9% (9587 / 10000)\n",
            "\n",
            "Target-class: 1\n",
            "Finding adversarial noise ...\n",
            "Optimization Iteration:      0, Training Accuracy:  10.0%\n",
            "Optimization Iteration:    100, Training Accuracy:  62.3%\n",
            "Optimization Iteration:    200, Training Accuracy:  84.3%\n",
            "Optimization Iteration:    300, Training Accuracy:  84.3%\n",
            "Optimization Iteration:    400, Training Accuracy:  88.0%\n",
            "Optimization Iteration:    500, Training Accuracy:  88.7%\n",
            "Optimization Iteration:    599, Training Accuracy:  89.3%\n",
            "Time usage: 0:00:05\n",
            "Noise:\n",
            "- Min: -0.35\n",
            "- Max: 0.35\n",
            "- Std: 0.26242402\n",
            "\n",
            "Accuracy on Test-Set: 19.2% (1923 / 10000)\n",
            "\n",
            "Making the neural network immune to the noise ...\n",
            "Optimization Iteration:      0, Training Accuracy:  21.0%\n",
            "Optimization Iteration:    100, Training Accuracy:  95.3%\n",
            "Optimization Iteration:    200, Training Accuracy:  95.7%\n",
            "Optimization Iteration:    300, Training Accuracy:  97.3%\n",
            "Optimization Iteration:    399, Training Accuracy:  98.0%\n",
            "Time usage: 0:00:03\n",
            "\n",
            "Accuracy on Test-Set: 96.0% (9599 / 10000)\n",
            "\n",
            "Target-class: 1\n",
            "Finding adversarial noise ...\n",
            "Optimization Iteration:      0, Training Accuracy:  13.7%\n",
            "Optimization Iteration:    100, Training Accuracy:  14.3%\n",
            "Optimization Iteration:    200, Training Accuracy:  14.7%\n",
            "Optimization Iteration:    300, Training Accuracy:  15.0%\n",
            "Optimization Iteration:    400, Training Accuracy:  14.0%\n",
            "Optimization Iteration:    500, Training Accuracy:  14.3%\n",
            "Optimization Iteration:    599, Training Accuracy:  20.3%\n",
            "Time usage: 0:00:05\n",
            "Noise:\n",
            "- Min: -0.35\n",
            "- Max: 0.35\n",
            "- Std: 0.25251767\n",
            "\n",
            "Accuracy on Test-Set: 80.4% (8041 / 10000)\n",
            "\n",
            "Making the neural network immune to the noise ...\n",
            "Optimization Iteration:      0, Training Accuracy:  78.3%\n",
            "Optimization Iteration:    100, Training Accuracy:  95.3%\n",
            "Optimization Iteration:    200, Training Accuracy:  98.0%\n",
            "Optimization Iteration:    300, Training Accuracy:  97.0%\n",
            "Optimization Iteration:    399, Training Accuracy:  97.7%\n",
            "Time usage: 0:00:03\n",
            "\n",
            "Accuracy on Test-Set: 95.9% (9588 / 10000)\n",
            "\n",
            "Target-class: 2\n",
            "Finding adversarial noise ...\n",
            "Optimization Iteration:      0, Training Accuracy:  10.3%\n",
            "Optimization Iteration:    100, Training Accuracy:  90.7%\n",
            "Optimization Iteration:    200, Training Accuracy:  95.0%\n",
            "Optimization Iteration:    300, Training Accuracy:  94.7%\n",
            "Optimization Iteration:    400, Training Accuracy:  94.7%\n",
            "Optimization Iteration:    500, Training Accuracy:  96.3%\n",
            "Optimization Iteration:    599, Training Accuracy:  97.0%\n",
            "Time usage: 0:00:05\n",
            "Noise:\n",
            "- Min: -0.35\n",
            "- Max: 0.35\n",
            "- Std: 0.21745083\n",
            "\n",
            "Accuracy on Test-Set: 13.7% (1374 / 10000)\n",
            "\n",
            "Making the neural network immune to the noise ...\n",
            "Optimization Iteration:      0, Training Accuracy:  15.0%\n",
            "Optimization Iteration:    100, Training Accuracy:  93.7%\n",
            "Optimization Iteration:    200, Training Accuracy:  93.7%\n",
            "Optimization Iteration:    300, Training Accuracy:  92.7%\n",
            "Optimization Iteration:    399, Training Accuracy:  97.0%\n",
            "Time usage: 0:00:03\n",
            "\n",
            "Accuracy on Test-Set: 95.9% (9594 / 10000)\n",
            "\n",
            "Target-class: 2\n",
            "Finding adversarial noise ...\n",
            "Optimization Iteration:      0, Training Accuracy:   8.7%\n",
            "Optimization Iteration:    100, Training Accuracy:  24.7%\n",
            "Optimization Iteration:    200, Training Accuracy:  30.7%\n",
            "Optimization Iteration:    300, Training Accuracy:  33.0%\n",
            "Optimization Iteration:    400, Training Accuracy:  31.7%\n",
            "Optimization Iteration:    500, Training Accuracy:  39.0%\n",
            "Optimization Iteration:    599, Training Accuracy:  38.0%\n",
            "Time usage: 0:00:05\n",
            "Noise:\n",
            "- Min: -0.35\n",
            "- Max: 0.35\n",
            "- Std: 0.26815343\n",
            "\n",
            "Accuracy on Test-Set: 60.0% (5995 / 10000)\n",
            "\n",
            "Making the neural network immune to the noise ...\n",
            "Optimization Iteration:      0, Training Accuracy:  58.0%\n",
            "Optimization Iteration:    100, Training Accuracy:  96.7%\n",
            "Optimization Iteration:    200, Training Accuracy:  93.7%\n",
            "Optimization Iteration:    300, Training Accuracy:  95.3%\n",
            "Optimization Iteration:    399, Training Accuracy:  96.3%\n",
            "Time usage: 0:00:03\n",
            "\n",
            "Accuracy on Test-Set: 95.9% (9587 / 10000)\n",
            "\n",
            "Target-class: 3\n",
            "Finding adversarial noise ...\n",
            "Optimization Iteration:      0, Training Accuracy:  11.7%\n",
            "Optimization Iteration:    100, Training Accuracy:  89.3%\n",
            "Optimization Iteration:    200, Training Accuracy:  90.0%\n",
            "Optimization Iteration:    300, Training Accuracy:  93.3%\n",
            "Optimization Iteration:    400, Training Accuracy:  95.3%\n",
            "Optimization Iteration:    500, Training Accuracy:  96.0%\n",
            "Optimization Iteration:    599, Training Accuracy:  96.7%\n",
            "Time usage: 0:00:05\n",
            "Noise:\n",
            "- Min: -0.35\n",
            "- Max: 0.35\n",
            "- Std: 0.22234236\n",
            "\n",
            "Accuracy on Test-Set: 12.8% (1275 / 10000)\n",
            "\n",
            "Making the neural network immune to the noise ...\n",
            "Optimization Iteration:      0, Training Accuracy:  13.7%\n",
            "Optimization Iteration:    100, Training Accuracy:  95.0%\n",
            "Optimization Iteration:    200, Training Accuracy:  95.7%\n",
            "Optimization Iteration:    300, Training Accuracy:  95.0%\n",
            "Optimization Iteration:    399, Training Accuracy:  96.7%\n",
            "Time usage: 0:00:03\n",
            "\n",
            "Accuracy on Test-Set: 95.6% (9556 / 10000)\n",
            "\n",
            "Target-class: 3\n",
            "Finding adversarial noise ...\n",
            "Optimization Iteration:      0, Training Accuracy:   8.3%\n",
            "Optimization Iteration:    100, Training Accuracy:  15.0%\n",
            "Optimization Iteration:    200, Training Accuracy:  12.3%\n",
            "Optimization Iteration:    300, Training Accuracy:  16.3%\n",
            "Optimization Iteration:    400, Training Accuracy:  16.0%\n",
            "Optimization Iteration:    500, Training Accuracy:  15.7%\n",
            "Optimization Iteration:    599, Training Accuracy:  21.3%\n",
            "Time usage: 0:00:05\n",
            "Noise:\n",
            "- Min: -0.35\n",
            "- Max: 0.35\n",
            "- Std: 0.27074346\n",
            "\n",
            "Accuracy on Test-Set: 89.0% (8903 / 10000)\n",
            "\n",
            "Making the neural network immune to the noise ...\n",
            "Optimization Iteration:      0, Training Accuracy:  90.0%\n",
            "Optimization Iteration:    100, Training Accuracy:  92.7%\n",
            "Optimization Iteration:    200, Training Accuracy:  94.3%\n",
            "Optimization Iteration:    300, Training Accuracy:  96.0%\n",
            "Optimization Iteration:    399, Training Accuracy:  98.0%\n",
            "Time usage: 0:00:03\n",
            "\n",
            "Accuracy on Test-Set: 95.8% (9584 / 10000)\n",
            "\n",
            "Target-class: 4\n",
            "Finding adversarial noise ...\n",
            "Optimization Iteration:      0, Training Accuracy:   9.7%\n",
            "Optimization Iteration:    100, Training Accuracy:  94.0%\n",
            "Optimization Iteration:    200, Training Accuracy:  97.3%\n",
            "Optimization Iteration:    300, Training Accuracy:  96.0%\n",
            "Optimization Iteration:    400, Training Accuracy:  97.0%\n",
            "Optimization Iteration:    500, Training Accuracy:  97.0%\n",
            "Optimization Iteration:    599, Training Accuracy:  98.3%\n",
            "Time usage: 0:00:05\n",
            "Noise:\n",
            "- Min: -0.35\n",
            "- Max: 0.35\n",
            "- Std: 0.18430623\n",
            "\n",
            "Accuracy on Test-Set: 11.9% (1195 / 10000)\n",
            "\n",
            "Making the neural network immune to the noise ...\n",
            "Optimization Iteration:      0, Training Accuracy:  14.3%\n",
            "Optimization Iteration:    100, Training Accuracy:  95.3%\n",
            "Optimization Iteration:    200, Training Accuracy:  93.3%\n",
            "Optimization Iteration:    300, Training Accuracy:  95.0%\n",
            "Optimization Iteration:    399, Training Accuracy:  94.7%\n",
            "Time usage: 0:00:03\n",
            "\n",
            "Accuracy on Test-Set: 95.9% (9585 / 10000)\n",
            "\n",
            "Target-class: 4\n",
            "Finding adversarial noise ...\n",
            "Optimization Iteration:      0, Training Accuracy:   9.3%\n",
            "Optimization Iteration:    100, Training Accuracy:  23.3%\n",
            "Optimization Iteration:    200, Training Accuracy:  27.0%\n",
            "Optimization Iteration:    300, Training Accuracy:  23.3%\n",
            "Optimization Iteration:    400, Training Accuracy:  28.7%\n",
            "Optimization Iteration:    500, Training Accuracy:  30.7%\n",
            "Optimization Iteration:    599, Training Accuracy:  30.3%\n",
            "Time usage: 0:00:05\n",
            "Noise:\n",
            "- Min: -0.35\n",
            "- Max: 0.35\n",
            "- Std: 0.25307953\n",
            "\n",
            "Accuracy on Test-Set: 71.6% (7159 / 10000)\n",
            "\n",
            "Making the neural network immune to the noise ...\n",
            "Optimization Iteration:      0, Training Accuracy:  75.7%\n",
            "Optimization Iteration:    100, Training Accuracy:  94.3%\n",
            "Optimization Iteration:    200, Training Accuracy:  96.3%\n",
            "Optimization Iteration:    300, Training Accuracy:  97.0%\n",
            "Optimization Iteration:    399, Training Accuracy:  94.7%\n",
            "Time usage: 0:00:03\n",
            "\n",
            "Accuracy on Test-Set: 95.8% (9579 / 10000)\n",
            "\n",
            "Target-class: 5\n",
            "Finding adversarial noise ...\n",
            "Optimization Iteration:      0, Training Accuracy:   8.0%\n",
            "Optimization Iteration:    100, Training Accuracy:  97.7%\n",
            "Optimization Iteration:    200, Training Accuracy:  98.0%\n",
            "Optimization Iteration:    300, Training Accuracy:  99.3%\n",
            "Optimization Iteration:    400, Training Accuracy:  99.3%\n",
            "Optimization Iteration:    500, Training Accuracy:  96.7%\n",
            "Optimization Iteration:    599, Training Accuracy:  99.3%\n",
            "Time usage: 0:00:05\n",
            "Noise:\n",
            "- Min: -0.35\n",
            "- Max: 0.35\n",
            "- Std: 0.17166887\n",
            "\n",
            "Accuracy on Test-Set: 10.9% (1094 / 10000)\n",
            "\n",
            "Making the neural network immune to the noise ...\n",
            "Optimization Iteration:      0, Training Accuracy:   9.7%\n",
            "Optimization Iteration:    100, Training Accuracy:  95.3%\n",
            "Optimization Iteration:    200, Training Accuracy:  97.0%\n",
            "Optimization Iteration:    300, Training Accuracy:  96.3%\n",
            "Optimization Iteration:    399, Training Accuracy:  96.7%\n",
            "Time usage: 0:00:03\n",
            "\n",
            "Accuracy on Test-Set: 95.9% (9589 / 10000)\n",
            "\n",
            "Target-class: 5\n",
            "Finding adversarial noise ...\n",
            "Optimization Iteration:      0, Training Accuracy:   8.0%\n",
            "Optimization Iteration:    100, Training Accuracy:  37.0%\n",
            "Optimization Iteration:    200, Training Accuracy:  45.0%\n",
            "Optimization Iteration:    300, Training Accuracy:  49.0%\n",
            "Optimization Iteration:    400, Training Accuracy:  48.7%\n",
            "Optimization Iteration:    500, Training Accuracy:  48.7%\n",
            "Optimization Iteration:    599, Training Accuracy:  49.7%\n",
            "Time usage: 0:00:05\n",
            "Noise:\n",
            "- Min: -0.35\n",
            "- Max: 0.35\n",
            "- Std: 0.27033997\n",
            "\n",
            "Accuracy on Test-Set: 52.5% (5252 / 10000)\n",
            "\n",
            "Making the neural network immune to the noise ...\n",
            "Optimization Iteration:      0, Training Accuracy:  56.0%\n",
            "Optimization Iteration:    100, Training Accuracy:  93.7%\n",
            "Optimization Iteration:    200, Training Accuracy:  94.7%\n",
            "Optimization Iteration:    300, Training Accuracy:  94.7%\n",
            "Optimization Iteration:    399, Training Accuracy:  96.7%\n",
            "Time usage: 0:00:03\n",
            "\n",
            "Accuracy on Test-Set: 95.9% (9594 / 10000)\n",
            "\n",
            "Target-class: 6\n",
            "Finding adversarial noise ...\n",
            "Optimization Iteration:      0, Training Accuracy:  12.0%\n",
            "Optimization Iteration:    100, Training Accuracy:  80.3%\n",
            "Optimization Iteration:    200, Training Accuracy:  90.3%\n",
            "Optimization Iteration:    300, Training Accuracy:  90.7%\n",
            "Optimization Iteration:    400, Training Accuracy:  94.3%\n",
            "Optimization Iteration:    500, Training Accuracy:  94.3%\n",
            "Optimization Iteration:    599, Training Accuracy:  94.0%\n",
            "Time usage: 0:00:05\n",
            "Noise:\n",
            "- Min: -0.35\n",
            "- Max: 0.35\n",
            "- Std: 0.2366554\n",
            "\n",
            "Accuracy on Test-Set: 14.9% (1494 / 10000)\n",
            "\n",
            "Making the neural network immune to the noise ...\n",
            "Optimization Iteration:      0, Training Accuracy:  14.7%\n",
            "Optimization Iteration:    100, Training Accuracy:  96.7%\n",
            "Optimization Iteration:    200, Training Accuracy:  96.7%\n",
            "Optimization Iteration:    300, Training Accuracy:  96.3%\n",
            "Optimization Iteration:    399, Training Accuracy:  97.3%\n",
            "Time usage: 0:00:03\n",
            "\n",
            "Accuracy on Test-Set: 95.9% (9587 / 10000)\n",
            "\n",
            "Target-class: 6\n",
            "Finding adversarial noise ...\n",
            "Optimization Iteration:      0, Training Accuracy:  11.7%\n",
            "Optimization Iteration:    100, Training Accuracy:  19.0%\n",
            "Optimization Iteration:    200, Training Accuracy:  16.0%\n",
            "Optimization Iteration:    300, Training Accuracy:  13.7%\n",
            "Optimization Iteration:    400, Training Accuracy:  21.0%\n",
            "Optimization Iteration:    500, Training Accuracy:  16.3%\n",
            "Optimization Iteration:    599, Training Accuracy:  16.7%\n",
            "Time usage: 0:00:05\n",
            "Noise:\n",
            "- Min: -0.35\n",
            "- Max: 0.35\n",
            "- Std: 0.25814727\n",
            "\n",
            "Accuracy on Test-Set: 86.8% (8684 / 10000)\n",
            "\n",
            "Making the neural network immune to the noise ...\n",
            "Optimization Iteration:      0, Training Accuracy:  87.0%\n",
            "Optimization Iteration:    100, Training Accuracy:  97.7%\n",
            "Optimization Iteration:    200, Training Accuracy:  95.7%\n",
            "Optimization Iteration:    300, Training Accuracy:  96.7%\n",
            "Optimization Iteration:    399, Training Accuracy:  96.0%\n",
            "Time usage: 0:00:03\n",
            "\n",
            "Accuracy on Test-Set: 96.0% (9597 / 10000)\n",
            "\n",
            "Target-class: 7\n",
            "Finding adversarial noise ...\n",
            "Optimization Iteration:      0, Training Accuracy:   8.7%\n",
            "Optimization Iteration:    100, Training Accuracy:  90.7%\n",
            "Optimization Iteration:    200, Training Accuracy:  96.3%\n",
            "Optimization Iteration:    300, Training Accuracy:  97.7%\n",
            "Optimization Iteration:    400, Training Accuracy:  96.0%\n",
            "Optimization Iteration:    500, Training Accuracy:  97.3%\n",
            "Optimization Iteration:    599, Training Accuracy:  96.3%\n",
            "Time usage: 0:00:05\n",
            "Noise:\n",
            "- Min: -0.35\n",
            "- Max: 0.35\n",
            "- Std: 0.21056004\n",
            "\n",
            "Accuracy on Test-Set: 13.3% (1329 / 10000)\n",
            "\n",
            "Making the neural network immune to the noise ...\n",
            "Optimization Iteration:      0, Training Accuracy:  13.0%\n",
            "Optimization Iteration:    100, Training Accuracy:  93.0%\n",
            "Optimization Iteration:    200, Training Accuracy:  98.7%\n",
            "Optimization Iteration:    300, Training Accuracy:  91.7%\n",
            "Optimization Iteration:    399, Training Accuracy:  92.7%\n",
            "Time usage: 0:00:03\n",
            "\n",
            "Accuracy on Test-Set: 96.0% (9605 / 10000)\n",
            "\n",
            "Target-class: 7\n",
            "Finding adversarial noise ...\n",
            "Optimization Iteration:      0, Training Accuracy:  10.7%\n",
            "Optimization Iteration:    100, Training Accuracy:  28.7%\n",
            "Optimization Iteration:    200, Training Accuracy:  27.7%\n",
            "Optimization Iteration:    300, Training Accuracy:  34.0%\n",
            "Optimization Iteration:    400, Training Accuracy:  36.0%\n",
            "Optimization Iteration:    500, Training Accuracy:  40.0%\n",
            "Optimization Iteration:    599, Training Accuracy:  36.3%\n",
            "Time usage: 0:00:05\n",
            "Noise:\n",
            "- Min: -0.35\n",
            "- Max: 0.35\n",
            "- Std: 0.26356727\n",
            "\n",
            "Accuracy on Test-Set: 68.2% (6818 / 10000)\n",
            "\n",
            "Making the neural network immune to the noise ...\n",
            "Optimization Iteration:      0, Training Accuracy:  68.7%\n",
            "Optimization Iteration:    100, Training Accuracy:  95.3%\n",
            "Optimization Iteration:    200, Training Accuracy:  97.7%\n",
            "Optimization Iteration:    300, Training Accuracy:  95.3%\n",
            "Optimization Iteration:    399, Training Accuracy:  97.7%\n",
            "Time usage: 0:00:03\n",
            "\n",
            "Accuracy on Test-Set: 96.1% (9612 / 10000)\n",
            "\n",
            "Target-class: 8\n",
            "Finding adversarial noise ...\n",
            "Optimization Iteration:      0, Training Accuracy:   8.0%\n",
            "Optimization Iteration:    100, Training Accuracy:  68.0%\n",
            "Optimization Iteration:    200, Training Accuracy:  73.0%\n",
            "Optimization Iteration:    300, Training Accuracy:  83.3%\n",
            "Optimization Iteration:    400, Training Accuracy:  87.3%\n",
            "Optimization Iteration:    500, Training Accuracy:  89.3%\n",
            "Optimization Iteration:    599, Training Accuracy:  89.0%\n",
            "Time usage: 0:00:05\n",
            "Noise:\n",
            "- Min: -0.35\n",
            "- Max: 0.35\n",
            "- Std: 0.2366652\n",
            "\n",
            "Accuracy on Test-Set: 19.7% (1974 / 10000)\n",
            "\n",
            "Making the neural network immune to the noise ...\n",
            "Optimization Iteration:      0, Training Accuracy:  19.7%\n",
            "Optimization Iteration:    100, Training Accuracy:  97.7%\n",
            "Optimization Iteration:    200, Training Accuracy:  95.7%\n",
            "Optimization Iteration:    300, Training Accuracy:  96.0%\n",
            "Optimization Iteration:    399, Training Accuracy:  94.7%\n",
            "Time usage: 0:00:03\n",
            "\n",
            "Accuracy on Test-Set: 96.3% (9630 / 10000)\n",
            "\n",
            "Target-class: 8\n",
            "Finding adversarial noise ...\n",
            "Optimization Iteration:      0, Training Accuracy:   9.7%\n",
            "Optimization Iteration:    100, Training Accuracy:  16.7%\n",
            "Optimization Iteration:    200, Training Accuracy:  24.7%\n",
            "Optimization Iteration:    300, Training Accuracy:  23.0%\n",
            "Optimization Iteration:    400, Training Accuracy:  24.3%\n",
            "Optimization Iteration:    500, Training Accuracy:  24.7%\n",
            "Optimization Iteration:    599, Training Accuracy:  26.3%\n",
            "Time usage: 0:00:05\n",
            "Noise:\n",
            "- Min: -0.35\n",
            "- Max: 0.35\n",
            "- Std: 0.25406498\n",
            "\n",
            "Accuracy on Test-Set: 78.3% (7835 / 10000)\n",
            "\n",
            "Making the neural network immune to the noise ...\n",
            "Optimization Iteration:      0, Training Accuracy:  75.3%\n",
            "Optimization Iteration:    100, Training Accuracy:  94.3%\n",
            "Optimization Iteration:    200, Training Accuracy:  96.7%\n",
            "Optimization Iteration:    300, Training Accuracy:  96.0%\n",
            "Optimization Iteration:    399, Training Accuracy:  95.7%\n",
            "Time usage: 0:00:03\n",
            "\n",
            "Accuracy on Test-Set: 96.2% (9623 / 10000)\n",
            "\n",
            "Target-class: 9\n",
            "Finding adversarial noise ...\n",
            "Optimization Iteration:      0, Training Accuracy:  10.7%\n",
            "Optimization Iteration:    100, Training Accuracy:  83.0%\n",
            "Optimization Iteration:    200, Training Accuracy:  91.0%\n",
            "Optimization Iteration:    300, Training Accuracy:  91.3%\n",
            "Optimization Iteration:    400, Training Accuracy:  90.0%\n",
            "Optimization Iteration:    500, Training Accuracy:  94.3%\n",
            "Optimization Iteration:    599, Training Accuracy:  94.0%\n",
            "Time usage: 0:00:05\n",
            "Noise:\n",
            "- Min: -0.35\n",
            "- Max: 0.35\n",
            "- Std: 0.24440442\n",
            "\n",
            "Accuracy on Test-Set: 16.3% (1633 / 10000)\n",
            "\n",
            "Making the neural network immune to the noise ...\n",
            "Optimization Iteration:      0, Training Accuracy:  17.3%\n",
            "Optimization Iteration:    100, Training Accuracy:  95.0%\n",
            "Optimization Iteration:    200, Training Accuracy:  96.7%\n",
            "Optimization Iteration:    300, Training Accuracy:  97.3%\n",
            "Optimization Iteration:    399, Training Accuracy:  97.0%\n",
            "Time usage: 0:00:03\n",
            "\n",
            "Accuracy on Test-Set: 96.3% (9629 / 10000)\n",
            "\n",
            "Target-class: 9\n",
            "Finding adversarial noise ...\n",
            "Optimization Iteration:      0, Training Accuracy:   6.7%\n",
            "Optimization Iteration:    100, Training Accuracy:  17.0%\n",
            "Optimization Iteration:    200, Training Accuracy:  17.3%\n",
            "Optimization Iteration:    300, Training Accuracy:  14.7%\n",
            "Optimization Iteration:    400, Training Accuracy:  20.3%\n",
            "Optimization Iteration:    500, Training Accuracy:  15.3%\n",
            "Optimization Iteration:    599, Training Accuracy:  17.3%\n",
            "Time usage: 0:00:05\n",
            "Noise:\n",
            "- Min: -0.35\n",
            "- Max: 0.35\n",
            "- Std: 0.2576565\n",
            "\n",
            "Accuracy on Test-Set: 89.5% (8945 / 10000)\n",
            "\n",
            "Making the neural network immune to the noise ...\n",
            "Optimization Iteration:      0, Training Accuracy:  87.7%\n",
            "Optimization Iteration:    100, Training Accuracy:  96.3%\n",
            "Optimization Iteration:    200, Training Accuracy:  96.3%\n",
            "Optimization Iteration:    300, Training Accuracy:  94.7%\n",
            "Optimization Iteration:    399, Training Accuracy:  95.0%\n",
            "Time usage: 0:00:03\n",
            "\n",
            "Accuracy on Test-Set: 96.3% (9630 / 10000)\n",
            "\n"
          ]
        },
        {
          "output_type": "display_data",
          "data": {
            "text/plain": [
              "<Figure size 432x288 with 1 Axes>"
            ],
            "image/png": "[encoded data removed]"
          },
          "metadata": {
            "needs_background": "light"
          }
        }
      ]
    },
    {
      "cell_type": "code",
      "execution_count": null,
      "metadata": {
        "id": "vEvNvkl4uUo_"
      },
      "outputs": [],
      "source": [
        "init_noise()"
      ]
    },
    {
      "cell_type": "markdown",
      "metadata": {
        "id": "eMqU9h3huUo_"
      },
      "source": [
        "The neural network now performs worse on clean images compared to noisy images."
      ]
    },
    {
      "cell_type": "code",
      "execution_count": null,
      "metadata": {
        "id": "9dtiRBxTuUo_",
        "outputId": "6e9afe19-200f-46ac-ba23-05ea326a826d",
        "colab": {
          "base_uri": "https://localhost:8080/",
          "height": 560
        }
      },
      "outputs": [
        {
          "output_type": "stream",
          "name": "stderr",
          "text": [
            "/usr/local/lib/python3.7/dist-packages/ipykernel_launcher.py:12: DeprecationWarning: `np.int` is a deprecated alias for the builtin `int`. To silence this warning, use `int` by itself. Doing this will not modify any behavior and is safe. When replacing `np.int`, you may wish to use e.g. `np.int64` or `np.int32` to specify the precision. If you wish to review your current use, check the release note link for additional information.\n",
            "Deprecated in NumPy 1.20; for more details and guidance: https://numpy.org/devdocs/release/1.20.0-notes.html#deprecations\n",
            "  if sys.path[0] == '':\n"
          ]
        },
        {
          "output_type": "stream",
          "name": "stdout",
          "text": [
            "Accuracy on Test-Set: 82.5% (8246 / 10000)\n",
            "Example errors:\n"
          ]
        },
        {
          "output_type": "display_data",
          "data": {
            "text/plain": [
              "<Figure size 432x288 with 9 Axes>"
            ],
            "image/png": "[encoded data removed]"
          },
          "metadata": {}
        },
        {
          "output_type": "stream",
          "name": "stdout",
          "text": [
            "Confusion Matrix:\n",
            "[[ 966    0    3    3    1    1    5    1    0    0]\n",
            " [   0 1127    4    2    0    1    1    0    0    0]\n",
            " [   5    4 1003    7    3    3    3    4    0    0]\n",
            " [   0    0   13  982    2    7    1    4    1    0]\n",
            " [   3    3    5    0  956    3   12    0    0    0]\n",
            " [   3    0    0   31    3  848    7    0    0    0]\n",
            " [   6    3    3    1    6   11  928    0    0    0]\n",
            " [   8   47   33   12   23    5    1  899    0    0]\n",
            " [  19   23   59  226   16  110   30    4  487    0]\n",
            " [  18   27   11   71  729   77    2   24    0   50]]\n"
          ]
        }
      ],
      "source": [
        "print_test_accuracy(show_example_errors=True,\n",
        "                    show_confusion_matrix=True)"
      ]
    },
    {
      "cell_type": "markdown",
      "metadata": {
        "id": "Bjv9yyrHuUo_"
      },
      "source": [
        "## Close TensorFlow Session"
      ]
    },
    {
      "cell_type": "markdown",
      "metadata": {
        "id": "jzEyoWiwuUpA"
      },
      "source": [
        "We are now done using TensorFlow, so we close the session to release its resources."
      ]
    },
    {
      "cell_type": "code",
      "execution_count": null,
      "metadata": {
        "id": "LGpHCXMmuUpA"
      },
      "outputs": [],
      "source": [
        "# This has been commented out in case you want to modify and experiment\n",
        "# with the Notebook without having to restart it.\n",
        "# session.close()"
      ]
    }
  ],
  "metadata": {
    "anaconda-cloud": {},
    "kernelspec": {
      "display_name": "Python 3",
      "language": "python",
      "name": "python3"
    },
    "language_info": {
      "codemirror_mode": {
        "name": "ipython",
        "version": 3
      },
      "file_extension": ".py",
      "mimetype": "text/x-python",
      "name": "python",
      "nbconvert_exporter": "python",
      "pygments_lexer": "ipython3",
      "version": "3.6.10"
    },
    "colab": {
      "name": "Adversarial Training Technique 1.ipynb",
      "provenance": [],
      "collapsed_sections": [
        "Cg_hAklkuUoz",
        "ItZO6wYHuUo0",
        "Zc-3j8iDuUo3",
        "5hxEeg6duUo4",
        "Bjv9yyrHuUo_"
      ],
      "include_colab_link": true
    }
  },
  "nbformat": 4,
  "nbformat_minor": 0
}