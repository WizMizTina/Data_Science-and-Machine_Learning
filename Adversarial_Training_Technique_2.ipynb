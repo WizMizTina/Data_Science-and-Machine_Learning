{
  "cells": [
    {
      "cell_type": "markdown",
      "metadata": {
        "id": "view-in-github",
        "colab_type": "text"
      },
      "source": [
        "<a href=\"https://colab.research.google.com/github/WizMizTina/Data_Science-and-Machine_Learning/blob/main/Adversarial_Training_Technique_2.ipynb\" target=\"_parent\"><img src=\"https://colab.research.google.com/assets/colab-badge.svg\" alt=\"Open In Colab\"/></a>"
      ]
    },
    {
      "cell_type": "markdown",
      "metadata": {
        "id": "TJ9ORF8AuUoJ"
      },
      "source": [
        "## Imports"
      ]
    },
    {
      "cell_type": "code",
      "execution_count": null,
      "metadata": {
        "id": "K7B1r3o4uUoK",
        "outputId": "2c721904-c99b-476e-e500-cddf5e638522",
        "colab": {
          "base_uri": "https://localhost:8080/"
        }
      },
      "outputs": [
        {
          "output_type": "stream",
          "name": "stdout",
          "text": [
            "TensorFlow 1.x selected.\n"
          ]
        }
      ],
      "source": [
        "%matplotlib inline\n",
        "%tensorflow_version 1.x\n",
        "import matplotlib.pyplot as plt\n",
        "import tensorflow as tf\n",
        "import numpy as np\n",
        "from sklearn.metrics import confusion_matrix\n",
        "import time\n",
        "from datetime import timedelta\n",
        "import math"
      ]
    },
    {
      "cell_type": "markdown",
      "metadata": {
        "id": "iB_KOIRMuUoO"
      },
      "source": [
        "This was developed using Python 3.6 (Anaconda) and TensorFlow version:"
      ]
    },
    {
      "cell_type": "code",
      "execution_count": null,
      "metadata": {
        "id": "DeWWHF9zuUoP",
        "outputId": "c15ce6b4-d4be-436b-c797-d56d8e9e1f8a",
        "colab": {
          "base_uri": "https://localhost:8080/",
          "height": 35
        }
      },
      "outputs": [
        {
          "output_type": "execute_result",
          "data": {
            "text/plain": [
              "'1.15.2'"
            ],
            "application/vnd.google.colaboratory.intrinsic+json": {
              "type": "string"
            }
          },
          "metadata": {},
          "execution_count": 2
        }
      ],
      "source": [
        "tf.__version__"
      ]
    },
    {
      "cell_type": "code",
      "source": [
        "# Clone the repository from GitHub to Google Colab's temporary drive.\n",
        "import os\n",
        "work_dir = \"/content/TensorFlow-Tutorials/\"\n",
        "if not os.path.exists(work_dir):\n",
        "    !git clone https://github.com/Hvass-Labs/TensorFlow-Tutorials.git\n",
        "os.chdir(work_dir)"
      ],
      "metadata": {
        "id": "IMaN4xuavWqO",
        "colab": {
          "base_uri": "https://localhost:8080/"
        },
        "outputId": "fdefaae3-bec2-4e7b-da0f-606d30992976"
      },
      "execution_count": null,
      "outputs": [
        {
          "output_type": "stream",
          "name": "stdout",
          "text": [
            "Cloning into 'TensorFlow-Tutorials'...\n",
            "remote: Enumerating objects: 506, done.\u001b[K\n",
            "remote: Total 506 (delta 0), reused 0 (delta 0), pack-reused 506\u001b[K\n",
            "Receiving objects: 100% (506/506), 66.10 MiB | 17.05 MiB/s, done.\n",
            "Resolving deltas: 100% (241/241), done.\n"
          ]
        }
      ]
    },
    {
      "cell_type": "code",
      "source": [
        "!pip install -r requirements.txt"
      ],
      "metadata": {
        "id": "PIuWh2EdvYE_",
        "outputId": "5fb42ed8-c115-49ad-9792-679a0d8919b8",
        "colab": {
          "base_uri": "https://localhost:8080/",
          "height": 1000
        }
      },
      "execution_count": null,
      "outputs": [
        {
          "output_type": "stream",
          "name": "stdout",
          "text": [
            "Requirement already satisfied: numpy in /usr/local/lib/python3.7/dist-packages (from -r requirements.txt (line 19)) (1.21.6)\n",
            "Requirement already satisfied: scipy in /usr/local/lib/python3.7/dist-packages (from -r requirements.txt (line 20)) (1.4.1)\n",
            "Requirement already satisfied: jupyter in /usr/local/lib/python3.7/dist-packages (from -r requirements.txt (line 21)) (1.0.0)\n",
            "Requirement already satisfied: matplotlib in /usr/local/lib/python3.7/dist-packages (from -r requirements.txt (line 22)) (3.2.2)\n",
            "Requirement already satisfied: Pillow in /usr/local/lib/python3.7/dist-packages (from -r requirements.txt (line 23)) (7.1.2)\n",
            "Requirement already satisfied: scikit-learn in /usr/local/lib/python3.7/dist-packages (from -r requirements.txt (line 24)) (1.0.2)\n",
            "Requirement already satisfied: tensorflow in /tensorflow-1.15.2/python3.7 (from -r requirements.txt (line 29)) (1.15.2)\n",
            "Requirement already satisfied: jupyter-console in /usr/local/lib/python3.7/dist-packages (from jupyter->-r requirements.txt (line 21)) (5.2.0)\n",
            "Requirement already satisfied: notebook in /usr/local/lib/python3.7/dist-packages (from jupyter->-r requirements.txt (line 21)) (5.3.1)\n",
            "Requirement already satisfied: ipywidgets in /usr/local/lib/python3.7/dist-packages (from jupyter->-r requirements.txt (line 21)) (7.7.0)\n",
            "Requirement already satisfied: qtconsole in /usr/local/lib/python3.7/dist-packages (from jupyter->-r requirements.txt (line 21)) (5.3.0)\n",
            "Requirement already satisfied: ipykernel in /usr/local/lib/python3.7/dist-packages (from jupyter->-r requirements.txt (line 21)) (4.10.1)\n",
            "Requirement already satisfied: nbconvert in /usr/local/lib/python3.7/dist-packages (from jupyter->-r requirements.txt (line 21)) (5.6.1)\n",
            "Requirement already satisfied: kiwisolver>=1.0.1 in /usr/local/lib/python3.7/dist-packages (from matplotlib->-r requirements.txt (line 22)) (1.4.2)\n",
            "Requirement already satisfied: python-dateutil>=2.1 in /usr/local/lib/python3.7/dist-packages (from matplotlib->-r requirements.txt (line 22)) (2.8.2)\n",
            "Requirement already satisfied: pyparsing!=2.0.4,!=2.1.2,!=2.1.6,>=2.0.1 in /usr/local/lib/python3.7/dist-packages (from matplotlib->-r requirements.txt (line 22)) (3.0.8)\n",
            "Requirement already satisfied: cycler>=0.10 in /usr/local/lib/python3.7/dist-packages (from matplotlib->-r requirements.txt (line 22)) (0.11.0)\n",
            "Requirement already satisfied: typing-extensions in /usr/local/lib/python3.7/dist-packages (from kiwisolver>=1.0.1->matplotlib->-r requirements.txt (line 22)) (4.2.0)\n",
            "Requirement already satisfied: six>=1.5 in /usr/local/lib/python3.7/dist-packages (from python-dateutil>=2.1->matplotlib->-r requirements.txt (line 22)) (1.15.0)\n",
            "Requirement already satisfied: joblib>=0.11 in /usr/local/lib/python3.7/dist-packages (from scikit-learn->-r requirements.txt (line 24)) (1.1.0)\n",
            "Requirement already satisfied: threadpoolctl>=2.0.0 in /usr/local/lib/python3.7/dist-packages (from scikit-learn->-r requirements.txt (line 24)) (3.1.0)\n",
            "Requirement already satisfied: absl-py>=0.7.0 in /usr/local/lib/python3.7/dist-packages (from tensorflow->-r requirements.txt (line 29)) (1.0.0)\n",
            "Requirement already satisfied: google-pasta>=0.1.6 in /usr/local/lib/python3.7/dist-packages (from tensorflow->-r requirements.txt (line 29)) (0.2.0)\n",
            "Requirement already satisfied: opt-einsum>=2.3.2 in /usr/local/lib/python3.7/dist-packages (from tensorflow->-r requirements.txt (line 29)) (3.3.0)\n",
            "Requirement already satisfied: termcolor>=1.1.0 in /usr/local/lib/python3.7/dist-packages (from tensorflow->-r requirements.txt (line 29)) (1.1.0)\n",
            "Requirement already satisfied: wheel>=0.26 in /usr/local/lib/python3.7/dist-packages (from tensorflow->-r requirements.txt (line 29)) (0.37.1)\n",
            "Requirement already satisfied: grpcio>=1.8.6 in /usr/local/lib/python3.7/dist-packages (from tensorflow->-r requirements.txt (line 29)) (1.44.0)\n",
            "Requirement already satisfied: protobuf>=3.6.1 in /usr/local/lib/python3.7/dist-packages (from tensorflow->-r requirements.txt (line 29)) (3.17.3)\n",
            "Requirement already satisfied: astor>=0.6.0 in /usr/local/lib/python3.7/dist-packages (from tensorflow->-r requirements.txt (line 29)) (0.8.1)\n",
            "Requirement already satisfied: keras-preprocessing>=1.0.5 in /usr/local/lib/python3.7/dist-packages (from tensorflow->-r requirements.txt (line 29)) (1.1.2)\n",
            "Requirement already satisfied: wrapt>=1.11.1 in /usr/local/lib/python3.7/dist-packages (from tensorflow->-r requirements.txt (line 29)) (1.14.0)\n",
            "Requirement already satisfied: keras-applications>=1.0.8 in /tensorflow-1.15.2/python3.7 (from tensorflow->-r requirements.txt (line 29)) (1.0.8)\n",
            "Requirement already satisfied: tensorboard<1.16.0,>=1.15.0 in /tensorflow-1.15.2/python3.7 (from tensorflow->-r requirements.txt (line 29)) (1.15.0)\n",
            "Collecting gast==0.2.2\n",
            "  Downloading gast-0.2.2.tar.gz (10 kB)\n",
            "Requirement already satisfied: tensorflow-estimator==1.15.1 in /tensorflow-1.15.2/python3.7 (from tensorflow->-r requirements.txt (line 29)) (1.15.1)\n",
            "Requirement already satisfied: h5py in /usr/local/lib/python3.7/dist-packages (from keras-applications>=1.0.8->tensorflow->-r requirements.txt (line 29)) (3.1.0)\n",
            "Requirement already satisfied: werkzeug>=0.11.15 in /usr/local/lib/python3.7/dist-packages (from tensorboard<1.16.0,>=1.15.0->tensorflow->-r requirements.txt (line 29)) (1.0.1)\n",
            "Requirement already satisfied: setuptools>=41.0.0 in /usr/local/lib/python3.7/dist-packages (from tensorboard<1.16.0,>=1.15.0->tensorflow->-r requirements.txt (line 29)) (57.4.0)\n",
            "Requirement already satisfied: markdown>=2.6.8 in /usr/local/lib/python3.7/dist-packages (from tensorboard<1.16.0,>=1.15.0->tensorflow->-r requirements.txt (line 29)) (3.3.6)\n",
            "Requirement already satisfied: importlib-metadata>=4.4 in /usr/local/lib/python3.7/dist-packages (from markdown>=2.6.8->tensorboard<1.16.0,>=1.15.0->tensorflow->-r requirements.txt (line 29)) (4.11.3)\n",
            "Requirement already satisfied: zipp>=0.5 in /usr/local/lib/python3.7/dist-packages (from importlib-metadata>=4.4->markdown>=2.6.8->tensorboard<1.16.0,>=1.15.0->tensorflow->-r requirements.txt (line 29)) (3.8.0)\n",
            "Requirement already satisfied: cached-property in /usr/local/lib/python3.7/dist-packages (from h5py->keras-applications>=1.0.8->tensorflow->-r requirements.txt (line 29)) (1.5.2)\n",
            "Requirement already satisfied: traitlets>=4.1.0 in /usr/local/lib/python3.7/dist-packages (from ipykernel->jupyter->-r requirements.txt (line 21)) (5.1.1)\n",
            "Requirement already satisfied: jupyter-client in /usr/local/lib/python3.7/dist-packages (from ipykernel->jupyter->-r requirements.txt (line 21)) (5.3.5)\n",
            "Requirement already satisfied: ipython>=4.0.0 in /usr/local/lib/python3.7/dist-packages (from ipykernel->jupyter->-r requirements.txt (line 21)) (5.5.0)\n",
            "Requirement already satisfied: tornado>=4.0 in /usr/local/lib/python3.7/dist-packages (from ipykernel->jupyter->-r requirements.txt (line 21)) (5.1.1)\n",
            "Requirement already satisfied: pexpect in /usr/local/lib/python3.7/dist-packages (from ipython>=4.0.0->ipykernel->jupyter->-r requirements.txt (line 21)) (4.8.0)\n",
            "Requirement already satisfied: pickleshare in /usr/local/lib/python3.7/dist-packages (from ipython>=4.0.0->ipykernel->jupyter->-r requirements.txt (line 21)) (0.7.5)\n",
            "Requirement already satisfied: pygments in /usr/local/lib/python3.7/dist-packages (from ipython>=4.0.0->ipykernel->jupyter->-r requirements.txt (line 21)) (2.6.1)\n",
            "Requirement already satisfied: prompt-toolkit<2.0.0,>=1.0.4 in /usr/local/lib/python3.7/dist-packages (from ipython>=4.0.0->ipykernel->jupyter->-r requirements.txt (line 21)) (1.0.18)\n",
            "Requirement already satisfied: decorator in /usr/local/lib/python3.7/dist-packages (from ipython>=4.0.0->ipykernel->jupyter->-r requirements.txt (line 21)) (4.4.2)\n",
            "Requirement already satisfied: simplegeneric>0.8 in /usr/local/lib/python3.7/dist-packages (from ipython>=4.0.0->ipykernel->jupyter->-r requirements.txt (line 21)) (0.8.1)\n",
            "Requirement already satisfied: wcwidth in /usr/local/lib/python3.7/dist-packages (from prompt-toolkit<2.0.0,>=1.0.4->ipython>=4.0.0->ipykernel->jupyter->-r requirements.txt (line 21)) (0.2.5)\n",
            "Requirement already satisfied: ipython-genutils~=0.2.0 in /usr/local/lib/python3.7/dist-packages (from ipywidgets->jupyter->-r requirements.txt (line 21)) (0.2.0)\n",
            "Requirement already satisfied: widgetsnbextension~=3.6.0 in /usr/local/lib/python3.7/dist-packages (from ipywidgets->jupyter->-r requirements.txt (line 21)) (3.6.0)\n",
            "Requirement already satisfied: nbformat>=4.2.0 in /usr/local/lib/python3.7/dist-packages (from ipywidgets->jupyter->-r requirements.txt (line 21)) (5.3.0)\n",
            "Requirement already satisfied: jupyterlab-widgets>=1.0.0 in /usr/local/lib/python3.7/dist-packages (from ipywidgets->jupyter->-r requirements.txt (line 21)) (1.1.0)\n",
            "Requirement already satisfied: fastjsonschema in /usr/local/lib/python3.7/dist-packages (from nbformat>=4.2.0->ipywidgets->jupyter->-r requirements.txt (line 21)) (2.15.3)\n",
            "Requirement already satisfied: jsonschema>=2.6 in /usr/local/lib/python3.7/dist-packages (from nbformat>=4.2.0->ipywidgets->jupyter->-r requirements.txt (line 21)) (4.3.3)\n",
            "Requirement already satisfied: jupyter-core in /usr/local/lib/python3.7/dist-packages (from nbformat>=4.2.0->ipywidgets->jupyter->-r requirements.txt (line 21)) (4.10.0)\n",
            "Requirement already satisfied: importlib-resources>=1.4.0 in /usr/local/lib/python3.7/dist-packages (from jsonschema>=2.6->nbformat>=4.2.0->ipywidgets->jupyter->-r requirements.txt (line 21)) (5.7.1)\n",
            "Requirement already satisfied: attrs>=17.4.0 in /usr/local/lib/python3.7/dist-packages (from jsonschema>=2.6->nbformat>=4.2.0->ipywidgets->jupyter->-r requirements.txt (line 21)) (21.4.0)\n",
            "Requirement already satisfied: pyrsistent!=0.17.0,!=0.17.1,!=0.17.2,>=0.14.0 in /usr/local/lib/python3.7/dist-packages (from jsonschema>=2.6->nbformat>=4.2.0->ipywidgets->jupyter->-r requirements.txt (line 21)) (0.18.1)\n",
            "Requirement already satisfied: jinja2 in /usr/local/lib/python3.7/dist-packages (from notebook->jupyter->-r requirements.txt (line 21)) (2.11.3)\n",
            "Requirement already satisfied: Send2Trash in /usr/local/lib/python3.7/dist-packages (from notebook->jupyter->-r requirements.txt (line 21)) (1.8.0)\n",
            "Requirement already satisfied: terminado>=0.8.1 in /usr/local/lib/python3.7/dist-packages (from notebook->jupyter->-r requirements.txt (line 21)) (0.13.3)\n",
            "Requirement already satisfied: pyzmq>=13 in /usr/local/lib/python3.7/dist-packages (from jupyter-client->ipykernel->jupyter->-r requirements.txt (line 21)) (22.3.0)\n",
            "Requirement already satisfied: ptyprocess in /usr/local/lib/python3.7/dist-packages (from terminado>=0.8.1->notebook->jupyter->-r requirements.txt (line 21)) (0.7.0)\n",
            "Requirement already satisfied: MarkupSafe>=0.23 in /usr/local/lib/python3.7/dist-packages (from jinja2->notebook->jupyter->-r requirements.txt (line 21)) (2.0.1)\n",
            "Requirement already satisfied: entrypoints>=0.2.2 in /usr/local/lib/python3.7/dist-packages (from nbconvert->jupyter->-r requirements.txt (line 21)) (0.4)\n",
            "Requirement already satisfied: bleach in /usr/local/lib/python3.7/dist-packages (from nbconvert->jupyter->-r requirements.txt (line 21)) (5.0.0)\n",
            "Requirement already satisfied: defusedxml in /usr/local/lib/python3.7/dist-packages (from nbconvert->jupyter->-r requirements.txt (line 21)) (0.7.1)\n",
            "Requirement already satisfied: testpath in /usr/local/lib/python3.7/dist-packages (from nbconvert->jupyter->-r requirements.txt (line 21)) (0.6.0)\n",
            "Requirement already satisfied: pandocfilters>=1.4.1 in /usr/local/lib/python3.7/dist-packages (from nbconvert->jupyter->-r requirements.txt (line 21)) (1.5.0)\n",
            "Requirement already satisfied: mistune<2,>=0.8.1 in /usr/local/lib/python3.7/dist-packages (from nbconvert->jupyter->-r requirements.txt (line 21)) (0.8.4)\n",
            "Requirement already satisfied: webencodings in /usr/local/lib/python3.7/dist-packages (from bleach->nbconvert->jupyter->-r requirements.txt (line 21)) (0.5.1)\n",
            "Requirement already satisfied: qtpy>=2.0.1 in /usr/local/lib/python3.7/dist-packages (from qtconsole->jupyter->-r requirements.txt (line 21)) (2.1.0)\n",
            "Requirement already satisfied: packaging in /usr/local/lib/python3.7/dist-packages (from qtpy>=2.0.1->qtconsole->jupyter->-r requirements.txt (line 21)) (21.3)\n",
            "Building wheels for collected packages: gast\n",
            "  Building wheel for gast (setup.py) ... \u001b[?25l\u001b[?25hdone\n",
            "  Created wheel for gast: filename=gast-0.2.2-py3-none-any.whl size=7554 sha256=75c3e6ed76fc1e5aa134431a4b1d4f054f2034f6a936a9971df1a146b40e0bb1\n",
            "  Stored in directory: /root/.cache/pip/wheels/21/7f/02/420f32a803f7d0967b48dd823da3f558c5166991bfd204eef3\n",
            "Successfully built gast\n",
            "Installing collected packages: gast\n",
            "  Attempting uninstall: gast\n",
            "    Found existing installation: gast 0.5.3\n",
            "    Uninstalling gast-0.5.3:\n",
            "      Successfully uninstalled gast-0.5.3\n",
            "\u001b[31mERROR: pip's dependency resolver does not currently take into account all the packages that are installed. This behaviour is the source of the following dependency conflicts.\n",
            "kapre 0.3.7 requires tensorflow>=2.0.0, but you have tensorflow 1.15.2 which is incompatible.\u001b[0m\n",
            "Successfully installed gast-0.2.2\n"
          ]
        },
        {
          "output_type": "display_data",
          "data": {
            "application/vnd.colab-display-data+json": {
              "pip_warning": {
                "packages": [
                  "gast"
                ]
              }
            }
          },
          "metadata": {}
        }
      ]
    },
    {
      "cell_type": "markdown",
      "metadata": {
        "id": "nkSerx2WuUoQ"
      },
      "source": [
        "## Load Data"
      ]
    },
    {
      "cell_type": "markdown",
      "metadata": {
        "id": "cWNQ-5VzuUoR"
      },
      "source": [
        "The MNIST data-set is about 12 MB and will be downloaded automatically if it is not located in the given path."
      ]
    },
    {
      "cell_type": "code",
      "execution_count": null,
      "metadata": {
        "id": "HUjvD7KiuUoS",
        "colab": {
          "base_uri": "https://localhost:8080/"
        },
        "outputId": "3f0026bf-d378-4fe5-aab0-0334e5c20da7"
      },
      "outputs": [
        {
          "output_type": "stream",
          "name": "stdout",
          "text": [
            "Downloading train-images-idx3-ubyte.gz ...\n",
            "- Download progress: 100.0% Done!\n",
            "Downloading train-labels-idx1-ubyte.gz ...\n",
            "- Download progress: 100.0% Done!\n",
            "Downloading t10k-images-idx3-ubyte.gz ...\n",
            "- Download progress: 100.0% Done!\n",
            "Downloading t10k-labels-idx1-ubyte.gz ...\n",
            "- Download progress: 100.0% Done!\n"
          ]
        }
      ],
      "source": [
        "from mnist import MNIST\n",
        "data = MNIST(\"data/MNIST/\")"
      ]
    },
    {
      "cell_type": "markdown",
      "metadata": {
        "id": "t9uzdsyuuUoS"
      },
      "source": [
        "The MNIST data-set has now been loaded and consists of 70.000 images and class-numbers for the images. The data-set is split into 3 mutually exclusive sub-sets. We will only use the training and test-sets in this tutorial."
      ]
    },
    {
      "cell_type": "code",
      "execution_count": null,
      "metadata": {
        "id": "urzpDaN8uUoT",
        "outputId": "76d59938-d22c-4695-ca23-7e2c031e6a69",
        "colab": {
          "base_uri": "https://localhost:8080/"
        }
      },
      "outputs": [
        {
          "output_type": "stream",
          "name": "stdout",
          "text": [
            "Size of:\n",
            "- Training-set:\t\t55000\n",
            "- Validation-set:\t5000\n",
            "- Test-set:\t\t10000\n"
          ]
        }
      ],
      "source": [
        "print(\"Size of:\")\n",
        "print(\"- Training-set:\\t\\t{}\".format(data.num_train))\n",
        "print(\"- Validation-set:\\t{}\".format(data.num_val))\n",
        "print(\"- Test-set:\\t\\t{}\".format(data.num_test))"
      ]
    },
    {
      "cell_type": "markdown",
      "metadata": {
        "id": "WEEEwqEnuUoT"
      },
      "source": [
        "Copy some of the data-dimensions for convenience."
      ]
    },
    {
      "cell_type": "code",
      "execution_count": null,
      "metadata": {
        "id": "oWYaEXPkuUoU"
      },
      "outputs": [],
      "source": [
        "# The number of pixels in each dimension of an image.\n",
        "img_size = data.img_size\n",
        "\n",
        "# The images are stored in one-dimensional arrays of this length.\n",
        "img_size_flat = data.img_size_flat\n",
        "\n",
        "# Tuple with height and width of images used to reshape arrays.\n",
        "img_shape = data.img_shape\n",
        "\n",
        "# Number of classes, one class for each of 10 digits.\n",
        "num_classes = data.num_classes\n",
        "\n",
        "# Number of colour channels for the images: 1 channel for gray-scale.\n",
        "num_channels = data.num_channels"
      ]
    },
    {
      "cell_type": "markdown",
      "metadata": {
        "id": "WV99rx5VuUoU"
      },
      "source": [
        "### Helper-function for plotting images"
      ]
    },
    {
      "cell_type": "markdown",
      "metadata": {
        "id": "yBkx5kXAuUoV"
      },
      "source": [
        "Function used to plot 9 images in a 3x3 grid, and writing the true and predicted classes below each image. If the noise is supplied then it is added to all images."
      ]
    },
    {
      "cell_type": "code",
      "execution_count": null,
      "metadata": {
        "id": "FSwetGrguUoV"
      },
      "outputs": [],
      "source": [
        "def plot_images(images, cls_true, cls_pred=None, noise=0.0):\n",
        "    assert len(images) == len(cls_true) == 9\n",
        "    \n",
        "    # Create figure with 4x4 sub-plots.\n",
        "    fig, axes = plt.subplots(3, 3)\n",
        "    fig.subplots_adjust(hspace=0.3, wspace=0.3)\n",
        "\n",
        "    for i, ax in enumerate(axes.flat):\n",
        "        # Get the i'th image and reshape the array.\n",
        "        image = images[i].reshape(img_shape)\n",
        "        \n",
        "        # Add the adversarial noise to the image.\n",
        "        image += noise\n",
        "        \n",
        "        # Ensure the noisy pixel-values are between 0 and 1.\n",
        "        image = np.clip(image, 0.0, 1.0)\n",
        "\n",
        "        # Plot image.\n",
        "        ax.imshow(image,\n",
        "                  cmap='binary', interpolation='nearest')\n",
        "\n",
        "        # Show true and predicted classes.\n",
        "        if cls_pred is None:\n",
        "            xlabel = \"True: {0}\".format(cls_true[i])\n",
        "        else:\n",
        "            xlabel = \"True: {0}, Pred: {1}\".format(cls_true[i], cls_pred[i])\n",
        "\n",
        "        # Show the classes as the label on the x-axis.\n",
        "        ax.set_xlabel(xlabel)\n",
        "        \n",
        "        # Remove ticks from the plot.\n",
        "        ax.set_xticks([])\n",
        "        ax.set_yticks([])\n",
        "    \n",
        "    # Ensure the plot is shown correctly with multiple plots\n",
        "    # in a single Notebook cell.\n",
        "    plt.show()"
      ]
    },
    {
      "cell_type": "markdown",
      "metadata": {
        "id": "MEEMhARQuUoW"
      },
      "source": [
        "### Plot a few images to see if data is correct"
      ]
    },
    {
      "cell_type": "code",
      "execution_count": null,
      "metadata": {
        "id": "5FaPTFmguUoW",
        "outputId": "75ab12c0-8a70-47fd-b98b-9fd5e02db135",
        "colab": {
          "base_uri": "https://localhost:8080/",
          "height": 262
        }
      },
      "outputs": [
        {
          "output_type": "display_data",
          "data": {
            "text/plain": [
              "<Figure size 432x288 with 9 Axes>"
            ],
            "image/png": "[encoded data removed]"
          },
          "metadata": {}
        }
      ],
      "source": [
        "# Get the first images from the test-set.\n",
        "images = data.x_test[0:9]\n",
        "\n",
        "# Get the true classes for those images.\n",
        "cls_true = data.y_test_cls[0:9]\n",
        "\n",
        "# Plot the images and labels using our helper-function above.\n",
        "plot_images(images=images, cls_true=cls_true)"
      ]
    },
    {
      "cell_type": "markdown",
      "metadata": {
        "id": "o9rxrCeluUoX"
      },
      "source": [
        "## TensorFlow Graph"
      ]
    },
    {
      "cell_type": "markdown",
      "metadata": {
        "id": "c8rt9I4kuUoX"
      },
      "source": [
        "The computational graph for the neural network will now be constructed using TensorFlow and PrettyTensor. As usual, we need to create placeholder variables for feeding images into the graph and then we add the adversarial noise to the images. The noisy images are then used as input to a convolutional neural network.\n",
        "\n",
        "There are two separate optimization procedures for this network. A normal optimization procedure for the variables of the neural network itself, and another optimization procedure for the adversarial noise. Both optimization procedures are implemented directly in TensorFlow."
      ]
    },
    {
      "cell_type": "markdown",
      "metadata": {
        "id": "sgKN4qzAuUoX"
      },
      "source": [
        "### Placeholder variables"
      ]
    },
    {
      "cell_type": "markdown",
      "metadata": {
        "id": "-7lRGNj_uUoY"
      },
      "source": [
        "Placeholder variables provide the input to the computational graph in TensorFlow that we may change each time we execute the graph. We call this feeding the placeholder variables.\n",
        "\n",
        "First we define the placeholder variable for the input images. This allows us to change the images that are input to the TensorFlow graph. This is a so-called tensor, which just means that it is a multi-dimensional array. The data-type is set to `float32` and the shape is set to `[None, img_size_flat]`, where `None` means that the tensor may hold an arbitrary number of images with each image being a vector of length `img_size_flat`."
      ]
    },
    {
      "cell_type": "code",
      "execution_count": null,
      "metadata": {
        "id": "g_uczpe0uUoY"
      },
      "outputs": [],
      "source": [
        "x = tf.placeholder(tf.float32, shape=[None, img_size_flat], name='x')"
      ]
    },
    {
      "cell_type": "markdown",
      "metadata": {
        "id": "7AeoqUePuUoY"
      },
      "source": [
        "The convolutional layers expect `x` to be encoded as a 4-dim tensor so we have to reshape it so its shape is instead `[num_images, img_height, img_width, num_channels]`. Note that `img_height == img_width == img_size` and `num_images` can be inferred automatically by using -1 for the size of the first dimension. So the reshape operation is:"
      ]
    },
    {
      "cell_type": "code",
      "execution_count": null,
      "metadata": {
        "id": "XV02qnD9uUoY"
      },
      "outputs": [],
      "source": [
        "x_image = tf.reshape(x, [-1, img_size, img_size, num_channels])"
      ]
    },
    {
      "cell_type": "markdown",
      "metadata": {
        "id": "BtFSk8EOuUoZ"
      },
      "source": [
        "Next we have the placeholder variable for the true labels associated with the images that were input in the placeholder variable `x`. The shape of this placeholder variable is `[None, num_classes]` which means it may hold an arbitrary number of labels and each label is a vector of length `num_classes` which is 10 in this case."
      ]
    },
    {
      "cell_type": "code",
      "execution_count": null,
      "metadata": {
        "id": "Wk6gBAhtuUoZ"
      },
      "outputs": [],
      "source": [
        "y_true = tf.placeholder(tf.float32, shape=[None, num_classes], name='y_true')"
      ]
    },
    {
      "cell_type": "markdown",
      "metadata": {
        "id": "Tq8wBuy4uUoZ"
      },
      "source": [
        "We could also have a placeholder variable for the class-number, but we will instead calculate it using argmax. Note that this is a TensorFlow operator so nothing is calculated at this point."
      ]
    },
    {
      "cell_type": "code",
      "execution_count": null,
      "metadata": {
        "id": "ZRhKsWspuUoZ"
      },
      "outputs": [],
      "source": [
        "y_true_cls = tf.argmax(y_true, axis=1)"
      ]
    },
    {
      "cell_type": "markdown",
      "metadata": {
        "id": "2jfvEWOPuUoa"
      },
      "source": [
        "### Adversarial Noise"
      ]
    },
    {
      "cell_type": "markdown",
      "metadata": {
        "id": "rMXYm9pPuUoa"
      },
      "source": [
        "The pixels in the input image are float-values between 0.0 and 1.0. The adversarial noise is a number that is added or subtracted from the pixels in the input image.\n",
        "\n",
        "The limit of the adversarial noise is set to 0.35 so the noise will be between &plusmn;0.35."
      ]
    },
    {
      "cell_type": "code",
      "execution_count": null,
      "metadata": {
        "id": "Di5rrys5uUoa"
      },
      "outputs": [],
      "source": [
        "noise_limit = 0.35"
      ]
    },
    {
      "cell_type": "markdown",
      "metadata": {
        "id": "8ni0RFSluUoa"
      },
      "source": [
        "The optimizer for the adversarial noise will try and minimize two loss-measures: (1) The normal loss-measure for the neural network, so we will find the noise that gives the best classification accuracy for the adversarial target-class; and (2) the so-called L2-loss-measure which tries to keep the noise as low as possible.\n",
        "\n",
        "The following weight determines how important the L2-loss is compared to the normal loss-measure. An L2-weight close to zero usually works best."
      ]
    },
    {
      "cell_type": "code",
      "execution_count": null,
      "metadata": {
        "id": "OWHkLlNuuUob"
      },
      "outputs": [],
      "source": [
        "noise_l2_weight = 0.02"
      ]
    },
    {
      "cell_type": "markdown",
      "metadata": {
        "id": "zV0W51b6uUob"
      },
      "source": [
        "When we create the new variable for the noise, we must inform TensorFlow which variable-collections that it belongs to, so we can later inform the two optimizers which variables to update.\n",
        "\n",
        "First we define a name for our new variable-collection. This is just a string."
      ]
    },
    {
      "cell_type": "code",
      "execution_count": null,
      "metadata": {
        "id": "7ynK9eF-uUob"
      },
      "outputs": [],
      "source": [
        "ADVERSARY_VARIABLES = 'adversary_variables'"
      ]
    },
    {
      "cell_type": "markdown",
      "metadata": {
        "id": "cvvrKRp7uUoc"
      },
      "source": [
        "Then we create a list of the collections that we want the new noise-variable to belong to. If we add the noise-variable to the collection `tf.GraphKeys.VARIABLES` then it will also get initialized with all the other variables in the TensorFlow graph, but it will not get optimized. This is a bit confusing."
      ]
    },
    {
      "cell_type": "code",
      "execution_count": null,
      "metadata": {
        "id": "lGGZIKnIuUoc"
      },
      "outputs": [],
      "source": [
        "collections = [tf.GraphKeys.GLOBAL_VARIABLES, ADVERSARY_VARIABLES]"
      ]
    },
    {
      "cell_type": "markdown",
      "metadata": {
        "id": "E5aNaRTouUoc"
      },
      "source": [
        "Now we can create the new variable for the adversarial noise. It will be initialized to zero. It will not be trainable, so it will not be optimized along with the other variables of the neural network. This allows us to create two separate optimization procedures."
      ]
    },
    {
      "cell_type": "code",
      "execution_count": null,
      "metadata": {
        "id": "7HnKU5mmuUod"
      },
      "outputs": [],
      "source": [
        "x_noise = tf.Variable(tf.zeros([img_size, img_size, num_channels]),\n",
        "                      name='x_noise', trainable=False,\n",
        "                      collections=collections)"
      ]
    },
    {
      "cell_type": "markdown",
      "metadata": {
        "id": "Nqj7DlDWuUod"
      },
      "source": [
        "The adversarial noise will be limited / clipped to the given \n",
        "&plusmn; noise-limit that we set above. Note that this is actually not executed at this point in the computational graph, but will instead be executed after the optimization-step, see further below."
      ]
    },
    {
      "cell_type": "code",
      "execution_count": null,
      "metadata": {
        "id": "9Zf5d3vOuUod"
      },
      "outputs": [],
      "source": [
        "x_noise_clip = tf.assign(x_noise, tf.clip_by_value(x_noise,\n",
        "                                                   -noise_limit,\n",
        "                                                   noise_limit))"
      ]
    },
    {
      "cell_type": "markdown",
      "metadata": {
        "id": "epqtbIYGuUod"
      },
      "source": [
        "The noisy image is just the sum of the input image and the adversarial noise."
      ]
    },
    {
      "cell_type": "code",
      "execution_count": null,
      "metadata": {
        "id": "ogg5a4H0uUoe"
      },
      "outputs": [],
      "source": [
        "x_noisy_image = x_image + x_noise"
      ]
    },
    {
      "cell_type": "markdown",
      "metadata": {
        "id": "8dgoYlnQuUoe"
      },
      "source": [
        "When adding the noise to the input image, it may overflow the boundaries for a valid image, so we clip / limit the noisy image to ensure its pixel-values are between 0 and 1."
      ]
    },
    {
      "cell_type": "code",
      "execution_count": null,
      "metadata": {
        "id": "mGfyFAMQuUoe"
      },
      "outputs": [],
      "source": [
        "x_noisy_image = tf.clip_by_value(x_noisy_image, 0.0, 1.0)"
      ]
    },
    {
      "cell_type": "markdown",
      "metadata": {
        "id": "WjT465SVuUof"
      },
      "source": [
        "### Convolutional Neural Network"
      ]
    },
    {
      "cell_type": "markdown",
      "metadata": {
        "id": "z5IeKLKguUof"
      },
      "source": [
        "We will use the Layers API to construct the convolutional neural network, but this time we have 11 neural networks."
      ]
    },
    {
      "cell_type": "code",
      "execution_count": null,
      "metadata": {
        "colab": {
          "base_uri": "https://localhost:8080/"
        },
        "outputId": "dbfcfab5-b84f-476a-ab05-bc0161cc198a",
        "id": "xYB0Bc7dVR4g"
      },
      "outputs": [
        {
          "output_type": "stream",
          "name": "stdout",
          "text": [
            "WARNING:tensorflow:From <ipython-input-22-90e48d09e697>:5: flatten (from tensorflow.python.layers.core) is deprecated and will be removed in a future version.\n",
            "Instructions for updating:\n",
            "Use keras.layers.flatten instead.\n",
            "WARNING:tensorflow:From /tensorflow-1.15.2/python3.7/tensorflow_core/python/layers/core.py:332: Layer.apply (from tensorflow.python.keras.engine.base_layer) is deprecated and will be removed in a future version.\n",
            "Instructions for updating:\n",
            "Please use `layer.__call__` method instead.\n",
            "WARNING:tensorflow:From <ipython-input-22-90e48d09e697>:9: dense (from tensorflow.python.layers.core) is deprecated and will be removed in a future version.\n",
            "Instructions for updating:\n",
            "Use keras.layers.Dense instead.\n"
          ]
        }
      ],
      "source": [
        "# Start the network with the noisy input image.\n",
        "\n",
        "net = x_noisy_image\n",
        "\n",
        "net = tf.layers.flatten(net)\n",
        "\n",
        "# 1st fully-connected / dense layer.\n",
        "net = tf.layers.dense(inputs=net, name='layer_fc',\n",
        "                      units=128, activation=tf.nn.relu)\n",
        "net = tf.layers.dense(inputs=net, name='layer_fcc',\n",
        "                      units=64, activation=tf.nn.relu)\n",
        "\n",
        "# 2nd fully-connected / dense layer.\n",
        "net = tf.layers.dense(inputs=net, name='layer_fc_out',\n",
        "                      units=num_classes, activation=None)\n",
        "\n",
        "# Unscaled output of the network.\n",
        "logits = net\n",
        "\n",
        "# Softmax output of the network.\n",
        "y_pred = tf.nn.softmax(logits=logits)\n",
        "\n",
        "# Loss measure to be optimized.\n",
        "cross_entropy = tf.nn.softmax_cross_entropy_with_logits_v2(labels=y_true,\n",
        "                                                           logits=logits)\n",
        "loss = tf.reduce_mean(cross_entropy)\n",
        "#create more nueral networks"
      ]
    },
    {
      "cell_type": "code",
      "execution_count": null,
      "metadata": {
        "id": "xTHAmYy-BtSL"
      },
      "outputs": [],
      "source": [
        "# Start the network with the noisy input image.\n",
        "\n",
        "net0 = x_noisy_image\n",
        "\n",
        "net0 = tf.layers.flatten(net0)\n",
        "\n",
        "# 1st fully-connected / dense layer.\n",
        "net0 = tf.layers.dense(inputs=net0, name='layer_fc0',\n",
        "                      units=128, activation=tf.nn.relu)\n",
        "net0 = tf.layers.dense(inputs=net0, name='layer_fc_0',\n",
        "                      units=64, activation=tf.nn.relu)\n",
        "\n",
        "# 2nd fully-connected / dense layer.\n",
        "net0 = tf.layers.dense(inputs=net0, name='layer_fc_out_0',\n",
        "                      units=num_classes, activation=None)\n",
        "\n",
        "# Unscaled output of the network.\n",
        "logits = net0\n",
        "\n",
        "# Softmax output of the network.\n",
        "y_pred_0 = tf.nn.softmax(logits=logits)\n",
        "\n",
        "# Loss measure to be optimized.\n",
        "cross_entropy = tf.nn.softmax_cross_entropy_with_logits_v2(labels=y_true,\n",
        "                                                           logits=logits)\n",
        "loss_0 = tf.reduce_mean(cross_entropy)\n",
        "#create more nueral networks"
      ]
    },
    {
      "cell_type": "code",
      "execution_count": null,
      "metadata": {
        "id": "F_RdzaEbCP7p"
      },
      "outputs": [],
      "source": [
        "# Start the network with the noisy input image.\n",
        "net1 = x_noisy_image\n",
        "\n",
        "# 1st convolutional layer.\n",
        "\n",
        "\n",
        "net1 = tf.layers.flatten(net1)\n",
        "\n",
        "# 1st fully-connected / dense layer.\n",
        "net1 = tf.layers.dense(inputs=net1, name='layer_fc1',\n",
        "                      units=128, activation=tf.nn.relu)\n",
        "net1 = tf.layers.dense(inputs=net1, name='layer_fc_1',\n",
        "                      units=64, activation=tf.nn.relu)\n",
        "\n",
        "# 2nd fully-connected / dense layer.\n",
        "net1 = tf.layers.dense(inputs=net1, name='layer_fc_out1',\n",
        "                      units=num_classes, activation=None)\n",
        "\n",
        "# Unscaled output of the network.\n",
        "logits = net1\n",
        "\n",
        "# Softmax output of the network.\n",
        "y_pred_1 = tf.nn.softmax(logits=logits)\n",
        "\n",
        "# Loss measure to be optimized.\n",
        "cross_entropy = tf.nn.softmax_cross_entropy_with_logits_v2(labels=y_true,\n",
        "                                                           logits=logits)\n",
        "loss_1 = tf.reduce_mean(cross_entropy)\n",
        "#create more nueral networks"
      ]
    },
    {
      "cell_type": "code",
      "execution_count": null,
      "metadata": {
        "id": "PiPNXTKrDBLY"
      },
      "outputs": [],
      "source": [
        "# Start the network with the noisy input image.\n",
        "net2 = x_noisy_image\n",
        "\n",
        "net2 = tf.layers.flatten(net2)\n",
        "\n",
        "# 1st fully-connected / dense layer.\n",
        "net2 = tf.layers.dense(inputs=net2, name='layer_fc2',\n",
        "                      units=128, activation=tf.nn.relu)\n",
        "net2 = tf.layers.dense(inputs=net2, name='layer_fc_2',\n",
        "                      units=64, activation=tf.nn.relu)\n",
        "\n",
        "# 2nd fully-connected / dense layer.\n",
        "net2 = tf.layers.dense(inputs=net2, name='layer_fc_out2',\n",
        "                      units=num_classes, activation=None)\n",
        "\n",
        "# Unscaled output of the network.\n",
        "logits = net2\n",
        "\n",
        "# Softmax output of the network.\n",
        "y_pred_2 = tf.nn.softmax(logits=logits)\n",
        "\n",
        "# Loss measure to be optimized.\n",
        "cross_entropy = tf.nn.softmax_cross_entropy_with_logits_v2(labels=y_true,\n",
        "                                                           logits=logits)\n",
        "loss_2 = tf.reduce_mean(cross_entropy)\n",
        "#create more nueral networks"
      ]
    },
    {
      "cell_type": "code",
      "execution_count": null,
      "metadata": {
        "id": "-Cs2P6g52APA"
      },
      "outputs": [],
      "source": [
        "# Start the network with the noisy input image.\n",
        "net3 = x_noisy_image\n",
        "\n",
        "net3 = tf.layers.flatten(net3)\n",
        "\n",
        "# 1st fully-connected / dense layer.\n",
        "net3 = tf.layers.dense(inputs=net3, name='layer_fc3',\n",
        "                      units=128, activation=tf.nn.relu)\n",
        "net3 = tf.layers.dense(inputs=net3, name='layer_fc_3',\n",
        "                      units=64, activation=tf.nn.relu)\n",
        "\n",
        "# 2nd fully-connected / dense layer.\n",
        "net3 = tf.layers.dense(inputs=net3, name='layer_fc_out3',\n",
        "                      units=num_classes, activation=None)\n",
        "\n",
        "# Unscaled output of the network.\n",
        "logits = net3\n",
        "\n",
        "# Softmax output of the network.\n",
        "y_pred_3 = tf.nn.softmax(logits=logits)\n",
        "\n",
        "# Loss measure to be optimized.\n",
        "cross_entropy = tf.nn.softmax_cross_entropy_with_logits_v2(labels=y_true,\n",
        "                                                           logits=logits)\n",
        "loss_3 = tf.reduce_mean(cross_entropy)\n",
        "#create more nueral networks"
      ]
    },
    {
      "cell_type": "code",
      "execution_count": null,
      "metadata": {
        "id": "NXPFfXNa-s0h"
      },
      "outputs": [],
      "source": [
        "# Start the network with the noisy input image.\n",
        "net4 = x_noisy_image\n",
        "\n",
        "net4 = tf.layers.flatten(net4)\n",
        "\n",
        "# 1st fully-connected / dense layer.\n",
        "net4 = tf.layers.dense(inputs=net4, name='layer_fc4',\n",
        "                      units=128, activation=tf.nn.relu)\n",
        "net4 = tf.layers.dense(inputs=net4, name='layer_fc_4',\n",
        "                      units=64, activation=tf.nn.relu)\n",
        "\n",
        "# 2nd fully-connected / dense layer.\n",
        "net4 = tf.layers.dense(inputs=net4, name='layer_fc_out4',\n",
        "                      units=num_classes, activation=None)\n",
        "\n",
        "\n",
        "# Unscaled output of the network.\n",
        "logits = net4\n",
        "\n",
        "# Softmax output of the network.\n",
        "y_pred_4 = tf.nn.softmax(logits=logits)\n",
        "\n",
        "# Loss measure to be optimized.\n",
        "cross_entropy = tf.nn.softmax_cross_entropy_with_logits_v2(labels=y_true,\n",
        "                                                           logits=logits)\n",
        "loss_4 = tf.reduce_mean(cross_entropy)\n",
        "#create more nueral networks"
      ]
    },
    {
      "cell_type": "code",
      "execution_count": null,
      "metadata": {
        "id": "epK460V5DUJI"
      },
      "outputs": [],
      "source": [
        "# Start the network with the noisy input image.\n",
        "net5 = x_noisy_image\n",
        "\n",
        "net5 = tf.layers.flatten(net5)\n",
        "\n",
        "# 1st fully-connected / dense layer.\n",
        "net5 = tf.layers.dense(inputs=net5, name='layer_fc5',\n",
        "                      units=128, activation=tf.nn.relu)\n",
        "net5 = tf.layers.dense(inputs=net5, name='layer_fc_5',\n",
        "                      units=64, activation=tf.nn.relu)\n",
        "\n",
        "# 2nd fully-connected / dense layer.\n",
        "net5 = tf.layers.dense(inputs=net5, name='layer_fc_out5',\n",
        "                      units=num_classes, activation=None)\n",
        "\n",
        "# Unscaled output of the network.\n",
        "logits = net5\n",
        "\n",
        "# Softmax output of the network.\n",
        "y_pred_5 = tf.nn.softmax(logits=logits)\n",
        "\n",
        "# Loss measure to be optimized.\n",
        "cross_entropy = tf.nn.softmax_cross_entropy_with_logits_v2(labels=y_true,\n",
        "                                                           logits=logits)\n",
        "loss_5 = tf.reduce_mean(cross_entropy)\n",
        "#create more nueral networks"
      ]
    },
    {
      "cell_type": "code",
      "execution_count": null,
      "metadata": {
        "id": "sYxabeoyDjXt"
      },
      "outputs": [],
      "source": [
        "# Start the network with the noisy input image.\n",
        "net6 = x_noisy_image\n",
        "\n",
        "net6 = tf.layers.flatten(net6)\n",
        "\n",
        "# 1st fully-connected / dense layer.\n",
        "net6 = tf.layers.dense(inputs=net6, name='layer_fc6',\n",
        "                      units=128, activation=tf.nn.relu)\n",
        "net6 = tf.layers.dense(inputs=net6, name='layer_fc_6',\n",
        "                      units=64, activation=tf.nn.relu)\n",
        "\n",
        "# 2nd fully-connected / dense layer.\n",
        "net6 = tf.layers.dense(inputs=net6, name='layer_fc_out6',\n",
        "                      units=num_classes, activation=None)\n",
        "\n",
        "\n",
        "# Unscaled output of the network.\n",
        "logits = net6\n",
        "\n",
        "# Softmax output of the network.\n",
        "y_pred_6 = tf.nn.softmax(logits=logits)\n",
        "\n",
        "# Loss measure to be optimized.\n",
        "cross_entropy = tf.nn.softmax_cross_entropy_with_logits_v2(labels=y_true,\n",
        "                                                           logits=logits)\n",
        "loss_6 = tf.reduce_mean(cross_entropy)\n",
        "#create more nueral networks"
      ]
    },
    {
      "cell_type": "code",
      "execution_count": null,
      "metadata": {
        "id": "vXvyK_aYDtp8"
      },
      "outputs": [],
      "source": [
        "# Start the network with the noisy input image.\n",
        "net7 = x_noisy_image\n",
        "\n",
        "net7 = tf.layers.flatten(net7)\n",
        "\n",
        "# 1st fully-connected / dense layer.\n",
        "net7 = tf.layers.dense(inputs=net7, name='layer_fc7',\n",
        "                      units=128, activation=tf.nn.relu)\n",
        "net7 = tf.layers.dense(inputs=net7, name='layer_fc_7',\n",
        "                      units=64, activation=tf.nn.relu)\n",
        "\n",
        "# 2nd fully-connected / dense layer.\n",
        "net7 = tf.layers.dense(inputs=net7, name='layer_fc_out7',\n",
        "                      units=num_classes, activation=None)\n",
        "\n",
        "# Unscaled output of the network.\n",
        "logits = net7\n",
        "\n",
        "# Softmax output of the network.\n",
        "y_pred_7 = tf.nn.softmax(logits=logits)\n",
        "\n",
        "# Loss measure to be optimized.\n",
        "cross_entropy = tf.nn.softmax_cross_entropy_with_logits_v2(labels=y_true,\n",
        "                                                           logits=logits)\n",
        "loss_7 = tf.reduce_mean(cross_entropy)\n",
        "#create more nueral networks"
      ]
    },
    {
      "cell_type": "code",
      "execution_count": null,
      "metadata": {
        "id": "ysJte-ieD5Qh"
      },
      "outputs": [],
      "source": [
        "# Start the network with the noisy input image.\n",
        "net8 = x_noisy_image\n",
        "\n",
        "\n",
        "net8 = tf.layers.flatten(net8)\n",
        "\n",
        "# 1st fully-connected / dense layer.\n",
        "net8 = tf.layers.dense(inputs=net8, name='layer_fc8',\n",
        "                      units=128, activation=tf.nn.relu)\n",
        "net8 = tf.layers.dense(inputs=net8, name='layer_fc_8',\n",
        "                      units=64, activation=tf.nn.relu)\n",
        "\n",
        "# 2nd fully-connected / dense layer.\n",
        "net8 = tf.layers.dense(inputs=net8, name='layer_fc_out8',\n",
        "                      units=num_classes, activation=None)\n",
        "\n",
        "# Unscaled output of the network.\n",
        "logits = net8\n",
        "\n",
        "# Softmax output of the network.\n",
        "y_pred_8 = tf.nn.softmax(logits=logits)\n",
        "\n",
        "# Loss measure to be optimized.\n",
        "cross_entropy = tf.nn.softmax_cross_entropy_with_logits_v2(labels=y_true,\n",
        "                                                           logits=logits)\n",
        "loss_8 = tf.reduce_mean(cross_entropy)\n",
        "#create more nueral networks"
      ]
    },
    {
      "cell_type": "code",
      "execution_count": null,
      "metadata": {
        "id": "DPJUPCudEJjM"
      },
      "outputs": [],
      "source": [
        "# Start the network with the noisy input image.\n",
        "net9 = x_noisy_image\n",
        "\n",
        "net9 = tf.layers.flatten(net9)\n",
        "\n",
        "# 1st fully-connected / dense layer.\n",
        "net9 = tf.layers.dense(inputs=net9, name='layer_fc9',\n",
        "                      units=128, activation=tf.nn.relu)\n",
        "net9 = tf.layers.dense(inputs=net9, name='layer_fc_9',\n",
        "                      units=64, activation=tf.nn.relu)\n",
        "\n",
        "# 2nd fully-connected / dense layer.\n",
        "net9 = tf.layers.dense(inputs=net9, name='layer_fc_out9',\n",
        "                      units=num_classes, activation=None)\n",
        "\n",
        "# Unscaled output of the network.\n",
        "logits = net9\n",
        "\n",
        "# Softmax output of the network.\n",
        "y_pred_9 = tf.nn.softmax(logits=logits)\n",
        "\n",
        "# Loss measure to be optimized.\n",
        "cross_entropy = tf.nn.softmax_cross_entropy_with_logits_v2(labels=y_true,\n",
        "                                                           logits=logits)\n",
        "loss_9 = tf.reduce_mean(cross_entropy)\n",
        "#create more nueral networks"
      ]
    },
    {
      "cell_type": "markdown",
      "metadata": {
        "id": "RcyaCmO8uUog"
      },
      "source": [
        "### Optimizer for Normal Training"
      ]
    },
    {
      "cell_type": "markdown",
      "metadata": {
        "id": "PWi3ajPSuUog"
      },
      "source": [
        "This is a list of the variables for the neural network that will be trained during the normal optimization procedure. Note that `'x_noise:0'` is not in the list, so the adversarial noise is not being optimized in the normal procedure."
      ]
    },
    {
      "cell_type": "code",
      "execution_count": null,
      "metadata": {
        "scrolled": true,
        "id": "KChp0qxpuUoh",
        "outputId": "78fa534b-2f12-406f-8d5d-1075fc7312ee",
        "colab": {
          "base_uri": "https://localhost:8080/"
        }
      },
      "outputs": [
        {
          "output_type": "execute_result",
          "data": {
            "text/plain": [
              "['layer_fc/kernel:0',\n",
              " 'layer_fc/bias:0',\n",
              " 'layer_fcc/kernel:0',\n",
              " 'layer_fcc/bias:0',\n",
              " 'layer_fc_out/kernel:0',\n",
              " 'layer_fc_out/bias:0',\n",
              " 'layer_fc0/kernel:0',\n",
              " 'layer_fc0/bias:0',\n",
              " 'layer_fc_0/kernel:0',\n",
              " 'layer_fc_0/bias:0',\n",
              " 'layer_fc_out_0/kernel:0',\n",
              " 'layer_fc_out_0/bias:0',\n",
              " 'layer_fc1/kernel:0',\n",
              " 'layer_fc1/bias:0',\n",
              " 'layer_fc_1/kernel:0',\n",
              " 'layer_fc_1/bias:0',\n",
              " 'layer_fc_out1/kernel:0',\n",
              " 'layer_fc_out1/bias:0',\n",
              " 'layer_fc2/kernel:0',\n",
              " 'layer_fc2/bias:0',\n",
              " 'layer_fc_2/kernel:0',\n",
              " 'layer_fc_2/bias:0',\n",
              " 'layer_fc_out2/kernel:0',\n",
              " 'layer_fc_out2/bias:0',\n",
              " 'layer_fc3/kernel:0',\n",
              " 'layer_fc3/bias:0',\n",
              " 'layer_fc_3/kernel:0',\n",
              " 'layer_fc_3/bias:0',\n",
              " 'layer_fc_out3/kernel:0',\n",
              " 'layer_fc_out3/bias:0',\n",
              " 'layer_fc4/kernel:0',\n",
              " 'layer_fc4/bias:0',\n",
              " 'layer_fc_4/kernel:0',\n",
              " 'layer_fc_4/bias:0',\n",
              " 'layer_fc_out4/kernel:0',\n",
              " 'layer_fc_out4/bias:0',\n",
              " 'layer_fc5/kernel:0',\n",
              " 'layer_fc5/bias:0',\n",
              " 'layer_fc_5/kernel:0',\n",
              " 'layer_fc_5/bias:0',\n",
              " 'layer_fc_out5/kernel:0',\n",
              " 'layer_fc_out5/bias:0',\n",
              " 'layer_fc6/kernel:0',\n",
              " 'layer_fc6/bias:0',\n",
              " 'layer_fc_6/kernel:0',\n",
              " 'layer_fc_6/bias:0',\n",
              " 'layer_fc_out6/kernel:0',\n",
              " 'layer_fc_out6/bias:0',\n",
              " 'layer_fc7/kernel:0',\n",
              " 'layer_fc7/bias:0',\n",
              " 'layer_fc_7/kernel:0',\n",
              " 'layer_fc_7/bias:0',\n",
              " 'layer_fc_out7/kernel:0',\n",
              " 'layer_fc_out7/bias:0',\n",
              " 'layer_fc8/kernel:0',\n",
              " 'layer_fc8/bias:0',\n",
              " 'layer_fc_8/kernel:0',\n",
              " 'layer_fc_8/bias:0',\n",
              " 'layer_fc_out8/kernel:0',\n",
              " 'layer_fc_out8/bias:0',\n",
              " 'layer_fc9/kernel:0',\n",
              " 'layer_fc9/bias:0',\n",
              " 'layer_fc_9/kernel:0',\n",
              " 'layer_fc_9/bias:0',\n",
              " 'layer_fc_out9/kernel:0',\n",
              " 'layer_fc_out9/bias:0']"
            ]
          },
          "metadata": {},
          "execution_count": 33
        }
      ],
      "source": [
        "[var.name for var in tf.trainable_variables()]"
      ]
    },
    {
      "cell_type": "markdown",
      "metadata": {
        "id": "lTS0kRt1uUoi"
      },
      "source": [
        "Optimization of these variables in the neural network is done with the Adam-optimizer using the loss-measure that was returned from PrettyTensor when we constructed the neural network above.\n",
        "\n",
        "Note that optimization is not performed at this point. In fact, nothing is calculated at all, we just add the optimizer-object to the TensorFlow graph for later execution."
      ]
    },
    {
      "cell_type": "code",
      "execution_count": null,
      "metadata": {
        "id": "V_VOqn6_uUoi"
      },
      "outputs": [],
      "source": [
        "optimizer = tf.train.AdamOptimizer(learning_rate=1e-3).minimize(loss)\n",
        "optimizer_0 = tf.train.AdamOptimizer(learning_rate=1e-3).minimize(loss_0)\n",
        "optimizer_1 = tf.train.AdamOptimizer(learning_rate=1e-3).minimize(loss_1)\n",
        "optimizer_2 = tf.train.AdamOptimizer(learning_rate=1e-3).minimize(loss_2)\n",
        "optimizer_3 = tf.train.AdamOptimizer(learning_rate=1e-3).minimize(loss_3)\n",
        "optimizer_4 = tf.train.AdamOptimizer(learning_rate=1e-3).minimize(loss_4)\n",
        "optimizer_5 = tf.train.AdamOptimizer(learning_rate=1e-3).minimize(loss_5)\n",
        "optimizer_6 = tf.train.AdamOptimizer(learning_rate=1e-3).minimize(loss_6)\n",
        "optimizer_7 = tf.train.AdamOptimizer(learning_rate=1e-3).minimize(loss_7)\n",
        "optimizer_8 = tf.train.AdamOptimizer(learning_rate=1e-3).minimize(loss_8)\n",
        "optimizer_9 = tf.train.AdamOptimizer(learning_rate=1e-3).minimize(loss_9)"
      ]
    },
    {
      "cell_type": "markdown",
      "metadata": {
        "id": "eoi3pc4QuUoj"
      },
      "source": [
        "### Optimizer for Adversarial Noise"
      ]
    },
    {
      "cell_type": "markdown",
      "metadata": {
        "id": "eIpzh65cuUoj"
      },
      "source": [
        "Get the list of variables that must be optimized in the second procedure for the adversarial noise."
      ]
    },
    {
      "cell_type": "code",
      "execution_count": null,
      "metadata": {
        "id": "0GG_NdE2uUoj"
      },
      "outputs": [],
      "source": [
        "adversary_variables = tf.get_collection(ADVERSARY_VARIABLES)"
      ]
    },
    {
      "cell_type": "markdown",
      "metadata": {
        "id": "xxwPQ-CouUok"
      },
      "source": [
        "Show the list of variable-names. There is only one, which is the adversarial noise variable that we created above."
      ]
    },
    {
      "cell_type": "code",
      "execution_count": null,
      "metadata": {
        "scrolled": true,
        "id": "H8nnDibTuUok",
        "outputId": "c433cd6a-bad4-46fe-8a91-e64aa17a5b3e",
        "colab": {
          "base_uri": "https://localhost:8080/"
        }
      },
      "outputs": [
        {
          "output_type": "execute_result",
          "data": {
            "text/plain": [
              "['x_noise:0']"
            ]
          },
          "metadata": {},
          "execution_count": 36
        }
      ],
      "source": [
        "[var.name for var in adversary_variables]"
      ]
    },
    {
      "cell_type": "markdown",
      "metadata": {
        "id": "qcaIG8BKuUol"
      },
      "source": [
        "We will combine the loss-function for the normal optimization with a so-called L2-loss for the noise-variable. This should result in the minimum values for the adversarial noise along with the best classification accuracy.\n",
        "\n",
        "The L2-loss is scaled by a weight that is typically set close to zero."
      ]
    },
    {
      "cell_type": "code",
      "execution_count": null,
      "metadata": {
        "id": "FQnW7dPguUol"
      },
      "outputs": [],
      "source": [
        "l2_loss_noise = noise_l2_weight * tf.nn.l2_loss(x_noise)"
      ]
    },
    {
      "cell_type": "markdown",
      "metadata": {
        "id": "GzoWVQ1IuUom"
      },
      "source": [
        "Combine the normal loss-function with the L2-loss for the adversarial noise."
      ]
    },
    {
      "cell_type": "code",
      "source": [
        "loss_adversary = loss  + l2_loss_noise\n",
        "loss_adversary0 = loss_0 + l2_loss_noise\n",
        "loss_adversary1 = loss_1 + l2_loss_noise\n",
        "loss_adversary2 = loss_2 + l2_loss_noise\n",
        "loss_adversary3 = loss_3 + l2_loss_noise\n",
        "loss_adversary4 = loss_4 + l2_loss_noise\n",
        "loss_adversary5 = loss_5 + l2_loss_noise\n",
        "loss_adversary6 = loss_6 + l2_loss_noise\n",
        "loss_adversary7 = loss_7 + l2_loss_noise\n",
        "loss_adversary8 = loss_8 + l2_loss_noise\n",
        "loss_adversary9 = loss_9 + l2_loss_noise"
      ],
      "metadata": {
        "id": "IJAJjKPH4yj9"
      },
      "execution_count": null,
      "outputs": []
    },
    {
      "cell_type": "markdown",
      "metadata": {
        "id": "VSykviZVuUom"
      },
      "source": [
        "We can now create the optimizer for the adversarial noise. Because this optimizer is not supposed to update all the variables of the neural network, we must give it a list of the variables that we want updated, which is the variable for the adversarial noise. Also note the learning-rate is much greater than for the normal optimizer above."
      ]
    },
    {
      "cell_type": "code",
      "execution_count": null,
      "metadata": {
        "id": "fwjCJ397uUom",
        "colab": {
          "base_uri": "https://localhost:8080/"
        },
        "outputId": "cf781a8a-0a35-4780-dba4-ae27870b94be"
      },
      "outputs": [
        {
          "output_type": "stream",
          "name": "stdout",
          "text": [
            "WARNING:tensorflow:From /tensorflow-1.15.2/python3.7/tensorflow_core/python/ops/math_grad.py:1424: where (from tensorflow.python.ops.array_ops) is deprecated and will be removed in a future version.\n",
            "Instructions for updating:\n",
            "Use tf.where in 2.0, which has the same broadcast rule as np.where\n"
          ]
        }
      ],
      "source": [
        "optimizer_adversary = tf.train.AdamOptimizer(learning_rate=1e-2).minimize(loss_adversary, var_list=adversary_variables)\n",
        "optimizer_adversary_0 = tf.train.AdamOptimizer(learning_rate=1e-2).minimize(loss_adversary0, var_list=adversary_variables)\n",
        "optimizer_adversary_1 = tf.train.AdamOptimizer(learning_rate=1e-2).minimize(loss_adversary1, var_list=adversary_variables)\n",
        "optimizer_adversary_2 = tf.train.AdamOptimizer(learning_rate=1e-2).minimize(loss_adversary2, var_list=adversary_variables)\n",
        "optimizer_adversary_3 = tf.train.AdamOptimizer(learning_rate=1e-2).minimize(loss_adversary3, var_list=adversary_variables)\n",
        "optimizer_adversary_4 = tf.train.AdamOptimizer(learning_rate=1e-2).minimize(loss_adversary4, var_list=adversary_variables)\n",
        "optimizer_adversary_5 = tf.train.AdamOptimizer(learning_rate=1e-2).minimize(loss_adversary5, var_list=adversary_variables)\n",
        "optimizer_adversary_6 = tf.train.AdamOptimizer(learning_rate=1e-2).minimize(loss_adversary6, var_list=adversary_variables)\n",
        "optimizer_adversary_7 = tf.train.AdamOptimizer(learning_rate=1e-2).minimize(loss_adversary7, var_list=adversary_variables)\n",
        "optimizer_adversary_8 = tf.train.AdamOptimizer(learning_rate=1e-2).minimize(loss_adversary8, var_list=adversary_variables)\n",
        "optimizer_adversary_9 = tf.train.AdamOptimizer(learning_rate=1e-2).minimize(loss_adversary9, var_list=adversary_variables)"
      ]
    },
    {
      "cell_type": "markdown",
      "metadata": {
        "id": "5HNj33iDuUom"
      },
      "source": [
        "We have now created two optimizers for the neural network, one for the variables of the neural network and another for the single variable with the adversarial noise."
      ]
    },
    {
      "cell_type": "markdown",
      "metadata": {
        "id": "3vC9vJtLuUon"
      },
      "source": [
        "### Performance Measures\n",
        "\n",
        "We need a few more operations in the TensorFlow graph which will make it easier for us to display the progress to the user during optimization.\n",
        "\n",
        "First we calculate the predicted class number from the output of the Neural Network `y_pred`, which is a vector with 10 elements. The class number is the index of the largest element."
      ]
    },
    {
      "cell_type": "code",
      "execution_count": null,
      "metadata": {
        "id": "17EIxLceuUon"
      },
      "outputs": [],
      "source": [
        "y_pred_cls = tf.argmax(y_pred, axis=1)\n",
        "y_pred_cls_0 = tf.argmax(y_pred_0, axis=1)\n",
        "y_pred_cls_1 = tf.argmax(y_pred_1, axis=1)\n",
        "y_pred_cls_2 = tf.argmax(y_pred_2, axis=1)\n",
        "y_pred_cls_3 = tf.argmax(y_pred_3, axis=1)\n",
        "y_pred_cls_4 = tf.argmax(y_pred_4, axis=1)\n",
        "y_pred_cls_5 = tf.argmax(y_pred_5, axis=1)\n",
        "y_pred_cls_6 = tf.argmax(y_pred_6, axis=1)\n",
        "y_pred_cls_7 = tf.argmax(y_pred_7, axis=1)\n",
        "y_pred_cls_8 = tf.argmax(y_pred_8, axis=1)\n",
        "y_pred_cls_9 = tf.argmax(y_pred_9, axis=1)"
      ]
    },
    {
      "cell_type": "markdown",
      "metadata": {
        "id": "JDmQxogauUon"
      },
      "source": [
        "Then we create a vector of booleans telling us whether the predicted class equals the true class of each image."
      ]
    },
    {
      "cell_type": "code",
      "execution_count": null,
      "metadata": {
        "id": "pA-Gmz1_uUos"
      },
      "outputs": [],
      "source": [
        "correct_prediction = tf.equal(y_pred_cls, y_true_cls)\n",
        "correct_prediction_0 = tf.equal(y_pred_cls_0, y_true_cls)\n",
        "correct_prediction_1 = tf.equal(y_pred_cls_1, y_true_cls)\n",
        "correct_prediction_2 = tf.equal(y_pred_cls_2, y_true_cls)\n",
        "correct_prediction_3 = tf.equal(y_pred_cls_3, y_true_cls)\n",
        "correct_prediction_4 = tf.equal(y_pred_cls_4, y_true_cls)\n",
        "correct_prediction_5 = tf.equal(y_pred_cls_5, y_true_cls)\n",
        "correct_prediction_6 = tf.equal(y_pred_cls_6, y_true_cls)\n",
        "correct_prediction_7 = tf.equal(y_pred_cls_7, y_true_cls)\n",
        "correct_prediction_8 = tf.equal(y_pred_cls_8, y_true_cls)\n",
        "correct_prediction_9 = tf.equal(y_pred_cls_9, y_true_cls)"
      ]
    },
    {
      "cell_type": "markdown",
      "metadata": {
        "id": "vKnIDK0SuUos"
      },
      "source": [
        "The classification accuracy is calculated by first type-casting the vector of booleans to floats, so that False becomes 0 and True becomes 1, and then taking the average of these numbers."
      ]
    },
    {
      "cell_type": "code",
      "execution_count": null,
      "metadata": {
        "id": "KKE3BcX3uUos"
      },
      "outputs": [],
      "source": [
        "accuracy = tf.reduce_mean(tf.cast(correct_prediction, tf.float32))\n",
        "accuracy_0 = tf.reduce_mean(tf.cast(correct_prediction_0, tf.float32))\n",
        "accuracy_1 = tf.reduce_mean(tf.cast(correct_prediction_1, tf.float32))\n",
        "accuracy_2 = tf.reduce_mean(tf.cast(correct_prediction_2, tf.float32))\n",
        "accuracy_3 = tf.reduce_mean(tf.cast(correct_prediction_3, tf.float32))\n",
        "accuracy_4 = tf.reduce_mean(tf.cast(correct_prediction_4, tf.float32))\n",
        "accuracy_5 = tf.reduce_mean(tf.cast(correct_prediction_5, tf.float32))\n",
        "accuracy_6 = tf.reduce_mean(tf.cast(correct_prediction_6, tf.float32))\n",
        "accuracy_7 = tf.reduce_mean(tf.cast(correct_prediction_7, tf.float32))\n",
        "accuracy_8 = tf.reduce_mean(tf.cast(correct_prediction_8, tf.float32))\n",
        "accuracy_9 = tf.reduce_mean(tf.cast(correct_prediction_9, tf.float32))"
      ]
    },
    {
      "cell_type": "markdown",
      "metadata": {
        "id": "hd7rudFZuUot"
      },
      "source": [
        "## TensorFlow Run"
      ]
    },
    {
      "cell_type": "markdown",
      "metadata": {
        "id": "LMkWLTNAuUot"
      },
      "source": [
        "### Create TensorFlow session\n",
        "\n",
        "Once the TensorFlow graph has been created, we have to create a TensorFlow session which is used to execute the graph."
      ]
    },
    {
      "cell_type": "code",
      "execution_count": null,
      "metadata": {
        "id": "Gds8kGmbuUot"
      },
      "outputs": [],
      "source": [
        "session = tf.Session()"
      ]
    },
    {
      "cell_type": "markdown",
      "metadata": {
        "id": "zIskJCHHuUot"
      },
      "source": [
        "### Initialize variables\n",
        "\n",
        "The variables for `weights` and `biases` must be initialized before we start optimizing them."
      ]
    },
    {
      "cell_type": "code",
      "execution_count": null,
      "metadata": {
        "id": "uIrvbINZuUot"
      },
      "outputs": [],
      "source": [
        "session.run(tf.global_variables_initializer())"
      ]
    },
    {
      "cell_type": "markdown",
      "metadata": {
        "id": "YXAVqeZfuUou"
      },
      "source": [
        "This is a helper-function for initializing / resetting the adversarial noise to zero."
      ]
    },
    {
      "cell_type": "code",
      "execution_count": null,
      "metadata": {
        "id": "qwGYwXjZuUou"
      },
      "outputs": [],
      "source": [
        "def init_noise():\n",
        "    session.run(tf.variables_initializer([x_noise]))"
      ]
    },
    {
      "cell_type": "markdown",
      "metadata": {
        "id": "z5rz3zhFuUou"
      },
      "source": [
        "Call the function to initialize the adversarial noise."
      ]
    },
    {
      "cell_type": "code",
      "execution_count": null,
      "metadata": {
        "id": "cNcjiQAhuUou"
      },
      "outputs": [],
      "source": [
        "init_noise()"
      ]
    },
    {
      "cell_type": "markdown",
      "metadata": {
        "id": "eq2aIJpnuUou"
      },
      "source": [
        "### Helper-function to perform optimization iterations"
      ]
    },
    {
      "cell_type": "markdown",
      "metadata": {
        "id": "i0lNyynluUov"
      },
      "source": [
        "There are 55,000 images in the training-set. It takes a long time to calculate the gradient of the model using all these images. We therefore only use a small batch of images in each iteration of the optimizer."
      ]
    },
    {
      "cell_type": "code",
      "execution_count": null,
      "metadata": {
        "id": "RY3m9BP9uUov"
      },
      "outputs": [],
      "source": [
        "train_batch_size = 300"
      ]
    },
    {
      "cell_type": "markdown",
      "metadata": {
        "id": "9GjRyhHBuUov"
      },
      "source": [
        "Below is the function for performing a number of optimization iterations so as to gradually improve the variables of the neural network. In each iteration, a new batch of data is selected from the training-set and then TensorFlow executes the optimizer using those training samples. The progress is printed every 100 iterations.\n",
        "\n",
        "When the target-class is set to an integer, it will be used instead of the true class-number for the training-data. The adversarial optimizer is also used instead of the normal optimizer, and after each step of the adversarial optimizer, the noise will be limited / clipped to the allowed range. This optimizes the adversarial noise and ignores the other variables of the neural network."
      ]
    },
    {
      "cell_type": "code",
      "execution_count": null,
      "metadata": {
        "id": "PlTnjuA2wv-A"
      },
      "outputs": [],
      "source": [
        "def optimize_f(accuracy,num_iterations,optimizer,optimizer_adversary, adversary_target_cls=None):\n",
        "    # Start-time used for printing time-usage below.\n",
        "    start_time = time.time()\n",
        "\n",
        "    for i in range(num_iterations):\n",
        "\n",
        "        # Get a batch of training examples.\n",
        "        # x_batch now holds a batch of images and\n",
        "        # y_true_batch are the true labels for those images.\n",
        "        x_batch, y_true_batch, _ = data.random_batch(batch_size=train_batch_size)\n",
        "\n",
        "        # If we are searching for the adversarial noise, then\n",
        "        # use the adversarial target-class instead.\n",
        "        \n",
        "        if adversary_target_cls is not None:\n",
        "            # The class-labels are One-Hot encoded.\n",
        "            \n",
        "            # Set all the class-labels to zero.\n",
        "            y_true_batch = np.zeros_like(y_true_batch)\n",
        "\n",
        "            # Set the element for the adversarial target-class to 1.\n",
        "            y_true_batch[:, adversary_target_cls] = 1.0\n",
        "            \n",
        "        # Put the batch into a dict with the proper names\n",
        "        # for placeholder variables in the TensorFlow graph.\n",
        "        feed_dict_train = {x: x_batch,\n",
        "                           y_true: y_true_batch}\n",
        "\n",
        "\n",
        "        # If doing normal optimization of the neural network.\n",
        "        if adversary_target_cls is None:\n",
        "            # Run the optimizer using this batch of training data.\n",
        "            # TensorFlow assigns the variables in feed_dict_train\n",
        "            # to the placeholder variables and then runs the optimizer.\n",
        "            session.run(optimizer, feed_dict=feed_dict_train)\n",
        "        else:\n",
        "            #change here\n",
        "            # Run the adversarial optimizer instead.\n",
        "            # Note that we have 'faked' the class above to be\n",
        "            # the adversarial target-class instead of the true class.\n",
        "            session.run(optimizer_adversary, feed_dict=feed_dict_train)\n",
        "            \n",
        "            # Clip / limit the adversarial noise. This executes\n",
        "            # another TensorFlow operation. It cannot be executed\n",
        "            # in the same session.run() as the optimizer, because\n",
        "            # it may run in parallel so the execution order is not\n",
        "            # guaranteed. We need the clip to run after the optimizer.\n",
        "            session.run(x_noise_clip)\n",
        "\n",
        "        # Print status every 100 iterations.\n",
        "        if (i % 100 == 0) or (i == num_iterations - 1):\n",
        "            # Calculate the accuracy on the training-set.\n",
        "            acc = session.run(accuracy, feed_dict=feed_dict_train)\n",
        "\n",
        "            # Message for printing.\n",
        "            msg = \"Optimization Iteration: {0:>6}, Training Accuracy: {1:>6.1%}\"\n",
        "\n",
        "            # Print it.\n",
        "            print(msg.format(i, acc))\n",
        "\n",
        "    # Ending time.\n",
        "    end_time = time.time()\n",
        "\n",
        "    # Difference between start and end-times.\n",
        "    time_dif = end_time - start_time\n",
        "\n",
        "    # Print the time-usage.\n",
        "    print(\"Time usage: \" + str(timedelta(seconds=int(round(time_dif)))))"
      ]
    },
    {
      "cell_type": "markdown",
      "metadata": {
        "id": "aV8_IBVIuUow"
      },
      "source": [
        "### Helper-functions for getting and plotting the noise"
      ]
    },
    {
      "cell_type": "markdown",
      "metadata": {
        "id": "QfcAC1kouUow"
      },
      "source": [
        "This function gets the adversarial noise from inside the TensorFlow graph."
      ]
    },
    {
      "cell_type": "code",
      "execution_count": null,
      "metadata": {
        "id": "kcIGC0m2uUow"
      },
      "outputs": [],
      "source": [
        "def get_noise():\n",
        "    # Run the TensorFlow session to retrieve the contents of\n",
        "    # the x_noise variable inside the graph.\n",
        "    noise = session.run(x_noise)\n",
        "\n",
        "    return np.squeeze(noise)"
      ]
    },
    {
      "cell_type": "markdown",
      "metadata": {
        "id": "2m94IygwuUow"
      },
      "source": [
        "This function plots the adversarial noise and prints some statistics."
      ]
    },
    {
      "cell_type": "code",
      "execution_count": null,
      "metadata": {
        "id": "vyb6aLxruUow"
      },
      "outputs": [],
      "source": [
        "def plot_noise():\n",
        "    # Get the adversarial noise from inside the TensorFlow graph.\n",
        "    noise = get_noise()\n",
        "    \n",
        "    # Print statistics.\n",
        "    print(\"Noise:\")\n",
        "    print(\"- Min:\", noise.min())\n",
        "    print(\"- Max:\", noise.max())\n",
        "    print(\"- Std:\", noise.std())\n",
        "\n",
        "    # Plot the noise.\n",
        "    plt.imshow(noise, interpolation='nearest', cmap='seismic',\n",
        "               vmin=-1.0, vmax=1.0)"
      ]
    },
    {
      "cell_type": "markdown",
      "metadata": {
        "id": "Wn7iaU8duUox"
      },
      "source": [
        "### Helper-function to plot example errors"
      ]
    },
    {
      "cell_type": "markdown",
      "metadata": {
        "id": "4ngm-d75uUox"
      },
      "source": [
        "Function for plotting examples of images from the test-set that have been mis-classified."
      ]
    },
    {
      "cell_type": "code",
      "execution_count": null,
      "metadata": {
        "id": "Rh3UUf0ouUox"
      },
      "outputs": [],
      "source": [
        "def plot_example_errors(cls_pred, correct):\n",
        "    # This function is called from print_test_accuracy() below.\n",
        "\n",
        "    # cls_pred is an array of the predicted class-number for\n",
        "    # all images in the test-set.\n",
        "\n",
        "    # correct is a boolean array whether the predicted class\n",
        "    # is equal to the true class for each image in the test-set.\n",
        "\n",
        "    # Negate the boolean array.\n",
        "    incorrect = (correct == False)\n",
        "    \n",
        "    # Get the images from the test-set that have been\n",
        "    # incorrectly classified.\n",
        "    images = data.x_test[incorrect]\n",
        "    \n",
        "    # Get the predicted classes for those images.\n",
        "    cls_pred = cls_pred[incorrect]\n",
        "\n",
        "    # Get the true classes for those images.\n",
        "    cls_true = data.y_test_cls[incorrect]\n",
        "\n",
        "    # Get the adversarial noise from inside the TensorFlow graph.\n",
        "    noise = get_noise()\n",
        "    \n",
        "    # Plot the first 9 images.\n",
        "    plot_images(images=images[0:9],\n",
        "                cls_true=cls_true[0:9],\n",
        "                cls_pred=cls_pred[0:9],\n",
        "                noise=noise)"
      ]
    },
    {
      "cell_type": "markdown",
      "metadata": {
        "id": "8dSxGvUcuUox"
      },
      "source": [
        "### Helper-function to plot confusion matrix"
      ]
    },
    {
      "cell_type": "code",
      "execution_count": null,
      "metadata": {
        "id": "YtqabgzmuUoy"
      },
      "outputs": [],
      "source": [
        "def plot_confusion_matrix(cls_pred):\n",
        "    # This is called from print_test_accuracy() below.\n",
        "\n",
        "    # cls_pred is an array of the predicted class-number for\n",
        "    # all images in the test-set.\n",
        "\n",
        "    # Get the true classifications for the test-set.\n",
        "    cls_true = data.y_test_cls\n",
        "    \n",
        "    # Get the confusion matrix using sklearn.\n",
        "    cm = confusion_matrix(y_true=cls_true,\n",
        "                          y_pred=cls_pred)\n",
        "\n",
        "    # Print the confusion matrix as text.\n",
        "    print(cm)"
      ]
    },
    {
      "cell_type": "markdown",
      "metadata": {
        "id": "Q4qNIRFPuUoy"
      },
      "source": [
        "### Helper-function for showing the performance"
      ]
    },
    {
      "cell_type": "markdown",
      "metadata": {
        "id": "HdfR4XuHuUoz"
      },
      "source": [
        "Function for printing the classification accuracy on the test-set.\n",
        "\n",
        "It takes a while to compute the classification for all the images in the test-set, that's why the results are re-used by calling the above functions directly from this function, so the classifications don't have to be recalculated by each function.\n"
      ]
    },
    {
      "cell_type": "code",
      "execution_count": null,
      "metadata": {
        "id": "5oSMfGvCuUoz"
      },
      "outputs": [],
      "source": [
        "# Split the test-set into smaller batches of this size.\n",
        "test_batch_size = 256\n",
        "\n",
        "def print_test_accuracy(y_pred_cls,show_example_errors=False,\n",
        "                        show_confusion_matrix=False):\n",
        "\n",
        "    # Number of images in the test-set.\n",
        "    num_test = data.num_test\n",
        "\n",
        "    # Allocate an array for the predicted classes which\n",
        "    # will be calculated in batches and filled into this array.\n",
        "    cls_pred = np.zeros(shape=num_test, dtype=np.int)\n",
        "\n",
        "    # Now calculate the predicted classes for the batches.\n",
        "    # We will just iterate through all the batches.\n",
        "    # There might be a more clever and Pythonic way of doing this.\n",
        "\n",
        "    # The starting index for the next batch is denoted i.\n",
        "    i = 0\n",
        "\n",
        "    while i < num_test:\n",
        "        # The ending index for the next batch is denoted j.\n",
        "        j = min(i + test_batch_size, num_test)\n",
        "\n",
        "        # Get the images from the test-set between index i and j.\n",
        "        images = data.x_test[i:j, :]\n",
        "\n",
        "        # Get the associated labels.\n",
        "        labels = data.y_test[i:j, :]\n",
        "\n",
        "        # Create a feed-dict with these images and labels.\n",
        "        feed_dict = {x: images,\n",
        "                     y_true: labels}\n",
        "\n",
        "        # Calculate the predicted class using TensorFlow.\n",
        "        cls_pred[i:j] = session.run(y_pred_cls, feed_dict=feed_dict)\n",
        "\n",
        "        # Set the start-index for the next batch to the\n",
        "        # end-index of the current batch.\n",
        "        i = j\n",
        "\n",
        "    # Convenience variable for the true class-numbers of the test-set.\n",
        "    cls_true = data.y_test_cls\n",
        "\n",
        "    # Create a boolean array whether each image is correctly classified.\n",
        "    correct = (cls_true == cls_pred)\n",
        "\n",
        "    # Calculate the number of correctly classified images.\n",
        "    # When summing a boolean array, False means 0 and True means 1.\n",
        "    correct_sum = correct.sum()\n",
        "\n",
        "    # Classification accuracy is the number of correctly classified\n",
        "    # images divided by the total number of images in the test-set.\n",
        "    acc = float(correct_sum) / num_test\n",
        "\n",
        "    # Print the accuracy.\n",
        "    msg = \"Accuracy on Test-Set: {0:.1%} ({1} / {2})\"\n",
        "    print(msg.format(acc, correct_sum, num_test))\n",
        "\n",
        "    # Plot some examples of mis-classifications, if desired.\n",
        "    if show_example_errors:\n",
        "        print(\"Example errors:\")\n",
        "        plot_example_errors(cls_pred=cls_pred, correct=correct)\n",
        "\n",
        "    # Plot the confusion matrix, if desired.\n",
        "    if show_confusion_matrix:\n",
        "        print(\"Confusion Matrix:\")\n",
        "        plot_confusion_matrix(cls_pred=cls_pred)"
      ]
    },
    {
      "cell_type": "markdown",
      "source": [
        "Lists with the variables for each of our 10 neural networks in the second tier"
      ],
      "metadata": {
        "id": "p03TWtA6Hj55"
      }
    },
    {
      "cell_type": "code",
      "source": [
        "opt_list = [optimizer_0,optimizer_1,optimizer_2,optimizer_3,optimizer_4,optimizer_5,optimizer_6,optimizer_7,optimizer_8,optimizer_9]\n",
        "opt_adv_list = [optimizer_adversary_0,optimizer_adversary_1,optimizer_adversary_2,optimizer_adversary_3,optimizer_adversary_4,optimizer_adversary_5,optimizer_adversary_6,optimizer_adversary_7,optimizer_adversary_8,optimizer_adversary_9]\n",
        "acc_list = [accuracy_0,accuracy_1,accuracy_2,accuracy_3,accuracy_4,accuracy_5,accuracy_6,accuracy_7,accuracy_8,accuracy_9]\n",
        "test_acc_list = [y_pred_cls_0,y_pred_cls_1,y_pred_cls_2,y_pred_cls_3,y_pred_cls_4,y_pred_cls_5,y_pred_cls_6,y_pred_cls_7,y_pred_cls_8,y_pred_cls_9]"
      ],
      "metadata": {
        "id": "geFnJ8rMH058"
      },
      "execution_count": null,
      "outputs": []
    },
    {
      "cell_type": "markdown",
      "metadata": {
        "id": "Cg_hAklkuUoz"
      },
      "source": [
        "## Normal optimization of neural network\n",
        "\n",
        "First we perform 1000 optimization iterations with the normal optimizer. This finds the variables that makes the neural network perform well on the training-set.\n",
        "\n",
        "The adversarial noise is not effective yet because it has only been initialized to zero above and it is not being updated during this optimization."
      ]
    },
    {
      "cell_type": "code",
      "source": [
        "optimize_f(optimizer=optimizer,accuracy=accuracy,optimizer_adversary = None, num_iterations=800)"
      ],
      "metadata": {
        "colab": {
          "base_uri": "https://localhost:8080/"
        },
        "id": "t2Gqx91Gz8C0",
        "outputId": "f7c0f49e-0d76-45e5-9de9-bcee1a208ef1"
      },
      "execution_count": null,
      "outputs": [
        {
          "output_type": "stream",
          "name": "stdout",
          "text": [
            "Optimization Iteration:      0, Training Accuracy:  15.3%\n",
            "Optimization Iteration:    100, Training Accuracy:  95.7%\n",
            "Optimization Iteration:    200, Training Accuracy:  92.7%\n",
            "Optimization Iteration:    300, Training Accuracy:  94.3%\n",
            "Optimization Iteration:    400, Training Accuracy:  93.3%\n",
            "Optimization Iteration:    500, Training Accuracy:  96.7%\n",
            "Optimization Iteration:    600, Training Accuracy:  97.0%\n",
            "Optimization Iteration:    700, Training Accuracy:  99.7%\n",
            "Optimization Iteration:    799, Training Accuracy:  98.3%\n",
            "Time usage: 0:00:09\n"
          ]
        }
      ]
    },
    {
      "cell_type": "code",
      "source": [
        "print_test_accuracy(y_pred_cls,show_example_errors=True)"
      ],
      "metadata": {
        "colab": {
          "base_uri": "https://localhost:8080/",
          "height": 369
        },
        "id": "uGKswFcJ0JUd",
        "outputId": "cde18b81-bee9-4df2-93a9-92779a41fc31"
      },
      "execution_count": null,
      "outputs": [
        {
          "output_type": "stream",
          "name": "stderr",
          "text": [
            "/usr/local/lib/python3.7/dist-packages/ipykernel_launcher.py:12: DeprecationWarning: `np.int` is a deprecated alias for the builtin `int`. To silence this warning, use `int` by itself. Doing this will not modify any behavior and is safe. When replacing `np.int`, you may wish to use e.g. `np.int64` or `np.int32` to specify the precision. If you wish to review your current use, check the release note link for additional information.\n",
            "Deprecated in NumPy 1.20; for more details and guidance: https://numpy.org/devdocs/release/1.20.0-notes.html#deprecations\n",
            "  if sys.path[0] == '':\n"
          ]
        },
        {
          "output_type": "stream",
          "name": "stdout",
          "text": [
            "Accuracy on Test-Set: 96.9% (9694 / 10000)\n",
            "Example errors:\n"
          ]
        },
        {
          "output_type": "display_data",
          "data": {
            "text/plain": [
              "<Figure size 432x288 with 9 Axes>"
            ],
            "image/png": "[encoded data removed]"
          },
          "metadata": {}
        }
      ]
    },
    {
      "cell_type": "code",
      "execution_count": null,
      "metadata": {
        "scrolled": false,
        "id": "ppCLRWODuUo0",
        "outputId": "11b2b5f2-3fd3-4669-d404-3b12640a0fa7",
        "colab": {
          "base_uri": "https://localhost:8080/"
        }
      },
      "outputs": [
        {
          "output_type": "stream",
          "name": "stdout",
          "text": [
            "Optimization Iteration:      0, Training Accuracy:  16.0%\n",
            "Optimization Iteration:    100, Training Accuracy:  92.0%\n",
            "Optimization Iteration:    200, Training Accuracy:  96.0%\n",
            "Optimization Iteration:    300, Training Accuracy:  91.3%\n",
            "Optimization Iteration:    400, Training Accuracy:  96.3%\n",
            "Optimization Iteration:    500, Training Accuracy:  97.0%\n",
            "Optimization Iteration:    600, Training Accuracy:  96.3%\n",
            "Optimization Iteration:    700, Training Accuracy:  96.3%\n",
            "Optimization Iteration:    799, Training Accuracy:  97.7%\n",
            "Time usage: 0:00:08\n",
            "Optimization Iteration:      0, Training Accuracy:  21.7%\n",
            "Optimization Iteration:    100, Training Accuracy:  89.0%\n",
            "Optimization Iteration:    200, Training Accuracy:  94.0%\n",
            "Optimization Iteration:    300, Training Accuracy:  96.7%\n",
            "Optimization Iteration:    400, Training Accuracy:  95.3%\n",
            "Optimization Iteration:    500, Training Accuracy:  97.7%\n",
            "Optimization Iteration:    600, Training Accuracy:  97.3%\n",
            "Optimization Iteration:    700, Training Accuracy:  97.0%\n",
            "Optimization Iteration:    799, Training Accuracy:  98.3%\n",
            "Time usage: 0:00:07\n",
            "Optimization Iteration:      0, Training Accuracy:  20.0%\n",
            "Optimization Iteration:    100, Training Accuracy:  90.0%\n",
            "Optimization Iteration:    200, Training Accuracy:  97.0%\n",
            "Optimization Iteration:    300, Training Accuracy:  92.3%\n",
            "Optimization Iteration:    400, Training Accuracy:  95.7%\n",
            "Optimization Iteration:    500, Training Accuracy:  93.7%\n",
            "Optimization Iteration:    600, Training Accuracy:  97.3%\n",
            "Optimization Iteration:    700, Training Accuracy:  98.3%\n",
            "Optimization Iteration:    799, Training Accuracy:  98.7%\n",
            "Time usage: 0:00:07\n",
            "Optimization Iteration:      0, Training Accuracy:  16.3%\n",
            "Optimization Iteration:    100, Training Accuracy:  88.0%\n",
            "Optimization Iteration:    200, Training Accuracy:  94.7%\n",
            "Optimization Iteration:    300, Training Accuracy:  93.7%\n",
            "Optimization Iteration:    400, Training Accuracy:  97.7%\n",
            "Optimization Iteration:    500, Training Accuracy:  98.0%\n",
            "Optimization Iteration:    600, Training Accuracy:  96.7%\n",
            "Optimization Iteration:    700, Training Accuracy:  97.3%\n",
            "Optimization Iteration:    799, Training Accuracy:  99.3%\n",
            "Time usage: 0:00:05\n",
            "Optimization Iteration:      0, Training Accuracy:  23.3%\n",
            "Optimization Iteration:    100, Training Accuracy:  90.3%\n",
            "Optimization Iteration:    200, Training Accuracy:  93.3%\n",
            "Optimization Iteration:    300, Training Accuracy:  96.0%\n",
            "Optimization Iteration:    400, Training Accuracy:  96.3%\n",
            "Optimization Iteration:    500, Training Accuracy:  97.7%\n",
            "Optimization Iteration:    600, Training Accuracy:  97.0%\n",
            "Optimization Iteration:    700, Training Accuracy:  98.7%\n",
            "Optimization Iteration:    799, Training Accuracy:  97.3%\n",
            "Time usage: 0:00:05\n",
            "Optimization Iteration:      0, Training Accuracy:  23.7%\n",
            "Optimization Iteration:    100, Training Accuracy:  92.3%\n",
            "Optimization Iteration:    200, Training Accuracy:  94.7%\n",
            "Optimization Iteration:    300, Training Accuracy:  93.7%\n",
            "Optimization Iteration:    400, Training Accuracy:  93.3%\n",
            "Optimization Iteration:    500, Training Accuracy:  97.0%\n",
            "Optimization Iteration:    600, Training Accuracy:  97.3%\n",
            "Optimization Iteration:    700, Training Accuracy:  97.7%\n",
            "Optimization Iteration:    799, Training Accuracy:  99.3%\n",
            "Time usage: 0:00:05\n",
            "Optimization Iteration:      0, Training Accuracy:  21.7%\n",
            "Optimization Iteration:    100, Training Accuracy:  90.7%\n",
            "Optimization Iteration:    200, Training Accuracy:  92.0%\n",
            "Optimization Iteration:    300, Training Accuracy:  95.7%\n",
            "Optimization Iteration:    400, Training Accuracy:  96.3%\n",
            "Optimization Iteration:    500, Training Accuracy:  96.7%\n",
            "Optimization Iteration:    600, Training Accuracy:  96.3%\n",
            "Optimization Iteration:    700, Training Accuracy:  97.7%\n",
            "Optimization Iteration:    799, Training Accuracy:  98.0%\n",
            "Time usage: 0:00:05\n",
            "Optimization Iteration:      0, Training Accuracy:  13.7%\n",
            "Optimization Iteration:    100, Training Accuracy:  90.7%\n",
            "Optimization Iteration:    200, Training Accuracy:  95.7%\n",
            "Optimization Iteration:    300, Training Accuracy:  96.0%\n",
            "Optimization Iteration:    400, Training Accuracy:  96.3%\n",
            "Optimization Iteration:    500, Training Accuracy:  98.0%\n",
            "Optimization Iteration:    600, Training Accuracy:  97.0%\n",
            "Optimization Iteration:    700, Training Accuracy:  98.0%\n",
            "Optimization Iteration:    799, Training Accuracy:  96.0%\n",
            "Time usage: 0:00:05\n",
            "Optimization Iteration:      0, Training Accuracy:  15.0%\n",
            "Optimization Iteration:    100, Training Accuracy:  92.3%\n",
            "Optimization Iteration:    200, Training Accuracy:  93.3%\n",
            "Optimization Iteration:    300, Training Accuracy:  96.7%\n",
            "Optimization Iteration:    400, Training Accuracy:  98.0%\n",
            "Optimization Iteration:    500, Training Accuracy:  97.0%\n",
            "Optimization Iteration:    600, Training Accuracy:  96.3%\n",
            "Optimization Iteration:    700, Training Accuracy:  98.0%\n",
            "Optimization Iteration:    799, Training Accuracy:  97.3%\n",
            "Time usage: 0:00:05\n",
            "Optimization Iteration:      0, Training Accuracy:  21.7%\n",
            "Optimization Iteration:    100, Training Accuracy:  92.0%\n",
            "Optimization Iteration:    200, Training Accuracy:  94.0%\n",
            "Optimization Iteration:    300, Training Accuracy:  95.7%\n",
            "Optimization Iteration:    400, Training Accuracy:  95.7%\n",
            "Optimization Iteration:    500, Training Accuracy:  96.3%\n",
            "Optimization Iteration:    600, Training Accuracy:  98.3%\n",
            "Optimization Iteration:    700, Training Accuracy:  98.0%\n",
            "Optimization Iteration:    799, Training Accuracy:  98.3%\n",
            "Time usage: 0:00:05\n"
          ]
        }
      ],
      "source": [
        "for i in range(10):\n",
        "  optimize_f(optimizer=opt_list[i],accuracy=acc_list[i],optimizer_adversary = None, num_iterations=800)"
      ]
    },
    {
      "cell_type": "markdown",
      "metadata": {
        "id": "eZsc7JuduUo0"
      },
      "source": [
        "The classification accuracy is now about 96-97% on the test-set. (This will vary each time you run this Python Notebook)."
      ]
    },
    {
      "cell_type": "code",
      "execution_count": null,
      "metadata": {
        "scrolled": false,
        "id": "OB03kxK7uUo0",
        "outputId": "42b926a9-7370-45db-8b4f-17b1f9f5065b",
        "colab": {
          "base_uri": "https://localhost:8080/",
          "height": 1000
        }
      },
      "outputs": [
        {
          "output_type": "stream",
          "name": "stdout",
          "text": [
            "Accuracy on Test-Set: 96.9% (9687 / 10000)\n",
            "Example errors:\n"
          ]
        },
        {
          "output_type": "stream",
          "name": "stderr",
          "text": [
            "/usr/local/lib/python3.7/dist-packages/ipykernel_launcher.py:12: DeprecationWarning: `np.int` is a deprecated alias for the builtin `int`. To silence this warning, use `int` by itself. Doing this will not modify any behavior and is safe. When replacing `np.int`, you may wish to use e.g. `np.int64` or `np.int32` to specify the precision. If you wish to review your current use, check the release note link for additional information.\n",
            "Deprecated in NumPy 1.20; for more details and guidance: https://numpy.org/devdocs/release/1.20.0-notes.html#deprecations\n",
            "  if sys.path[0] == '':\n"
          ]
        },
        {
          "output_type": "display_data",
          "data": {
            "text/plain": [
              "<Figure size 432x288 with 9 Axes>"
            ],
            "image/png": "[encoded data removed]"
          },
          "metadata": {}
        },
        {
          "output_type": "stream",
          "name": "stdout",
          "text": [
            "Accuracy on Test-Set: 96.4% (9643 / 10000)\n",
            "Example errors:\n"
          ]
        },
        {
          "output_type": "display_data",
          "data": {
            "text/plain": [
              "<Figure size 432x288 with 9 Axes>"
            ],
            "image/png": "[encoded data removed]"
          },
          "metadata": {}
        },
        {
          "output_type": "stream",
          "name": "stdout",
          "text": [
            "Accuracy on Test-Set: 97.0% (9701 / 10000)\n",
            "Example errors:\n"
          ]
        },
        {
          "output_type": "display_data",
          "data": {
            "text/plain": [
              "<Figure size 432x288 with 9 Axes>"
            ],
            "image/png": "[encoded data removed]"
          },
          "metadata": {}
        },
        {
          "output_type": "stream",
          "name": "stdout",
          "text": [
            "Accuracy on Test-Set: 97.0% (9698 / 10000)\n",
            "Example errors:\n"
          ]
        },
        {
          "output_type": "display_data",
          "data": {
            "text/plain": [
              "<Figure size 432x288 with 9 Axes>"
            ],
            "image/png": "[encoded data removed]"
          },
          "metadata": {}
        },
        {
          "output_type": "stream",
          "name": "stdout",
          "text": [
            "Accuracy on Test-Set: 96.5% (9647 / 10000)\n",
            "Example errors:\n"
          ]
        },
        {
          "output_type": "display_data",
          "data": {
            "text/plain": [
              "<Figure size 432x288 with 9 Axes>"
            ],
            "image/png": "[encoded data removed]"
          },
          "metadata": {}
        },
        {
          "output_type": "stream",
          "name": "stdout",
          "text": [
            "Accuracy on Test-Set: 96.9% (9691 / 10000)\n",
            "Example errors:\n"
          ]
        },
        {
          "output_type": "display_data",
          "data": {
            "text/plain": [
              "<Figure size 432x288 with 9 Axes>"
            ],
            "image/png": "[encoded data removed]"
          },
          "metadata": {}
        },
        {
          "output_type": "stream",
          "name": "stdout",
          "text": [
            "Accuracy on Test-Set: 97.1% (9707 / 10000)\n",
            "Example errors:\n"
          ]
        },
        {
          "output_type": "display_data",
          "data": {
            "text/plain": [
              "<Figure size 432x288 with 9 Axes>"
            ],
            "image/png": "[encoded data removed]"
          },
          "metadata": {}
        },
        {
          "output_type": "stream",
          "name": "stdout",
          "text": [
            "Accuracy on Test-Set: 96.7% (9669 / 10000)\n",
            "Example errors:\n"
          ]
        },
        {
          "output_type": "display_data",
          "data": {
            "text/plain": [
              "<Figure size 432x288 with 9 Axes>"
            ],
            "image/png": "[encoded data removed]"
          },
          "metadata": {}
        },
        {
          "output_type": "stream",
          "name": "stdout",
          "text": [
            "Accuracy on Test-Set: 96.7% (9666 / 10000)\n",
            "Example errors:\n"
          ]
        },
        {
          "output_type": "display_data",
          "data": {
            "text/plain": [
              "<Figure size 432x288 with 9 Axes>"
            ],
            "image/png": "[encoded data removed]"
          },
          "metadata": {}
        },
        {
          "output_type": "stream",
          "name": "stdout",
          "text": [
            "Accuracy on Test-Set: 96.7% (9669 / 10000)\n",
            "Example errors:\n"
          ]
        },
        {
          "output_type": "display_data",
          "data": {
            "text/plain": [
              "<Figure size 432x288 with 9 Axes>"
            ],
            "image/png": "[encoded data removed]"
          },
          "metadata": {}
        }
      ],
      "source": [
        "for i in range(10):\n",
        "  print_test_accuracy(test_acc_list[i],show_example_errors=True)"
      ]
    },
    {
      "cell_type": "markdown",
      "metadata": {
        "id": "ItZO6wYHuUo0"
      },
      "source": [
        "## Find the adversarial noise"
      ]
    },
    {
      "cell_type": "markdown",
      "metadata": {
        "id": "2YqxGBI7uUo1"
      },
      "source": [
        "Before we start optimizing the adversarial noise, we first initialize it to zero. This was already done above but it is repeated here in case you want to re-run this code with another target-class."
      ]
    },
    {
      "cell_type": "code",
      "execution_count": null,
      "metadata": {
        "id": "KMWS3oehuUo1"
      },
      "outputs": [],
      "source": [
        "init_noise()"
      ]
    },
    {
      "cell_type": "markdown",
      "metadata": {
        "id": "vEDg10kGuUo1"
      },
      "source": [
        "Now perform optimization of the adversarial noise. This uses the adversarial optimizer instead of the normal optimizer, which means that it only optimizes the variable for the adversarial noise, while ignoring all the other variables of the neural network."
      ]
    },
    {
      "cell_type": "code",
      "execution_count": null,
      "metadata": {
        "scrolled": false,
        "id": "M8GnKvE5uUo1",
        "outputId": "e26f67c1-e9c6-4773-a7a9-1a963d5b46aa",
        "colab": {
          "base_uri": "https://localhost:8080/"
        }
      },
      "outputs": [
        {
          "output_type": "stream",
          "name": "stdout",
          "text": [
            "Optimization Iteration:      0, Training Accuracy:  11.0%\n",
            "Optimization Iteration:    100, Training Accuracy:  99.7%\n",
            "Optimization Iteration:    200, Training Accuracy:  99.7%\n",
            "Optimization Iteration:    300, Training Accuracy:  99.7%\n",
            "Optimization Iteration:    400, Training Accuracy:  99.0%\n",
            "Optimization Iteration:    500, Training Accuracy:  99.0%\n",
            "Optimization Iteration:    599, Training Accuracy:  98.7%\n",
            "Time usage: 0:00:05\n"
          ]
        }
      ],
      "source": [
        "optimize_f(num_iterations=600, adversary_target_cls=2,accuracy = acc_list[2],optimizer = opt_list[2],optimizer_adversary = opt_adv_list[2])"
      ]
    },
    {
      "cell_type": "markdown",
      "metadata": {
        "id": "M42Mm19QuUo2"
      },
      "source": [
        "The adversarial noise has now been optimized and it can be shown in a plot. The red pixels show positive noise-values and the blue pixels show negative noise-values. This noise-pattern is added to every input image. The positive (red) noise-values makes the pixels darker and the negative (blue) noise-values makes the pixels brighter. Examples of this are shown below."
      ]
    },
    {
      "cell_type": "code",
      "execution_count": null,
      "metadata": {
        "scrolled": true,
        "id": "7K59w9tJuUo2",
        "outputId": "56ad11e9-19ac-417b-a046-8aed080e80b5",
        "colab": {
          "base_uri": "https://localhost:8080/",
          "height": 334
        }
      },
      "outputs": [
        {
          "output_type": "stream",
          "name": "stdout",
          "text": [
            "Noise:\n",
            "- Min: -0.29783055\n",
            "- Max: 0.35\n",
            "- Std: 0.11622804\n"
          ]
        },
        {
          "output_type": "display_data",
          "data": {
            "text/plain": [
              "<Figure size 432x288 with 1 Axes>"
            ],
            "image/png": "[encoded data removed]"
          },
          "metadata": {
            "needs_background": "light"
          }
        }
      ],
      "source": [
        "plot_noise()"
      ]
    },
    {
      "cell_type": "markdown",
      "metadata": {
        "id": "Tue-8qb5uUo2"
      },
      "source": [
        "When this noise is added to all the images in the test-set, the result is typically a classification accuracy of 10-15% depending on the target-class that was chosen. We can also see from the confusion matrix that most images in the test-set are now classified as the desired target-class - although some of the target-classes require more adversarial noise than others.\n",
        "\n",
        "So we have found adversarial noise that makes the neural network mis-classify almost all images in the test-set as our desired target-class.\n",
        "\n",
        "We can also show some examples of mis-classified images with the adversarial noise. The noise is clearly visible but the digits are still easily identified by the human eye."
      ]
    },
    {
      "cell_type": "code",
      "execution_count": null,
      "metadata": {
        "scrolled": true,
        "id": "DbUqY3__uUo2",
        "outputId": "5027e3b7-07bc-4172-b2e8-baaf76f7594d",
        "colab": {
          "base_uri": "https://localhost:8080/",
          "height": 560
        }
      },
      "outputs": [
        {
          "output_type": "stream",
          "name": "stderr",
          "text": [
            "/usr/local/lib/python3.7/dist-packages/ipykernel_launcher.py:12: DeprecationWarning: `np.int` is a deprecated alias for the builtin `int`. To silence this warning, use `int` by itself. Doing this will not modify any behavior and is safe. When replacing `np.int`, you may wish to use e.g. `np.int64` or `np.int32` to specify the precision. If you wish to review your current use, check the release note link for additional information.\n",
            "Deprecated in NumPy 1.20; for more details and guidance: https://numpy.org/devdocs/release/1.20.0-notes.html#deprecations\n",
            "  if sys.path[0] == '':\n"
          ]
        },
        {
          "output_type": "stream",
          "name": "stdout",
          "text": [
            "Accuracy on Test-Set: 11.1% (1111 / 10000)\n",
            "Example errors:\n"
          ]
        },
        {
          "output_type": "display_data",
          "data": {
            "text/plain": [
              "<Figure size 432x288 with 9 Axes>"
            ],
            "image/png": "[encoded data removed]"
          },
          "metadata": {}
        },
        {
          "output_type": "stream",
          "name": "stdout",
          "text": [
            "Confusion Matrix:\n",
            "[[  35    0  945    0    0    0    0    0    0    0]\n",
            " [   0    0 1135    0    0    0    0    0    0    0]\n",
            " [   0    0 1032    0    0    0    0    0    0    0]\n",
            " [   0    0  995   15    0    0    0    0    0    0]\n",
            " [   0    0  981    0    1    0    0    0    0    0]\n",
            " [   0    0  885    2    0    4    0    0    1    0]\n",
            " [   0    0  938    0    0    0   20    0    0    0]\n",
            " [   0    0 1026    0    0    0    0    2    0    0]\n",
            " [   0    0  972    0    0    0    0    0    2    0]\n",
            " [   0    0 1008    0    0    0    0    0    1    0]]\n"
          ]
        }
      ],
      "source": [
        "print_test_accuracy(y_pred_cls_2,show_example_errors=True,\n",
        "                    show_confusion_matrix=True)"
      ]
    },
    {
      "cell_type": "code",
      "execution_count": null,
      "metadata": {
        "id": "176dr7shL-Bd"
      },
      "outputs": [],
      "source": [
        "init_noise()"
      ]
    },
    {
      "cell_type": "markdown",
      "metadata": {
        "id": "Zc-3j8iDuUo3"
      },
      "source": [
        "## Adversarial noise for all target-classes"
      ]
    },
    {
      "cell_type": "markdown",
      "metadata": {
        "id": "OZQ4R-XruUo3"
      },
      "source": [
        "This is a helper-function for finding the adversarial noise for all target-classes. The function loops over all the class-numbers from 0 to 9 and runs the optimization above. The results are then stored in an array."
      ]
    },
    {
      "cell_type": "code",
      "execution_count": null,
      "metadata": {
        "id": "kh_L1B4juUo3"
      },
      "outputs": [],
      "source": [
        "def find_all_noise(num_iterations=600):\n",
        "    # Adversarial noise for all target-classes.\n",
        "    all_noise = []\n",
        "\n",
        "    # For each target-class.\n",
        "    for i in range(num_classes):\n",
        "        print(\"Finding adversarial noise for target-class:\", i)\n",
        "\n",
        "        # Reset the adversarial noise to zero.\n",
        "        init_noise()\n",
        "\n",
        "        # Optimize the adversarial noise.\n",
        "        optimize_f(num_iterations=num_iterations,\n",
        "                 adversary_target_cls=i,optimizer = opt_list[i],optimizer_adversary = opt_adv_list[i],accuracy = acc_list[i])\n",
        "\n",
        "        # Get the adversarial noise from inside the TensorFlow graph.\n",
        "        noise = get_noise()\n",
        "\n",
        "        # Append the noise to the array.\n",
        "        all_noise.append(noise)\n",
        "\n",
        "        # Print newline.\n",
        "        print()\n",
        "    \n",
        "    return all_noise"
      ]
    },
    {
      "cell_type": "code",
      "source": [
        "all_noise = find_all_noise(num_iterations=600)"
      ],
      "metadata": {
        "colab": {
          "base_uri": "https://localhost:8080/"
        },
        "id": "kXf8O4fOLLQv",
        "outputId": "f06016cc-4e4f-4238-8d56-8bde3d82744f"
      },
      "execution_count": null,
      "outputs": [
        {
          "output_type": "stream",
          "name": "stdout",
          "text": [
            "Finding adversarial noise for target-class: 0\n",
            "Optimization Iteration:      0, Training Accuracy:   9.7%\n",
            "Optimization Iteration:    100, Training Accuracy:  98.7%\n",
            "Optimization Iteration:    200, Training Accuracy:  99.0%\n",
            "Optimization Iteration:    300, Training Accuracy:  99.3%\n",
            "Optimization Iteration:    400, Training Accuracy:  98.7%\n",
            "Optimization Iteration:    500, Training Accuracy:  98.3%\n",
            "Optimization Iteration:    599, Training Accuracy:  98.0%\n",
            "Time usage: 0:00:05\n",
            "\n",
            "Finding adversarial noise for target-class: 1\n",
            "Optimization Iteration:      0, Training Accuracy:  13.3%\n",
            "Optimization Iteration:    100, Training Accuracy:  93.7%\n",
            "Optimization Iteration:    200, Training Accuracy:  95.3%\n",
            "Optimization Iteration:    300, Training Accuracy:  95.3%\n",
            "Optimization Iteration:    400, Training Accuracy:  96.0%\n",
            "Optimization Iteration:    500, Training Accuracy:  96.0%\n",
            "Optimization Iteration:    599, Training Accuracy:  96.0%\n",
            "Time usage: 0:00:05\n",
            "\n",
            "Finding adversarial noise for target-class: 2\n",
            "Optimization Iteration:      0, Training Accuracy:   7.3%\n",
            "Optimization Iteration:    100, Training Accuracy:  99.7%\n",
            "Optimization Iteration:    200, Training Accuracy:  99.7%\n",
            "Optimization Iteration:    300, Training Accuracy:  99.7%\n",
            "Optimization Iteration:    400, Training Accuracy:  98.7%\n",
            "Optimization Iteration:    500, Training Accuracy:  99.0%\n",
            "Optimization Iteration:    599, Training Accuracy:  99.0%\n",
            "Time usage: 0:00:05\n",
            "\n",
            "Finding adversarial noise for target-class: 3\n",
            "Optimization Iteration:      0, Training Accuracy:  10.7%\n",
            "Optimization Iteration:    100, Training Accuracy:  99.0%\n",
            "Optimization Iteration:    200, Training Accuracy:  99.0%\n",
            "Optimization Iteration:    300, Training Accuracy:  99.7%\n",
            "Optimization Iteration:    400, Training Accuracy:  99.7%\n",
            "Optimization Iteration:    500, Training Accuracy:  99.3%\n",
            "Optimization Iteration:    599, Training Accuracy:  99.3%\n",
            "Time usage: 0:00:05\n",
            "\n",
            "Finding adversarial noise for target-class: 4\n",
            "Optimization Iteration:      0, Training Accuracy:   9.7%\n",
            "Optimization Iteration:    100, Training Accuracy:  98.3%\n",
            "Optimization Iteration:    200, Training Accuracy:  96.7%\n",
            "Optimization Iteration:    300, Training Accuracy:  97.3%\n",
            "Optimization Iteration:    400, Training Accuracy:  98.0%\n",
            "Optimization Iteration:    500, Training Accuracy:  98.7%\n",
            "Optimization Iteration:    599, Training Accuracy:  98.3%\n",
            "Time usage: 0:00:05\n",
            "\n",
            "Finding adversarial noise for target-class: 5\n",
            "Optimization Iteration:      0, Training Accuracy:  10.0%\n",
            "Optimization Iteration:    100, Training Accuracy: 100.0%\n",
            "Optimization Iteration:    200, Training Accuracy:  99.0%\n",
            "Optimization Iteration:    300, Training Accuracy:  99.0%\n",
            "Optimization Iteration:    400, Training Accuracy:  99.3%\n",
            "Optimization Iteration:    500, Training Accuracy: 100.0%\n",
            "Optimization Iteration:    599, Training Accuracy:  99.7%\n",
            "Time usage: 0:00:05\n",
            "\n",
            "Finding adversarial noise for target-class: 6\n",
            "Optimization Iteration:      0, Training Accuracy:  11.7%\n",
            "Optimization Iteration:    100, Training Accuracy:  99.3%\n",
            "Optimization Iteration:    200, Training Accuracy:  98.0%\n",
            "Optimization Iteration:    300, Training Accuracy:  99.0%\n",
            "Optimization Iteration:    400, Training Accuracy:  99.0%\n",
            "Optimization Iteration:    500, Training Accuracy:  98.7%\n",
            "Optimization Iteration:    599, Training Accuracy:  99.0%\n",
            "Time usage: 0:00:05\n",
            "\n",
            "Finding adversarial noise for target-class: 7\n",
            "Optimization Iteration:      0, Training Accuracy:  10.3%\n",
            "Optimization Iteration:    100, Training Accuracy:  99.0%\n",
            "Optimization Iteration:    200, Training Accuracy:  99.0%\n",
            "Optimization Iteration:    300, Training Accuracy:  98.7%\n",
            "Optimization Iteration:    400, Training Accuracy: 100.0%\n",
            "Optimization Iteration:    500, Training Accuracy:  98.7%\n",
            "Optimization Iteration:    599, Training Accuracy:  99.7%\n",
            "Time usage: 0:00:05\n",
            "\n",
            "Finding adversarial noise for target-class: 8\n",
            "Optimization Iteration:      0, Training Accuracy:   7.0%\n",
            "Optimization Iteration:    100, Training Accuracy:  99.0%\n",
            "Optimization Iteration:    200, Training Accuracy:  98.7%\n",
            "Optimization Iteration:    300, Training Accuracy:  98.7%\n",
            "Optimization Iteration:    400, Training Accuracy:  98.3%\n",
            "Optimization Iteration:    500, Training Accuracy:  97.0%\n",
            "Optimization Iteration:    599, Training Accuracy:  98.0%\n",
            "Time usage: 0:00:05\n",
            "\n",
            "Finding adversarial noise for target-class: 9\n",
            "Optimization Iteration:      0, Training Accuracy:  11.3%\n",
            "Optimization Iteration:    100, Training Accuracy:  99.0%\n",
            "Optimization Iteration:    200, Training Accuracy:  99.0%\n",
            "Optimization Iteration:    300, Training Accuracy:  99.3%\n",
            "Optimization Iteration:    400, Training Accuracy:  98.0%\n",
            "Optimization Iteration:    500, Training Accuracy:  98.7%\n",
            "Optimization Iteration:    599, Training Accuracy:  98.7%\n",
            "Time usage: 0:00:05\n",
            "\n"
          ]
        }
      ]
    },
    {
      "cell_type": "markdown",
      "metadata": {
        "id": "5hxEeg6duUo4"
      },
      "source": [
        "### Plot the adversarial noise for all target-classes"
      ]
    },
    {
      "cell_type": "markdown",
      "metadata": {
        "id": "L49NNRJMuUo4"
      },
      "source": [
        "This is a helper-function for plotting a grid with the adversarial noise for all target-classes 0 to 9."
      ]
    },
    {
      "cell_type": "code",
      "execution_count": null,
      "metadata": {
        "id": "0DtS4ZjquUo4"
      },
      "outputs": [],
      "source": [
        "def plot_all_noise(all_noise):    \n",
        "    # Create figure with 10 sub-plots.\n",
        "    fig, axes = plt.subplots(2, 5)\n",
        "    fig.subplots_adjust(hspace=0.2, wspace=0.1)\n",
        "\n",
        "    # For each sub-plot.\n",
        "    for i, ax in enumerate(axes.flat):\n",
        "        # Get the adversarial noise for the i'th target-class.\n",
        "        noise = all_noise[i]\n",
        "        \n",
        "        # Plot the noise.\n",
        "        ax.imshow(noise,\n",
        "                  cmap='seismic', interpolation='nearest',\n",
        "                  vmin=-1.0, vmax=1.0)\n",
        "\n",
        "        # Show the classes as the label on the x-axis.\n",
        "        ax.set_xlabel(i)\n",
        "\n",
        "        # Remove ticks from the plot.\n",
        "        ax.set_xticks([])\n",
        "        ax.set_yticks([])\n",
        "    \n",
        "    # Ensure the plot is shown correctly with multiple plots\n",
        "    # in a single Notebook cell.\n",
        "    plt.show()"
      ]
    },
    {
      "cell_type": "code",
      "source": [
        "plot_all_noise(all_noise)"
      ],
      "metadata": {
        "colab": {
          "base_uri": "https://localhost:8080/",
          "height": 226
        },
        "id": "SFW6IjPBLBZu",
        "outputId": "7ee22333-374e-4155-f75f-f41af9a7638c"
      },
      "execution_count": null,
      "outputs": [
        {
          "output_type": "display_data",
          "data": {
            "text/plain": [
              "<Figure size 432x288 with 10 Axes>"
            ],
            "image/png": "[encoded data removed]"
          },
          "metadata": {}
        }
      ]
    },
    {
      "cell_type": "markdown",
      "metadata": {
        "id": "h2T37vn3uUo5"
      },
      "source": [
        "Red pixels show positive noise values, and blue pixels show negative noise values.\n",
        "\n",
        "In some of these noise-images you can see traces of the numbers. For example, the noise for target-class 0 shows a red circle surrounded by blue. This means that a little noise will be added to the input image in the shape of a circle, and it will dampen the other pixels. This is sufficient for most input images in the MNIST data-set to be mis-classified as a 0. Another example is the noise for 3 which also shows traces of the number 3 with red pixels. But the noise for the other classes is less obvious."
      ]
    },
    {
      "cell_type": "markdown",
      "metadata": {
        "id": "rOvInw-JuUo6"
      },
      "source": [
        "## Immunity to adversarial noise"
      ]
    },
    {
      "cell_type": "markdown",
      "metadata": {
        "id": "i9lkhw5PuUo6"
      },
      "source": [
        "We will now try and make the neural network immune to adversarial noise. We do this by re-training the neural network to ignore the adversarial noise. This process can be repeated a number of times."
      ]
    },
    {
      "cell_type": "markdown",
      "metadata": {
        "id": "URk43AOnuUo6"
      },
      "source": [
        "### Helper-function to make a neural network immune to noise\n",
        "\n",
        "This is the helper-function for making the neural network immune to adversarial noise. First it runs the optimization to find the adversarial noise. Then it runs the normal optimization to make the neural network immune to that noise."
      ]
    },
    {
      "cell_type": "code",
      "execution_count": null,
      "metadata": {
        "id": "XnVcNWh70I51"
      },
      "outputs": [],
      "source": [
        "def make_immune_1(target_cls, num_iterations_adversary=600,\n",
        "                num_iterations_immune=400):\n",
        "\n",
        "    print(\"Target-class:\", target_cls)\n",
        "    print(\"Finding adversarial noise ...\")\n",
        "\n",
        "    # Find the adversarial noise.\n",
        "    optimize_f(num_iterations=num_iterations_adversary,\n",
        "             adversary_target_cls=target_cls,optimizer = opt_list[target_cls],optimizer_adversary = opt_adv_list[target_cls],accuracy = acc_list[target_cls])\n",
        "    \n",
        "\n",
        "    # Newline.\n",
        "    print()\n",
        "    \n",
        "    # Print classification accuracy.\n",
        "    print_test_accuracy(y_pred_cls = test_acc_list[target_cls],show_example_errors=False,\n",
        "                        show_confusion_matrix=False)\n",
        "\n",
        "    # Newline.\n",
        "    print()\n",
        "\n",
        "    print(\"Making the neural network immune to the noise ...\")\n",
        "\n",
        "    # Try and make the neural network immune to this noise.\n",
        "    # Note that the adversarial noise has not been reset to zero\n",
        "    # so the x_noise variable still holds the noise.\n",
        "    # So we are training the neural network to ignore the noise.\n",
        "    optimize_f(num_iterations=num_iterations_immune,optimizer = opt_list[target_cls],accuracy = acc_list[target_cls],optimizer_adversary =None)\n",
        "\n",
        "    # Newline.\n",
        "    print()\n",
        "    \n",
        "    # Print classification accuracy.\n",
        "    print_test_accuracy(y_pred_cls = test_acc_list[target_cls],show_example_errors=False,\n",
        "                        show_confusion_matrix=False)"
      ]
    },
    {
      "cell_type": "code",
      "source": [
        "make_immune_1(target_cls=2)"
      ],
      "metadata": {
        "colab": {
          "base_uri": "https://localhost:8080/"
        },
        "id": "ejybLDoA61QA",
        "outputId": "2709e794-6a8e-4ad2-f9f7-e5b2a4fdbe92"
      },
      "execution_count": null,
      "outputs": [
        {
          "output_type": "stream",
          "name": "stdout",
          "text": [
            "Target-class: 2\n",
            "Finding adversarial noise ...\n",
            "Optimization Iteration:      0, Training Accuracy:   0.3%\n",
            "Optimization Iteration:    100, Training Accuracy:  99.3%\n",
            "Optimization Iteration:    200, Training Accuracy:  99.0%\n",
            "Optimization Iteration:    300, Training Accuracy:  97.3%\n",
            "Optimization Iteration:    400, Training Accuracy:  99.0%\n",
            "Optimization Iteration:    500, Training Accuracy:  99.0%\n",
            "Optimization Iteration:    599, Training Accuracy:  99.3%\n",
            "Time usage: 0:00:05\n",
            "\n",
            "Accuracy on Test-Set: 11.5% (1152 / 10000)\n",
            "\n",
            "Making the neural network immune to the noise ...\n",
            "Optimization Iteration:      0, Training Accuracy:  33.0%\n"
          ]
        },
        {
          "output_type": "stream",
          "name": "stderr",
          "text": [
            "/usr/local/lib/python3.7/dist-packages/ipykernel_launcher.py:12: DeprecationWarning: `np.int` is a deprecated alias for the builtin `int`. To silence this warning, use `int` by itself. Doing this will not modify any behavior and is safe. When replacing `np.int`, you may wish to use e.g. `np.int64` or `np.int32` to specify the precision. If you wish to review your current use, check the release note link for additional information.\n",
            "Deprecated in NumPy 1.20; for more details and guidance: https://numpy.org/devdocs/release/1.20.0-notes.html#deprecations\n",
            "  if sys.path[0] == '':\n"
          ]
        },
        {
          "output_type": "stream",
          "name": "stdout",
          "text": [
            "Optimization Iteration:    100, Training Accuracy:  96.7%\n",
            "Optimization Iteration:    200, Training Accuracy:  97.0%\n",
            "Optimization Iteration:    300, Training Accuracy:  98.0%\n",
            "Optimization Iteration:    399, Training Accuracy:  98.3%\n",
            "Time usage: 0:00:02\n",
            "\n",
            "Accuracy on Test-Set: 96.9% (9687 / 10000)\n"
          ]
        }
      ]
    },
    {
      "cell_type": "code",
      "source": [
        "make_immune_1(target_cls=2)"
      ],
      "metadata": {
        "colab": {
          "base_uri": "https://localhost:8080/"
        },
        "id": "Lz3AeYjZ66T3",
        "outputId": "0870ec0a-d066-41ea-e057-3b16a699ea6f"
      },
      "execution_count": null,
      "outputs": [
        {
          "output_type": "stream",
          "name": "stdout",
          "text": [
            "Target-class: 2\n",
            "Finding adversarial noise ...\n",
            "Optimization Iteration:      0, Training Accuracy:   9.0%\n",
            "Optimization Iteration:    100, Training Accuracy:  90.7%\n",
            "Optimization Iteration:    200, Training Accuracy:  90.7%\n",
            "Optimization Iteration:    300, Training Accuracy:  94.3%\n",
            "Optimization Iteration:    400, Training Accuracy:  94.3%\n",
            "Optimization Iteration:    500, Training Accuracy:  92.3%\n",
            "Optimization Iteration:    599, Training Accuracy:  91.7%\n",
            "Time usage: 0:00:05\n",
            "\n",
            "Accuracy on Test-Set: 16.3% (1627 / 10000)\n",
            "\n",
            "Making the neural network immune to the noise ...\n",
            "Optimization Iteration:      0, Training Accuracy:  41.3%\n"
          ]
        },
        {
          "output_type": "stream",
          "name": "stderr",
          "text": [
            "/usr/local/lib/python3.7/dist-packages/ipykernel_launcher.py:12: DeprecationWarning: `np.int` is a deprecated alias for the builtin `int`. To silence this warning, use `int` by itself. Doing this will not modify any behavior and is safe. When replacing `np.int`, you may wish to use e.g. `np.int64` or `np.int32` to specify the precision. If you wish to review your current use, check the release note link for additional information.\n",
            "Deprecated in NumPy 1.20; for more details and guidance: https://numpy.org/devdocs/release/1.20.0-notes.html#deprecations\n",
            "  if sys.path[0] == '':\n"
          ]
        },
        {
          "output_type": "stream",
          "name": "stdout",
          "text": [
            "Optimization Iteration:    100, Training Accuracy:  96.3%\n",
            "Optimization Iteration:    200, Training Accuracy:  95.7%\n",
            "Optimization Iteration:    300, Training Accuracy:  97.7%\n",
            "Optimization Iteration:    399, Training Accuracy:  98.3%\n",
            "Time usage: 0:00:02\n",
            "\n",
            "Accuracy on Test-Set: 96.9% (9692 / 10000)\n"
          ]
        }
      ]
    },
    {
      "cell_type": "code",
      "source": [
        "make_immune_1(target_cls=2)"
      ],
      "metadata": {
        "colab": {
          "base_uri": "https://localhost:8080/"
        },
        "id": "DDJSFpyn9ZAt",
        "outputId": "7b9ec995-6a90-4198-f6cc-bb1ebd0acbb7"
      },
      "execution_count": null,
      "outputs": [
        {
          "output_type": "stream",
          "name": "stdout",
          "text": [
            "Target-class: 2\n",
            "Finding adversarial noise ...\n",
            "Optimization Iteration:      0, Training Accuracy:   8.7%\n",
            "Optimization Iteration:    100, Training Accuracy:  52.3%\n",
            "Optimization Iteration:    200, Training Accuracy:  62.0%\n",
            "Optimization Iteration:    300, Training Accuracy:  60.7%\n",
            "Optimization Iteration:    400, Training Accuracy:  63.3%\n",
            "Optimization Iteration:    500, Training Accuracy:  63.7%\n",
            "Optimization Iteration:    599, Training Accuracy:  69.7%\n",
            "Time usage: 0:00:05\n",
            "\n",
            "Accuracy on Test-Set: 38.7% (3869 / 10000)\n",
            "\n",
            "Making the neural network immune to the noise ...\n",
            "Optimization Iteration:      0, Training Accuracy:  63.0%\n"
          ]
        },
        {
          "output_type": "stream",
          "name": "stderr",
          "text": [
            "/usr/local/lib/python3.7/dist-packages/ipykernel_launcher.py:12: DeprecationWarning: `np.int` is a deprecated alias for the builtin `int`. To silence this warning, use `int` by itself. Doing this will not modify any behavior and is safe. When replacing `np.int`, you may wish to use e.g. `np.int64` or `np.int32` to specify the precision. If you wish to review your current use, check the release note link for additional information.\n",
            "Deprecated in NumPy 1.20; for more details and guidance: https://numpy.org/devdocs/release/1.20.0-notes.html#deprecations\n",
            "  if sys.path[0] == '':\n"
          ]
        },
        {
          "output_type": "stream",
          "name": "stdout",
          "text": [
            "Optimization Iteration:    100, Training Accuracy:  97.7%\n",
            "Optimization Iteration:    200, Training Accuracy:  95.7%\n",
            "Optimization Iteration:    300, Training Accuracy:  97.7%\n",
            "Optimization Iteration:    399, Training Accuracy:  98.0%\n",
            "Time usage: 0:00:02\n",
            "\n",
            "Accuracy on Test-Set: 97.0% (9697 / 10000)\n"
          ]
        }
      ]
    },
    {
      "cell_type": "code",
      "source": [
        "make_immune_1(target_cls=2)"
      ],
      "metadata": {
        "colab": {
          "base_uri": "https://localhost:8080/"
        },
        "id": "kPJJmwuU9byo",
        "outputId": "e89b65c3-e284-4b42-b451-86b121f3d341"
      },
      "execution_count": null,
      "outputs": [
        {
          "output_type": "stream",
          "name": "stdout",
          "text": [
            "Target-class: 2\n",
            "Finding adversarial noise ...\n",
            "Optimization Iteration:      0, Training Accuracy:  12.3%\n",
            "Optimization Iteration:    100, Training Accuracy:  60.0%\n",
            "Optimization Iteration:    200, Training Accuracy:  70.0%\n",
            "Optimization Iteration:    300, Training Accuracy:  69.0%\n",
            "Optimization Iteration:    400, Training Accuracy:  66.7%\n",
            "Optimization Iteration:    500, Training Accuracy:  73.7%\n",
            "Optimization Iteration:    599, Training Accuracy:  73.7%\n",
            "Time usage: 0:00:05\n",
            "\n",
            "Accuracy on Test-Set: 33.1% (3306 / 10000)\n",
            "\n",
            "Making the neural network immune to the noise ...\n",
            "Optimization Iteration:      0, Training Accuracy:  63.3%\n"
          ]
        },
        {
          "output_type": "stream",
          "name": "stderr",
          "text": [
            "/usr/local/lib/python3.7/dist-packages/ipykernel_launcher.py:12: DeprecationWarning: `np.int` is a deprecated alias for the builtin `int`. To silence this warning, use `int` by itself. Doing this will not modify any behavior and is safe. When replacing `np.int`, you may wish to use e.g. `np.int64` or `np.int32` to specify the precision. If you wish to review your current use, check the release note link for additional information.\n",
            "Deprecated in NumPy 1.20; for more details and guidance: https://numpy.org/devdocs/release/1.20.0-notes.html#deprecations\n",
            "  if sys.path[0] == '':\n"
          ]
        },
        {
          "output_type": "stream",
          "name": "stdout",
          "text": [
            "Optimization Iteration:    100, Training Accuracy:  97.7%\n",
            "Optimization Iteration:    200, Training Accuracy:  98.0%\n",
            "Optimization Iteration:    300, Training Accuracy:  98.3%\n",
            "Optimization Iteration:    399, Training Accuracy:  99.3%\n",
            "Time usage: 0:00:02\n",
            "\n",
            "Accuracy on Test-Set: 97.0% (9703 / 10000)\n"
          ]
        }
      ]
    },
    {
      "cell_type": "code",
      "source": [
        "make_immune_1(target_cls=2)"
      ],
      "metadata": {
        "colab": {
          "base_uri": "https://localhost:8080/"
        },
        "id": "4MQ_P0C39die",
        "outputId": "23e96b00-b189-4ced-8c46-5dedf90620fd"
      },
      "execution_count": null,
      "outputs": [
        {
          "output_type": "stream",
          "name": "stdout",
          "text": [
            "Target-class: 2\n",
            "Finding adversarial noise ...\n",
            "Optimization Iteration:      0, Training Accuracy:   8.3%\n",
            "Optimization Iteration:    100, Training Accuracy:  25.3%\n",
            "Optimization Iteration:    200, Training Accuracy:  35.0%\n",
            "Optimization Iteration:    300, Training Accuracy:  42.0%\n",
            "Optimization Iteration:    400, Training Accuracy:  44.7%\n",
            "Optimization Iteration:    500, Training Accuracy:  42.3%\n",
            "Optimization Iteration:    599, Training Accuracy:  45.3%\n",
            "Time usage: 0:00:05\n",
            "\n",
            "Accuracy on Test-Set: 61.4% (6142 / 10000)\n",
            "\n",
            "Making the neural network immune to the noise ...\n",
            "Optimization Iteration:      0, Training Accuracy:  79.0%\n"
          ]
        },
        {
          "output_type": "stream",
          "name": "stderr",
          "text": [
            "/usr/local/lib/python3.7/dist-packages/ipykernel_launcher.py:12: DeprecationWarning: `np.int` is a deprecated alias for the builtin `int`. To silence this warning, use `int` by itself. Doing this will not modify any behavior and is safe. When replacing `np.int`, you may wish to use e.g. `np.int64` or `np.int32` to specify the precision. If you wish to review your current use, check the release note link for additional information.\n",
            "Deprecated in NumPy 1.20; for more details and guidance: https://numpy.org/devdocs/release/1.20.0-notes.html#deprecations\n",
            "  if sys.path[0] == '':\n"
          ]
        },
        {
          "output_type": "stream",
          "name": "stdout",
          "text": [
            "Optimization Iteration:    100, Training Accuracy:  99.3%\n",
            "Optimization Iteration:    200, Training Accuracy:  97.7%\n",
            "Optimization Iteration:    300, Training Accuracy:  98.0%\n",
            "Optimization Iteration:    399, Training Accuracy:  99.7%\n",
            "Time usage: 0:00:02\n",
            "\n",
            "Accuracy on Test-Set: 97.2% (9724 / 10000)\n"
          ]
        }
      ]
    },
    {
      "cell_type": "markdown",
      "metadata": {
        "id": "eLcWI0DmuUo7"
      },
      "source": [
        "Now try and run it again. It is now more difficult to find adversarial noise for the target-class 3. The neural network seems to have become somewhat immune to adversarial noise."
      ]
    },
    {
      "cell_type": "markdown",
      "metadata": {
        "id": "PUeN29InuUo8"
      },
      "source": [
        "### Make immune to noise for all target-classes\n",
        "\n",
        "Now try and make the neural network immune to adversarial noise for all target-classes. Unfortunately this does not seem to work so well."
      ]
    },
    {
      "cell_type": "code",
      "source": [
        "for i in range(10):\n",
        "    make_immune_1(target_cls=i)\n",
        "    \n",
        "    # Print newline.\n",
        "    print()"
      ],
      "metadata": {
        "id": "bOhygtawvjN-",
        "colab": {
          "base_uri": "https://localhost:8080/"
        },
        "outputId": "703a67df-e800-4138-ec4a-b6958ab314ae"
      },
      "execution_count": null,
      "outputs": [
        {
          "output_type": "stream",
          "name": "stdout",
          "text": [
            "Target-class: 0\n",
            "Finding adversarial noise ...\n",
            "Optimization Iteration:      0, Training Accuracy:   1.7%\n",
            "Optimization Iteration:    100, Training Accuracy:  93.3%\n",
            "Optimization Iteration:    200, Training Accuracy:  96.0%\n",
            "Optimization Iteration:    300, Training Accuracy:  96.3%\n",
            "Optimization Iteration:    400, Training Accuracy:  96.0%\n",
            "Optimization Iteration:    500, Training Accuracy:  98.3%\n",
            "Optimization Iteration:    599, Training Accuracy:  96.3%\n",
            "Time usage: 0:00:05\n",
            "\n",
            "Accuracy on Test-Set: 13.0% (1297 / 10000)\n",
            "\n",
            "Making the neural network immune to the noise ...\n",
            "Optimization Iteration:      0, Training Accuracy:  58.0%\n"
          ]
        },
        {
          "output_type": "stream",
          "name": "stderr",
          "text": [
            "/usr/local/lib/python3.7/dist-packages/ipykernel_launcher.py:12: DeprecationWarning: `np.int` is a deprecated alias for the builtin `int`. To silence this warning, use `int` by itself. Doing this will not modify any behavior and is safe. When replacing `np.int`, you may wish to use e.g. `np.int64` or `np.int32` to specify the precision. If you wish to review your current use, check the release note link for additional information.\n",
            "Deprecated in NumPy 1.20; for more details and guidance: https://numpy.org/devdocs/release/1.20.0-notes.html#deprecations\n",
            "  if sys.path[0] == '':\n"
          ]
        },
        {
          "output_type": "stream",
          "name": "stdout",
          "text": [
            "Optimization Iteration:    100, Training Accuracy:  96.7%\n",
            "Optimization Iteration:    200, Training Accuracy:  99.0%\n",
            "Optimization Iteration:    300, Training Accuracy:  98.0%\n",
            "Optimization Iteration:    399, Training Accuracy:  98.3%\n",
            "Time usage: 0:00:02\n",
            "\n",
            "Accuracy on Test-Set: 96.9% (9686 / 10000)\n",
            "\n",
            "Target-class: 1\n",
            "Finding adversarial noise ...\n",
            "Optimization Iteration:      0, Training Accuracy:   0.0%\n",
            "Optimization Iteration:    100, Training Accuracy:  88.7%\n",
            "Optimization Iteration:    200, Training Accuracy:  90.3%\n",
            "Optimization Iteration:    300, Training Accuracy:  91.7%\n",
            "Optimization Iteration:    400, Training Accuracy:  93.0%\n",
            "Optimization Iteration:    500, Training Accuracy:  96.0%\n",
            "Optimization Iteration:    599, Training Accuracy:  93.3%\n",
            "Time usage: 0:00:05\n",
            "\n",
            "Accuracy on Test-Set: 17.0% (1695 / 10000)\n",
            "\n",
            "Making the neural network immune to the noise ...\n",
            "Optimization Iteration:      0, Training Accuracy:  54.0%\n",
            "Optimization Iteration:    100, Training Accuracy:  96.3%\n",
            "Optimization Iteration:    200, Training Accuracy:  97.0%\n",
            "Optimization Iteration:    300, Training Accuracy:  96.3%\n",
            "Optimization Iteration:    399, Training Accuracy:  98.0%\n",
            "Time usage: 0:00:02\n",
            "\n",
            "Accuracy on Test-Set: 96.4% (9644 / 10000)\n",
            "\n",
            "Target-class: 2\n",
            "Finding adversarial noise ...\n",
            "Optimization Iteration:      0, Training Accuracy:   0.0%\n",
            "Optimization Iteration:    100, Training Accuracy:  35.3%\n",
            "Optimization Iteration:    200, Training Accuracy:  44.7%\n",
            "Optimization Iteration:    300, Training Accuracy:  48.3%\n",
            "Optimization Iteration:    400, Training Accuracy:  46.7%\n",
            "Optimization Iteration:    500, Training Accuracy:  51.3%\n",
            "Optimization Iteration:    599, Training Accuracy:  46.7%\n",
            "Time usage: 0:00:04\n",
            "\n",
            "Accuracy on Test-Set: 56.7% (5671 / 10000)\n",
            "\n",
            "Making the neural network immune to the noise ...\n",
            "Optimization Iteration:      0, Training Accuracy:  73.7%\n",
            "Optimization Iteration:    100, Training Accuracy:  98.3%\n",
            "Optimization Iteration:    200, Training Accuracy:  98.3%\n",
            "Optimization Iteration:    300, Training Accuracy:  98.7%\n",
            "Optimization Iteration:    399, Training Accuracy:  98.7%\n",
            "Time usage: 0:00:02\n",
            "\n",
            "Accuracy on Test-Set: 97.2% (9720 / 10000)\n",
            "\n",
            "Target-class: 3\n",
            "Finding adversarial noise ...\n",
            "Optimization Iteration:      0, Training Accuracy:   2.3%\n",
            "Optimization Iteration:    100, Training Accuracy:  96.3%\n",
            "Optimization Iteration:    200, Training Accuracy:  97.3%\n",
            "Optimization Iteration:    300, Training Accuracy:  98.3%\n",
            "Optimization Iteration:    400, Training Accuracy:  99.0%\n",
            "Optimization Iteration:    500, Training Accuracy:  97.7%\n",
            "Optimization Iteration:    599, Training Accuracy:  99.3%\n",
            "Time usage: 0:00:05\n",
            "\n",
            "Accuracy on Test-Set: 11.6% (1164 / 10000)\n",
            "\n",
            "Making the neural network immune to the noise ...\n",
            "Optimization Iteration:      0, Training Accuracy:  49.3%\n",
            "Optimization Iteration:    100, Training Accuracy:  96.0%\n",
            "Optimization Iteration:    200, Training Accuracy:  96.7%\n",
            "Optimization Iteration:    300, Training Accuracy:  97.0%\n",
            "Optimization Iteration:    399, Training Accuracy:  98.0%\n",
            "Time usage: 0:00:02\n",
            "\n",
            "Accuracy on Test-Set: 96.7% (9673 / 10000)\n",
            "\n",
            "Target-class: 4\n",
            "Finding adversarial noise ...\n",
            "Optimization Iteration:      0, Training Accuracy:   2.0%\n",
            "Optimization Iteration:    100, Training Accuracy:  95.3%\n",
            "Optimization Iteration:    200, Training Accuracy:  97.0%\n",
            "Optimization Iteration:    300, Training Accuracy:  97.0%\n",
            "Optimization Iteration:    400, Training Accuracy:  94.3%\n",
            "Optimization Iteration:    500, Training Accuracy:  95.3%\n",
            "Optimization Iteration:    599, Training Accuracy:  97.0%\n",
            "Time usage: 0:00:05\n",
            "\n",
            "Accuracy on Test-Set: 13.2% (1322 / 10000)\n",
            "\n",
            "Making the neural network immune to the noise ...\n",
            "Optimization Iteration:      0, Training Accuracy:  49.7%\n",
            "Optimization Iteration:    100, Training Accuracy:  98.0%\n",
            "Optimization Iteration:    200, Training Accuracy:  97.0%\n",
            "Optimization Iteration:    300, Training Accuracy:  97.3%\n",
            "Optimization Iteration:    399, Training Accuracy:  97.3%\n",
            "Time usage: 0:00:02\n",
            "\n",
            "Accuracy on Test-Set: 96.5% (9652 / 10000)\n",
            "\n",
            "Target-class: 5\n",
            "Finding adversarial noise ...\n",
            "Optimization Iteration:      0, Training Accuracy:   0.7%\n",
            "Optimization Iteration:    100, Training Accuracy:  98.3%\n",
            "Optimization Iteration:    200, Training Accuracy:  98.0%\n",
            "Optimization Iteration:    300, Training Accuracy:  99.0%\n",
            "Optimization Iteration:    400, Training Accuracy:  99.3%\n",
            "Optimization Iteration:    500, Training Accuracy:  98.3%\n",
            "Optimization Iteration:    599, Training Accuracy:  99.3%\n",
            "Time usage: 0:00:05\n",
            "\n",
            "Accuracy on Test-Set: 10.1% (1008 / 10000)\n",
            "\n",
            "Making the neural network immune to the noise ...\n",
            "Optimization Iteration:      0, Training Accuracy:  41.0%\n",
            "Optimization Iteration:    100, Training Accuracy:  95.7%\n",
            "Optimization Iteration:    200, Training Accuracy:  96.0%\n",
            "Optimization Iteration:    300, Training Accuracy:  98.7%\n",
            "Optimization Iteration:    399, Training Accuracy:  97.7%\n",
            "Time usage: 0:00:02\n",
            "\n",
            "Accuracy on Test-Set: 96.8% (9678 / 10000)\n",
            "\n",
            "Target-class: 6\n",
            "Finding adversarial noise ...\n",
            "Optimization Iteration:      0, Training Accuracy:   3.7%\n",
            "Optimization Iteration:    100, Training Accuracy:  98.3%\n",
            "Optimization Iteration:    200, Training Accuracy:  98.7%\n",
            "Optimization Iteration:    300, Training Accuracy:  99.0%\n",
            "Optimization Iteration:    400, Training Accuracy:  98.7%\n",
            "Optimization Iteration:    500, Training Accuracy:  98.3%\n",
            "Optimization Iteration:    599, Training Accuracy:  97.0%\n",
            "Time usage: 0:00:05\n",
            "\n",
            "Accuracy on Test-Set: 10.8% (1079 / 10000)\n",
            "\n",
            "Making the neural network immune to the noise ...\n",
            "Optimization Iteration:      0, Training Accuracy:  35.3%\n",
            "Optimization Iteration:    100, Training Accuracy:  96.0%\n",
            "Optimization Iteration:    200, Training Accuracy:  98.7%\n",
            "Optimization Iteration:    300, Training Accuracy:  98.7%\n",
            "Optimization Iteration:    399, Training Accuracy:  98.7%\n",
            "Time usage: 0:00:02\n",
            "\n",
            "Accuracy on Test-Set: 97.0% (9705 / 10000)\n",
            "\n",
            "Target-class: 7\n",
            "Finding adversarial noise ...\n",
            "Optimization Iteration:      0, Training Accuracy:   1.3%\n",
            "Optimization Iteration:    100, Training Accuracy:  97.3%\n",
            "Optimization Iteration:    200, Training Accuracy:  99.0%\n",
            "Optimization Iteration:    300, Training Accuracy:  98.0%\n",
            "Optimization Iteration:    400, Training Accuracy:  97.7%\n",
            "Optimization Iteration:    500, Training Accuracy:  97.3%\n",
            "Optimization Iteration:    599, Training Accuracy:  98.3%\n",
            "Time usage: 0:00:05\n",
            "\n",
            "Accuracy on Test-Set: 12.0% (1198 / 10000)\n",
            "\n",
            "Making the neural network immune to the noise ...\n",
            "Optimization Iteration:      0, Training Accuracy:  30.0%\n",
            "Optimization Iteration:    100, Training Accuracy:  96.3%\n",
            "Optimization Iteration:    200, Training Accuracy:  97.0%\n",
            "Optimization Iteration:    300, Training Accuracy:  97.7%\n",
            "Optimization Iteration:    399, Training Accuracy:  96.3%\n",
            "Time usage: 0:00:02\n",
            "\n",
            "Accuracy on Test-Set: 96.8% (9678 / 10000)\n",
            "\n",
            "Target-class: 8\n",
            "Finding adversarial noise ...\n",
            "Optimization Iteration:      0, Training Accuracy:   1.0%\n",
            "Optimization Iteration:    100, Training Accuracy:  99.3%\n",
            "Optimization Iteration:    200, Training Accuracy:  98.3%\n",
            "Optimization Iteration:    300, Training Accuracy:  98.0%\n",
            "Optimization Iteration:    400, Training Accuracy:  98.7%\n",
            "Optimization Iteration:    500, Training Accuracy:  98.3%\n",
            "Optimization Iteration:    599, Training Accuracy:  98.3%\n",
            "Time usage: 0:00:05\n",
            "\n",
            "Accuracy on Test-Set: 11.5% (1152 / 10000)\n",
            "\n",
            "Making the neural network immune to the noise ...\n",
            "Optimization Iteration:      0, Training Accuracy:  57.7%\n",
            "Optimization Iteration:    100, Training Accuracy:  95.7%\n",
            "Optimization Iteration:    200, Training Accuracy:  98.3%\n",
            "Optimization Iteration:    300, Training Accuracy:  96.7%\n",
            "Optimization Iteration:    399, Training Accuracy:  98.0%\n",
            "Time usage: 0:00:02\n",
            "\n",
            "Accuracy on Test-Set: 96.9% (9689 / 10000)\n",
            "\n",
            "Target-class: 9\n",
            "Finding adversarial noise ...\n",
            "Optimization Iteration:      0, Training Accuracy:   1.0%\n",
            "Optimization Iteration:    100, Training Accuracy:  97.3%\n",
            "Optimization Iteration:    200, Training Accuracy:  97.3%\n",
            "Optimization Iteration:    300, Training Accuracy:  98.0%\n",
            "Optimization Iteration:    400, Training Accuracy:  97.7%\n",
            "Optimization Iteration:    500, Training Accuracy:  99.3%\n",
            "Optimization Iteration:    599, Training Accuracy:  97.7%\n",
            "Time usage: 0:00:05\n",
            "\n",
            "Accuracy on Test-Set: 11.5% (1153 / 10000)\n",
            "\n",
            "Making the neural network immune to the noise ...\n",
            "Optimization Iteration:      0, Training Accuracy:  40.0%\n",
            "Optimization Iteration:    100, Training Accuracy:  96.3%\n",
            "Optimization Iteration:    200, Training Accuracy:  96.7%\n",
            "Optimization Iteration:    300, Training Accuracy:  97.3%\n",
            "Optimization Iteration:    399, Training Accuracy:  98.0%\n",
            "Time usage: 0:00:02\n",
            "\n",
            "Accuracy on Test-Set: 96.8% (9684 / 10000)\n",
            "\n"
          ]
        }
      ]
    },
    {
      "cell_type": "markdown",
      "metadata": {
        "id": "FEod5rvuuUo9"
      },
      "source": [
        "### Make immune to all target-classes (double runs)\n",
        "\n",
        "Now try and use double-runs to make the neural network immune to adversarial noise for all target-classes. Unfortunately this does not seem to work so well either.\n",
        "\n",
        "Making the neural network immune to one adversarial target-class appears to cancel the immunity towards the other target-classes."
      ]
    },
    {
      "cell_type": "code",
      "source": [
        "for i in range(10):\n",
        "    make_immune_1(target_cls=i)\n",
        "    \n",
        "    # Print newline.\n",
        "    print()\n",
        "    \n",
        "    make_immune_1(target_cls=i)\n",
        "\n",
        "    # Print newline.\n",
        "    print()"
      ],
      "metadata": {
        "id": "DppEboab3EYa",
        "colab": {
          "base_uri": "https://localhost:8080/"
        },
        "outputId": "f1c7d455-7450-493c-aaad-82b114c3374c"
      },
      "execution_count": null,
      "outputs": [
        {
          "output_type": "stream",
          "name": "stdout",
          "text": [
            "Target-class: 0\n",
            "Finding adversarial noise ...\n",
            "Optimization Iteration:      0, Training Accuracy:   0.0%\n",
            "Optimization Iteration:    100, Training Accuracy:  29.7%\n",
            "Optimization Iteration:    200, Training Accuracy:  25.7%\n",
            "Optimization Iteration:    300, Training Accuracy:  35.7%\n",
            "Optimization Iteration:    400, Training Accuracy:  34.3%\n",
            "Optimization Iteration:    500, Training Accuracy:  37.3%\n",
            "Optimization Iteration:    599, Training Accuracy:  37.7%\n",
            "Time usage: 0:00:05\n",
            "\n",
            "Accuracy on Test-Set: 62.2% (6217 / 10000)\n",
            "\n",
            "Making the neural network immune to the noise ...\n",
            "Optimization Iteration:      0, Training Accuracy:  79.0%\n"
          ]
        },
        {
          "output_type": "stream",
          "name": "stderr",
          "text": [
            "/usr/local/lib/python3.7/dist-packages/ipykernel_launcher.py:12: DeprecationWarning: `np.int` is a deprecated alias for the builtin `int`. To silence this warning, use `int` by itself. Doing this will not modify any behavior and is safe. When replacing `np.int`, you may wish to use e.g. `np.int64` or `np.int32` to specify the precision. If you wish to review your current use, check the release note link for additional information.\n",
            "Deprecated in NumPy 1.20; for more details and guidance: https://numpy.org/devdocs/release/1.20.0-notes.html#deprecations\n",
            "  if sys.path[0] == '':\n"
          ]
        },
        {
          "output_type": "stream",
          "name": "stdout",
          "text": [
            "Optimization Iteration:    100, Training Accuracy:  96.0%\n",
            "Optimization Iteration:    200, Training Accuracy:  96.3%\n",
            "Optimization Iteration:    300, Training Accuracy:  98.3%\n",
            "Optimization Iteration:    399, Training Accuracy:  96.7%\n",
            "Time usage: 0:00:02\n",
            "\n",
            "Accuracy on Test-Set: 97.2% (9717 / 10000)\n",
            "\n",
            "Target-class: 0\n",
            "Finding adversarial noise ...\n",
            "Optimization Iteration:      0, Training Accuracy:   9.7%\n",
            "Optimization Iteration:    100, Training Accuracy:  18.7%\n",
            "Optimization Iteration:    200, Training Accuracy:  22.3%\n",
            "Optimization Iteration:    300, Training Accuracy:  16.0%\n",
            "Optimization Iteration:    400, Training Accuracy:  20.0%\n",
            "Optimization Iteration:    500, Training Accuracy:  25.3%\n",
            "Optimization Iteration:    599, Training Accuracy:  23.0%\n",
            "Time usage: 0:00:05\n",
            "\n",
            "Accuracy on Test-Set: 82.3% (8227 / 10000)\n",
            "\n",
            "Making the neural network immune to the noise ...\n",
            "Optimization Iteration:      0, Training Accuracy:  88.3%\n",
            "Optimization Iteration:    100, Training Accuracy:  99.0%\n",
            "Optimization Iteration:    200, Training Accuracy:  98.3%\n",
            "Optimization Iteration:    300, Training Accuracy:  98.7%\n",
            "Optimization Iteration:    399, Training Accuracy:  99.0%\n",
            "Time usage: 0:00:02\n",
            "\n",
            "Accuracy on Test-Set: 97.4% (9740 / 10000)\n",
            "\n",
            "Target-class: 1\n",
            "Finding adversarial noise ...\n",
            "Optimization Iteration:      0, Training Accuracy:   0.0%\n",
            "Optimization Iteration:    100, Training Accuracy:  27.0%\n",
            "Optimization Iteration:    200, Training Accuracy:  22.0%\n",
            "Optimization Iteration:    300, Training Accuracy:  28.7%\n",
            "Optimization Iteration:    400, Training Accuracy:  29.7%\n",
            "Optimization Iteration:    500, Training Accuracy:  31.7%\n",
            "Optimization Iteration:    599, Training Accuracy:  29.7%\n",
            "Time usage: 0:00:05\n",
            "\n",
            "Accuracy on Test-Set: 68.4% (6839 / 10000)\n",
            "\n",
            "Making the neural network immune to the noise ...\n",
            "Optimization Iteration:      0, Training Accuracy:  75.7%\n",
            "Optimization Iteration:    100, Training Accuracy:  96.7%\n",
            "Optimization Iteration:    200, Training Accuracy:  97.7%\n",
            "Optimization Iteration:    300, Training Accuracy:  98.0%\n",
            "Optimization Iteration:    399, Training Accuracy:  98.7%\n",
            "Time usage: 0:00:02\n",
            "\n",
            "Accuracy on Test-Set: 96.8% (9676 / 10000)\n",
            "\n",
            "Target-class: 1\n",
            "Finding adversarial noise ...\n",
            "Optimization Iteration:      0, Training Accuracy:  11.7%\n",
            "Optimization Iteration:    100, Training Accuracy:  17.7%\n",
            "Optimization Iteration:    200, Training Accuracy:  25.3%\n",
            "Optimization Iteration:    300, Training Accuracy:  29.0%\n",
            "Optimization Iteration:    400, Training Accuracy:  31.7%\n",
            "Optimization Iteration:    500, Training Accuracy:  31.0%\n",
            "Optimization Iteration:    599, Training Accuracy:  31.7%\n",
            "Time usage: 0:00:05\n",
            "\n",
            "Accuracy on Test-Set: 62.6% (6261 / 10000)\n",
            "\n",
            "Making the neural network immune to the noise ...\n",
            "Optimization Iteration:      0, Training Accuracy:  73.3%\n",
            "Optimization Iteration:    100, Training Accuracy:  97.3%\n",
            "Optimization Iteration:    200, Training Accuracy:  98.7%\n",
            "Optimization Iteration:    300, Training Accuracy:  98.0%\n",
            "Optimization Iteration:    399, Training Accuracy:  98.0%\n",
            "Time usage: 0:00:02\n",
            "\n",
            "Accuracy on Test-Set: 96.9% (9689 / 10000)\n",
            "\n",
            "Target-class: 2\n",
            "Finding adversarial noise ...\n",
            "Optimization Iteration:      0, Training Accuracy:   0.0%\n",
            "Optimization Iteration:    100, Training Accuracy:   8.0%\n",
            "Optimization Iteration:    200, Training Accuracy:  11.3%\n",
            "Optimization Iteration:    300, Training Accuracy:  16.3%\n",
            "Optimization Iteration:    400, Training Accuracy:  15.7%\n",
            "Optimization Iteration:    500, Training Accuracy:  18.0%\n",
            "Optimization Iteration:    599, Training Accuracy:  22.7%\n",
            "Time usage: 0:00:05\n",
            "\n",
            "Accuracy on Test-Set: 74.5% (7449 / 10000)\n",
            "\n",
            "Making the neural network immune to the noise ...\n",
            "Optimization Iteration:      0, Training Accuracy:  79.7%\n",
            "Optimization Iteration:    100, Training Accuracy:  99.3%\n",
            "Optimization Iteration:    200, Training Accuracy:  97.7%\n",
            "Optimization Iteration:    300, Training Accuracy:  98.0%\n",
            "Optimization Iteration:    399, Training Accuracy:  98.7%\n",
            "Time usage: 0:00:02\n",
            "\n",
            "Accuracy on Test-Set: 97.3% (9731 / 10000)\n",
            "\n",
            "Target-class: 2\n",
            "Finding adversarial noise ...\n",
            "Optimization Iteration:      0, Training Accuracy:   6.7%\n",
            "Optimization Iteration:    100, Training Accuracy:  14.0%\n",
            "Optimization Iteration:    200, Training Accuracy:  23.0%\n",
            "Optimization Iteration:    300, Training Accuracy:  30.0%\n",
            "Optimization Iteration:    400, Training Accuracy:  30.3%\n",
            "Optimization Iteration:    500, Training Accuracy:  28.0%\n",
            "Optimization Iteration:    599, Training Accuracy:  31.3%\n",
            "Time usage: 0:00:05\n",
            "\n",
            "Accuracy on Test-Set: 71.1% (7111 / 10000)\n",
            "\n",
            "Making the neural network immune to the noise ...\n",
            "Optimization Iteration:      0, Training Accuracy:  84.3%\n",
            "Optimization Iteration:    100, Training Accuracy:  98.3%\n",
            "Optimization Iteration:    200, Training Accuracy:  99.7%\n",
            "Optimization Iteration:    300, Training Accuracy:  99.7%\n",
            "Optimization Iteration:    399, Training Accuracy:  98.7%\n",
            "Time usage: 0:00:02\n",
            "\n",
            "Accuracy on Test-Set: 97.5% (9754 / 10000)\n",
            "\n",
            "Target-class: 3\n",
            "Finding adversarial noise ...\n",
            "Optimization Iteration:      0, Training Accuracy:   0.7%\n",
            "Optimization Iteration:    100, Training Accuracy:  61.7%\n",
            "Optimization Iteration:    200, Training Accuracy:  72.0%\n",
            "Optimization Iteration:    300, Training Accuracy:  85.3%\n",
            "Optimization Iteration:    400, Training Accuracy:  81.7%\n",
            "Optimization Iteration:    500, Training Accuracy:  88.7%\n",
            "Optimization Iteration:    599, Training Accuracy:  87.3%\n",
            "Time usage: 0:00:05\n",
            "\n",
            "Accuracy on Test-Set: 21.3% (2127 / 10000)\n",
            "\n",
            "Making the neural network immune to the noise ...\n",
            "Optimization Iteration:      0, Training Accuracy:  39.3%\n",
            "Optimization Iteration:    100, Training Accuracy:  96.7%\n",
            "Optimization Iteration:    200, Training Accuracy:  98.7%\n",
            "Optimization Iteration:    300, Training Accuracy:  98.0%\n",
            "Optimization Iteration:    399, Training Accuracy:  99.0%\n",
            "Time usage: 0:00:02\n",
            "\n",
            "Accuracy on Test-Set: 96.9% (9694 / 10000)\n",
            "\n",
            "Target-class: 3\n",
            "Finding adversarial noise ...\n",
            "Optimization Iteration:      0, Training Accuracy:  10.3%\n",
            "Optimization Iteration:    100, Training Accuracy:  62.7%\n",
            "Optimization Iteration:    200, Training Accuracy:  66.0%\n",
            "Optimization Iteration:    300, Training Accuracy:  68.3%\n",
            "Optimization Iteration:    400, Training Accuracy:  66.0%\n",
            "Optimization Iteration:    500, Training Accuracy:  71.3%\n",
            "Optimization Iteration:    599, Training Accuracy:  70.3%\n",
            "Time usage: 0:00:05\n",
            "\n",
            "Accuracy on Test-Set: 43.3% (4327 / 10000)\n",
            "\n",
            "Making the neural network immune to the noise ...\n",
            "Optimization Iteration:      0, Training Accuracy:  74.3%\n",
            "Optimization Iteration:    100, Training Accuracy:  97.3%\n",
            "Optimization Iteration:    200, Training Accuracy:  98.3%\n",
            "Optimization Iteration:    300, Training Accuracy:  98.0%\n",
            "Optimization Iteration:    399, Training Accuracy:  98.7%\n",
            "Time usage: 0:00:02\n",
            "\n",
            "Accuracy on Test-Set: 96.6% (9663 / 10000)\n",
            "\n",
            "Target-class: 4\n",
            "Finding adversarial noise ...\n",
            "Optimization Iteration:      0, Training Accuracy:   0.0%\n",
            "Optimization Iteration:    100, Training Accuracy:  45.7%\n",
            "Optimization Iteration:    200, Training Accuracy:  51.0%\n",
            "Optimization Iteration:    300, Training Accuracy:  54.0%\n",
            "Optimization Iteration:    400, Training Accuracy:  50.0%\n",
            "Optimization Iteration:    500, Training Accuracy:  53.7%\n",
            "Optimization Iteration:    599, Training Accuracy:  55.7%\n",
            "Time usage: 0:00:05\n",
            "\n",
            "Accuracy on Test-Set: 43.8% (4376 / 10000)\n",
            "\n",
            "Making the neural network immune to the noise ...\n",
            "Optimization Iteration:      0, Training Accuracy:  61.7%\n",
            "Optimization Iteration:    100, Training Accuracy:  98.3%\n",
            "Optimization Iteration:    200, Training Accuracy:  97.7%\n",
            "Optimization Iteration:    300, Training Accuracy:  97.7%\n",
            "Optimization Iteration:    399, Training Accuracy:  96.7%\n",
            "Time usage: 0:00:02\n",
            "\n",
            "Accuracy on Test-Set: 96.9% (9689 / 10000)\n",
            "\n",
            "Target-class: 4\n",
            "Finding adversarial noise ...\n",
            "Optimization Iteration:      0, Training Accuracy:  12.0%\n",
            "Optimization Iteration:    100, Training Accuracy:  31.0%\n",
            "Optimization Iteration:    200, Training Accuracy:  29.0%\n",
            "Optimization Iteration:    300, Training Accuracy:  26.0%\n",
            "Optimization Iteration:    400, Training Accuracy:  35.7%\n",
            "Optimization Iteration:    500, Training Accuracy:  34.0%\n",
            "Optimization Iteration:    599, Training Accuracy:  35.3%\n",
            "Time usage: 0:00:05\n",
            "\n",
            "Accuracy on Test-Set: 66.3% (6634 / 10000)\n",
            "\n",
            "Making the neural network immune to the noise ...\n",
            "Optimization Iteration:      0, Training Accuracy:  78.0%\n",
            "Optimization Iteration:    100, Training Accuracy:  98.0%\n",
            "Optimization Iteration:    200, Training Accuracy:  99.7%\n",
            "Optimization Iteration:    300, Training Accuracy:  98.0%\n",
            "Optimization Iteration:    399, Training Accuracy:  99.3%\n",
            "Time usage: 0:00:02\n",
            "\n",
            "Accuracy on Test-Set: 97.2% (9715 / 10000)\n",
            "\n",
            "Target-class: 5\n",
            "Finding adversarial noise ...\n",
            "Optimization Iteration:      0, Training Accuracy:   0.0%\n",
            "Optimization Iteration:    100, Training Accuracy:  54.7%\n",
            "Optimization Iteration:    200, Training Accuracy:  69.3%\n",
            "Optimization Iteration:    300, Training Accuracy:  71.0%\n",
            "Optimization Iteration:    400, Training Accuracy:  72.0%\n",
            "Optimization Iteration:    500, Training Accuracy:  76.7%\n",
            "Optimization Iteration:    599, Training Accuracy:  81.7%\n",
            "Time usage: 0:00:05\n",
            "\n",
            "Accuracy on Test-Set: 24.8% (2483 / 10000)\n",
            "\n",
            "Making the neural network immune to the noise ...\n",
            "Optimization Iteration:      0, Training Accuracy:  51.7%\n",
            "Optimization Iteration:    100, Training Accuracy:  95.7%\n",
            "Optimization Iteration:    200, Training Accuracy:  97.0%\n",
            "Optimization Iteration:    300, Training Accuracy:  98.3%\n",
            "Optimization Iteration:    399, Training Accuracy:  98.7%\n",
            "Time usage: 0:00:02\n",
            "\n",
            "Accuracy on Test-Set: 96.6% (9659 / 10000)\n",
            "\n",
            "Target-class: 5\n",
            "Finding adversarial noise ...\n",
            "Optimization Iteration:      0, Training Accuracy:   7.3%\n",
            "Optimization Iteration:    100, Training Accuracy:  69.7%\n",
            "Optimization Iteration:    200, Training Accuracy:  82.0%\n",
            "Optimization Iteration:    300, Training Accuracy:  88.3%\n",
            "Optimization Iteration:    400, Training Accuracy:  88.0%\n",
            "Optimization Iteration:    500, Training Accuracy:  90.0%\n",
            "Optimization Iteration:    599, Training Accuracy:  92.3%\n",
            "Time usage: 0:00:05\n",
            "\n",
            "Accuracy on Test-Set: 14.8% (1478 / 10000)\n",
            "\n",
            "Making the neural network immune to the noise ...\n",
            "Optimization Iteration:      0, Training Accuracy:  31.3%\n",
            "Optimization Iteration:    100, Training Accuracy:  96.7%\n",
            "Optimization Iteration:    200, Training Accuracy:  98.7%\n",
            "Optimization Iteration:    300, Training Accuracy:  95.3%\n",
            "Optimization Iteration:    399, Training Accuracy:  98.0%\n",
            "Time usage: 0:00:02\n",
            "\n",
            "Accuracy on Test-Set: 96.4% (9643 / 10000)\n",
            "\n",
            "Target-class: 6\n",
            "Finding adversarial noise ...\n",
            "Optimization Iteration:      0, Training Accuracy:   0.0%\n",
            "Optimization Iteration:    100, Training Accuracy:  39.7%\n",
            "Optimization Iteration:    200, Training Accuracy:  48.3%\n",
            "Optimization Iteration:    300, Training Accuracy:  46.3%\n",
            "Optimization Iteration:    400, Training Accuracy:  49.0%\n",
            "Optimization Iteration:    500, Training Accuracy:  47.0%\n",
            "Optimization Iteration:    599, Training Accuracy:  58.3%\n",
            "Time usage: 0:00:05\n",
            "\n",
            "Accuracy on Test-Set: 43.5% (4349 / 10000)\n",
            "\n",
            "Making the neural network immune to the noise ...\n",
            "Optimization Iteration:      0, Training Accuracy:  59.7%\n",
            "Optimization Iteration:    100, Training Accuracy:  96.3%\n",
            "Optimization Iteration:    200, Training Accuracy:  97.7%\n",
            "Optimization Iteration:    300, Training Accuracy:  98.0%\n",
            "Optimization Iteration:    399, Training Accuracy:  98.3%\n",
            "Time usage: 0:00:02\n",
            "\n",
            "Accuracy on Test-Set: 97.0% (9705 / 10000)\n",
            "\n",
            "Target-class: 6\n",
            "Finding adversarial noise ...\n",
            "Optimization Iteration:      0, Training Accuracy:   8.3%\n",
            "Optimization Iteration:    100, Training Accuracy:  43.0%\n",
            "Optimization Iteration:    200, Training Accuracy:  40.7%\n",
            "Optimization Iteration:    300, Training Accuracy:  45.0%\n",
            "Optimization Iteration:    400, Training Accuracy:  45.0%\n",
            "Optimization Iteration:    500, Training Accuracy:  41.0%\n",
            "Optimization Iteration:    599, Training Accuracy:  47.0%\n",
            "Time usage: 0:00:05\n",
            "\n",
            "Accuracy on Test-Set: 58.6% (5858 / 10000)\n",
            "\n",
            "Making the neural network immune to the noise ...\n",
            "Optimization Iteration:      0, Training Accuracy:  73.0%\n",
            "Optimization Iteration:    100, Training Accuracy:  98.7%\n",
            "Optimization Iteration:    200, Training Accuracy:  98.7%\n",
            "Optimization Iteration:    300, Training Accuracy:  99.3%\n",
            "Optimization Iteration:    399, Training Accuracy:  99.0%\n",
            "Time usage: 0:00:02\n",
            "\n",
            "Accuracy on Test-Set: 97.0% (9699 / 10000)\n",
            "\n",
            "Target-class: 7\n",
            "Finding adversarial noise ...\n",
            "Optimization Iteration:      0, Training Accuracy:   0.0%\n",
            "Optimization Iteration:    100, Training Accuracy:  47.3%\n",
            "Optimization Iteration:    200, Training Accuracy:  53.3%\n",
            "Optimization Iteration:    300, Training Accuracy:  58.3%\n",
            "Optimization Iteration:    400, Training Accuracy:  65.3%\n",
            "Optimization Iteration:    500, Training Accuracy:  66.7%\n",
            "Optimization Iteration:    599, Training Accuracy:  68.7%\n",
            "Time usage: 0:00:05\n",
            "\n",
            "Accuracy on Test-Set: 33.1% (3313 / 10000)\n",
            "\n",
            "Making the neural network immune to the noise ...\n",
            "Optimization Iteration:      0, Training Accuracy:  54.3%\n",
            "Optimization Iteration:    100, Training Accuracy:  96.0%\n",
            "Optimization Iteration:    200, Training Accuracy:  97.0%\n",
            "Optimization Iteration:    300, Training Accuracy:  97.3%\n",
            "Optimization Iteration:    399, Training Accuracy:  97.7%\n",
            "Time usage: 0:00:02\n",
            "\n",
            "Accuracy on Test-Set: 96.9% (9690 / 10000)\n",
            "\n",
            "Target-class: 7\n",
            "Finding adversarial noise ...\n",
            "Optimization Iteration:      0, Training Accuracy:   9.7%\n",
            "Optimization Iteration:    100, Training Accuracy:  55.7%\n",
            "Optimization Iteration:    200, Training Accuracy:  69.0%\n",
            "Optimization Iteration:    300, Training Accuracy:  76.3%\n",
            "Optimization Iteration:    400, Training Accuracy:  70.3%\n",
            "Optimization Iteration:    500, Training Accuracy:  79.0%\n",
            "Optimization Iteration:    599, Training Accuracy:  83.3%\n",
            "Time usage: 0:00:05\n",
            "\n",
            "Accuracy on Test-Set: 23.7% (2373 / 10000)\n",
            "\n",
            "Making the neural network immune to the noise ...\n",
            "Optimization Iteration:      0, Training Accuracy:  38.3%\n",
            "Optimization Iteration:    100, Training Accuracy:  98.0%\n",
            "Optimization Iteration:    200, Training Accuracy:  96.3%\n",
            "Optimization Iteration:    300, Training Accuracy:  97.7%\n",
            "Optimization Iteration:    399, Training Accuracy:  99.0%\n",
            "Time usage: 0:00:02\n",
            "\n",
            "Accuracy on Test-Set: 96.7% (9668 / 10000)\n",
            "\n",
            "Target-class: 8\n",
            "Finding adversarial noise ...\n",
            "Optimization Iteration:      0, Training Accuracy:   0.0%\n",
            "Optimization Iteration:    100, Training Accuracy:  67.0%\n",
            "Optimization Iteration:    200, Training Accuracy:  72.7%\n",
            "Optimization Iteration:    300, Training Accuracy:  71.0%\n",
            "Optimization Iteration:    400, Training Accuracy:  75.0%\n",
            "Optimization Iteration:    500, Training Accuracy:  76.7%\n",
            "Optimization Iteration:    599, Training Accuracy:  74.7%\n",
            "Time usage: 0:00:05\n",
            "\n",
            "Accuracy on Test-Set: 33.3% (3329 / 10000)\n",
            "\n",
            "Making the neural network immune to the noise ...\n",
            "Optimization Iteration:      0, Training Accuracy:  58.3%\n",
            "Optimization Iteration:    100, Training Accuracy:  97.7%\n",
            "Optimization Iteration:    200, Training Accuracy:  96.3%\n",
            "Optimization Iteration:    300, Training Accuracy:  98.7%\n",
            "Optimization Iteration:    399, Training Accuracy:  99.0%\n",
            "Time usage: 0:00:02\n",
            "\n",
            "Accuracy on Test-Set: 97.0% (9695 / 10000)\n",
            "\n",
            "Target-class: 8\n",
            "Finding adversarial noise ...\n",
            "Optimization Iteration:      0, Training Accuracy:   9.7%\n",
            "Optimization Iteration:    100, Training Accuracy:  35.3%\n",
            "Optimization Iteration:    200, Training Accuracy:  49.0%\n",
            "Optimization Iteration:    300, Training Accuracy:  54.7%\n",
            "Optimization Iteration:    400, Training Accuracy:  55.3%\n",
            "Optimization Iteration:    500, Training Accuracy:  52.0%\n",
            "Optimization Iteration:    599, Training Accuracy:  55.3%\n",
            "Time usage: 0:00:05\n",
            "\n",
            "Accuracy on Test-Set: 54.4% (5445 / 10000)\n",
            "\n",
            "Making the neural network immune to the noise ...\n",
            "Optimization Iteration:      0, Training Accuracy:  82.0%\n",
            "Optimization Iteration:    100, Training Accuracy:  98.3%\n",
            "Optimization Iteration:    200, Training Accuracy:  98.3%\n",
            "Optimization Iteration:    300, Training Accuracy:  97.0%\n",
            "Optimization Iteration:    399, Training Accuracy:  99.0%\n",
            "Time usage: 0:00:02\n",
            "\n",
            "Accuracy on Test-Set: 97.1% (9713 / 10000)\n",
            "\n",
            "Target-class: 9\n",
            "Finding adversarial noise ...\n",
            "Optimization Iteration:      0, Training Accuracy:   0.0%\n",
            "Optimization Iteration:    100, Training Accuracy:  34.0%\n",
            "Optimization Iteration:    200, Training Accuracy:  52.3%\n",
            "Optimization Iteration:    300, Training Accuracy:  48.7%\n",
            "Optimization Iteration:    400, Training Accuracy:  49.0%\n",
            "Optimization Iteration:    500, Training Accuracy:  54.7%\n",
            "Optimization Iteration:    599, Training Accuracy:  51.0%\n",
            "Time usage: 0:00:05\n",
            "\n",
            "Accuracy on Test-Set: 49.0% (4900 / 10000)\n",
            "\n",
            "Making the neural network immune to the noise ...\n",
            "Optimization Iteration:      0, Training Accuracy:  69.7%\n",
            "Optimization Iteration:    100, Training Accuracy:  95.7%\n",
            "Optimization Iteration:    200, Training Accuracy:  98.0%\n",
            "Optimization Iteration:    300, Training Accuracy:  98.0%\n",
            "Optimization Iteration:    399, Training Accuracy:  96.0%\n",
            "Time usage: 0:00:02\n",
            "\n",
            "Accuracy on Test-Set: 96.7% (9667 / 10000)\n",
            "\n",
            "Target-class: 9\n",
            "Finding adversarial noise ...\n",
            "Optimization Iteration:      0, Training Accuracy:   7.3%\n",
            "Optimization Iteration:    100, Training Accuracy:  32.0%\n",
            "Optimization Iteration:    200, Training Accuracy:  42.3%\n",
            "Optimization Iteration:    300, Training Accuracy:  37.7%\n",
            "Optimization Iteration:    400, Training Accuracy:  38.0%\n",
            "Optimization Iteration:    500, Training Accuracy:  42.0%\n",
            "Optimization Iteration:    599, Training Accuracy:  40.7%\n",
            "Time usage: 0:00:05\n",
            "\n",
            "Accuracy on Test-Set: 65.0% (6500 / 10000)\n",
            "\n",
            "Making the neural network immune to the noise ...\n",
            "Optimization Iteration:      0, Training Accuracy:  84.0%\n",
            "Optimization Iteration:    100, Training Accuracy:  99.7%\n",
            "Optimization Iteration:    200, Training Accuracy:  98.7%\n",
            "Optimization Iteration:    300, Training Accuracy:  99.3%\n",
            "Optimization Iteration:    399, Training Accuracy:  97.3%\n",
            "Time usage: 0:00:02\n",
            "\n",
            "Accuracy on Test-Set: 97.1% (9708 / 10000)\n",
            "\n"
          ]
        }
      ]
    },
    {
      "cell_type": "code",
      "source": [
        "for i in range(10):\n",
        "    make_immune_1(target_cls=i)\n",
        "    \n",
        "    # Print newline.\n",
        "    print()\n",
        "    \n",
        "    make_immune_1(target_cls=i)\n",
        "\n",
        "    # Print newline.\n",
        "    print()"
      ],
      "metadata": {
        "colab": {
          "base_uri": "https://localhost:8080/"
        },
        "id": "9CJLgZDeL1mq",
        "outputId": "3d06783e-7558-42ba-bae1-fee4a799459c"
      },
      "execution_count": null,
      "outputs": [
        {
          "output_type": "stream",
          "name": "stdout",
          "text": [
            "Target-class: 0\n",
            "Finding adversarial noise ...\n",
            "Optimization Iteration:      0, Training Accuracy:   0.0%\n",
            "Optimization Iteration:    100, Training Accuracy:  10.7%\n",
            "Optimization Iteration:    200, Training Accuracy:   9.7%\n",
            "Optimization Iteration:    300, Training Accuracy:  14.0%\n",
            "Optimization Iteration:    400, Training Accuracy:  11.0%\n",
            "Optimization Iteration:    500, Training Accuracy:  14.3%\n",
            "Optimization Iteration:    599, Training Accuracy:  11.7%\n",
            "Time usage: 0:00:05\n",
            "\n",
            "Accuracy on Test-Set: 82.6% (8256 / 10000)\n",
            "\n",
            "Making the neural network immune to the noise ...\n",
            "Optimization Iteration:      0, Training Accuracy:  90.3%\n"
          ]
        },
        {
          "output_type": "stream",
          "name": "stderr",
          "text": [
            "/usr/local/lib/python3.7/dist-packages/ipykernel_launcher.py:12: DeprecationWarning: `np.int` is a deprecated alias for the builtin `int`. To silence this warning, use `int` by itself. Doing this will not modify any behavior and is safe. When replacing `np.int`, you may wish to use e.g. `np.int64` or `np.int32` to specify the precision. If you wish to review your current use, check the release note link for additional information.\n",
            "Deprecated in NumPy 1.20; for more details and guidance: https://numpy.org/devdocs/release/1.20.0-notes.html#deprecations\n",
            "  if sys.path[0] == '':\n"
          ]
        },
        {
          "output_type": "stream",
          "name": "stdout",
          "text": [
            "Optimization Iteration:    100, Training Accuracy:  99.0%\n",
            "Optimization Iteration:    200, Training Accuracy:  99.0%\n",
            "Optimization Iteration:    300, Training Accuracy:  98.7%\n",
            "Optimization Iteration:    399, Training Accuracy:  98.3%\n",
            "Time usage: 0:00:02\n",
            "\n",
            "Accuracy on Test-Set: 97.2% (9715 / 10000)\n",
            "\n",
            "Target-class: 0\n",
            "Finding adversarial noise ...\n",
            "Optimization Iteration:      0, Training Accuracy:   9.7%\n",
            "Optimization Iteration:    100, Training Accuracy:  10.3%\n",
            "Optimization Iteration:    200, Training Accuracy:  14.3%\n",
            "Optimization Iteration:    300, Training Accuracy:  12.7%\n",
            "Optimization Iteration:    400, Training Accuracy:  12.3%\n",
            "Optimization Iteration:    500, Training Accuracy:  23.0%\n",
            "Optimization Iteration:    599, Training Accuracy:  17.0%\n",
            "Time usage: 0:00:05\n",
            "\n",
            "Accuracy on Test-Set: 79.3% (7927 / 10000)\n",
            "\n",
            "Making the neural network immune to the noise ...\n",
            "Optimization Iteration:      0, Training Accuracy:  87.7%\n",
            "Optimization Iteration:    100, Training Accuracy:  99.3%\n",
            "Optimization Iteration:    200, Training Accuracy:  99.0%\n",
            "Optimization Iteration:    300, Training Accuracy:  99.3%\n",
            "Optimization Iteration:    399, Training Accuracy: 100.0%\n",
            "Time usage: 0:00:02\n",
            "\n",
            "Accuracy on Test-Set: 97.2% (9716 / 10000)\n",
            "\n",
            "Target-class: 1\n",
            "Finding adversarial noise ...\n",
            "Optimization Iteration:      0, Training Accuracy:   0.0%\n",
            "Optimization Iteration:    100, Training Accuracy:   7.0%\n",
            "Optimization Iteration:    200, Training Accuracy:  15.0%\n",
            "Optimization Iteration:    300, Training Accuracy:  12.0%\n",
            "Optimization Iteration:    400, Training Accuracy:  12.7%\n",
            "Optimization Iteration:    500, Training Accuracy:  12.7%\n",
            "Optimization Iteration:    599, Training Accuracy:  11.3%\n",
            "Time usage: 0:00:05\n",
            "\n",
            "Accuracy on Test-Set: 73.3% (7329 / 10000)\n",
            "\n",
            "Making the neural network immune to the noise ...\n",
            "Optimization Iteration:      0, Training Accuracy:  83.0%\n",
            "Optimization Iteration:    100, Training Accuracy:  97.7%\n",
            "Optimization Iteration:    200, Training Accuracy:  98.0%\n",
            "Optimization Iteration:    300, Training Accuracy:  99.0%\n",
            "Optimization Iteration:    399, Training Accuracy:  99.0%\n",
            "Time usage: 0:00:02\n",
            "\n",
            "Accuracy on Test-Set: 97.3% (9729 / 10000)\n",
            "\n",
            "Target-class: 1\n",
            "Finding adversarial noise ...\n",
            "Optimization Iteration:      0, Training Accuracy:  13.0%\n",
            "Optimization Iteration:    100, Training Accuracy:  10.0%\n",
            "Optimization Iteration:    200, Training Accuracy:  14.0%\n",
            "Optimization Iteration:    300, Training Accuracy:  15.7%\n",
            "Optimization Iteration:    400, Training Accuracy:  18.3%\n",
            "Optimization Iteration:    500, Training Accuracy:  16.0%\n",
            "Optimization Iteration:    599, Training Accuracy:  18.0%\n",
            "Time usage: 0:00:05\n",
            "\n",
            "Accuracy on Test-Set: 83.8% (8375 / 10000)\n",
            "\n",
            "Making the neural network immune to the noise ...\n",
            "Optimization Iteration:      0, Training Accuracy:  89.7%\n",
            "Optimization Iteration:    100, Training Accuracy:  97.7%\n",
            "Optimization Iteration:    200, Training Accuracy:  99.3%\n",
            "Optimization Iteration:    300, Training Accuracy:  99.0%\n",
            "Optimization Iteration:    399, Training Accuracy:  99.0%\n",
            "Time usage: 0:00:02\n",
            "\n",
            "Accuracy on Test-Set: 97.3% (9727 / 10000)\n",
            "\n",
            "Target-class: 2\n",
            "Finding adversarial noise ...\n",
            "Optimization Iteration:      0, Training Accuracy:   0.7%\n",
            "Optimization Iteration:    100, Training Accuracy:   9.3%\n",
            "Optimization Iteration:    200, Training Accuracy:  10.7%\n",
            "Optimization Iteration:    300, Training Accuracy:  10.0%\n",
            "Optimization Iteration:    400, Training Accuracy:   9.0%\n",
            "Optimization Iteration:    500, Training Accuracy:  11.3%\n",
            "Optimization Iteration:    599, Training Accuracy:   7.3%\n",
            "Time usage: 0:00:05\n",
            "\n",
            "Accuracy on Test-Set: 87.7% (8767 / 10000)\n",
            "\n",
            "Making the neural network immune to the noise ...\n",
            "Optimization Iteration:      0, Training Accuracy:  90.0%\n",
            "Optimization Iteration:    100, Training Accuracy:  98.0%\n",
            "Optimization Iteration:    200, Training Accuracy:  99.7%\n",
            "Optimization Iteration:    300, Training Accuracy:  99.3%\n",
            "Optimization Iteration:    399, Training Accuracy:  98.3%\n",
            "Time usage: 0:00:02\n",
            "\n",
            "Accuracy on Test-Set: 97.5% (9750 / 10000)\n",
            "\n",
            "Target-class: 2\n",
            "Finding adversarial noise ...\n",
            "Optimization Iteration:      0, Training Accuracy:  11.0%\n",
            "Optimization Iteration:    100, Training Accuracy:   9.7%\n",
            "Optimization Iteration:    200, Training Accuracy:  15.7%\n",
            "Optimization Iteration:    300, Training Accuracy:  20.0%\n",
            "Optimization Iteration:    400, Training Accuracy:  25.7%\n",
            "Optimization Iteration:    500, Training Accuracy:  32.7%\n",
            "Optimization Iteration:    599, Training Accuracy:  31.0%\n",
            "Time usage: 0:00:05\n",
            "\n",
            "Accuracy on Test-Set: 65.3% (6529 / 10000)\n",
            "\n",
            "Making the neural network immune to the noise ...\n",
            "Optimization Iteration:      0, Training Accuracy:  83.0%\n",
            "Optimization Iteration:    100, Training Accuracy:  99.7%\n",
            "Optimization Iteration:    200, Training Accuracy:  99.0%\n",
            "Optimization Iteration:    300, Training Accuracy:  99.0%\n",
            "Optimization Iteration:    399, Training Accuracy:  99.3%\n",
            "Time usage: 0:00:02\n",
            "\n",
            "Accuracy on Test-Set: 97.5% (9751 / 10000)\n",
            "\n",
            "Target-class: 3\n",
            "Finding adversarial noise ...\n",
            "Optimization Iteration:      0, Training Accuracy:   0.0%\n",
            "Optimization Iteration:    100, Training Accuracy:  21.7%\n",
            "Optimization Iteration:    200, Training Accuracy:  25.0%\n",
            "Optimization Iteration:    300, Training Accuracy:  29.7%\n",
            "Optimization Iteration:    400, Training Accuracy:  26.7%\n",
            "Optimization Iteration:    500, Training Accuracy:  30.0%\n",
            "Optimization Iteration:    599, Training Accuracy:  34.3%\n",
            "Time usage: 0:00:05\n",
            "\n",
            "Accuracy on Test-Set: 71.2% (7122 / 10000)\n",
            "\n",
            "Making the neural network immune to the noise ...\n",
            "Optimization Iteration:      0, Training Accuracy:  82.0%\n",
            "Optimization Iteration:    100, Training Accuracy:  99.0%\n",
            "Optimization Iteration:    200, Training Accuracy:  99.0%\n",
            "Optimization Iteration:    300, Training Accuracy:  98.3%\n",
            "Optimization Iteration:    399, Training Accuracy: 100.0%\n",
            "Time usage: 0:00:02\n",
            "\n",
            "Accuracy on Test-Set: 97.2% (9715 / 10000)\n",
            "\n",
            "Target-class: 3\n",
            "Finding adversarial noise ...\n",
            "Optimization Iteration:      0, Training Accuracy:  12.3%\n",
            "Optimization Iteration:    100, Training Accuracy:  45.0%\n",
            "Optimization Iteration:    200, Training Accuracy:  59.0%\n",
            "Optimization Iteration:    300, Training Accuracy:  64.0%\n",
            "Optimization Iteration:    400, Training Accuracy:  72.3%\n",
            "Optimization Iteration:    500, Training Accuracy:  74.3%\n",
            "Optimization Iteration:    599, Training Accuracy:  78.3%\n",
            "Time usage: 0:00:05\n",
            "\n",
            "Accuracy on Test-Set: 32.9% (3289 / 10000)\n",
            "\n",
            "Making the neural network immune to the noise ...\n",
            "Optimization Iteration:      0, Training Accuracy:  61.3%\n",
            "Optimization Iteration:    100, Training Accuracy:  97.7%\n",
            "Optimization Iteration:    200, Training Accuracy:  98.3%\n",
            "Optimization Iteration:    300, Training Accuracy:  99.0%\n",
            "Optimization Iteration:    399, Training Accuracy:  98.7%\n",
            "Time usage: 0:00:02\n",
            "\n",
            "Accuracy on Test-Set: 97.1% (9710 / 10000)\n",
            "\n",
            "Target-class: 4\n",
            "Finding adversarial noise ...\n",
            "Optimization Iteration:      0, Training Accuracy:   0.0%\n",
            "Optimization Iteration:    100, Training Accuracy:  23.0%\n",
            "Optimization Iteration:    200, Training Accuracy:  28.3%\n",
            "Optimization Iteration:    300, Training Accuracy:  33.7%\n",
            "Optimization Iteration:    400, Training Accuracy:  31.3%\n",
            "Optimization Iteration:    500, Training Accuracy:  30.7%\n",
            "Optimization Iteration:    599, Training Accuracy:  30.3%\n",
            "Time usage: 0:00:05\n",
            "\n",
            "Accuracy on Test-Set: 67.0% (6701 / 10000)\n",
            "\n",
            "Making the neural network immune to the noise ...\n",
            "Optimization Iteration:      0, Training Accuracy:  82.7%\n",
            "Optimization Iteration:    100, Training Accuracy:  98.3%\n",
            "Optimization Iteration:    200, Training Accuracy:  98.3%\n",
            "Optimization Iteration:    300, Training Accuracy:  99.0%\n",
            "Optimization Iteration:    399, Training Accuracy:  99.3%\n",
            "Time usage: 0:00:02\n",
            "\n",
            "Accuracy on Test-Set: 97.3% (9730 / 10000)\n",
            "\n",
            "Target-class: 4\n",
            "Finding adversarial noise ...\n",
            "Optimization Iteration:      0, Training Accuracy:   9.7%\n",
            "Optimization Iteration:    100, Training Accuracy:  18.0%\n",
            "Optimization Iteration:    200, Training Accuracy:  29.0%\n",
            "Optimization Iteration:    300, Training Accuracy:  21.3%\n",
            "Optimization Iteration:    400, Training Accuracy:  25.7%\n",
            "Optimization Iteration:    500, Training Accuracy:  28.3%\n",
            "Optimization Iteration:    599, Training Accuracy:  27.7%\n",
            "Time usage: 0:00:04\n",
            "\n",
            "Accuracy on Test-Set: 66.5% (6649 / 10000)\n",
            "\n",
            "Making the neural network immune to the noise ...\n",
            "Optimization Iteration:      0, Training Accuracy:  74.3%\n",
            "Optimization Iteration:    100, Training Accuracy:  98.3%\n",
            "Optimization Iteration:    200, Training Accuracy:  99.7%\n",
            "Optimization Iteration:    300, Training Accuracy:  99.3%\n",
            "Optimization Iteration:    399, Training Accuracy:  98.0%\n",
            "Time usage: 0:00:02\n",
            "\n",
            "Accuracy on Test-Set: 97.1% (9707 / 10000)\n",
            "\n",
            "Target-class: 5\n",
            "Finding adversarial noise ...\n",
            "Optimization Iteration:      0, Training Accuracy:   0.0%\n",
            "Optimization Iteration:    100, Training Accuracy:  16.0%\n",
            "Optimization Iteration:    200, Training Accuracy:  18.7%\n",
            "Optimization Iteration:    300, Training Accuracy:  16.0%\n",
            "Optimization Iteration:    400, Training Accuracy:  21.7%\n",
            "Optimization Iteration:    500, Training Accuracy:  25.3%\n",
            "Optimization Iteration:    599, Training Accuracy:  30.3%\n",
            "Time usage: 0:00:05\n",
            "\n",
            "Accuracy on Test-Set: 61.3% (6131 / 10000)\n",
            "\n",
            "Making the neural network immune to the noise ...\n",
            "Optimization Iteration:      0, Training Accuracy:  73.0%\n",
            "Optimization Iteration:    100, Training Accuracy:  97.3%\n",
            "Optimization Iteration:    200, Training Accuracy:  98.7%\n",
            "Optimization Iteration:    300, Training Accuracy:  98.0%\n",
            "Optimization Iteration:    399, Training Accuracy:  98.3%\n",
            "Time usage: 0:00:02\n",
            "\n",
            "Accuracy on Test-Set: 96.8% (9682 / 10000)\n",
            "\n",
            "Target-class: 5\n",
            "Finding adversarial noise ...\n",
            "Optimization Iteration:      0, Training Accuracy:   6.7%\n",
            "Optimization Iteration:    100, Training Accuracy:  30.3%\n",
            "Optimization Iteration:    200, Training Accuracy:  38.0%\n",
            "Optimization Iteration:    300, Training Accuracy:  42.3%\n",
            "Optimization Iteration:    400, Training Accuracy:  49.0%\n",
            "Optimization Iteration:    500, Training Accuracy:  46.7%\n",
            "Optimization Iteration:    599, Training Accuracy:  49.0%\n",
            "Time usage: 0:00:05\n",
            "\n",
            "Accuracy on Test-Set: 56.0% (5602 / 10000)\n",
            "\n",
            "Making the neural network immune to the noise ...\n",
            "Optimization Iteration:      0, Training Accuracy:  78.7%\n",
            "Optimization Iteration:    100, Training Accuracy:  97.7%\n",
            "Optimization Iteration:    200, Training Accuracy:  98.3%\n",
            "Optimization Iteration:    300, Training Accuracy:  98.3%\n",
            "Optimization Iteration:    399, Training Accuracy:  97.7%\n",
            "Time usage: 0:00:02\n",
            "\n",
            "Accuracy on Test-Set: 97.0% (9703 / 10000)\n",
            "\n",
            "Target-class: 6\n",
            "Finding adversarial noise ...\n",
            "Optimization Iteration:      0, Training Accuracy:   0.0%\n",
            "Optimization Iteration:    100, Training Accuracy:  10.7%\n",
            "Optimization Iteration:    200, Training Accuracy:   7.7%\n",
            "Optimization Iteration:    300, Training Accuracy:  10.3%\n",
            "Optimization Iteration:    400, Training Accuracy:  11.7%\n",
            "Optimization Iteration:    500, Training Accuracy:  12.7%\n",
            "Optimization Iteration:    599, Training Accuracy:  11.7%\n",
            "Time usage: 0:00:05\n",
            "\n",
            "Accuracy on Test-Set: 84.0% (8403 / 10000)\n",
            "\n",
            "Making the neural network immune to the noise ...\n",
            "Optimization Iteration:      0, Training Accuracy:  89.0%\n",
            "Optimization Iteration:    100, Training Accuracy:  97.3%\n",
            "Optimization Iteration:    200, Training Accuracy:  98.0%\n",
            "Optimization Iteration:    300, Training Accuracy:  99.0%\n",
            "Optimization Iteration:    399, Training Accuracy:  99.7%\n",
            "Time usage: 0:00:02\n",
            "\n",
            "Accuracy on Test-Set: 97.3% (9734 / 10000)\n",
            "\n",
            "Target-class: 6\n",
            "Finding adversarial noise ...\n",
            "Optimization Iteration:      0, Training Accuracy:   7.7%\n",
            "Optimization Iteration:    100, Training Accuracy:  13.0%\n",
            "Optimization Iteration:    200, Training Accuracy:  18.3%\n",
            "Optimization Iteration:    300, Training Accuracy:  21.0%\n",
            "Optimization Iteration:    400, Training Accuracy:  21.7%\n",
            "Optimization Iteration:    500, Training Accuracy:  19.3%\n",
            "Optimization Iteration:    599, Training Accuracy:  22.3%\n",
            "Time usage: 0:00:05\n",
            "\n",
            "Accuracy on Test-Set: 79.4% (7938 / 10000)\n",
            "\n",
            "Making the neural network immune to the noise ...\n",
            "Optimization Iteration:      0, Training Accuracy:  84.7%\n",
            "Optimization Iteration:    100, Training Accuracy:  98.3%\n",
            "Optimization Iteration:    200, Training Accuracy:  99.3%\n",
            "Optimization Iteration:    300, Training Accuracy:  99.7%\n",
            "Optimization Iteration:    399, Training Accuracy:  98.3%\n",
            "Time usage: 0:00:02\n",
            "\n",
            "Accuracy on Test-Set: 97.3% (9729 / 10000)\n",
            "\n",
            "Target-class: 7\n",
            "Finding adversarial noise ...\n",
            "Optimization Iteration:      0, Training Accuracy:   0.0%\n",
            "Optimization Iteration:    100, Training Accuracy:  17.0%\n",
            "Optimization Iteration:    200, Training Accuracy:  18.3%\n",
            "Optimization Iteration:    300, Training Accuracy:  22.0%\n",
            "Optimization Iteration:    400, Training Accuracy:  19.7%\n",
            "Optimization Iteration:    500, Training Accuracy:  27.7%\n",
            "Optimization Iteration:    599, Training Accuracy:  26.0%\n",
            "Time usage: 0:00:05\n",
            "\n",
            "Accuracy on Test-Set: 75.4% (7540 / 10000)\n",
            "\n",
            "Making the neural network immune to the noise ...\n",
            "Optimization Iteration:      0, Training Accuracy:  83.3%\n",
            "Optimization Iteration:    100, Training Accuracy:  98.0%\n",
            "Optimization Iteration:    200, Training Accuracy:  98.0%\n",
            "Optimization Iteration:    300, Training Accuracy:  97.3%\n",
            "Optimization Iteration:    399, Training Accuracy:  98.7%\n",
            "Time usage: 0:00:02\n",
            "\n",
            "Accuracy on Test-Set: 97.0% (9697 / 10000)\n",
            "\n",
            "Target-class: 7\n",
            "Finding adversarial noise ...\n",
            "Optimization Iteration:      0, Training Accuracy:  10.0%\n",
            "Optimization Iteration:    100, Training Accuracy:  13.0%\n",
            "Optimization Iteration:    200, Training Accuracy:  20.0%\n",
            "Optimization Iteration:    300, Training Accuracy:  25.3%\n",
            "Optimization Iteration:    400, Training Accuracy:  24.3%\n",
            "Optimization Iteration:    500, Training Accuracy:  24.3%\n",
            "Optimization Iteration:    599, Training Accuracy:  25.0%\n",
            "Time usage: 0:00:05\n",
            "\n",
            "Accuracy on Test-Set: 79.0% (7903 / 10000)\n",
            "\n",
            "Making the neural network immune to the noise ...\n",
            "Optimization Iteration:      0, Training Accuracy:  89.7%\n",
            "Optimization Iteration:    100, Training Accuracy:  99.3%\n",
            "Optimization Iteration:    200, Training Accuracy:  98.0%\n",
            "Optimization Iteration:    300, Training Accuracy:  98.0%\n",
            "Optimization Iteration:    399, Training Accuracy:  98.0%\n",
            "Time usage: 0:00:02\n",
            "\n",
            "Accuracy on Test-Set: 97.2% (9715 / 10000)\n",
            "\n",
            "Target-class: 8\n",
            "Finding adversarial noise ...\n",
            "Optimization Iteration:      0, Training Accuracy:   0.0%\n",
            "Optimization Iteration:    100, Training Accuracy:  13.7%\n",
            "Optimization Iteration:    200, Training Accuracy:  14.3%\n",
            "Optimization Iteration:    300, Training Accuracy:  18.0%\n",
            "Optimization Iteration:    400, Training Accuracy:  24.7%\n",
            "Optimization Iteration:    500, Training Accuracy:  18.7%\n",
            "Optimization Iteration:    599, Training Accuracy:  16.7%\n",
            "Time usage: 0:00:05\n",
            "\n",
            "Accuracy on Test-Set: 84.8% (8478 / 10000)\n",
            "\n",
            "Making the neural network immune to the noise ...\n",
            "Optimization Iteration:      0, Training Accuracy:  89.3%\n",
            "Optimization Iteration:    100, Training Accuracy:  97.0%\n",
            "Optimization Iteration:    200, Training Accuracy:  98.7%\n",
            "Optimization Iteration:    300, Training Accuracy:  99.3%\n",
            "Optimization Iteration:    399, Training Accuracy:  98.3%\n",
            "Time usage: 0:00:02\n",
            "\n",
            "Accuracy on Test-Set: 97.2% (9724 / 10000)\n",
            "\n",
            "Target-class: 8\n",
            "Finding adversarial noise ...\n",
            "Optimization Iteration:      0, Training Accuracy:  10.7%\n",
            "Optimization Iteration:    100, Training Accuracy:  16.3%\n",
            "Optimization Iteration:    200, Training Accuracy:  19.7%\n",
            "Optimization Iteration:    300, Training Accuracy:  17.7%\n",
            "Optimization Iteration:    400, Training Accuracy:  25.7%\n",
            "Optimization Iteration:    500, Training Accuracy:  24.0%\n",
            "Optimization Iteration:    599, Training Accuracy:  21.7%\n",
            "Time usage: 0:00:05\n",
            "\n",
            "Accuracy on Test-Set: 84.7% (8467 / 10000)\n",
            "\n",
            "Making the neural network immune to the noise ...\n",
            "Optimization Iteration:      0, Training Accuracy:  91.7%\n",
            "Optimization Iteration:    100, Training Accuracy:  99.7%\n",
            "Optimization Iteration:    200, Training Accuracy:  98.0%\n",
            "Optimization Iteration:    300, Training Accuracy:  99.3%\n",
            "Optimization Iteration:    399, Training Accuracy:  99.0%\n",
            "Time usage: 0:00:02\n",
            "\n",
            "Accuracy on Test-Set: 97.2% (9723 / 10000)\n",
            "\n",
            "Target-class: 9\n",
            "Finding adversarial noise ...\n",
            "Optimization Iteration:      0, Training Accuracy:   0.0%\n",
            "Optimization Iteration:    100, Training Accuracy:   8.3%\n",
            "Optimization Iteration:    200, Training Accuracy:  13.0%\n",
            "Optimization Iteration:    300, Training Accuracy:  11.3%\n",
            "Optimization Iteration:    400, Training Accuracy:   8.7%\n",
            "Optimization Iteration:    500, Training Accuracy:  10.3%\n",
            "Optimization Iteration:    599, Training Accuracy:   9.7%\n",
            "Time usage: 0:00:05\n",
            "\n",
            "Accuracy on Test-Set: 90.9% (9086 / 10000)\n",
            "\n",
            "Making the neural network immune to the noise ...\n",
            "Optimization Iteration:      0, Training Accuracy:  91.3%\n",
            "Optimization Iteration:    100, Training Accuracy:  99.7%\n",
            "Optimization Iteration:    200, Training Accuracy:  99.3%\n",
            "Optimization Iteration:    300, Training Accuracy:  98.3%\n",
            "Optimization Iteration:    399, Training Accuracy:  99.7%\n",
            "Time usage: 0:00:02\n",
            "\n",
            "Accuracy on Test-Set: 97.3% (9734 / 10000)\n",
            "\n",
            "Target-class: 9\n",
            "Finding adversarial noise ...\n",
            "Optimization Iteration:      0, Training Accuracy:   7.3%\n",
            "Optimization Iteration:    100, Training Accuracy:  14.0%\n",
            "Optimization Iteration:    200, Training Accuracy:  15.0%\n",
            "Optimization Iteration:    300, Training Accuracy:  17.3%\n",
            "Optimization Iteration:    400, Training Accuracy:  20.3%\n",
            "Optimization Iteration:    500, Training Accuracy:  25.7%\n",
            "Optimization Iteration:    599, Training Accuracy:  23.3%\n",
            "Time usage: 0:00:05\n",
            "\n",
            "Accuracy on Test-Set: 84.0% (8400 / 10000)\n",
            "\n",
            "Making the neural network immune to the noise ...\n",
            "Optimization Iteration:      0, Training Accuracy:  91.0%\n",
            "Optimization Iteration:    100, Training Accuracy:  99.0%\n",
            "Optimization Iteration:    200, Training Accuracy:  98.7%\n",
            "Optimization Iteration:    300, Training Accuracy:  98.7%\n",
            "Optimization Iteration:    399, Training Accuracy:  98.7%\n",
            "Time usage: 0:00:02\n",
            "\n",
            "Accuracy on Test-Set: 97.4% (9744 / 10000)\n",
            "\n"
          ]
        }
      ]
    },
    {
      "cell_type": "code",
      "source": [
        "for i in range(10):\n",
        "    make_immune_1(target_cls=i)\n",
        "    \n",
        "    # Print newline.\n",
        "    print()\n",
        "    \n",
        "    make_immune_1(target_cls=i)\n",
        "\n",
        "    # Print newline.\n",
        "    print()"
      ],
      "metadata": {
        "colab": {
          "base_uri": "https://localhost:8080/"
        },
        "id": "PbcSSVPc8XNt",
        "outputId": "6a90824f-073e-4e44-c02d-4d971ad211b2"
      },
      "execution_count": null,
      "outputs": [
        {
          "output_type": "stream",
          "name": "stdout",
          "text": [
            "Target-class: 0\n",
            "Finding adversarial noise ...\n",
            "Optimization Iteration:      0, Training Accuracy:   0.7%\n",
            "Optimization Iteration:    100, Training Accuracy:  11.3%\n",
            "Optimization Iteration:    200, Training Accuracy:  12.0%\n",
            "Optimization Iteration:    300, Training Accuracy:   9.3%\n",
            "Optimization Iteration:    400, Training Accuracy:   9.7%\n",
            "Optimization Iteration:    500, Training Accuracy:  12.7%\n",
            "Optimization Iteration:    599, Training Accuracy:   9.7%\n",
            "Time usage: 0:00:05\n",
            "\n",
            "Accuracy on Test-Set: 82.8% (8277 / 10000)\n",
            "\n",
            "Making the neural network immune to the noise ...\n",
            "Optimization Iteration:      0, Training Accuracy:  90.7%\n"
          ]
        },
        {
          "output_type": "stream",
          "name": "stderr",
          "text": [
            "/usr/local/lib/python3.7/dist-packages/ipykernel_launcher.py:12: DeprecationWarning: `np.int` is a deprecated alias for the builtin `int`. To silence this warning, use `int` by itself. Doing this will not modify any behavior and is safe. When replacing `np.int`, you may wish to use e.g. `np.int64` or `np.int32` to specify the precision. If you wish to review your current use, check the release note link for additional information.\n",
            "Deprecated in NumPy 1.20; for more details and guidance: https://numpy.org/devdocs/release/1.20.0-notes.html#deprecations\n",
            "  if sys.path[0] == '':\n"
          ]
        },
        {
          "output_type": "stream",
          "name": "stdout",
          "text": [
            "Optimization Iteration:    100, Training Accuracy:  98.7%\n",
            "Optimization Iteration:    200, Training Accuracy:  99.7%\n",
            "Optimization Iteration:    300, Training Accuracy:  98.7%\n",
            "Optimization Iteration:    399, Training Accuracy: 100.0%\n",
            "Time usage: 0:00:02\n",
            "\n",
            "Accuracy on Test-Set: 97.4% (9741 / 10000)\n",
            "\n",
            "Target-class: 0\n",
            "Finding adversarial noise ...\n",
            "Optimization Iteration:      0, Training Accuracy:   7.7%\n",
            "Optimization Iteration:    100, Training Accuracy:   7.0%\n",
            "Optimization Iteration:    200, Training Accuracy:  11.0%\n",
            "Optimization Iteration:    300, Training Accuracy:  13.0%\n",
            "Optimization Iteration:    400, Training Accuracy:  13.3%\n",
            "Optimization Iteration:    500, Training Accuracy:  15.7%\n",
            "Optimization Iteration:    599, Training Accuracy:  15.7%\n",
            "Time usage: 0:00:05\n",
            "\n",
            "Accuracy on Test-Set: 87.2% (8718 / 10000)\n",
            "\n",
            "Making the neural network immune to the noise ...\n",
            "Optimization Iteration:      0, Training Accuracy:  93.3%\n",
            "Optimization Iteration:    100, Training Accuracy: 100.0%\n",
            "Optimization Iteration:    200, Training Accuracy:  98.0%\n",
            "Optimization Iteration:    300, Training Accuracy:  99.7%\n",
            "Optimization Iteration:    399, Training Accuracy:  99.3%\n",
            "Time usage: 0:00:02\n",
            "\n",
            "Accuracy on Test-Set: 97.6% (9762 / 10000)\n",
            "\n",
            "Target-class: 1\n",
            "Finding adversarial noise ...\n",
            "Optimization Iteration:      0, Training Accuracy:   0.0%\n",
            "Optimization Iteration:    100, Training Accuracy:  11.0%\n",
            "Optimization Iteration:    200, Training Accuracy:  10.3%\n",
            "Optimization Iteration:    300, Training Accuracy:  14.3%\n",
            "Optimization Iteration:    400, Training Accuracy:  14.0%\n",
            "Optimization Iteration:    500, Training Accuracy:  11.3%\n",
            "Optimization Iteration:    599, Training Accuracy:  12.7%\n",
            "Time usage: 0:00:05\n",
            "\n",
            "Accuracy on Test-Set: 80.9% (8087 / 10000)\n",
            "\n",
            "Making the neural network immune to the noise ...\n",
            "Optimization Iteration:      0, Training Accuracy:  91.7%\n",
            "Optimization Iteration:    100, Training Accuracy:  99.0%\n",
            "Optimization Iteration:    200, Training Accuracy:  99.0%\n",
            "Optimization Iteration:    300, Training Accuracy:  98.3%\n",
            "Optimization Iteration:    399, Training Accuracy:  98.7%\n",
            "Time usage: 0:00:02\n",
            "\n",
            "Accuracy on Test-Set: 97.2% (9724 / 10000)\n",
            "\n",
            "Target-class: 1\n",
            "Finding adversarial noise ...\n",
            "Optimization Iteration:      0, Training Accuracy:   8.3%\n",
            "Optimization Iteration:    100, Training Accuracy:  13.0%\n",
            "Optimization Iteration:    200, Training Accuracy:  16.7%\n",
            "Optimization Iteration:    300, Training Accuracy:  14.0%\n",
            "Optimization Iteration:    400, Training Accuracy:  16.0%\n",
            "Optimization Iteration:    500, Training Accuracy:  20.7%\n",
            "Optimization Iteration:    599, Training Accuracy:  21.3%\n",
            "Time usage: 0:00:05\n",
            "\n",
            "Accuracy on Test-Set: 69.6% (6963 / 10000)\n",
            "\n",
            "Making the neural network immune to the noise ...\n",
            "Optimization Iteration:      0, Training Accuracy:  77.3%\n",
            "Optimization Iteration:    100, Training Accuracy:  98.3%\n",
            "Optimization Iteration:    200, Training Accuracy:  99.3%\n",
            "Optimization Iteration:    300, Training Accuracy:  99.0%\n",
            "Optimization Iteration:    399, Training Accuracy:  99.0%\n",
            "Time usage: 0:00:02\n",
            "\n",
            "Accuracy on Test-Set: 97.5% (9754 / 10000)\n",
            "\n",
            "Target-class: 2\n",
            "Finding adversarial noise ...\n",
            "Optimization Iteration:      0, Training Accuracy:   1.3%\n",
            "Optimization Iteration:    100, Training Accuracy:   7.7%\n",
            "Optimization Iteration:    200, Training Accuracy:  12.0%\n",
            "Optimization Iteration:    300, Training Accuracy:   9.7%\n",
            "Optimization Iteration:    400, Training Accuracy:  11.0%\n",
            "Optimization Iteration:    500, Training Accuracy:   9.3%\n",
            "Optimization Iteration:    599, Training Accuracy:  11.3%\n",
            "Time usage: 0:00:05\n",
            "\n",
            "Accuracy on Test-Set: 87.4% (8739 / 10000)\n",
            "\n",
            "Making the neural network immune to the noise ...\n",
            "Optimization Iteration:      0, Training Accuracy:  93.7%\n",
            "Optimization Iteration:    100, Training Accuracy:  99.0%\n",
            "Optimization Iteration:    200, Training Accuracy:  99.0%\n",
            "Optimization Iteration:    300, Training Accuracy:  99.7%\n",
            "Optimization Iteration:    399, Training Accuracy:  99.7%\n",
            "Time usage: 0:00:02\n",
            "\n",
            "Accuracy on Test-Set: 97.7% (9769 / 10000)\n",
            "\n",
            "Target-class: 2\n",
            "Finding adversarial noise ...\n",
            "Optimization Iteration:      0, Training Accuracy:   7.3%\n",
            "Optimization Iteration:    100, Training Accuracy:  12.0%\n",
            "Optimization Iteration:    200, Training Accuracy:   8.3%\n",
            "Optimization Iteration:    300, Training Accuracy:  13.3%\n",
            "Optimization Iteration:    400, Training Accuracy:  13.7%\n",
            "Optimization Iteration:    500, Training Accuracy:  12.7%\n",
            "Optimization Iteration:    599, Training Accuracy:  16.3%\n",
            "Time usage: 0:00:05\n",
            "\n",
            "Accuracy on Test-Set: 85.2% (8522 / 10000)\n",
            "\n",
            "Making the neural network immune to the noise ...\n",
            "Optimization Iteration:      0, Training Accuracy:  91.7%\n",
            "Optimization Iteration:    100, Training Accuracy:  99.3%\n",
            "Optimization Iteration:    200, Training Accuracy:  99.7%\n",
            "Optimization Iteration:    300, Training Accuracy:  99.0%\n",
            "Optimization Iteration:    399, Training Accuracy:  99.7%\n",
            "Time usage: 0:00:02\n",
            "\n",
            "Accuracy on Test-Set: 97.5% (9748 / 10000)\n",
            "\n",
            "Target-class: 3\n",
            "Finding adversarial noise ...\n",
            "Optimization Iteration:      0, Training Accuracy:   1.7%\n",
            "Optimization Iteration:    100, Training Accuracy:   9.7%\n",
            "Optimization Iteration:    200, Training Accuracy:  11.3%\n",
            "Optimization Iteration:    300, Training Accuracy:  16.3%\n",
            "Optimization Iteration:    400, Training Accuracy:  15.3%\n",
            "Optimization Iteration:    500, Training Accuracy:  16.7%\n",
            "Optimization Iteration:    599, Training Accuracy:  16.7%\n",
            "Time usage: 0:00:05\n",
            "\n",
            "Accuracy on Test-Set: 75.8% (7575 / 10000)\n",
            "\n",
            "Making the neural network immune to the noise ...\n",
            "Optimization Iteration:      0, Training Accuracy:  86.3%\n",
            "Optimization Iteration:    100, Training Accuracy:  98.7%\n",
            "Optimization Iteration:    200, Training Accuracy:  99.3%\n",
            "Optimization Iteration:    300, Training Accuracy:  98.7%\n",
            "Optimization Iteration:    399, Training Accuracy:  98.7%\n",
            "Time usage: 0:00:02\n",
            "\n",
            "Accuracy on Test-Set: 97.2% (9725 / 10000)\n",
            "\n",
            "Target-class: 3\n",
            "Finding adversarial noise ...\n",
            "Optimization Iteration:      0, Training Accuracy:  11.0%\n",
            "Optimization Iteration:    100, Training Accuracy:  14.0%\n",
            "Optimization Iteration:    200, Training Accuracy:  27.3%\n",
            "Optimization Iteration:    300, Training Accuracy:  33.0%\n",
            "Optimization Iteration:    400, Training Accuracy:  44.3%\n",
            "Optimization Iteration:    500, Training Accuracy:  39.0%\n",
            "Optimization Iteration:    599, Training Accuracy:  48.7%\n",
            "Time usage: 0:00:05\n",
            "\n",
            "Accuracy on Test-Set: 59.9% (5986 / 10000)\n",
            "\n",
            "Making the neural network immune to the noise ...\n",
            "Optimization Iteration:      0, Training Accuracy:  77.3%\n",
            "Optimization Iteration:    100, Training Accuracy:  98.0%\n",
            "Optimization Iteration:    200, Training Accuracy:  98.7%\n",
            "Optimization Iteration:    300, Training Accuracy:  99.7%\n",
            "Optimization Iteration:    399, Training Accuracy:  98.7%\n",
            "Time usage: 0:00:02\n",
            "\n",
            "Accuracy on Test-Set: 97.2% (9719 / 10000)\n",
            "\n",
            "Target-class: 4\n",
            "Finding adversarial noise ...\n",
            "Optimization Iteration:      0, Training Accuracy:   0.0%\n",
            "Optimization Iteration:    100, Training Accuracy:   8.3%\n",
            "Optimization Iteration:    200, Training Accuracy:   9.7%\n",
            "Optimization Iteration:    300, Training Accuracy:  12.3%\n",
            "Optimization Iteration:    400, Training Accuracy:   8.3%\n",
            "Optimization Iteration:    500, Training Accuracy:  12.0%\n",
            "Optimization Iteration:    599, Training Accuracy:  12.3%\n",
            "Time usage: 0:00:05\n",
            "\n",
            "Accuracy on Test-Set: 87.8% (8776 / 10000)\n",
            "\n",
            "Making the neural network immune to the noise ...\n",
            "Optimization Iteration:      0, Training Accuracy:  89.7%\n",
            "Optimization Iteration:    100, Training Accuracy:  99.3%\n",
            "Optimization Iteration:    200, Training Accuracy:  99.0%\n",
            "Optimization Iteration:    300, Training Accuracy:  99.0%\n",
            "Optimization Iteration:    399, Training Accuracy:  99.3%\n",
            "Time usage: 0:00:02\n",
            "\n",
            "Accuracy on Test-Set: 97.0% (9703 / 10000)\n",
            "\n",
            "Target-class: 4\n",
            "Finding adversarial noise ...\n",
            "Optimization Iteration:      0, Training Accuracy:   7.7%\n",
            "Optimization Iteration:    100, Training Accuracy:  17.3%\n",
            "Optimization Iteration:    200, Training Accuracy:  20.7%\n",
            "Optimization Iteration:    300, Training Accuracy:  21.0%\n",
            "Optimization Iteration:    400, Training Accuracy:  24.0%\n",
            "Optimization Iteration:    500, Training Accuracy:  29.0%\n",
            "Optimization Iteration:    599, Training Accuracy:  27.3%\n",
            "Time usage: 0:00:05\n",
            "\n",
            "Accuracy on Test-Set: 73.5% (7348 / 10000)\n",
            "\n",
            "Making the neural network immune to the noise ...\n",
            "Optimization Iteration:      0, Training Accuracy:  86.3%\n",
            "Optimization Iteration:    100, Training Accuracy:  98.7%\n",
            "Optimization Iteration:    200, Training Accuracy:  99.3%\n",
            "Optimization Iteration:    300, Training Accuracy:  99.3%\n",
            "Optimization Iteration:    399, Training Accuracy:  99.7%\n",
            "Time usage: 0:00:02\n",
            "\n",
            "Accuracy on Test-Set: 97.2% (9717 / 10000)\n",
            "\n",
            "Target-class: 5\n",
            "Finding adversarial noise ...\n",
            "Optimization Iteration:      0, Training Accuracy:   0.0%\n",
            "Optimization Iteration:    100, Training Accuracy:   9.0%\n",
            "Optimization Iteration:    200, Training Accuracy:  15.0%\n",
            "Optimization Iteration:    300, Training Accuracy:  14.3%\n",
            "Optimization Iteration:    400, Training Accuracy:  10.7%\n",
            "Optimization Iteration:    500, Training Accuracy:  14.0%\n",
            "Optimization Iteration:    599, Training Accuracy:  14.7%\n",
            "Time usage: 0:00:04\n",
            "\n",
            "Accuracy on Test-Set: 78.4% (7843 / 10000)\n",
            "\n",
            "Making the neural network immune to the noise ...\n",
            "Optimization Iteration:      0, Training Accuracy:  82.3%\n",
            "Optimization Iteration:    100, Training Accuracy:  98.3%\n",
            "Optimization Iteration:    200, Training Accuracy:  98.7%\n",
            "Optimization Iteration:    300, Training Accuracy:  99.0%\n",
            "Optimization Iteration:    399, Training Accuracy:  98.7%\n",
            "Time usage: 0:00:02\n",
            "\n",
            "Accuracy on Test-Set: 97.0% (9695 / 10000)\n",
            "\n",
            "Target-class: 5\n",
            "Finding adversarial noise ...\n",
            "Optimization Iteration:      0, Training Accuracy:  12.0%\n",
            "Optimization Iteration:    100, Training Accuracy:  15.7%\n",
            "Optimization Iteration:    200, Training Accuracy:  41.3%\n",
            "Optimization Iteration:    300, Training Accuracy:  57.3%\n",
            "Optimization Iteration:    400, Training Accuracy:  65.3%\n",
            "Optimization Iteration:    500, Training Accuracy:  70.3%\n",
            "Optimization Iteration:    599, Training Accuracy:  71.3%\n",
            "Time usage: 0:00:05\n",
            "\n",
            "Accuracy on Test-Set: 31.9% (3194 / 10000)\n",
            "\n",
            "Making the neural network immune to the noise ...\n",
            "Optimization Iteration:      0, Training Accuracy:  63.7%\n",
            "Optimization Iteration:    100, Training Accuracy:  95.7%\n",
            "Optimization Iteration:    200, Training Accuracy:  97.7%\n",
            "Optimization Iteration:    300, Training Accuracy:  98.3%\n",
            "Optimization Iteration:    399, Training Accuracy:  98.0%\n",
            "Time usage: 0:00:02\n",
            "\n",
            "Accuracy on Test-Set: 97.2% (9723 / 10000)\n",
            "\n",
            "Target-class: 6\n",
            "Finding adversarial noise ...\n",
            "Optimization Iteration:      0, Training Accuracy:   0.0%\n",
            "Optimization Iteration:    100, Training Accuracy:   9.3%\n",
            "Optimization Iteration:    200, Training Accuracy:   9.0%\n",
            "Optimization Iteration:    300, Training Accuracy:  11.7%\n",
            "Optimization Iteration:    400, Training Accuracy:  10.0%\n",
            "Optimization Iteration:    500, Training Accuracy:  14.0%\n",
            "Optimization Iteration:    599, Training Accuracy:  14.7%\n",
            "Time usage: 0:00:05\n",
            "\n",
            "Accuracy on Test-Set: 74.4% (7435 / 10000)\n",
            "\n",
            "Making the neural network immune to the noise ...\n",
            "Optimization Iteration:      0, Training Accuracy:  85.0%\n",
            "Optimization Iteration:    100, Training Accuracy:  98.7%\n",
            "Optimization Iteration:    200, Training Accuracy:  98.7%\n",
            "Optimization Iteration:    300, Training Accuracy:  99.7%\n",
            "Optimization Iteration:    399, Training Accuracy:  99.3%\n",
            "Time usage: 0:00:02\n",
            "\n",
            "Accuracy on Test-Set: 97.4% (9739 / 10000)\n",
            "\n",
            "Target-class: 6\n",
            "Finding adversarial noise ...\n",
            "Optimization Iteration:      0, Training Accuracy:  10.3%\n",
            "Optimization Iteration:    100, Training Accuracy:  17.3%\n",
            "Optimization Iteration:    200, Training Accuracy:  14.3%\n",
            "Optimization Iteration:    300, Training Accuracy:  16.0%\n",
            "Optimization Iteration:    400, Training Accuracy:  17.3%\n",
            "Optimization Iteration:    500, Training Accuracy:  20.0%\n",
            "Optimization Iteration:    599, Training Accuracy:  14.7%\n",
            "Time usage: 0:00:05\n",
            "\n",
            "Accuracy on Test-Set: 83.9% (8388 / 10000)\n",
            "\n",
            "Making the neural network immune to the noise ...\n",
            "Optimization Iteration:      0, Training Accuracy:  90.7%\n",
            "Optimization Iteration:    100, Training Accuracy:  99.7%\n",
            "Optimization Iteration:    200, Training Accuracy:  99.7%\n",
            "Optimization Iteration:    300, Training Accuracy:  98.7%\n",
            "Optimization Iteration:    399, Training Accuracy: 100.0%\n",
            "Time usage: 0:00:02\n",
            "\n",
            "Accuracy on Test-Set: 97.4% (9738 / 10000)\n",
            "\n",
            "Target-class: 7\n",
            "Finding adversarial noise ...\n",
            "Optimization Iteration:      0, Training Accuracy:   0.0%\n",
            "Optimization Iteration:    100, Training Accuracy:   9.7%\n",
            "Optimization Iteration:    200, Training Accuracy:  13.3%\n",
            "Optimization Iteration:    300, Training Accuracy:  11.3%\n",
            "Optimization Iteration:    400, Training Accuracy:  14.3%\n",
            "Optimization Iteration:    500, Training Accuracy:  16.3%\n",
            "Optimization Iteration:    599, Training Accuracy:  13.0%\n",
            "Time usage: 0:00:05\n",
            "\n",
            "Accuracy on Test-Set: 87.3% (8730 / 10000)\n",
            "\n",
            "Making the neural network immune to the noise ...\n",
            "Optimization Iteration:      0, Training Accuracy:  90.7%\n",
            "Optimization Iteration:    100, Training Accuracy:  98.7%\n",
            "Optimization Iteration:    200, Training Accuracy:  99.7%\n",
            "Optimization Iteration:    300, Training Accuracy:  98.7%\n",
            "Optimization Iteration:    399, Training Accuracy:  99.3%\n",
            "Time usage: 0:00:02\n",
            "\n",
            "Accuracy on Test-Set: 97.4% (9737 / 10000)\n",
            "\n",
            "Target-class: 7\n",
            "Finding adversarial noise ...\n",
            "Optimization Iteration:      0, Training Accuracy:   7.7%\n",
            "Optimization Iteration:    100, Training Accuracy:  20.3%\n",
            "Optimization Iteration:    200, Training Accuracy:  27.7%\n",
            "Optimization Iteration:    300, Training Accuracy:  34.0%\n",
            "Optimization Iteration:    400, Training Accuracy:  36.3%\n",
            "Optimization Iteration:    500, Training Accuracy:  37.3%\n",
            "Optimization Iteration:    599, Training Accuracy:  39.3%\n",
            "Time usage: 0:00:05\n",
            "\n",
            "Accuracy on Test-Set: 59.2% (5918 / 10000)\n",
            "\n",
            "Making the neural network immune to the noise ...\n",
            "Optimization Iteration:      0, Training Accuracy:  79.3%\n",
            "Optimization Iteration:    100, Training Accuracy:  99.0%\n",
            "Optimization Iteration:    200, Training Accuracy:  99.3%\n",
            "Optimization Iteration:    300, Training Accuracy:  98.7%\n",
            "Optimization Iteration:    399, Training Accuracy:  99.0%\n",
            "Time usage: 0:00:02\n",
            "\n",
            "Accuracy on Test-Set: 97.4% (9742 / 10000)\n",
            "\n",
            "Target-class: 8\n",
            "Finding adversarial noise ...\n",
            "Optimization Iteration:      0, Training Accuracy:   0.0%\n",
            "Optimization Iteration:    100, Training Accuracy:   9.0%\n",
            "Optimization Iteration:    200, Training Accuracy:  12.3%\n",
            "Optimization Iteration:    300, Training Accuracy:  10.7%\n",
            "Optimization Iteration:    400, Training Accuracy:  20.0%\n",
            "Optimization Iteration:    500, Training Accuracy:  15.0%\n",
            "Optimization Iteration:    599, Training Accuracy:  14.7%\n",
            "Time usage: 0:00:05\n",
            "\n",
            "Accuracy on Test-Set: 85.5% (8551 / 10000)\n",
            "\n",
            "Making the neural network immune to the noise ...\n",
            "Optimization Iteration:      0, Training Accuracy:  89.3%\n",
            "Optimization Iteration:    100, Training Accuracy:  98.0%\n",
            "Optimization Iteration:    200, Training Accuracy:  99.3%\n",
            "Optimization Iteration:    300, Training Accuracy:  99.7%\n",
            "Optimization Iteration:    399, Training Accuracy:  99.3%\n",
            "Time usage: 0:00:02\n",
            "\n",
            "Accuracy on Test-Set: 97.5% (9749 / 10000)\n",
            "\n",
            "Target-class: 8\n",
            "Finding adversarial noise ...\n",
            "Optimization Iteration:      0, Training Accuracy:   9.7%\n",
            "Optimization Iteration:    100, Training Accuracy:  10.7%\n",
            "Optimization Iteration:    200, Training Accuracy:  16.7%\n",
            "Optimization Iteration:    300, Training Accuracy:  20.7%\n",
            "Optimization Iteration:    400, Training Accuracy:  22.3%\n",
            "Optimization Iteration:    500, Training Accuracy:  25.3%\n",
            "Optimization Iteration:    599, Training Accuracy:  22.7%\n",
            "Time usage: 0:00:05\n",
            "\n",
            "Accuracy on Test-Set: 82.2% (8224 / 10000)\n",
            "\n",
            "Making the neural network immune to the noise ...\n",
            "Optimization Iteration:      0, Training Accuracy:  94.3%\n",
            "Optimization Iteration:    100, Training Accuracy:  99.7%\n",
            "Optimization Iteration:    200, Training Accuracy:  99.7%\n",
            "Optimization Iteration:    300, Training Accuracy:  99.3%\n",
            "Optimization Iteration:    399, Training Accuracy:  99.0%\n",
            "Time usage: 0:00:02\n",
            "\n",
            "Accuracy on Test-Set: 97.2% (9725 / 10000)\n",
            "\n",
            "Target-class: 9\n",
            "Finding adversarial noise ...\n",
            "Optimization Iteration:      0, Training Accuracy:   0.0%\n",
            "Optimization Iteration:    100, Training Accuracy:  10.7%\n",
            "Optimization Iteration:    200, Training Accuracy:  12.3%\n",
            "Optimization Iteration:    300, Training Accuracy:  13.7%\n",
            "Optimization Iteration:    400, Training Accuracy:  17.7%\n",
            "Optimization Iteration:    500, Training Accuracy:  15.0%\n",
            "Optimization Iteration:    599, Training Accuracy:  14.7%\n",
            "Time usage: 0:00:05\n",
            "\n",
            "Accuracy on Test-Set: 78.5% (7848 / 10000)\n",
            "\n",
            "Making the neural network immune to the noise ...\n",
            "Optimization Iteration:      0, Training Accuracy:  88.0%\n",
            "Optimization Iteration:    100, Training Accuracy:  99.7%\n",
            "Optimization Iteration:    200, Training Accuracy:  98.3%\n",
            "Optimization Iteration:    300, Training Accuracy:  99.3%\n",
            "Optimization Iteration:    399, Training Accuracy:  99.3%\n",
            "Time usage: 0:00:02\n",
            "\n",
            "Accuracy on Test-Set: 97.4% (9739 / 10000)\n",
            "\n",
            "Target-class: 9\n",
            "Finding adversarial noise ...\n",
            "Optimization Iteration:      0, Training Accuracy:  10.3%\n",
            "Optimization Iteration:    100, Training Accuracy:  14.7%\n",
            "Optimization Iteration:    200, Training Accuracy:  17.3%\n",
            "Optimization Iteration:    300, Training Accuracy:  17.7%\n",
            "Optimization Iteration:    400, Training Accuracy:  25.0%\n",
            "Optimization Iteration:    500, Training Accuracy:  25.3%\n",
            "Optimization Iteration:    599, Training Accuracy:  29.7%\n",
            "Time usage: 0:00:05\n",
            "\n",
            "Accuracy on Test-Set: 77.5% (7754 / 10000)\n",
            "\n",
            "Making the neural network immune to the noise ...\n",
            "Optimization Iteration:      0, Training Accuracy:  91.3%\n",
            "Optimization Iteration:    100, Training Accuracy:  99.3%\n",
            "Optimization Iteration:    200, Training Accuracy:  98.3%\n",
            "Optimization Iteration:    300, Training Accuracy:  99.3%\n",
            "Optimization Iteration:    399, Training Accuracy:  98.0%\n",
            "Time usage: 0:00:02\n",
            "\n",
            "Accuracy on Test-Set: 97.5% (9747 / 10000)\n",
            "\n"
          ]
        }
      ]
    },
    {
      "cell_type": "markdown",
      "metadata": {
        "id": "-xZCASk0uUo-"
      },
      "source": [
        "Function to predict using first neural network not trained against noise and then a second neural network trained against noise for each particular target class."
      ]
    },
    {
      "cell_type": "code",
      "execution_count": null,
      "metadata": {
        "id": "ClEv59GDtW5z"
      },
      "outputs": [],
      "source": [
        "\n",
        "\n",
        "def multi():\n",
        "    test_batch_size = 1\n",
        "    #end index in test set of 10000\n",
        "    num_test = 2934\n",
        "\n",
        "    # Allocate an array for the predicted classes which\n",
        "    # will be calculated in batches and filled into this array.\n",
        "    cls_pred = np.zeros(shape=num_test, dtype=np.int)\n",
        "\n",
        "    # Now calculate the predicted classes for the batches.\n",
        "    # We will just iterate through all the batches.\n",
        "    # There might be a more clever and Pythonic way of doing this.\n",
        "\n",
        "    # The starting index\n",
        "    i = 2930\n",
        "\n",
        "    while i < num_test:\n",
        "        # The ending index for the next batch is denoted j.\n",
        "        j = min(i + test_batch_size, num_test)\n",
        "\n",
        "        # Get the images from the test-set between index i and j.\n",
        "        images = data.x_test[i:j, :]\n",
        "        cls_true = data.y_test_cls[i:j]\n",
        "\n",
        "        fig, axes = plt.subplots(1, 1)\n",
        "        fig.subplots_adjust(hspace=0.3, wspace=0.3)\n",
        "         \n",
        "       \n",
        "        # Get the i'th image and reshape the array.\n",
        "        image = images.reshape(img_shape)\n",
        "        print('for', i ,'th image in test set')\n",
        "        noise = get_noise()\n",
        "        image = image+ noise\n",
        "        # Plot image.\n",
        "        axes.imshow(image,\n",
        "                  cmap='gray')\n",
        "\n",
        "        # Show true and predicted classes.\n",
        "        xlabel = \"True: {0}\".format(cls_true)\n",
        "       \n",
        "        # Show the classes as the label on the x-axis.\n",
        "        axes.set_xlabel(xlabel)\n",
        "        \n",
        "        # Remove ticks from the plot.\n",
        "        axes.set_xticks([])\n",
        "        axes.set_yticks([])\n",
        "    \n",
        "   \n",
        "        plt.show()\n",
        "        \n",
        "        # Ensure the noisy pixel-values are between 0 and 1.\n",
        "\n",
        "\n",
        "        # Get the associated labels.\n",
        "        labels = data.y_test[i:j, :]\n",
        "        print()\n",
        "\n",
        "        # Create a feed-dict with these images and labels.\n",
        "        feed_dict = {x: images,\n",
        "                     y_true: labels}\n",
        "\n",
        "        # Calculate the predicted class using TensorFlow.\n",
        "        cls_pred[i:j] = session.run(y_pred_cls, feed_dict=feed_dict)\n",
        "        print('Predicted by first tier ANN:', cls_pred[i:j])\n",
        "        print()\n",
        "        #Choose second network based on prediction from first network and do prediction again\n",
        "        if cls_pred[i:j] == 0:\n",
        "          cls_pred[i:j] = session.run(y_pred_cls_0, feed_dict=feed_dict)\n",
        "          print('Predicted by second tier ANN:', cls_pred[i:j])\n",
        "        elif cls_pred[i:j]== 1:\n",
        "          cls_pred[i:j] = session.run(y_pred_cls_1, feed_dict=feed_dict)\n",
        "          print('Predicted by second tier ANN:', cls_pred[i:j])\n",
        "        elif cls_pred[i:j]== 2:\n",
        "          cls_pred[i:j] = session.run(y_pred_cls_2, feed_dict=feed_dict)\n",
        "          print('Predicted by second tier ANN:', cls_pred[i:j])\n",
        "        elif cls_pred[i:j]== 3:\n",
        "          cls_pred[i:j] = session.run(y_pred_cls_3, feed_dict=feed_dict)\n",
        "          print('Predicted by second tier ANN:', cls_pred[i:j])\n",
        "        elif cls_pred[i:j]== 4:\n",
        "          cls_pred[i:j] = session.run(y_pred_cls_4, feed_dict=feed_dict)\n",
        "          print('Predicted by second tier ANN:', cls_pred[i:j])\n",
        "        elif cls_pred[i:j]== 5:\n",
        "          cls_pred[i:j] = session.run(y_pred_cls_5, feed_dict=feed_dict)\n",
        "          print('Predicted by second tier ANN:', cls_pred[i:j])\n",
        "        elif cls_pred[i:j]== 6:\n",
        "          cls_pred[i:j] = session.run(y_pred_cls_6, feed_dict=feed_dict)\n",
        "          print('Predicted by second tier ANN:', cls_pred[i:j])\n",
        "        elif cls_pred[i:j]== 7:\n",
        "          cls_pred[i:j] = session.run(y_pred_cls_7, feed_dict=feed_dict)\n",
        "          print('Predicted by second tier ANN:', cls_pred[i:j])\n",
        "        elif cls_pred[i:j]== 8:\n",
        "          cls_pred[i:j] = session.run(y_pred_cls_8, feed_dict=feed_dict)\n",
        "          print('Predicted by second tier ANN:', cls_pred[i:j])\n",
        "        elif cls_pred[i:j]== 9:\n",
        "          cls_pred[i:j] = session.run(y_pred_cls_9, feed_dict=feed_dict)\n",
        "          print('Predicted by second tier ANN:', cls_pred[i:j])\n",
        "        print()\n",
        "\n",
        "        # Set the start-index for the next batch to the\n",
        "        # end-index of the current batch.\n",
        "        i = j\n",
        "\n"
      ]
    },
    {
      "cell_type": "markdown",
      "source": [
        "Calling the adversarial noise for any class and then calling the above function to test the robustness of the second tier neural networks."
      ],
      "metadata": {
        "id": "QqIPCa6IKnCu"
      }
    },
    {
      "cell_type": "code",
      "source": [
        "make_immune_1(target_cls=2)\n",
        "multi()"
      ],
      "metadata": {
        "colab": {
          "base_uri": "https://localhost:8080/",
          "height": 1000
        },
        "id": "0939RigmwU3b",
        "outputId": "21733d1f-1e82-4574-b9af-91398a4e781a"
      },
      "execution_count": null,
      "outputs": [
        {
          "output_type": "stream",
          "name": "stdout",
          "text": [
            "Target-class: 2\n",
            "Finding adversarial noise ...\n",
            "Optimization Iteration:      0, Training Accuracy:  10.7%\n",
            "Optimization Iteration:    100, Training Accuracy:  11.7%\n",
            "Optimization Iteration:    200, Training Accuracy:   9.7%\n",
            "Optimization Iteration:    300, Training Accuracy:  30.0%\n",
            "Optimization Iteration:    400, Training Accuracy:  40.3%\n",
            "Optimization Iteration:    500, Training Accuracy:  44.0%\n",
            "Optimization Iteration:    599, Training Accuracy:  47.3%\n",
            "Time usage: 0:00:05\n",
            "\n",
            "Accuracy on Test-Set: 56.9% (5692 / 10000)\n",
            "\n",
            "Making the neural network immune to the noise ...\n",
            "Optimization Iteration:      0, Training Accuracy:  84.0%\n"
          ]
        },
        {
          "output_type": "stream",
          "name": "stderr",
          "text": [
            "/usr/local/lib/python3.7/dist-packages/ipykernel_launcher.py:12: DeprecationWarning: `np.int` is a deprecated alias for the builtin `int`. To silence this warning, use `int` by itself. Doing this will not modify any behavior and is safe. When replacing `np.int`, you may wish to use e.g. `np.int64` or `np.int32` to specify the precision. If you wish to review your current use, check the release note link for additional information.\n",
            "Deprecated in NumPy 1.20; for more details and guidance: https://numpy.org/devdocs/release/1.20.0-notes.html#deprecations\n",
            "  if sys.path[0] == '':\n"
          ]
        },
        {
          "output_type": "stream",
          "name": "stdout",
          "text": [
            "Optimization Iteration:    100, Training Accuracy:  99.7%\n",
            "Optimization Iteration:    200, Training Accuracy:  99.0%\n",
            "Optimization Iteration:    300, Training Accuracy:  99.3%\n",
            "Optimization Iteration:    399, Training Accuracy:  99.3%\n",
            "Time usage: 0:00:02\n",
            "\n",
            "Accuracy on Test-Set: 97.5% (9754 / 10000)\n",
            "for 2930 th image in test set\n"
          ]
        },
        {
          "output_type": "stream",
          "name": "stderr",
          "text": [
            "/usr/local/lib/python3.7/dist-packages/ipykernel_launcher.py:10: DeprecationWarning: `np.int` is a deprecated alias for the builtin `int`. To silence this warning, use `int` by itself. Doing this will not modify any behavior and is safe. When replacing `np.int`, you may wish to use e.g. `np.int64` or `np.int32` to specify the precision. If you wish to review your current use, check the release note link for additional information.\n",
            "Deprecated in NumPy 1.20; for more details and guidance: https://numpy.org/devdocs/release/1.20.0-notes.html#deprecations\n",
            "  # Remove the CWD from sys.path while we load stuff.\n"
          ]
        },
        {
          "output_type": "display_data",
          "data": {
            "text/plain": [
              "<Figure size 432x288 with 1 Axes>"
            ],
            "image/png": "[encoded data removed]"
          },
          "metadata": {}
        },
        {
          "output_type": "stream",
          "name": "stdout",
          "text": [
            "\n",
            "Predicted by first tier ANN: [2]\n",
            "\n",
            "Predicted by second tier ANN: [7]\n",
            "\n",
            "for 2931 th image in test set\n"
          ]
        },
        {
          "output_type": "display_data",
          "data": {
            "text/plain": [
              "<Figure size 432x288 with 1 Axes>"
            ],
            "image/png": "[encoded data removed]"
          },
          "metadata": {}
        },
        {
          "output_type": "stream",
          "name": "stdout",
          "text": [
            "\n",
            "Predicted by first tier ANN: [2]\n",
            "\n",
            "Predicted by second tier ANN: [3]\n",
            "\n",
            "for 2932 th image in test set\n"
          ]
        },
        {
          "output_type": "display_data",
          "data": {
            "text/plain": [
              "<Figure size 432x288 with 1 Axes>"
            ],
            "image/png": "[encoded data removed]"
          },
          "metadata": {}
        },
        {
          "output_type": "stream",
          "name": "stdout",
          "text": [
            "\n",
            "Predicted by first tier ANN: [2]\n",
            "\n",
            "Predicted by second tier ANN: [0]\n",
            "\n",
            "for 2933 th image in test set\n"
          ]
        },
        {
          "output_type": "display_data",
          "data": {
            "text/plain": [
              "<Figure size 432x288 with 1 Axes>"
            ],
            "image/png": "[encoded data removed]"
          },
          "metadata": {}
        },
        {
          "output_type": "stream",
          "name": "stdout",
          "text": [
            "\n",
            "Predicted by first tier ANN: [2]\n",
            "\n",
            "Predicted by second tier ANN: [6]\n",
            "\n"
          ]
        }
      ]
    },
    {
      "cell_type": "markdown",
      "metadata": {
        "id": "5wb3LkofuUo-"
      },
      "source": [
        "Interestingly, the neural network now has a higher classification accuracy on noisy images than we had on clean images before all these optimizations."
      ]
    },
    {
      "cell_type": "markdown",
      "metadata": {
        "id": "Bjv9yyrHuUo_"
      },
      "source": [
        "## Close TensorFlow Session"
      ]
    },
    {
      "cell_type": "markdown",
      "metadata": {
        "id": "jzEyoWiwuUpA"
      },
      "source": [
        "We are now done using TensorFlow, so we close the session to release its resources."
      ]
    },
    {
      "cell_type": "code",
      "execution_count": null,
      "metadata": {
        "id": "LGpHCXMmuUpA"
      },
      "outputs": [],
      "source": [
        "# This has been commented out in case you want to modify and experiment\n",
        "# with the Notebook without having to restart it.\n",
        "# session.close()"
      ]
    }
  ],
  "metadata": {
    "anaconda-cloud": {},
    "kernelspec": {
      "display_name": "Python 3",
      "language": "python",
      "name": "python3"
    },
    "language_info": {
      "codemirror_mode": {
        "name": "ipython",
        "version": 3
      },
      "file_extension": ".py",
      "mimetype": "text/x-python",
      "name": "python",
      "nbconvert_exporter": "python",
      "pygments_lexer": "ipython3",
      "version": "3.6.10"
    },
    "colab": {
      "name": "Adversarial Training Technique 2.ipynb",
      "provenance": [],
      "collapsed_sections": [
        "KfoMb9PzuUoF",
        "rMlTwVxtuUoG",
        "Bjv9yyrHuUo_",
        "RSSca9cBuUpB",
        "-5kXP-V_uUpB",
        "NOT8L-IKuUpC"
      ],
      "include_colab_link": true
    }
  },
  "nbformat": 4,
  "nbformat_minor": 0
}